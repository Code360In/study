{
  "nbformat": 4,
  "nbformat_minor": 0,
  "metadata": {
    "colab": {
      "name": "config.ipynb",
      "provenance": [],
      "collapsed_sections": [],
      "authorship_tag": "ABX9TyPfSOhbZVLiq53CF5BaKDfR",
      "include_colab_link": true
    },
    "kernelspec": {
      "name": "python3",
      "display_name": "Python 3"
    },
    "language_info": {
      "name": "python"
    }
  },
  "cells": [
    {
      "cell_type": "markdown",
      "metadata": {
        "id": "view-in-github",
        "colab_type": "text"
      },
      "source": [
        "<a href=\"https://colab.research.google.com/github/mjs1995/study/blob/main/oop/config.ipynb\" target=\"_parent\"><img src=\"https://colab.research.google.com/assets/colab-badge.svg\" alt=\"Open In Colab\"/></a>"
      ]
    },
    {
      "cell_type": "markdown",
      "source": [
        "# Python Config Parser\n",
        "\n",
        "https://kishstats.com/python/2018/03/07/python-config-parser.html"
      ],
      "metadata": {
        "id": "EBvBfZbT2Iqq"
      }
    },
    {
      "cell_type": "code",
      "execution_count": null,
      "metadata": {
        "id": "fr8SoJMx1868"
      },
      "outputs": [],
      "source": [
        "# config_file_create.py\n",
        "from configparser import ConfigParser\n",
        "\n",
        "config = ConfigParser()"
      ]
    },
    {
      "cell_type": "code",
      "source": [
        "config['settings'] = {\n",
        "    'debug': 'true',\n",
        "    'secret_key': 'abc123',\n",
        "    'log_path': '/my_app/log'\n",
        "}\n",
        "\n",
        "config['db'] = {\n",
        "    'db_name': 'myapp_dev',\n",
        "    'db_host': 'localhost',\n",
        "    'db_port': '8889'\n",
        "}\n",
        "\n",
        "config['files'] = {\n",
        "    'use_cdn': 'false',\n",
        "    'images_path': '/my_app/images'\n",
        "}\n",
        "with open('./dev.ini', 'w') as f:\n",
        "      config.write(f)"
      ],
      "metadata": {
        "id": "aI1TRc7g2aMz"
      },
      "execution_count": null,
      "outputs": []
    },
    {
      "cell_type": "markdown",
      "source": [
        "![image.png](data:image/png;base64,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)"
      ],
      "metadata": {
        "id": "5bOf8la32sHW"
      }
    },
    {
      "cell_type": "markdown",
      "source": [
        "![image.png](data:image/png;base64,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)"
      ],
      "metadata": {
        "id": "4SArH-EB2wDE"
      }
    },
    {
      "cell_type": "code",
      "source": [
        "from configparser import ConfigParser\n",
        "\n",
        "parser = ConfigParser()\n",
        "parser.read('dev.ini')"
      ],
      "metadata": {
        "colab": {
          "base_uri": "https://localhost:8080/"
        },
        "id": "Iq6QXxhw2paa",
        "outputId": "3870affc-6b71-4f34-91e8-b7eba636bb86"
      },
      "execution_count": null,
      "outputs": [
        {
          "output_type": "execute_result",
          "data": {
            "text/plain": [
              "['dev.ini']"
            ]
          },
          "metadata": {},
          "execution_count": 3
        }
      ]
    },
    {
      "cell_type": "markdown",
      "source": [
        "- sections(): 모든 section 리스트 반환\n",
        "- get(<section_name>,<option_name>): 섹션의 옵션값 str로 반환\n",
        "- getint(),getfloat(),getboolean(): int/float/boolean으로 반환\n",
        "- options(<section_name>):섹션 안의 선택가능한 옵션들반환\n",
        "- in: 섹션 존재 여부 확인\n"
      ],
      "metadata": {
        "id": "bMq-Q91K3oV_"
      }
    },
    {
      "cell_type": "code",
      "source": [
        "print(parser.sections())  # ['settings', 'db', 'files']\n",
        "print(parser.get('settings', 'secret_key'))  # abc123\n",
        "print(parser.options('settings'))  # ['debug', 'secret_key', 'log_path']\n",
        "\n",
        "print('db' in parser)  # True\n",
        "\n",
        "print(parser.get('db', 'db_port'), type(parser.get('db', 'db_port')))  # 8889 <class 'str'>\n",
        "print(int(parser.get('db', 'db_port')))  # 8889 (as int)\n",
        "print(parser.getint('db', 'db_default_port', fallback=3306))  # 3306\n",
        "print(parser.getboolean('settings', 'debug', fallback=False))  # True"
      ],
      "metadata": {
        "colab": {
          "base_uri": "https://localhost:8080/"
        },
        "id": "gUlU8uio3JWE",
        "outputId": "a1d0d57a-81f8-459e-968e-53051fca0617"
      },
      "execution_count": null,
      "outputs": [
        {
          "output_type": "execute_result",
          "data": {
            "text/plain": [
              "['settings', 'db', 'files']"
            ]
          },
          "metadata": {},
          "execution_count": 5
        }
      ]
    },
    {
      "cell_type": "markdown",
      "source": [
        "```md\n",
        "- config['settings']에 python_version&packages_path를 추가\n",
        "- config['files'] 에 python_path를 추가\n",
        "- 여기서 표시 형식은 ${<section name>:<option name>} 형태로 기입\n",
        "```"
      ],
      "metadata": {
        "id": "KYmciqJu3zlr"
      }
    },
    {
      "cell_type": "code",
      "source": [
        "# config_file_create.py\n",
        "from configparser import ConfigParser\n",
        "# ...\n",
        "\n",
        "config['settings'] = {\n",
        "    'debug': 'true',\n",
        "    'secret_key': 'abc123',\n",
        "    'log_path': '/my_app/log',\n",
        "    'python_version': '3',\n",
        "    'packages_path': '/usr/local'\n",
        "}\n",
        "\n",
        "# ...\n",
        "\n",
        "config['files'] = {\n",
        "    'use_cdn': 'false',\n",
        "    'images_path': '/my_app/images',\n",
        "    'python_path': '${settings:packages_path}/bin/python${settings:python_version}'\n",
        "}\n",
        "\n",
        "# ...\n"
      ],
      "metadata": {
        "id": "x-hY85c23J8i"
      },
      "execution_count": null,
      "outputs": []
    },
    {
      "cell_type": "markdown",
      "source": [
        "- ConfigParser(interpolation=ExtendedInterpolation()) 변경"
      ],
      "metadata": {
        "id": "jqM47q5_4V0s"
      }
    },
    {
      "cell_type": "code",
      "source": [
        "# config_file_read.py\n",
        "from configparser import ConfigParser, ExtendedInterpolation\n",
        "\n",
        "parser = ConfigParser(interpolation=ExtendedInterpolation())\n",
        "parser.read('dev.ini')\n",
        "\n",
        "print(parser.get('files', 'python_path'))  # /usr/local/bin/python3"
      ],
      "metadata": {
        "id": "1T5nz-RI4lL5"
      },
      "execution_count": null,
      "outputs": []
    },
    {
      "cell_type": "markdown",
      "source": [
        "# argparse\n",
        "https://docs.python.org/ko/3/library/argparse.html\n"
      ],
      "metadata": {
        "id": "U84jf5-bKkyb"
      }
    },
    {
      "cell_type": "markdown",
      "source": [
        "ArgumentParser 객체\n",
        "- class argparse.ArgumentParser(prog=None, usage=None, description=None, epilog=None, parents=[], formatter_class=argparse.HelpFormatter, prefix_chars='-', fromfile_prefix_chars=None, argument_default=None, conflict_handler='error', add_help=True, allow_abbrev=True, exit_on_error=True)\n",
        "- 새로운 ArgumentParser 객체를 만듭니다. 모든 매개 변수는 키워드 인자로 전달되어야 합니다. 매개 변수마다 아래에서 더 자세히 설명되지만, 요약하면 다음과 같습니다:\n",
        "    - prog - The name of the program (default: os.path.basename(sys.argv[0]))\n",
        "    - usage - 프로그램 사용법을 설명하는 문자열 (기본값: 파서에 추가된 인자로부터 만들어지는 값)\n",
        "    - description - 인자 도움말 전에 표시할 텍스트 (기본값: none)\n",
        "    - epilog - 인자 도움말 후에 표시할 텍스트 (기본값: none)\n",
        "    - parents - ArgumentParser 객체들의 리스트이고, 이 들의 인자들도 포함된다\n",
        "    - formatter_class - 도움말 출력을 사용자 정의하기 위한 클래스\n",
        "    - prefix_chars - 선택 인자 앞에 붙는 문자 집합 (기본값: 〈-〈).\n",
        "    - fromfile_prefix_chars - 추가 인자를 읽어야 하는 파일 앞에 붙는 문자 집합 (기본값: None).\n",
        "    - argument_default - 인자의 전역 기본값 (기본값: None)\n",
        "    - conflict_handler - 충돌하는 선택 사항을 해결하기 위한 전략 (일반적으로 불필요함)\n",
        "    - add_help - 파서에 -h/--help 옵션을 추가합니다 (기본값: True)\n",
        "    - allow_abbrev - 약어가 모호하지 않으면 긴 옵션을 축약할 수 있도록 합니다. (기본값: True)\n",
        "    -exit_on_error - 에러가 발생했을 때 ArgumentParser가 에러 정보로 종료되는지를 결정합니다. (기본값: True)"
      ],
      "metadata": {
        "id": "GY8jZMMcK1cp"
      }
    },
    {
      "cell_type": "code",
      "source": [
        "# 1.ArgumentParser 객체를 생성\n",
        "parser = argparse.ArgumentParser(description='Process some integers.')\n",
        "\n",
        "# 2. ArgumentParser 에 프로그램 인자에 대한 정보를 채우려면 add_argument() 메서드를 호출\n",
        "parser.add_argument('integers', metavar='N', type=int, nargs='+',help='an integer for the accumulator')\n"
      ],
      "metadata": {
        "colab": {
          "base_uri": "https://localhost:8080/"
        },
        "id": "tY47pNW_KrId",
        "outputId": "de2c2d2c-8eb2-480b-9ed2-9f6a7c9a47a7"
      },
      "execution_count": null,
      "outputs": [
        {
          "output_type": "execute_result",
          "data": {
            "text/plain": [
              "_StoreAction(option_strings=[], dest='integers', nargs='+', const=None, default=None, type=<class 'int'>, choices=None, help='an integer for the accumulator', metavar='N')"
            ]
          },
          "metadata": {},
          "execution_count": 34
        }
      ]
    },
    {
      "cell_type": "markdown",
      "source": [
        "parse_args() 메서드\n",
        "- ArgumentParser.parse_args(args=None, namespace=None)\n",
        "- 인자 문자열을 객체로 변환하고 namespace의 어트리뷰트로 설정합니다. 값들이 설정된 namespace를 돌려줍니다.\n",
        "- 이전의 add_argument() 호출이 어떤 객체를 만들고 어떤 식으로 대입할지를 결정합니다. 자세한 내용은 add_argument() 설명서를 참조하십시오.\n",
        "    - args - 구문 분석할 문자열 리스트. 기본값은 sys.argv 에서 취합니다.\n",
        "    - namespace - 어트리뷰트가 대입될 객체. 기본값은 새로 만들어지는 빈 Namespace 객체입니다.\n",
        "\n"
      ],
      "metadata": {
        "id": "4XLqm37kMaOP"
      }
    },
    {
      "cell_type": "code",
      "source": [
        "parser = argparse.ArgumentParser(prog='PROG')\n",
        "parser.add_argument('-x')\n",
        "parser.add_argument('--foo')\n",
        "parser.parse_args(['-x', 'X'])\n",
        "parser.parse_args(['--foo', 'FOO'])"
      ],
      "metadata": {
        "colab": {
          "base_uri": "https://localhost:8080/"
        },
        "id": "llF955ArKrF-",
        "outputId": "59d863ab-0355-45f7-f9ee-6af6e04fcffd"
      },
      "execution_count": null,
      "outputs": [
        {
          "output_type": "execute_result",
          "data": {
            "text/plain": [
              "Namespace(foo='FOO', x=None)"
            ]
          },
          "metadata": {},
          "execution_count": 36
        }
      ]
    },
    {
      "cell_type": "markdown",
      "source": [
        ""
      ],
      "metadata": {
        "id": "f5iWjC_AKkop"
      }
    },
    {
      "cell_type": "markdown",
      "source": [
        "# 로깅(python 3.8.3 documen)\n",
        "https://docs.python.org/ko/3/howto/logging.html#\n",
        "\n",
        "- 로깅은 어떤 소프트웨어가 실행될 때 발생하는 이벤트를 추적하는 수단\n",
        "- 소프트웨어 개발자는 코드에 로깅 호출을 추가하여 특정 이벤트가 발생했음을 나타냄 \n",
        "- 이벤트는 선택적으로 가변 데이터 (즉, 이벤트 발생마다 잠재적으로 다른 데이터)를 포함할 수 있는 설명 메시지로 기술 \n",
        "- 이벤트는 또한 개발자가 이벤트에 부여한 중요도를 가지고 있습니다 \n",
        "\n",
        "## 로깅을 사용할 때 적합한 도구\n",
        "|수행하려는 작업|작업을 위한 최상의 도구 | \n",
        "|:---:|:---:|\n",
        "|명령행 스크립트 또는 프로그램의 일반적인 사용을 위한 콘솔 출력 표시|print()|\n",
        "|프로그램의 정상 작동 중에 발생하는 이벤트 보고 (가령 상태 모니터링이나 결함 조사)|logging.info() (또는 진단 목적의 아주 자세한 출력의 경우 logging.debug())|\n",
        "|특정 실행시간 이벤트와 관련하여 경고를 발행|logging.warning(): 클라이언트 응용 프로그램이 할 수 있는 일이 없는 상황이지만 이벤트를 계속 주목해야 하는 경우|\n",
        "|특정 실행시간 이벤트와 관련하여 에러를 보고|예외를 일으킵니다|\n",
        "|예외를 발생시키지 않고 에러의 억제를 보고 (가령 장기 실행 서버 프로세스의 에러 처리기)|구체적인 에러와 응용 프로그램 영역에 적절한 logging.error(), logging.exception(), logging.critical()|\n",
        "\n",
        "## 로깅 표준 수준과 용도\n",
        "|수준|사용할 때 | \n",
        "|:---:|:---:|\n",
        "|DEBUG|상세한 정보. 보통 문제를 진단할 때만 필요합니다.|\n",
        "|INFO|예상대로 작동하는지에 대한 확인|\n",
        "|WARNING|예상치 못한 일이 발생했거나 가까운 미래에 발생할 문제(예를 들어 〈디스크 공간 부족〉)에 대한 표시. 소프트웨어는 여전히 예상대로 작동합니다.|\n",
        "|ERROR|더욱 심각한 문제로 인해, 소프트웨어가 일부 기능을 수행하지 못했습니다.|\n",
        "|CRITICAL|심각한 에러. 프로그램 자체가 계속 실행되지 않을 수 있음을 나타냅니다.|"
      ],
      "metadata": {
        "id": "7jtmbg8y55HG"
      }
    },
    {
      "cell_type": "code",
      "source": [
        "import logging\n",
        "logging.warning('Watch out!')  # will print a message to the console\n",
        "logging.info('I told you so')  # will not print anything"
      ],
      "metadata": {
        "colab": {
          "base_uri": "https://localhost:8080/"
        },
        "id": "dmPfyXug56eK",
        "outputId": "97431445-543a-4e7a-cdd0-d572aa75f873"
      },
      "execution_count": null,
      "outputs": [
        {
          "output_type": "stream",
          "name": "stderr",
          "text": [
            "WARNING:root:Watch out!\n"
          ]
        }
      ]
    },
    {
      "cell_type": "markdown",
      "source": [
        "## 파일에 로깅 하기"
      ],
      "metadata": {
        "id": "P2AW3qqA-fXV"
      }
    },
    {
      "cell_type": "code",
      "source": [
        "import logging\n",
        "logging.basicConfig(filename='example.log', encoding='utf-8', level=logging.DEBUG)\n",
        "logging.debug('This message should go to the log file')\n",
        "logging.info('So should this')\n",
        "logging.warning('And this, too')\n",
        "logging.error('And non-ASCII stuff, too, like Øresund and Malmö')"
      ],
      "metadata": {
        "colab": {
          "base_uri": "https://localhost:8080/"
        },
        "id": "ee2QE4sh-aGl",
        "outputId": "1e56b657-d62b-4fea-8c77-d0e0ecfc8676"
      },
      "execution_count": null,
      "outputs": [
        {
          "output_type": "stream",
          "name": "stderr",
          "text": [
            "WARNING:root:And this, too\n",
            "ERROR:root:And non-ASCII stuff, too, like Øresund and Malmö\n"
          ]
        }
      ]
    },
    {
      "cell_type": "markdown",
      "source": [
        "임곗값을 DEBUG 로 설정했기 때문에 모든 메시지가 출력"
      ],
      "metadata": {
        "id": "qCCSByp4-tsv"
      }
    },
    {
      "cell_type": "markdown",
      "source": [
        "## 여러 모듈에서의 로깅"
      ],
      "metadata": {
        "id": "oqpx8MUu_Ajy"
      }
    },
    {
      "cell_type": "code",
      "source": [
        "!pip install mylib"
      ],
      "metadata": {
        "colab": {
          "base_uri": "https://localhost:8080/"
        },
        "id": "FcdZCq9P_IdA",
        "outputId": "e61f6d9a-bb89-4ca9-b127-e151256d1ad1"
      },
      "execution_count": null,
      "outputs": [
        {
          "output_type": "stream",
          "name": "stdout",
          "text": [
            "Collecting mylib\n",
            "  Downloading mylib-0.0.1.tar.gz (716 bytes)\n",
            "Building wheels for collected packages: mylib\n",
            "  Building wheel for mylib (setup.py) ... \u001b[?25l\u001b[?25hdone\n",
            "  Created wheel for mylib: filename=mylib-0.0.1-py3-none-any.whl size=1014 sha256=25e9e402244ac0d042445bf95ce58703325327f2a13441b9ecfa22830e6622af\n",
            "  Stored in directory: /root/.cache/pip/wheels/53/50/ab/949c83cdb321ed60fb4cfb4ee5c826f2792f705916eaf76960\n",
            "Successfully built mylib\n",
            "Installing collected packages: mylib\n",
            "Successfully installed mylib-0.0.1\n"
          ]
        }
      ]
    },
    {
      "cell_type": "code",
      "source": [
        "# mylib.py\n",
        "import logging\n",
        "\n",
        "def do_something():\n",
        "    logging.info('Doing something')"
      ],
      "metadata": {
        "id": "zkmzfcgE_Shi"
      },
      "execution_count": null,
      "outputs": []
    },
    {
      "cell_type": "code",
      "source": [
        "# myapp.py\n",
        "import logging\n",
        "import mylib\n",
        "\n",
        "def main():\n",
        "    logging.basicConfig(filename='myapp.log', level=logging.INFO)\n",
        "    logging.info('Started')\n",
        "    mylib.do_something()\n",
        "    logging.info('Finished')\n",
        "\n",
        "if __name__ == '__main__':\n",
        "    main()\n",
        "\n",
        "# INFO:root:Started\n",
        "# INFO:root:Doing something\n",
        "# INFO:root:Finished"
      ],
      "metadata": {
        "id": "CfsfOM1i_Gcs"
      },
      "execution_count": null,
      "outputs": []
    },
    {
      "cell_type": "markdown",
      "source": [
        "## 변수 데이터 로깅\n",
        "- 변수 데이터를 기록하려면, 이벤트 설명 메시지에 포맷 문자열을 사용하고 변수 데이터를 인자로 추가\n",
        "- 이벤트 설명 메시지에 가변 데이터를 병합하는데 이전 %-스타일의 문자열 포매팅을 사용"
      ],
      "metadata": {
        "id": "2ZdzCOjQ_lhU"
      }
    },
    {
      "cell_type": "code",
      "source": [
        "import logging\n",
        "logging.warning('%s before you %s', 'Look', 'leap!')"
      ],
      "metadata": {
        "colab": {
          "base_uri": "https://localhost:8080/"
        },
        "id": "tmrK7c-d_h_A",
        "outputId": "badaa13b-ef0c-4655-ace8-cf7089773a39"
      },
      "execution_count": null,
      "outputs": [
        {
          "output_type": "stream",
          "name": "stderr",
          "text": [
            "WARNING:root:Look before you leap!\n"
          ]
        }
      ]
    },
    {
      "cell_type": "markdown",
      "source": [
        "## 표시된 메시지의 포맷 변경\n"
      ],
      "metadata": {
        "id": "6NMIBEnm_ypn"
      }
    },
    {
      "cell_type": "code",
      "source": [
        "import logging\n",
        "logging.basicConfig(format='%(levelname)s:%(message)s', level=logging.DEBUG)\n",
        "logging.debug('This message should appear on the console')\n",
        "logging.info('So should this')\n",
        "logging.warning('And this, too')\n",
        "\n",
        "# DEBUG:This message should appear on the console\n",
        "# INFO:So should this\n",
        "# WARNING:And this, too\n"
      ],
      "metadata": {
        "colab": {
          "base_uri": "https://localhost:8080/"
        },
        "id": "Fe1wcdsj_p98",
        "outputId": "14e94df3-9952-41a5-844d-9f5f738d19c2"
      },
      "execution_count": null,
      "outputs": [
        {
          "output_type": "stream",
          "name": "stderr",
          "text": [
            "WARNING:root:And this, too\n"
          ]
        }
      ]
    },
    {
      "cell_type": "markdown",
      "source": [
        "## 메시지에 날짜/시간 표시"
      ],
      "metadata": {
        "id": "L0VrsJXiAF0Y"
      }
    },
    {
      "cell_type": "code",
      "source": [
        "import logging\n",
        "logging.basicConfig(format='%(asctime)s %(message)s')\n",
        "logging.warning('is when this event was logged.')\n",
        "\n",
        "import logging\n",
        "logging.basicConfig(format='%(asctime)s %(message)s', datefmt='%m/%d/%Y %I:%M:%S %p')\n",
        "logging.warning('is when this event was logged.')\n",
        "\n",
        "# 2010-12-12 11:41:42,612 is when this event was logged."
      ],
      "metadata": {
        "colab": {
          "base_uri": "https://localhost:8080/"
        },
        "id": "UfN47XOe_0tN",
        "outputId": "afd87234-512d-4123-bc27-983a7b68ca2a"
      },
      "execution_count": null,
      "outputs": [
        {
          "output_type": "stream",
          "name": "stderr",
          "text": [
            "WARNING:root:is when this event was logged.\n",
            "WARNING:root:is when this event was logged.\n"
          ]
        }
      ]
    },
    {
      "cell_type": "markdown",
      "source": [
        "# 고급 로깅 자습서\n",
        "- logging 라이브러리는 모듈 방식으로 구성되며, 로거, 처리기, 필터 및 포매터와 같은 여러 범주의 구성 요소를 제공함\n",
        "    - 로거는 응용 프로그램 코드가 직접 사용하는 인터페이스를 노출합니다.\n",
        "    - 처리기는 (로거에 의해 만들어진) 로그 레코드를 적절한 목적지로 보냅니다.\n",
        "    - 필터는 출력할 로그 레코드를 결정하기 위한 보다 정밀한 기능을 제공합니다.\n",
        "    - 포매터는 최종 출력에서 로그 레코드의 배치를 지정합니다.\n",
        "\n",
        "- 로그 이벤트 정보는 LogRecord 인스턴스를 통해 로거, 처리기, 필터 및 포매터 간에 전달\n",
        "    - 로깅은 Logger 클래스(이하 로거 (loggers) 라고 합니다) 인스턴스의 메서드를 호출하여 수행\n",
        "    - 각 인스턴스에는 이름이 있으며, 점(마침표)을 구분 기호로 사용하여 개념적으로는 이름 공간 계층 구조로 배열\n",
        "\n"
      ],
      "metadata": {
        "id": "nWUTIMG9AW5-"
      }
    },
    {
      "cell_type": "markdown",
      "source": [
        "# 로깅 흐름\n",
        "![image.png](data:image/png;base64,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)"
      ],
      "metadata": {
        "id": "pma4zVTfFHNj"
      }
    },
    {
      "cell_type": "markdown",
      "source": [
        "Logger 객체는 세 가지 작업\n",
        "- 응용 프로그램이 실행시간에 메시지를 기록 할 수 있도록 여러 메서드를 응용 프로그램 코드에 노출\n",
        "- 로거 객체는 심각도 (기본 필터링 장치) 또는 필터 객체에 따라 어떤 로그 메시지를 처리할지 결정\n",
        "- 로거 객체는 관련 로그 메시지를 관심 있는 모든 로그 처리기로 전달합니다.\n",
        "\n",
        "Loger 객체 구성 메서드\n",
        "- 구성\n",
        "    - Logger.setLevel() :  로거가 처리할 가장 낮은 심각도의 로그 메시지를 지정합니다. debug은 가장 낮은 내장 심각도 수준이고 critical은 가장 높은 내장 심각도입니다. 예를 들어, 심각도 수준이 INFO이면 로거는 INFO, WARNING, ERROR 및 CRITICAL 메시지만 처리하고 DEBUG 메시지는 무시합니다.\n",
        "    - Logger.addHandler() 와 Logger.removeHandler() : 로거 객체에서 처리기 객체를 추가하고 제거함\n",
        "    - Logger.addFilter() 와 Logger.removeFilter() : 로거 객체에서 필터 객체를 추가하고 제거함\n",
        "\n",
        "로그 메시지\n",
        "- Logger.debug(), Logger.info(), Logger.warning(), Logger.error() 그리고 Logger.critical() :  모두 메시지 와 메서드 이름에 해당하는 수준으로 로그 레코드를 만듭니다. 메시지는 실제로는 포맷 문자열이며, %s, %d, %f 등의 표준 문자열 치환 문법을 포함 할 수 있습니다. 나머지 인자들은 메시지의 치환 필드에 해당하는 객체 목록입니다. **kwargs 의 경우, 로깅 메서드는 exc_info 라는 키워드에 대해서만 신경을 쓰고 예외 정보를 로깅 할지를 결정할 때 사용합니다.\n",
        "- Logger.exception() : Logger.error() 와 비슷한 로그 메시지를 생성합니다. 차이점은 Logger.exception() 가 스택 트레이스를 덤프한다는 것입니다. 예외 처리기에서만 이 메서드를 호출하십시오.\n",
        "- Logger.log() : 명시적 인자로 로그 수준을 받아들입니다. 위에 나열된 로그 수준 편의 메서드를 사용하는 것보다 로깅 메시지를 만들 때 더 장황해지지만, 사용자 정의 로그 수준으로 로깅 하는 방법입니다.\n",
        "\n",
        "처리기\n",
        "- Handler 객체는 (로그 메시지의 심각도를 기반으로) 적절한 로그 메시지를 처리기의 지정된 대상으로 전달하는 역할\n",
        "- Logger 객체는 addHandler() 메서드를 사용하여 0개 이상의 처리기 객체를 자신에게 추가\n",
        "    - setLevel() 메서드는 로거 객체에서와 마찬가지로 적절한 목적지로 보내지는 가장 낮은 심각도를 지정\n",
        "    - setFormatter() 는 처리기가 사용할 포매터 객체를 선택\n",
        "    - addFilter() 와 removeFilter() 는 각각 처리기에서 필터 객체를 구성하고 해제\n",
        "- 유용한 처리기\n",
        "    - StreamHandler 인스턴스는 스트림(파일류 객체)에 메시지를 보냅니다.\n",
        "    - FileHandler 인스턴스는 디스크 파일에 메시지를 보냅니다.\n",
        "    - BaseRotatingHandler 는 특정 지점에서 로그 파일을 회전시키는 처리기의 베이스 클래스입니다. 직접 인스턴스화하는 것은 아닙니다. 대신 RotatingFileHandler 또는 TimedRotatingFileHandler 를 사용하십시오.\n",
        "    - RotatingFileHandler 인스턴스는 디스크 파일에 메시지를 보내는데, 최대 로그 파일 크기와 로그 파일 회전을 지원\n",
        "    - TimedRotatingFileHandler 인스턴스는 디스크 파일에 메시지를 보내는데, 일정한 시간 간격으로 로그 파일을 회전\n",
        "    - SocketHandler 인스턴스는 TCP/IP 소켓에 메시지를 보냄\n",
        "    - DatagramHandler 인스턴스는 UDP 소켓에 메시지를 보냄\n",
        "    - SMTPHandler 인스턴스는 지정된 전자 우편 주소로 메시지를 보냄\n",
        "    - SysLogHandler 인스턴스는 유닉스 syslog 데몬(원격 기계에 있는 것도 가능합니다)에 메시지를 보냄\n",
        "    - NTEventLogHandler 인스턴스는 윈도우 NT/2000/XP 이벤트 로그에 메시지를 보냄\n",
        "    - MemoryHandler 인스턴스는 메모리에 있는 버퍼에 메시지를 보내는데, 특정 기준이 만족 될 때마다 플러시 됨\n",
        "    - HTTPHandler 인스턴스는 GET 또는 POST 을 사용해서 HTTP 서버에 메시지를 보냄\n",
        "    - WatchedFileHandler 인스턴스는 그들이 로깅하고 있는 파일을 감시, 파일이 변경되면 닫히고 파일 이름을 사용하여 다시 열립니다. 이 처리기는 유닉스 계열 시스템에서만 유용합니다; 윈도우는 사용된 하부 메커니즘을 지원하지 않음\n",
        "    - QueueHandler 인스턴스는 queue 또는 multiprocessing 모듈에 구현된 것과 같은 큐로 메시지를 보냄\n",
        "    - NullHandler 인스턴스는 에러 메시지로 아무것도 하지 않음, 라이브러리 개발자가 로깅을 사용하지만, 라이브러리 사용자가 로깅을 구성하지 않으면 표시될 수 있는 〈No handlers could be found for logger XXX〉 라는 메시지를 피하려고 할 때 사용합니다. \n",
        "\n",
        "포매터 \n",
        "- 포매터 객체는 로그 메시지의 최종 순서, 구조 및 내용을 구성\n",
        "- 베이스 logging.Handler 클래스와는 달리, 응용 프로그램 코드는 포매터 클래스를 인스턴스화\n",
        "- logging.Formatter.__init__(fmt=None, datefmt=None, style='%')\n",
        "    - 기본 날짜 형식 : %Y-%m-%d %H:%M:%S\n",
        "\n"
      ],
      "metadata": {
        "id": "phaAif2VFkht"
      }
    },
    {
      "cell_type": "code",
      "source": [
        "import logging\n",
        "\n",
        "# create logger\n",
        "logger = logging.getLogger('simple_example')\n",
        "logger.setLevel(logging.DEBUG)\n",
        "\n",
        "# create console handler and set level to debug\n",
        "ch = logging.StreamHandler()\n",
        "ch.setLevel(logging.DEBUG)\n",
        "\n",
        "# create formatter\n",
        "formatter = logging.Formatter('%(asctime)s - %(name)s - %(levelname)s - %(message)s')\n",
        "\n",
        "# add formatter to ch\n",
        "ch.setFormatter(formatter)\n",
        "\n",
        "# add ch to logger\n",
        "logger.addHandler(ch)\n",
        "\n",
        "# 'application' code\n",
        "logger.debug('debug message')\n",
        "logger.info('info message')\n",
        "logger.warning('warn message')\n",
        "logger.error('error message')\n",
        "logger.critical('critical message')"
      ],
      "metadata": {
        "colab": {
          "base_uri": "https://localhost:8080/"
        },
        "id": "LmCih_fUARij",
        "outputId": "ce3310d5-67e1-4dbc-e3e1-f120ca3c09b1"
      },
      "execution_count": null,
      "outputs": [
        {
          "output_type": "stream",
          "name": "stderr",
          "text": [
            "2022-01-21 05:29:21,698 - simple_example - DEBUG - debug message\n",
            "DEBUG:simple_example:debug message\n",
            "2022-01-21 05:29:21,703 - simple_example - INFO - info message\n",
            "INFO:simple_example:info message\n",
            "2022-01-21 05:29:21,707 - simple_example - WARNING - warn message\n",
            "WARNING:simple_example:warn message\n",
            "2022-01-21 05:29:21,711 - simple_example - ERROR - error message\n",
            "ERROR:simple_example:error message\n",
            "2022-01-21 05:29:21,715 - simple_example - CRITICAL - critical message\n",
            "CRITICAL:simple_example:critical message\n"
          ]
        }
      ]
    },
    {
      "cell_type": "code",
      "source": [
        "import logging\n",
        "import logging.config\n",
        "\n",
        "logging.config.fileConfig('logging.conf')\n",
        "\n",
        "# create logger\n",
        "logger = logging.getLogger('simpleExample')\n",
        "\n",
        "# 'application' code\n",
        "logger.debug('debug message')\n",
        "logger.info('info message')\n",
        "logger.warning('warn message')\n",
        "logger.error('error message')\n",
        "logger.critical('critical message')"
      ],
      "metadata": {
        "id": "V6DNy1qsHO_M"
      },
      "execution_count": null,
      "outputs": []
    },
    {
      "cell_type": "code",
      "source": [
        "[loggers]\n",
        "keys=root,simpleExample\n",
        "\n",
        "[handlers]\n",
        "keys=consoleHandler\n",
        "\n",
        "[formatters]\n",
        "keys=simpleFormatter\n",
        "\n",
        "[logger_root]\n",
        "level=DEBUG\n",
        "handlers=consoleHandler\n",
        "\n",
        "[logger_simpleExample]\n",
        "level=DEBUG\n",
        "handlers=consoleHandler\n",
        "qualname=simpleExample\n",
        "propagate=0\n",
        "\n",
        "[handler_consoleHandler]\n",
        "class=StreamHandler\n",
        "level=DEBUG\n",
        "formatter=simpleFormatter\n",
        "args=(sys.stdout,)\n",
        "\n",
        "[formatter_simpleFormatter]\n",
        "format=%(asctime)s - %(name)s - %(levelname)s - %(message)s"
      ],
      "metadata": {
        "id": "CK3HF2hfHVBb"
      },
      "execution_count": null,
      "outputs": []
    },
    {
      "cell_type": "code",
      "source": [
        ""
      ],
      "metadata": {
        "id": "6AFBEATnKVRc"
      },
      "execution_count": null,
      "outputs": []
    }
  ]
}