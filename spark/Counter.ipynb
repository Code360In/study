{
  "nbformat": 4,
  "nbformat_minor": 0,
  "metadata": {
    "colab": {
      "name": "Counter.ipynb",
      "provenance": [],
      "collapsed_sections": [],
      "authorship_tag": "ABX9TyM2C/BYzB2DFrbHskUFHubp",
      "include_colab_link": true
    },
    "kernelspec": {
      "name": "python3",
      "display_name": "Python 3"
    },
    "language_info": {
      "name": "python"
    }
  },
  "cells": [
    {
      "cell_type": "markdown",
      "metadata": {
        "id": "view-in-github",
        "colab_type": "text"
      },
      "source": [
        "<a href=\"https://colab.research.google.com/github/mjs1995/study/blob/main/spark/Counter.ipynb\" target=\"_parent\"><img src=\"https://colab.research.google.com/assets/colab-badge.svg\" alt=\"Open In Colab\"/></a>"
      ]
    },
    {
      "cell_type": "code",
      "execution_count": 1,
      "metadata": {
        "colab": {
          "base_uri": "https://localhost:8080/"
        },
        "id": "K42ssqockEe9",
        "outputId": "a68b7987-4904-477c-b49f-c6a3fe73f5a1"
      },
      "outputs": [
        {
          "output_type": "stream",
          "name": "stdout",
          "text": [
            "Collecting pyspark\n",
            "  Downloading pyspark-3.2.0.tar.gz (281.3 MB)\n",
            "\u001b[K     |████████████████████████████████| 281.3 MB 34 kB/s \n",
            "\u001b[?25hCollecting py4j==0.10.9.2\n",
            "  Downloading py4j-0.10.9.2-py2.py3-none-any.whl (198 kB)\n",
            "\u001b[K     |████████████████████████████████| 198 kB 48.0 MB/s \n",
            "\u001b[?25hBuilding wheels for collected packages: pyspark\n",
            "  Building wheel for pyspark (setup.py) ... \u001b[?25l\u001b[?25hdone\n",
            "  Created wheel for pyspark: filename=pyspark-3.2.0-py2.py3-none-any.whl size=281805912 sha256=a49243ec374de22ca536fc08f62d07c6ab0c07f8b7534cc4e5db473793ed5840\n",
            "  Stored in directory: /root/.cache/pip/wheels/0b/de/d2/9be5d59d7331c6c2a7c1b6d1a4f463ce107332b1ecd4e80718\n",
            "Successfully built pyspark\n",
            "Installing collected packages: py4j, pyspark\n",
            "Successfully installed py4j-0.10.9.2 pyspark-3.2.0\n"
          ]
        }
      ],
      "source": [
        "!pip install pyspark"
      ]
    },
    {
      "cell_type": "code",
      "source": [
        "from pyspark.sql import functions as sf\n",
        "from pyspark.sql.functions import substring\n",
        "from pyspark.sql import SparkSession\n",
        "\n",
        "spark = SparkSession.builder\\\n",
        "        .master(\"local\")\\\n",
        "        .appName(\"Colab\")\\\n",
        "        .config('spark.ui.port', '4050')\\\n",
        "        .getOrCreate()\n",
        "\n",
        "df = spark.createDataFrame([('ab001', 'MEM0089', 10),\n",
        "                            ('ab001', 'MEM0043', 10),\n",
        "                            ('ab001', 'MEM0019', 10),\n",
        "                            ('ab001', 'MEM0019', 20),\n",
        "                            ('ab001', 'MEM0019', 10),\n",
        "                            ('ab002', 'MEM0027', 10),\n",
        "                            ('ab002', 'MEM0027', 20),\n",
        "                            ('ab002', 'MEM0027', 10),\n",
        "                            ('ab002', 'MEM0004', 10),\n",
        "                            ('ab002', 'MEM0004', 20),\n",
        "                            ('ab002', 'MEM0065', 10),\n",
        "                            ('ab002', 'MEM0065', 10),\n",
        "                            ('ab002', 'MEM0011', 10),\n",
        "                            ('ab002', 'MEM0011', 10),\n",
        "                            ('ab002', 'MEM0011', 20),\n",
        "                            ('ab002', 'MEM0011', 10),\n",
        "                            ('ab002', 'MEM0011', 20),\n",
        "                            ('ab002', 'MEM0011', 10),\n",
        "                            ('ab002', 'MEM0082', 10),\n",
        "                            ('ab002', 'MEM0082', 10)\n",
        "                            ],\n",
        "                           [\"AB_ID\", \"MEM_ID\", \"ORD\"])\n",
        "df.show()"
      ],
      "metadata": {
        "colab": {
          "base_uri": "https://localhost:8080/"
        },
        "id": "AomU3-yokJzK",
        "outputId": "d6d40fbb-6b4b-4ae6-be87-47a1dfbdbf97"
      },
      "execution_count": 234,
      "outputs": [
        {
          "output_type": "stream",
          "name": "stdout",
          "text": [
            "+-----+-------+---+\n",
            "|AB_ID| MEM_ID|ORD|\n",
            "+-----+-------+---+\n",
            "|ab001|MEM0089| 10|\n",
            "|ab001|MEM0043| 10|\n",
            "|ab001|MEM0019| 10|\n",
            "|ab001|MEM0019| 20|\n",
            "|ab001|MEM0019| 10|\n",
            "|ab002|MEM0027| 10|\n",
            "|ab002|MEM0027| 20|\n",
            "|ab002|MEM0027| 10|\n",
            "|ab002|MEM0004| 10|\n",
            "|ab002|MEM0004| 20|\n",
            "|ab002|MEM0065| 10|\n",
            "|ab002|MEM0065| 10|\n",
            "|ab002|MEM0011| 10|\n",
            "|ab002|MEM0011| 10|\n",
            "|ab002|MEM0011| 20|\n",
            "|ab002|MEM0011| 10|\n",
            "|ab002|MEM0011| 20|\n",
            "|ab002|MEM0011| 10|\n",
            "|ab002|MEM0082| 10|\n",
            "|ab002|MEM0082| 10|\n",
            "+-----+-------+---+\n",
            "\n"
          ]
        }
      ]
    },
    {
      "cell_type": "code",
      "source": [
        "new =     df.withColumn('MEM_SCT_CD1', sf.when(sf.col('ORD') == 10, sf.col('MEM_ID')).otherwise(''))\\\n",
        "            .withColumn(\"MEM_ID_1\",sf.array(sf.col('MEM_SCT_CD1')))\\\n",
        "            .withColumn('MEM_SCT_CD', sf.when(sf.col('ORD') != 10, sf.col('MEM_ID')).otherwise(''))\\\n",
        "            .withColumn(\"MEM_ID_2\",sf.array(sf.col('MEM_SCT_CD')))"
      ],
      "metadata": {
        "id": "9ypsk5B5kKeB"
      },
      "execution_count": 243,
      "outputs": []
    },
    {
      "cell_type": "code",
      "source": [
        "new.show()"
      ],
      "metadata": {
        "colab": {
          "base_uri": "https://localhost:8080/"
        },
        "id": "3f6U820_mNep",
        "outputId": "ea1750ca-95cf-4bef-a956-3064814511bb"
      },
      "execution_count": 244,
      "outputs": [
        {
          "output_type": "stream",
          "name": "stdout",
          "text": [
            "+-----+-------+---+-----------+---------+----------+---------+\n",
            "|AB_ID| MEM_ID|ORD|MEM_SCT_CD1| MEM_ID_1|MEM_SCT_CD| MEM_ID_2|\n",
            "+-----+-------+---+-----------+---------+----------+---------+\n",
            "|ab001|MEM0089| 10|    MEM0089|[MEM0089]|          |       []|\n",
            "|ab001|MEM0043| 10|    MEM0043|[MEM0043]|          |       []|\n",
            "|ab001|MEM0019| 10|    MEM0019|[MEM0019]|          |       []|\n",
            "|ab001|MEM0019| 20|           |       []|   MEM0019|[MEM0019]|\n",
            "|ab001|MEM0019| 10|    MEM0019|[MEM0019]|          |       []|\n",
            "|ab002|MEM0027| 10|    MEM0027|[MEM0027]|          |       []|\n",
            "|ab002|MEM0027| 20|           |       []|   MEM0027|[MEM0027]|\n",
            "|ab002|MEM0027| 10|    MEM0027|[MEM0027]|          |       []|\n",
            "|ab002|MEM0004| 10|    MEM0004|[MEM0004]|          |       []|\n",
            "|ab002|MEM0004| 20|           |       []|   MEM0004|[MEM0004]|\n",
            "|ab002|MEM0065| 10|    MEM0065|[MEM0065]|          |       []|\n",
            "|ab002|MEM0065| 10|    MEM0065|[MEM0065]|          |       []|\n",
            "|ab002|MEM0011| 10|    MEM0011|[MEM0011]|          |       []|\n",
            "|ab002|MEM0011| 10|    MEM0011|[MEM0011]|          |       []|\n",
            "|ab002|MEM0011| 20|           |       []|   MEM0011|[MEM0011]|\n",
            "|ab002|MEM0011| 10|    MEM0011|[MEM0011]|          |       []|\n",
            "|ab002|MEM0011| 20|           |       []|   MEM0011|[MEM0011]|\n",
            "|ab002|MEM0011| 10|    MEM0011|[MEM0011]|          |       []|\n",
            "|ab002|MEM0082| 10|    MEM0082|[MEM0082]|          |       []|\n",
            "|ab002|MEM0082| 10|    MEM0082|[MEM0082]|          |       []|\n",
            "+-----+-------+---+-----------+---------+----------+---------+\n",
            "\n"
          ]
        }
      ]
    },
    {
      "cell_type": "code",
      "source": [
        "new.groupBy('AB_ID').agg(\n",
        "    (sf.countDistinct(sf.when(sf.col(\"ORD\") == '10',sf.col(\"MEM_ID\"))) \n",
        "    - sf.countDistinct(sf.when(sf.col(\"ORD\") != '10',sf.col(\"MEM_ID\")))).alias(\"PURE_ORD_MBR_CNT\")\n",
        ").show()"
      ],
      "metadata": {
        "colab": {
          "base_uri": "https://localhost:8080/"
        },
        "id": "8L17p_BPpdKF",
        "outputId": "347090e8-eb28-4d06-8cdc-d684f6a9b21d"
      },
      "execution_count": 203,
      "outputs": [
        {
          "output_type": "stream",
          "name": "stdout",
          "text": [
            "+-----+----------------+\n",
            "|AB_ID|PURE_ORD_MBR_CNT|\n",
            "+-----+----------------+\n",
            "|ab002|               2|\n",
            "|ab001|               2|\n",
            "+-----+----------------+\n",
            "\n"
          ]
        }
      ]
    },
    {
      "cell_type": "code",
      "source": [
        "new.groupBy('AB_ID').agg(\n",
        "    (sf.countDistinct(sf.when(sf.col(\"ORD\") == '10',sf.col(\"MEM_ID\"))))).show()"
      ],
      "metadata": {
        "colab": {
          "base_uri": "https://localhost:8080/"
        },
        "id": "m_ZSrDnD3Dg4",
        "outputId": "5024b683-0866-40d6-9a40-ef6c932480ca"
      },
      "execution_count": 204,
      "outputs": [
        {
          "output_type": "stream",
          "name": "stdout",
          "text": [
            "+-----+-------------------------------------------+\n",
            "|AB_ID|count(CASE WHEN (ORD = 10) THEN MEM_ID END)|\n",
            "+-----+-------------------------------------------+\n",
            "|ab002|                                          5|\n",
            "|ab001|                                          3|\n",
            "+-----+-------------------------------------------+\n",
            "\n"
          ]
        }
      ]
    },
    {
      "cell_type": "code",
      "source": [
        "from pyspark.sql.functions import collect_list\n",
        "\n",
        "ab = new.groupBy(\"AB_ID\")\\\n",
        "    .agg(collect_list(\"MEM_SCT_CD1\").alias(\"l1\"),\n",
        "         collect_list(\"MEM_SCT_CD\").alias(\"l2\")\n",
        "        )\n",
        "ab.show()"
      ],
      "metadata": {
        "colab": {
          "base_uri": "https://localhost:8080/"
        },
        "id": "JoVNGb0D-LY2",
        "outputId": "d055a2c4-2bfa-4004-a16b-457b44f5438b"
      },
      "execution_count": 245,
      "outputs": [
        {
          "output_type": "stream",
          "name": "stdout",
          "text": [
            "+-----+--------------------+--------------------+\n",
            "|AB_ID|                  l1|                  l2|\n",
            "+-----+--------------------+--------------------+\n",
            "|ab002|[MEM0027, , MEM00...|[, MEM0027, , , M...|\n",
            "|ab001|[MEM0089, MEM0043...|   [, , , MEM0019, ]|\n",
            "+-----+--------------------+--------------------+\n",
            "\n"
          ]
        }
      ]
    },
    {
      "cell_type": "code",
      "source": [
        "from collections import Counter\n",
        "\n",
        "Counter(ab.select('l1').rdd.map(lambda x: [i for i in x[0]]).reduce(lambda x, y: x + y))"
      ],
      "metadata": {
        "colab": {
          "base_uri": "https://localhost:8080/"
        },
        "id": "0LJwGINski-Q",
        "outputId": "2ad80552-72fa-436c-87ef-8377f5bdf17c"
      },
      "execution_count": 246,
      "outputs": [
        {
          "output_type": "execute_result",
          "data": {
            "text/plain": [
              "Counter({'': 5,\n",
              "         'MEM0004': 1,\n",
              "         'MEM0011': 4,\n",
              "         'MEM0019': 2,\n",
              "         'MEM0027': 2,\n",
              "         'MEM0043': 1,\n",
              "         'MEM0065': 2,\n",
              "         'MEM0082': 2,\n",
              "         'MEM0089': 1})"
            ]
          },
          "metadata": {},
          "execution_count": 246
        }
      ]
    },
    {
      "cell_type": "code",
      "source": [
        "Counter(ab.select('l2').rdd.map(lambda x: [i for i in x[0]]).reduce(lambda x, y: x + y))"
      ],
      "metadata": {
        "colab": {
          "base_uri": "https://localhost:8080/"
        },
        "id": "EnxzkQKlmcAQ",
        "outputId": "c690c142-d848-4498-c3b0-e215a4cade71"
      },
      "execution_count": 247,
      "outputs": [
        {
          "output_type": "execute_result",
          "data": {
            "text/plain": [
              "Counter({'': 15, 'MEM0004': 1, 'MEM0011': 2, 'MEM0019': 1, 'MEM0027': 1})"
            ]
          },
          "metadata": {},
          "execution_count": 247
        }
      ]
    },
    {
      "cell_type": "code",
      "source": [
        "from pyspark.sql.types import IntegerType\n",
        "from pyspark.sql.functions import udf\n",
        "from collections import Counter\n",
        "from pyspark.sql.functions import col, lit\n",
        "\n",
        "def sel(ab,x,y):\n",
        "    return len(Counter(ab.select(x).rdd.map(lambda x: [i for i in x[0]]).reduce(lambda x, y: x + y)) - Counter(ab.select(y).rdd.map(lambda x: [i for i in x[0]]).reduce(lambda x, y: x + y))) \n",
        "\n",
        "sel_cols = udf(sel, IntegerType())"
      ],
      "metadata": {
        "id": "0am-XmGCkkGi"
      },
      "execution_count": 248,
      "outputs": []
    },
    {
      "cell_type": "code",
      "source": [
        "ab1 = ab.filter(sf.col(\"AB_ID\") == 'ab001')\n",
        "ab1 = ab1.withColumn('res',lit(sel(ab1,'l1', 'l2')))"
      ],
      "metadata": {
        "id": "Mg88_C2HyB5S"
      },
      "execution_count": 249,
      "outputs": []
    },
    {
      "cell_type": "code",
      "source": [
        "ab2 = ab.filter(sf.col(\"AB_ID\") == 'ab002')\n",
        "ab2 = ab2.withColumn('res',lit(sel(ab2,'l1', 'l2')))"
      ],
      "metadata": {
        "id": "mnalaEP0vV3X"
      },
      "execution_count": 250,
      "outputs": []
    },
    {
      "cell_type": "code",
      "source": [
        "new.filter(sf.col(\"AB_ID\") == 'ab002').show()"
      ],
      "metadata": {
        "colab": {
          "base_uri": "https://localhost:8080/"
        },
        "id": "o-LGGHZ24hMn",
        "outputId": "c89ebbe7-6aab-4822-c6b8-53918d66ee94"
      },
      "execution_count": 251,
      "outputs": [
        {
          "output_type": "stream",
          "name": "stdout",
          "text": [
            "+-----+-------+---+-----------+---------+----------+---------+\n",
            "|AB_ID| MEM_ID|ORD|MEM_SCT_CD1| MEM_ID_1|MEM_SCT_CD| MEM_ID_2|\n",
            "+-----+-------+---+-----------+---------+----------+---------+\n",
            "|ab002|MEM0027| 10|    MEM0027|[MEM0027]|          |       []|\n",
            "|ab002|MEM0027| 20|           |       []|   MEM0027|[MEM0027]|\n",
            "|ab002|MEM0027| 10|    MEM0027|[MEM0027]|          |       []|\n",
            "|ab002|MEM0004| 10|    MEM0004|[MEM0004]|          |       []|\n",
            "|ab002|MEM0004| 20|           |       []|   MEM0004|[MEM0004]|\n",
            "|ab002|MEM0065| 10|    MEM0065|[MEM0065]|          |       []|\n",
            "|ab002|MEM0065| 10|    MEM0065|[MEM0065]|          |       []|\n",
            "|ab002|MEM0011| 10|    MEM0011|[MEM0011]|          |       []|\n",
            "|ab002|MEM0011| 10|    MEM0011|[MEM0011]|          |       []|\n",
            "|ab002|MEM0011| 20|           |       []|   MEM0011|[MEM0011]|\n",
            "|ab002|MEM0011| 10|    MEM0011|[MEM0011]|          |       []|\n",
            "|ab002|MEM0011| 20|           |       []|   MEM0011|[MEM0011]|\n",
            "|ab002|MEM0011| 10|    MEM0011|[MEM0011]|          |       []|\n",
            "|ab002|MEM0082| 10|    MEM0082|[MEM0082]|          |       []|\n",
            "|ab002|MEM0082| 10|    MEM0082|[MEM0082]|          |       []|\n",
            "+-----+-------+---+-----------+---------+----------+---------+\n",
            "\n"
          ]
        }
      ]
    },
    {
      "cell_type": "code",
      "source": [
        "Counter(ab2.select('l1').rdd.map(lambda x: [i for i in x[0]]).reduce(lambda x, y: x + y))"
      ],
      "metadata": {
        "colab": {
          "base_uri": "https://localhost:8080/"
        },
        "id": "rG2ds-hD4sCG",
        "outputId": "53539ff3-6204-4ea6-c35f-c9471c317b30"
      },
      "execution_count": 252,
      "outputs": [
        {
          "output_type": "execute_result",
          "data": {
            "text/plain": [
              "Counter({'': 4,\n",
              "         'MEM0004': 1,\n",
              "         'MEM0011': 4,\n",
              "         'MEM0027': 2,\n",
              "         'MEM0065': 2,\n",
              "         'MEM0082': 2})"
            ]
          },
          "metadata": {},
          "execution_count": 252
        }
      ]
    },
    {
      "cell_type": "code",
      "source": [
        "Counter(ab2.select('l2').rdd.map(lambda x: [i for i in x[0]]).reduce(lambda x, y: x + y))"
      ],
      "metadata": {
        "colab": {
          "base_uri": "https://localhost:8080/"
        },
        "id": "Jm8yr4JL8fcw",
        "outputId": "a62ff896-d2fa-426a-9e30-e38489e523c5"
      },
      "execution_count": 253,
      "outputs": [
        {
          "output_type": "execute_result",
          "data": {
            "text/plain": [
              "Counter({'': 11, 'MEM0004': 1, 'MEM0011': 2, 'MEM0027': 1})"
            ]
          },
          "metadata": {},
          "execution_count": 253
        }
      ]
    },
    {
      "cell_type": "code",
      "source": [
        "ab2.show()"
      ],
      "metadata": {
        "colab": {
          "base_uri": "https://localhost:8080/"
        },
        "id": "wy2zgP8MyvwA",
        "outputId": "861372e8-e10e-4976-fcfe-53c284a08616"
      },
      "execution_count": 254,
      "outputs": [
        {
          "output_type": "stream",
          "name": "stdout",
          "text": [
            "+-----+--------------------+--------------------+---+\n",
            "|AB_ID|                  l1|                  l2|res|\n",
            "+-----+--------------------+--------------------+---+\n",
            "|ab002|[MEM0027, , MEM00...|[, MEM0027, , , M...|  4|\n",
            "+-----+--------------------+--------------------+---+\n",
            "\n"
          ]
        }
      ]
    },
    {
      "cell_type": "code",
      "source": [
        "ab1.union(ab2).select('AB_ID','res')\\\n",
        "   .withColumnRenamed('AB_ID','상품ID')\\\n",
        "   .withColumnRenamed('res','순주문수').show()"
      ],
      "metadata": {
        "colab": {
          "base_uri": "https://localhost:8080/"
        },
        "id": "bn6aucoVy3Su",
        "outputId": "de739a02-72ee-4db3-eb20-c996df3104af"
      },
      "execution_count": 255,
      "outputs": [
        {
          "output_type": "stream",
          "name": "stdout",
          "text": [
            "+------+--------+\n",
            "|상품ID|순주문수|\n",
            "+------+--------+\n",
            "| ab001|       3|\n",
            "| ab002|       4|\n",
            "+------+--------+\n",
            "\n"
          ]
        }
      ]
    },
    {
      "cell_type": "code",
      "source": [
        ""
      ],
      "metadata": {
        "id": "dV-J7Kjn2JNq"
      },
      "execution_count": 216,
      "outputs": []
    }
  ]
}