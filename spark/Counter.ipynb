{
  "nbformat": 4,
  "nbformat_minor": 0,
  "metadata": {
    "colab": {
      "name": "Counter.ipynb",
      "provenance": [],
      "authorship_tag": "ABX9TyPiDDznRIiyv2R6pl4mRNNH",
      "include_colab_link": true
    },
    "kernelspec": {
      "name": "python3",
      "display_name": "Python 3"
    },
    "language_info": {
      "name": "python"
    }
  },
  "cells": [
    {
      "cell_type": "markdown",
      "metadata": {
        "id": "view-in-github",
        "colab_type": "text"
      },
      "source": [
        "<a href=\"https://colab.research.google.com/github/mjs1995/study/blob/main/spark/Counter.ipynb\" target=\"_parent\"><img src=\"https://colab.research.google.com/assets/colab-badge.svg\" alt=\"Open In Colab\"/></a>"
      ]
    },
    {
      "cell_type": "code",
      "execution_count": 1,
      "metadata": {
        "colab": {
          "base_uri": "https://localhost:8080/"
        },
        "id": "K42ssqockEe9",
        "outputId": "a68b7987-4904-477c-b49f-c6a3fe73f5a1"
      },
      "outputs": [
        {
          "output_type": "stream",
          "name": "stdout",
          "text": [
            "Collecting pyspark\n",
            "  Downloading pyspark-3.2.0.tar.gz (281.3 MB)\n",
            "\u001b[K     |████████████████████████████████| 281.3 MB 34 kB/s \n",
            "\u001b[?25hCollecting py4j==0.10.9.2\n",
            "  Downloading py4j-0.10.9.2-py2.py3-none-any.whl (198 kB)\n",
            "\u001b[K     |████████████████████████████████| 198 kB 48.0 MB/s \n",
            "\u001b[?25hBuilding wheels for collected packages: pyspark\n",
            "  Building wheel for pyspark (setup.py) ... \u001b[?25l\u001b[?25hdone\n",
            "  Created wheel for pyspark: filename=pyspark-3.2.0-py2.py3-none-any.whl size=281805912 sha256=a49243ec374de22ca536fc08f62d07c6ab0c07f8b7534cc4e5db473793ed5840\n",
            "  Stored in directory: /root/.cache/pip/wheels/0b/de/d2/9be5d59d7331c6c2a7c1b6d1a4f463ce107332b1ecd4e80718\n",
            "Successfully built pyspark\n",
            "Installing collected packages: py4j, pyspark\n",
            "Successfully installed py4j-0.10.9.2 pyspark-3.2.0\n"
          ]
        }
      ],
      "source": [
        "!pip install pyspark"
      ]
    },
    {
      "cell_type": "code",
      "source": [
        "from pyspark.sql import functions as sf\n",
        "from pyspark.sql.functions import substring\n",
        "from pyspark.sql import SparkSession\n",
        "\n",
        "spark = SparkSession.builder\\\n",
        "        .master(\"local\")\\\n",
        "        .appName(\"Colab\")\\\n",
        "        .config('spark.ui.port', '4050')\\\n",
        "        .getOrCreate()\n",
        "\n",
        "df = spark.createDataFrame([('ab001', 'MEM0089', 10),\n",
        "                            ('ab001', 'MEM0043', 10),\n",
        "                            ('ab001', 'MEM0019', 10),\n",
        "                            ('ab001', 'MEM0019', 20),\n",
        "                            ('ab001', 'MEM0019', 10),\n",
        "                            ('ab002', 'MEM0027', 10),\n",
        "                            ('ab002', 'MEM0053', 10),\n",
        "                            ('ab002', 'MEM0005', 10),\n",
        "                            ('ab002', 'MEM0004', 10),\n",
        "                            ('ab002', 'MEM0004', 10),\n",
        "                            ('ab002', 'MEM0065', 10),\n",
        "                            ('ab002', 'MEM0065', 10),\n",
        "                            ('ab002', 'MEM0011', 10),\n",
        "                            ('ab002', 'MEM0011', 10),\n",
        "                            ('ab002', 'MEM0011', 20),\n",
        "                            ('ab002', 'MEM0011', 10),\n",
        "                            ('ab002', 'MEM0011', 20),\n",
        "                            ('ab002', 'MEM0011', 10),\n",
        "                            ('ab002', 'MEM0082', 10),\n",
        "                            ('ab002', 'MEM0082', 10)\n",
        "                            ],\n",
        "                           [\"AB_ID\", \"MEM_ID\", \"ORD\"])\n",
        "df.show()"
      ],
      "metadata": {
        "colab": {
          "base_uri": "https://localhost:8080/"
        },
        "id": "AomU3-yokJzK",
        "outputId": "e96b3190-3bff-489f-9a4c-02e583db5e2f"
      },
      "execution_count": 92,
      "outputs": [
        {
          "output_type": "stream",
          "name": "stdout",
          "text": [
            "+-----+-------+---+\n",
            "|AB_ID| MEM_ID|ORD|\n",
            "+-----+-------+---+\n",
            "|ab001|MEM0089| 10|\n",
            "|ab001|MEM0043| 10|\n",
            "|ab001|MEM0019| 10|\n",
            "|ab001|MEM0019| 20|\n",
            "|ab001|MEM0019| 10|\n",
            "|ab002|MEM0027| 10|\n",
            "|ab002|MEM0053| 10|\n",
            "|ab002|MEM0005| 10|\n",
            "|ab002|MEM0004| 10|\n",
            "|ab002|MEM0004| 10|\n",
            "|ab002|MEM0065| 10|\n",
            "|ab002|MEM0065| 10|\n",
            "|ab002|MEM0011| 10|\n",
            "|ab002|MEM0011| 10|\n",
            "|ab002|MEM0011| 20|\n",
            "|ab002|MEM0011| 10|\n",
            "|ab002|MEM0011| 20|\n",
            "|ab002|MEM0011| 10|\n",
            "|ab002|MEM0082| 10|\n",
            "|ab002|MEM0082| 10|\n",
            "+-----+-------+---+\n",
            "\n"
          ]
        }
      ]
    },
    {
      "cell_type": "code",
      "source": [
        "new =     df.withColumn(\"MEM_ID_1\",sf.array(sf.col('MEM_ID')))\\\n",
        "            .withColumn('MEM_SCT_CD', sf.when(sf.col('ORD') != 10, sf.col('MEM_ID')).otherwise(''))\\\n",
        "            .withColumn(\"MEM_ID_2\",sf.array(sf.col('MEM_SCT_CD')))"
      ],
      "metadata": {
        "id": "9ypsk5B5kKeB"
      },
      "execution_count": 93,
      "outputs": []
    },
    {
      "cell_type": "code",
      "source": [
        "new.show()"
      ],
      "metadata": {
        "colab": {
          "base_uri": "https://localhost:8080/"
        },
        "id": "3f6U820_mNep",
        "outputId": "d482e1ae-4931-4e07-8d8b-cee6f5d61d66"
      },
      "execution_count": 94,
      "outputs": [
        {
          "output_type": "stream",
          "name": "stdout",
          "text": [
            "+-----+-------+---+---------+----------+---------+\n",
            "|AB_ID| MEM_ID|ORD| MEM_ID_1|MEM_SCT_CD| MEM_ID_2|\n",
            "+-----+-------+---+---------+----------+---------+\n",
            "|ab001|MEM0089| 10|[MEM0089]|          |       []|\n",
            "|ab001|MEM0043| 10|[MEM0043]|          |       []|\n",
            "|ab001|MEM0019| 10|[MEM0019]|          |       []|\n",
            "|ab001|MEM0019| 20|[MEM0019]|   MEM0019|[MEM0019]|\n",
            "|ab001|MEM0019| 10|[MEM0019]|          |       []|\n",
            "|ab002|MEM0027| 10|[MEM0027]|          |       []|\n",
            "|ab002|MEM0053| 10|[MEM0053]|          |       []|\n",
            "|ab002|MEM0005| 10|[MEM0005]|          |       []|\n",
            "|ab002|MEM0004| 10|[MEM0004]|          |       []|\n",
            "|ab002|MEM0004| 10|[MEM0004]|          |       []|\n",
            "|ab002|MEM0065| 10|[MEM0065]|          |       []|\n",
            "|ab002|MEM0065| 10|[MEM0065]|          |       []|\n",
            "|ab002|MEM0011| 10|[MEM0011]|          |       []|\n",
            "|ab002|MEM0011| 10|[MEM0011]|          |       []|\n",
            "|ab002|MEM0011| 20|[MEM0011]|   MEM0011|[MEM0011]|\n",
            "|ab002|MEM0011| 10|[MEM0011]|          |       []|\n",
            "|ab002|MEM0011| 20|[MEM0011]|   MEM0011|[MEM0011]|\n",
            "|ab002|MEM0011| 10|[MEM0011]|          |       []|\n",
            "|ab002|MEM0082| 10|[MEM0082]|          |       []|\n",
            "|ab002|MEM0082| 10|[MEM0082]|          |       []|\n",
            "+-----+-------+---+---------+----------+---------+\n",
            "\n"
          ]
        }
      ]
    },
    {
      "cell_type": "code",
      "source": [
        "new.groupBy('AB_ID').agg(\n",
        "    (sf.countDistinct(sf.when(sf.col(\"ORD\") == '10',sf.col(\"MEM_ID\"))) \n",
        "    - sf.countDistinct(sf.when(sf.col(\"ORD\") != '10',sf.col(\"MEM_ID\")))).alias(\"PURE_ORD_MBR_CNT\")\n",
        ").show()"
      ],
      "metadata": {
        "colab": {
          "base_uri": "https://localhost:8080/"
        },
        "id": "8L17p_BPpdKF",
        "outputId": "b2e0942d-1cdf-4408-a4e2-4d30f28c65e9"
      },
      "execution_count": 95,
      "outputs": [
        {
          "output_type": "stream",
          "name": "stdout",
          "text": [
            "+-----+----------------+\n",
            "|AB_ID|PURE_ORD_MBR_CNT|\n",
            "+-----+----------------+\n",
            "|ab002|               6|\n",
            "|ab001|               2|\n",
            "+-----+----------------+\n",
            "\n"
          ]
        }
      ]
    },
    {
      "cell_type": "code",
      "source": [
        "from pyspark.sql.functions import collect_list\n",
        "\n",
        "ab = new.groupBy(\"AB_ID\")\\\n",
        "    .agg(collect_list(\"MEM_ID\").alias(\"l1\"),\n",
        "         collect_list(\"MEM_SCT_CD\").alias(\"l2\")\n",
        "        )\n",
        "ab.show()"
      ],
      "metadata": {
        "colab": {
          "base_uri": "https://localhost:8080/"
        },
        "id": "toy7CScGkiCm",
        "outputId": "97409d00-fd49-4a24-ce98-8b12f7aae567"
      },
      "execution_count": 96,
      "outputs": [
        {
          "output_type": "stream",
          "name": "stdout",
          "text": [
            "+-----+--------------------+--------------------+\n",
            "|AB_ID|                  l1|                  l2|\n",
            "+-----+--------------------+--------------------+\n",
            "|ab002|[MEM0027, MEM0053...|[, , , , , , , , ...|\n",
            "|ab001|[MEM0089, MEM0043...|   [, , , MEM0019, ]|\n",
            "+-----+--------------------+--------------------+\n",
            "\n"
          ]
        }
      ]
    },
    {
      "cell_type": "code",
      "source": [
        "from collections import Counter\n",
        "\n",
        "Counter(ab.select('l1').rdd.map(lambda x: [i for i in x[0]]).reduce(lambda x, y: x + y))"
      ],
      "metadata": {
        "colab": {
          "base_uri": "https://localhost:8080/"
        },
        "id": "0LJwGINski-Q",
        "outputId": "0c690882-437f-468e-beaf-68dec2fc9b11"
      },
      "execution_count": 97,
      "outputs": [
        {
          "output_type": "execute_result",
          "data": {
            "text/plain": [
              "Counter({'MEM0004': 2,\n",
              "         'MEM0005': 1,\n",
              "         'MEM0011': 6,\n",
              "         'MEM0019': 3,\n",
              "         'MEM0027': 1,\n",
              "         'MEM0043': 1,\n",
              "         'MEM0053': 1,\n",
              "         'MEM0065': 2,\n",
              "         'MEM0082': 2,\n",
              "         'MEM0089': 1})"
            ]
          },
          "metadata": {},
          "execution_count": 97
        }
      ]
    },
    {
      "cell_type": "code",
      "source": [
        "Counter(ab.select('l2').rdd.map(lambda x: [i for i in x[0]]).reduce(lambda x, y: x + y))"
      ],
      "metadata": {
        "colab": {
          "base_uri": "https://localhost:8080/"
        },
        "id": "EnxzkQKlmcAQ",
        "outputId": "2b97aac4-5ee4-4f66-b5b5-40a8eaf44fc2"
      },
      "execution_count": 31,
      "outputs": [
        {
          "output_type": "execute_result",
          "data": {
            "text/plain": [
              "Counter({'': 17, 'MEM0011': 2, 'MEM0019': 1})"
            ]
          },
          "metadata": {},
          "execution_count": 31
        }
      ]
    },
    {
      "cell_type": "code",
      "source": [
        "from pyspark.sql.types import IntegerType\n",
        "from pyspark.sql.functions import udf\n",
        "from collections import Counter\n",
        "from pyspark.sql.functions import col, lit\n",
        "\n",
        "def sel(ab,x,y):\n",
        "    return len(Counter(ab.select(x).rdd.map(lambda x: [i for i in x[0]]).reduce(lambda x, y: x + y)) - Counter(ab.select(y).rdd.map(lambda x: [i for i in x[0]]).reduce(lambda x, y: x + y))) \n",
        "\n",
        "sel_cols = udf(sel, IntegerType())"
      ],
      "metadata": {
        "id": "0am-XmGCkkGi"
      },
      "execution_count": 103,
      "outputs": []
    },
    {
      "cell_type": "code",
      "source": [
        "ab1 = ab.filter(sf.col(\"AB_ID\") == 'ab001')\n",
        "ab1 = ab1.withColumn('res',lit(sel(ab1,'l1', 'l2')))"
      ],
      "metadata": {
        "id": "Mg88_C2HyB5S"
      },
      "execution_count": 116,
      "outputs": []
    },
    {
      "cell_type": "code",
      "source": [
        "ab2 = ab.filter(sf.col(\"AB_ID\") == 'ab002')\n",
        "ab2 = ab1.withColumn('res',lit(sel(ab2,'l1', 'l2')))"
      ],
      "metadata": {
        "id": "mnalaEP0vV3X"
      },
      "execution_count": 117,
      "outputs": []
    },
    {
      "cell_type": "code",
      "source": [
        "ab1.show()"
      ],
      "metadata": {
        "colab": {
          "base_uri": "https://localhost:8080/"
        },
        "id": "CL_J7s5rypIs",
        "outputId": "2afc5acb-ecf7-4cf1-db85-1665d9ab088d"
      },
      "execution_count": 118,
      "outputs": [
        {
          "output_type": "stream",
          "name": "stdout",
          "text": [
            "+-----+--------------------+-----------------+---+\n",
            "|AB_ID|                  l1|               l2|res|\n",
            "+-----+--------------------+-----------------+---+\n",
            "|ab001|[MEM0089, MEM0043...|[, , , MEM0019, ]|  3|\n",
            "+-----+--------------------+-----------------+---+\n",
            "\n"
          ]
        }
      ]
    },
    {
      "cell_type": "code",
      "source": [
        "ab2.show()"
      ],
      "metadata": {
        "colab": {
          "base_uri": "https://localhost:8080/"
        },
        "id": "wy2zgP8MyvwA",
        "outputId": "3ee9edde-1db8-49cd-c03f-8c9fbdbdfed9"
      },
      "execution_count": 119,
      "outputs": [
        {
          "output_type": "stream",
          "name": "stdout",
          "text": [
            "+-----+--------------------+-----------------+---+\n",
            "|AB_ID|                  l1|               l2|res|\n",
            "+-----+--------------------+-----------------+---+\n",
            "|ab001|[MEM0089, MEM0043...|[, , , MEM0019, ]|  7|\n",
            "+-----+--------------------+-----------------+---+\n",
            "\n"
          ]
        }
      ]
    },
    {
      "cell_type": "code",
      "source": [
        "ab1.union(ab2).select('AB_ID','res')\\\n",
        "   .withColumnRenamed('AB_ID','상품ID')\\\n",
        "   .withColumnRenamed('res','순주문수').show()"
      ],
      "metadata": {
        "colab": {
          "base_uri": "https://localhost:8080/"
        },
        "id": "bn6aucoVy3Su",
        "outputId": "073de4c6-896c-46df-c1ef-c584de47a3e7"
      },
      "execution_count": 131,
      "outputs": [
        {
          "output_type": "stream",
          "name": "stdout",
          "text": [
            "+------+--------+\n",
            "|상품ID|순주문수|\n",
            "+------+--------+\n",
            "| ab001|       3|\n",
            "| ab001|       7|\n",
            "+------+--------+\n",
            "\n"
          ]
        }
      ]
    }
  ]
}