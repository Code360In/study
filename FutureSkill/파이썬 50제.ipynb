{
 "cells": [
  {
   "cell_type": "markdown",
   "metadata": {},
   "source": [
    "# 파이썬 50제_1부"
   ]
  },
  {
   "cell_type": "code",
   "execution_count": 22,
   "metadata": {},
   "outputs": [
    {
     "name": "stdout",
     "output_type": "stream",
     "text": [
      "True\n",
      "False\n"
     ]
    }
   ],
   "source": [
    "# 2번 : all_unique\n",
    "def all_unique(lst):\n",
    "    return len(lst) == len(set(lst))\n",
    "\n",
    "print(all_unique([1, 2, 3, 4, 5, 6]))\n",
    "print(all_unique([1, 2, 2, 3, 4, 5]))"
   ]
  },
  {
   "cell_type": "code",
   "execution_count": 4,
   "metadata": {},
   "outputs": [
    {
     "name": "stdout",
     "output_type": "stream",
     "text": [
      "Hello World\n",
      "Hello world\n"
     ]
    }
   ],
   "source": [
    "# 3번 : capitalize every word\n",
    "# title() - 모든 문자열의 첫글자가 대문자로 변환\n",
    "s = \"hello world\"\n",
    "\n",
    "def capitalize_every_word(s):\n",
    "    return s.title()\n",
    "    \n",
    "print(capitalize_every_word(s))\n",
    "\n",
    "def capitalize_every_word(s):\n",
    "    return s.capitalize()\n",
    "print(capitalize_every_word(s))"
   ]
  },
  {
   "cell_type": "code",
   "execution_count": 8,
   "metadata": {},
   "outputs": [
    {
     "name": "stdout",
     "output_type": "stream",
     "text": [
      "356.0\n"
     ]
    }
   ],
   "source": [
    "# 4번 : celsius to fahrenheit\n",
    "celsius = 180\n",
    "\n",
    "def celsius_to_fahrenheit(celsius):\n",
    "    return ((celsius * 1.8) + 32)\n",
    "\n",
    "print(celsius_to_fahrenheit(celsius))"
   ]
  },
  {
   "cell_type": "code",
   "execution_count": 11,
   "metadata": {},
   "outputs": [
    {
     "name": "stdout",
     "output_type": "stream",
     "text": [
      "[1, 2, 3, 'a', 's', 34]\n"
     ]
    }
   ],
   "source": [
    "# 5번 : compact\n",
    "# filter() = False, None, 0, \"\" 제거\n",
    "lst = [0, 1, False, 2, '', 3, 'a', 's', 34]\n",
    "\n",
    "def compact(lst):\n",
    "    return list(filter(None,lst))\n",
    "\n",
    "print(compact(lst))"
   ]
  },
  {
   "cell_type": "code",
   "execution_count": 14,
   "metadata": {},
   "outputs": [
    {
     "name": "stdout",
     "output_type": "stream",
     "text": [
      "3\n"
     ]
    }
   ],
   "source": [
    "# 6번 : count occurences\n",
    "lst = [1,1,2,1,2,3]\n",
    "\n",
    "def count_occurences(lst, val):\n",
    "    return len([x for x in lst if x == val and type(x) == type(val)])\n",
    "\n",
    "print(count_occurences(lst,1))"
   ]
  },
  {
   "cell_type": "code",
   "execution_count": 15,
   "metadata": {},
   "outputs": [
    {
     "name": "stdout",
     "output_type": "stream",
     "text": [
      "3.141592653589793\n"
     ]
    }
   ],
   "source": [
    "# 7번 : degrees to rads\n",
    "from math import pi \n",
    "degrees = 180\n",
    "\n",
    "def degrees_to_rads(degrees):\n",
    "    return (degrees * pi) / 180.0\n",
    "\n",
    "print(degrees_to_rads(degrees))\n"
   ]
  },
  {
   "cell_type": "code",
   "execution_count": 18,
   "metadata": {},
   "outputs": [
    {
     "name": "stdout",
     "output_type": "stream",
     "text": [
      "[3]\n"
     ]
    }
   ],
   "source": [
    "# 8번 : difference\n",
    "lst1 = [1,2,3]\n",
    "lst2 = [1,2,4]\n",
    "\n",
    "def difference(a,b) : \n",
    "    _b = set(b)\n",
    "    return [x for x in a if x not in _b]\n",
    "\n",
    "print(difference(lst1, lst2))\n",
    "\n",
    "#def difference(a:\"a list\", b:\"a list\")->\"a list\":\n",
    "#    return list(set(a)-set(b))"
   ]
  },
  {
   "cell_type": "code",
   "execution_count": 19,
   "metadata": {},
   "outputs": [
    {
     "name": "stdout",
     "output_type": "stream",
     "text": [
      "[1, 2, 3]\n"
     ]
    }
   ],
   "source": [
    "# 9번 : digitize\n",
    "a = 123\n",
    "\n",
    "def digitize(n):\n",
    "    return list(map(int, str(n)))\n",
    "\n",
    "print(digitize(a))"
   ]
  },
  {
   "cell_type": "code",
   "execution_count": 21,
   "metadata": {},
   "outputs": [
    {
     "name": "stdout",
     "output_type": "stream",
     "text": [
      "[2, 3]\n",
      "[3]\n",
      "[]\n"
     ]
    }
   ],
   "source": [
    "# 10번 : drop\n",
    "def drop(lst, n=1):\n",
    "    return lst[n:]\n",
    "\n",
    "print(drop([1,2,3]))\n",
    "print(drop([1,2,3],2))\n",
    "print(drop([1,2,3],42))"
   ]
  },
  {
   "cell_type": "markdown",
   "metadata": {},
   "source": [
    "# 파이썬 50제_2부"
   ]
  },
  {
   "cell_type": "code",
   "execution_count": 25,
   "metadata": {},
   "outputs": [
    {
     "name": "stdout",
     "output_type": "stream",
     "text": [
      "[2, 3]\n",
      "[3]\n",
      "[]\n"
     ]
    }
   ],
   "source": [
    "# 1번 : drop right\n",
    "def drop_right(lst, n=1):\n",
    "    return lst[:-n]\n",
    "\n",
    "print(drop([1,2,3]))\n",
    "print(drop([1,2,3],2))\n",
    "print(drop([1,2,3],42))"
   ]
  },
  {
   "cell_type": "code",
   "execution_count": 27,
   "metadata": {},
   "outputs": [
    {
     "name": "stdout",
     "output_type": "stream",
     "text": [
      "[2, 4, 6]\n",
      "[3, 6]\n"
     ]
    }
   ],
   "source": [
    "# 2번 : every nth\n",
    "lst = [1,2,3,4,5,6]\n",
    "\n",
    "def every_nth(lst, n):\n",
    "    return lst[n-1::n]\n",
    "print(every_nth(lst, 2))\n",
    "print(every_nth(lst, 3))"
   ]
  },
  {
   "cell_type": "code",
   "execution_count": 29,
   "metadata": {},
   "outputs": [
    {
     "name": "stdout",
     "output_type": "stream",
     "text": [
      "25.0\n"
     ]
    }
   ],
   "source": [
    "# 3번 : fahrenheit to celsius\n",
    "fahrenheit = 77\n",
    "\n",
    "def fahrenheit_to_celsius(fahrenheit):\n",
    "    return ((fahrenheit - 32) / 1.8)\n",
    "\n",
    "print(fahrenheit_to_celsius(fahrenheit))"
   ]
  },
  {
   "cell_type": "code",
   "execution_count": 30,
   "metadata": {},
   "outputs": [
    {
     "data": {
      "text/plain": [
       "[1, 3, 5]"
      ]
     },
     "execution_count": 30,
     "metadata": {},
     "output_type": "execute_result"
    }
   ],
   "source": [
    "# 4번 : filter non-unique\n",
    "# Counter() -  Counter({1: 1, 2: 2, 3: 1, 4: 2, 5: 1})\n",
    "lst = [1,2,2,3,4,4,5]\n",
    "\n",
    "from collections import Counter\n",
    "\n",
    "def filter_non_unique(lst):\n",
    "    return [x for x,count in Counter(lst).items() if count == 1]\n",
    "\n",
    "filter_non_unique(lst)\n"
   ]
  },
  {
   "cell_type": "code",
   "execution_count": 34,
   "metadata": {},
   "outputs": [
    {
     "data": {
      "text/plain": [
       "[2, 4]"
      ]
     },
     "execution_count": 34,
     "metadata": {},
     "output_type": "execute_result"
    }
   ],
   "source": [
    "# 5번 : filter unique\n",
    "lst = [1,2,2,3,4,4,5]\n",
    "\n",
    "from collections import Counter\n",
    "\n",
    "def filter_unique(lst):\n",
    "        return [x for x,count in Counter(lst).items() if count > 1]\n",
    "filter_unique(lst)\n"
   ]
  },
  {
   "cell_type": "code",
   "execution_count": 35,
   "metadata": {},
   "outputs": [
    {
     "name": "stdout",
     "output_type": "stream",
     "text": [
      "1\n",
      "2\n",
      "3\n"
     ]
    }
   ],
   "source": [
    "# 6번 : for each\n",
    "itr = [1,2,3]\n",
    "fn = print\n",
    "\n",
    "def for_each(itr, fn):\n",
    "    for i in itr:\n",
    "        fn(i)\n",
    "for_each(itr, fn)"
   ]
  },
  {
   "cell_type": "code",
   "execution_count": 36,
   "metadata": {},
   "outputs": [
    {
     "name": "stdout",
     "output_type": "stream",
     "text": [
      "3\n",
      "2\n",
      "1\n"
     ]
    }
   ],
   "source": [
    "# 7번 : for each right\n",
    "itr = [1,2,3]\n",
    "\n",
    "def for_each_right(itr, fn):\n",
    "    for i in itr[::-1]:\n",
    "        fn(i)\n",
    "\n",
    "for_each_right(itr, print)"
   ]
  },
  {
   "cell_type": "code",
   "execution_count": 40,
   "metadata": {},
   "outputs": [
    {
     "data": {
      "text/plain": [
       "False"
      ]
     },
     "execution_count": 40,
     "metadata": {},
     "output_type": "execute_result"
    }
   ],
   "source": [
    "# 8번 : has duplicates\n",
    "lst = [1,2,3]\n",
    "\n",
    "def has_duplicates(lst):\n",
    "     return len(lst) != len(set(lst))\n",
    "\n",
    "has_duplicates(lst)"
   ]
  },
  {
   "cell_type": "code",
   "execution_count": 41,
   "metadata": {},
   "outputs": [
    {
     "data": {
      "text/plain": [
       "1"
      ]
     },
     "execution_count": 41,
     "metadata": {},
     "output_type": "execute_result"
    }
   ],
   "source": [
    "# 9번 : head\n",
    "lst = [1,2,3]\n",
    "\n",
    "def head(lst):\n",
    "    return lst[0]\n",
    "\n",
    "head(lst)"
   ]
  },
  {
   "cell_type": "code",
   "execution_count": 43,
   "metadata": {},
   "outputs": [
    {
     "name": "stdout",
     "output_type": "stream",
     "text": [
      "True\n",
      "True\n",
      "False\n",
      "False\n"
     ]
    }
   ],
   "source": [
    "# 10번 : in range\n",
    "def in_range(n, start, end=0):\n",
    "    return start <= n <= end if end >= start else end <= n <= start\n",
    "\n",
    "print(in_range(3,2,5))\n",
    "print(in_range(3,4))\n",
    "print(in_range(2,3,5))\n",
    "print(in_range(3,2))"
   ]
  },
  {
   "cell_type": "markdown",
   "metadata": {},
   "source": [
    "# 파이썬 50제_3부"
   ]
  },
  {
   "cell_type": "code",
   "execution_count": 44,
   "metadata": {},
   "outputs": [
    {
     "data": {
      "text/plain": [
       "[1, 2, 3, 4]"
      ]
     },
     "execution_count": 44,
     "metadata": {},
     "output_type": "execute_result"
    }
   ],
   "source": [
    "# 1번 : initial\n",
    "# 리스트의 마지막 원소 를 제외한 나머지 모든 원소를 반환하는 코드를 작성하세요.\n",
    "lst = [1,2,3,4,5]\n",
    "\n",
    "def initial(lst):\n",
    "    return lst[0:-1]\n",
    "initial(lst)\n"
   ]
  },
  {
   "cell_type": "code",
   "execution_count": 45,
   "metadata": {},
   "outputs": [
    {
     "name": "stdout",
     "output_type": "stream",
     "text": [
      "[0, 1, 2, 3, 4, 5]\n",
      "[3, 4, 5, 6, 7]\n",
      "[0, 2, 4, 6, 8]\n"
     ]
    }
   ],
   "source": [
    "# 2번 : initialize list with range\n",
    "# 주어진 범위 만큼의 리스트를 생성하는 코드를 작성하세요.단, start 와 end 는 범위를 지정하며, step 은 원소간의 간격을 의미합니다.\n",
    "def initialize_list_with_range(end, start=0, step=1):\n",
    "    return list(range(start, end + 1, step))\n",
    "print(initialize_list_with_range(5))\n",
    "print(initialize_list_with_range(7,3))\n",
    "print(initialize_list_with_range(9,0,2))\n"
   ]
  },
  {
   "cell_type": "code",
   "execution_count": 47,
   "metadata": {},
   "outputs": [
    {
     "name": "stdout",
     "output_type": "stream",
     "text": [
      "[0, 0, 0, 0, 0]\n",
      "[2, 2, 2, 2, 2]\n",
      "[3]\n"
     ]
    }
   ],
   "source": [
    "# 3번 : initialize list with values\n",
    "# 주어진 값으로 채워진 리스트를 생성하는 코드를 작성하세요.\n",
    "def initialize_list_with_values(n, val=0):\n",
    "    return [val for x in range(n)]\n",
    "print(initialize_list_with_values(5))\n",
    "print(initialize_list_with_values(5,2))\n",
    "print(initialize_list_with_range(3,3))"
   ]
  },
  {
   "cell_type": "code",
   "execution_count": 48,
   "metadata": {},
   "outputs": [
    {
     "data": {
      "text/plain": [
       "[2, 3]"
      ]
     },
     "execution_count": 48,
     "metadata": {},
     "output_type": "execute_result"
    }
   ],
   "source": [
    "# 4번 : intersection\n",
    "# 두 리스트에 모두 존재하는 값을 반환하는 코드를 작성하세요.\n",
    "lst1 = [1,2,3]\n",
    "lst2 = [2,3,4] \n",
    "\n",
    "def intersection(a,b):\n",
    "    _a, _b = set(a), set(b)\n",
    "    return list(_a & _b)\n",
    "intersection(lst1,lst2)"
   ]
  },
  {
   "cell_type": "code",
   "execution_count": 50,
   "metadata": {},
   "outputs": [
    {
     "data": {
      "text/plain": [
       "True"
      ]
     },
     "execution_count": 50,
     "metadata": {},
     "output_type": "execute_result"
    }
   ],
   "source": [
    "# 5번 : is divisible\n",
    "# 첫번째 숫자(dividend)가 두번째 숫자(divisor)로 나누어 떨어지는지 확인하는 코드를 작성하세요.\n",
    "a = 9\n",
    "b = 3\n",
    "\n",
    "def is_divisible(dividend, divisor):\n",
    "    return dividend % divisor == 0\n",
    "\n",
    "is_divisible(a, b)"
   ]
  },
  {
   "cell_type": "code",
   "execution_count": 51,
   "metadata": {},
   "outputs": [
    {
     "data": {
      "text/plain": [
       "False"
      ]
     },
     "execution_count": 51,
     "metadata": {},
     "output_type": "execute_result"
    }
   ],
   "source": [
    "# 6번 : is even\n",
    "# 주어진 숫자가 짝수일 경우 True를, 홀수인 경우 False를 반환하는 코드를 작성하세요.\n",
    "a = 9\n",
    "\n",
    "def is_even(num):\n",
    "    return num % 2 ==0\n",
    "\n",
    "is_even(a)"
   ]
  },
  {
   "cell_type": "code",
   "execution_count": 53,
   "metadata": {},
   "outputs": [
    {
     "data": {
      "text/plain": [
       "False"
      ]
     },
     "execution_count": 53,
     "metadata": {},
     "output_type": "execute_result"
    }
   ],
   "source": [
    "# 7번 : is odd\n",
    "# 주어진 숫자가 홀수일 경우 True를, 짝수인 경우 False를 반환하는 코드를 작성하세요.\n",
    "a = 4\n",
    "\n",
    "def is_odd(num):\n",
    "    return num % 2 !=0\n",
    "\n",
    "is_odd(a)"
   ]
  },
  {
   "cell_type": "code",
   "execution_count": 54,
   "metadata": {},
   "outputs": [
    {
     "data": {
      "text/plain": [
       "['Peter', 'Isabel', 'Anna']"
      ]
     },
     "execution_count": 54,
     "metadata": {},
     "output_type": "execute_result"
    }
   ],
   "source": [
    "# 8번 : keys only\n",
    "ages = {\n",
    "\t\"Peter\":10,\n",
    "\t\"Isabel\":11,\n",
    "\t\"Anna\":9,\n",
    "}\n",
    "\n",
    "def keys_only(flat_dict):\n",
    "    return list(flat_dict.keys())\n",
    "keys_only(ages)\n"
   ]
  },
  {
   "cell_type": "code",
   "execution_count": 55,
   "metadata": {},
   "outputs": [
    {
     "data": {
      "text/plain": [
       "3"
      ]
     },
     "execution_count": 55,
     "metadata": {},
     "output_type": "execute_result"
    }
   ],
   "source": [
    "# 9번 : last\n",
    "# 리스트의 마지막 값을 반환하는 코드를 작성하세요.\n",
    "\n",
    "lst = [1,2,3]\n",
    "\n",
    "def last(lst):\n",
    "    return lst[-1]\n",
    "\n",
    "last(lst)"
   ]
  },
  {
   "cell_type": "code",
   "execution_count": 56,
   "metadata": {},
   "outputs": [
    {
     "data": {
      "text/plain": [
       "8"
      ]
     },
     "execution_count": 56,
     "metadata": {},
     "output_type": "execute_result"
    }
   ],
   "source": [
    "# 10번 : max by\n",
    "# 주어진 함수 fn를 리스트 lst의 각 값에 적용한 뒤, 최댓값을 반환하는 코드를 작성하세요.\n",
    "lst = [{'n':4},{'n':2},{'n':8},{'n':6}]\n",
    "fn = lambda v:v['n']\n",
    "\n",
    "def max_by(lst, fn):\n",
    "    return max(map(fn, lst))\n",
    "\n",
    "max_by(lst, fn)"
   ]
  },
  {
   "cell_type": "markdown",
   "metadata": {},
   "source": [
    "# 파이썬 50제_4부"
   ]
  },
  {
   "cell_type": "code",
   "execution_count": 58,
   "metadata": {},
   "outputs": [
    {
     "data": {
      "text/plain": [
       "4"
      ]
     },
     "execution_count": 58,
     "metadata": {},
     "output_type": "execute_result"
    }
   ],
   "source": [
    "# 1번 : max element index\n",
    "# 리스트에서 가장 큰 값의 인덱스를 반환하는 코드를 작성하세요.\n",
    "lst = [5,8,9,7,10,3,0]\n",
    "\n",
    "def max_element_index(lst):\n",
    "    return lst.index(max(lst))\n",
    "max_element_index(lst)"
   ]
  },
  {
   "cell_type": "code",
   "execution_count": 61,
   "metadata": {},
   "outputs": [
    {
     "name": "stdout",
     "output_type": "stream",
     "text": [
      "[3]\n",
      "[3, 2]\n"
     ]
    }
   ],
   "source": [
    "# 2번 : max n\n",
    "# 리스트에서 큰 순서대로 n개의 값을 반환하는 코드를 작성하세요.\n",
    "def max_n(lst, n=1):\n",
    "    return sorted(lst, reverse=True)[:n]\n",
    "print(max_n([1,2,3]))\n",
    "print(max_n([1,2,3], 2))"
   ]
  },
  {
   "cell_type": "code",
   "execution_count": 64,
   "metadata": {},
   "outputs": [
    {
     "name": "stdout",
     "output_type": "stream",
     "text": [
      "2\n",
      "2.5\n"
     ]
    }
   ],
   "source": [
    "# 3번 : median\n",
    "# 숫자로 구성된 리스트에서 중앙값(median)을 반환하는 코드를 작성하세요.\n",
    "def median(lst):\n",
    "    lst.sort()\n",
    "    length = len(lst)\n",
    "    if length % 2 == 0:\n",
    "        return (lst[int(length / 2) - 1 ] + lst[int(length / 2 )]) / 2\n",
    "    return lst[int(length / 2)]\n",
    "\n",
    "print(median([1,2,3]))\n",
    "print(median([1,2,3,4]))"
   ]
  },
  {
   "cell_type": "code",
   "execution_count": 65,
   "metadata": {},
   "outputs": [
    {
     "data": {
      "text/plain": [
       "2"
      ]
     },
     "execution_count": 65,
     "metadata": {},
     "output_type": "execute_result"
    }
   ],
   "source": [
    "# 4번 : min by\n",
    "# 주어진 함수를 리스트의 각 값에 적용한 뒤, 최솟값을 반환하는 코드를 작성하세요.\n",
    "lst = [{'n':4},{'n':2},{'n':8},{'n':6}]\n",
    "fn = lambda v:v['n']\n",
    "\n",
    "def min_by(lst, fn):\n",
    "    return min(map(fn,lst))\n",
    "\n",
    "min_by(lst, fn)"
   ]
  },
  {
   "cell_type": "code",
   "execution_count": 66,
   "metadata": {},
   "outputs": [
    {
     "name": "stdout",
     "output_type": "stream",
     "text": [
      "[1]\n",
      "[1, 2]\n"
     ]
    }
   ],
   "source": [
    "# 5번 : min n\n",
    "# 리스트에서 작은 순서대로 n개의 값을 반환하는 코드를 작성하세요.\n",
    "def min_n(lst, n=1):\n",
    "    return sorted(lst, reverse=False)[:n]\n",
    "print(min_n([1,2,3]))\n",
    "print(min_n([1,2,3], 2))"
   ]
  },
  {
   "cell_type": "code",
   "execution_count": 68,
   "metadata": {},
   "outputs": [
    {
     "name": "stdout",
     "output_type": "stream",
     "text": [
      "4\n",
      "2\n"
     ]
    }
   ],
   "source": [
    "# 6번 : most frequent\n",
    "# 리스트에서 가장 많이 등장하는 값을 반환하는 코드를 작성하세요.\n",
    "def most_frequent(lst):\n",
    "    return max(set(lst), key = lst.count)\n",
    "print(most_frequent([1,2,3,4,4]))\n",
    "print(most_frequent([1,2,1,2,3,2,1,4,2]))"
   ]
  },
  {
   "cell_type": "code",
   "execution_count": 69,
   "metadata": {},
   "outputs": [
    {
     "data": {
      "text/plain": [
       "'pypypypy'"
      ]
     },
     "execution_count": 69,
     "metadata": {},
     "output_type": "execute_result"
    }
   ],
   "source": [
    "# 7번 : n time string\n",
    "# 주어진 개수만큼 동일한 문자열을 출력하는 코드를 작성하세요.\n",
    "def n_time_string(s,n):\n",
    "        return(s*n)\n",
    "n_time_string('py',4)"
   ]
  },
  {
   "cell_type": "code",
   "execution_count": 70,
   "metadata": {},
   "outputs": [
    {
     "name": "stdout",
     "output_type": "stream",
     "text": [
      "[2, 3, 1]\n",
      "[5, 6, 7, 3, 4]\n"
     ]
    }
   ],
   "source": [
    "# 8번 : offset\n",
    "# 주어진 수(n)만큼의 값을 리스트의 끝으로 이동시키는 코드를 작성하세요.\n",
    "def offset(lst,n):\n",
    "    return lst[n:] + lst[:n]\n",
    "print(offset([1,2,3],1))\n",
    "print(offset([3,4,5,6,7],2))"
   ]
  },
  {
   "cell_type": "code",
   "execution_count": 74,
   "metadata": {},
   "outputs": [
    {
     "data": {
      "text/plain": [
       "90.0"
      ]
     },
     "execution_count": 74,
     "metadata": {},
     "output_type": "execute_result"
    }
   ],
   "source": [
    "# 9번 : rads to degrees\n",
    "# rads 를 degrees 로 변환하는 코드를 작성하세요.\n",
    "from math import pi \n",
    "import math\n",
    "def rads_to_degrees(rads):\n",
    "    return (rads * 180.0) / math.pi\n",
    "rads_to_degrees(math.pi/2)\n"
   ]
  },
  {
   "cell_type": "code",
   "execution_count": 75,
   "metadata": {},
   "outputs": [
    {
     "data": {
      "text/plain": [
       "'teppins'"
      ]
     },
     "execution_count": 75,
     "metadata": {},
     "output_type": "execute_result"
    }
   ],
   "source": [
    "# 10번 : reverse string\n",
    "# 문자열을 거꾸로 뒤집는 코드를 작성하세요.\n",
    "s=\"snippet\"\n",
    "\n",
    "def reverse_string(s):\n",
    "    return s[::-1]\n",
    "reverse_string(s)"
   ]
  },
  {
   "cell_type": "markdown",
   "metadata": {},
   "source": [
    "# 파이썬 50제_5부"
   ]
  },
  {
   "cell_type": "code",
   "execution_count": 77,
   "metadata": {},
   "outputs": [
    {
     "data": {
      "text/plain": [
       "14"
      ]
     },
     "execution_count": 77,
     "metadata": {},
     "output_type": "execute_result"
    }
   ],
   "source": [
    "# 1번 : sample\n",
    "# 리스트에서 랜덤하게 값을 가져오는 코드를 작성하세요.\n",
    "from random import randint\n",
    "ages=[12,12,13,14,15]\n",
    "\n",
    "def sample(lst):\n",
    "    return lst[randint(0, len(lst) - 1)]\n",
    "\n",
    "sample(ages)"
   ]
  },
  {
   "cell_type": "code",
   "execution_count": 78,
   "metadata": {},
   "outputs": [
    {
     "data": {
      "text/plain": [
       "[1, 2]"
      ]
     },
     "execution_count": 78,
     "metadata": {},
     "output_type": "execute_result"
    }
   ],
   "source": [
    "# 2번 : similarity\n",
    "# 두 리스트에 모두 있는 값들을 리스트로 반환하는 코드를 작성하세요.\n",
    "lst1 = [1, 2, 3]\n",
    "lst2 = [1, 2, 4]\n",
    "\n",
    "def similarity(a, b):\n",
    "    return [item for item in a if item in b]\n",
    "similarity(lst1, lst2)"
   ]
  },
  {
   "cell_type": "code",
   "execution_count": 79,
   "metadata": {},
   "outputs": [
    {
     "data": {
      "text/plain": [
       "['Sentence1', 'Sentence2', 'Sentence3']"
      ]
     },
     "execution_count": 79,
     "metadata": {},
     "output_type": "execute_result"
    }
   ],
   "source": [
    "# 3번 : split lines\n",
    "# 줄 바꿈 이스케이프 코드(\\n)로 나뉘어 여러 줄로 이루어진 문자열을 각각 리스트로 분할하는 코드를 작성하세요.\n",
    "corpus = 'Sentence1\\nSentence2\\nSentence3'\n",
    "\n",
    "def split_lines(corpus):\n",
    "    return corpus.split('\\n')\n",
    "\n",
    "split_lines(corpus)"
   ]
  },
  {
   "cell_type": "code",
   "execution_count": 80,
   "metadata": {},
   "outputs": [
    {
     "data": {
      "text/plain": [
       "20"
      ]
     },
     "execution_count": 80,
     "metadata": {},
     "output_type": "execute_result"
    }
   ],
   "source": [
    "# 4번 : sum by\n",
    "# 주어진 함수를 리스트의 각 값에 적용한 뒤, 합계를 반환하는 코드를 작성하세요.\n",
    "lst = [{'n':4},{'n':2},{'n':8},{'n':6}]\n",
    "fn = lambda v:v['n']\n",
    "\n",
    "def sum_by(lst, fn):\n",
    "    return sum(map(fn,lst))\n",
    "\n",
    "sum_by(lst, fn)"
   ]
  },
  {
   "cell_type": "code",
   "execution_count": 81,
   "metadata": {},
   "outputs": [
    {
     "data": {
      "text/plain": [
       "[2, 3, 4, 5]"
      ]
     },
     "execution_count": 81,
     "metadata": {},
     "output_type": "execute_result"
    }
   ],
   "source": [
    "# 5번 : tail\n",
    "# 리스트의 첫 값을 제외한 나머지 값을 반환하는 코드를 작성하세요.\n",
    "lst = [1, 2, 3, 4, 5]\n",
    "\n",
    "def tail(lst):\n",
    "    return lst[1:] if len(lst) > 1 else lst \n",
    "\n",
    "tail(lst)"
   ]
  },
  {
   "cell_type": "code",
   "execution_count": 82,
   "metadata": {},
   "outputs": [
    {
     "name": "stdout",
     "output_type": "stream",
     "text": [
      "[1, 2, 3]\n",
      "[1, 2, 3]\n",
      "[]\n"
     ]
    }
   ],
   "source": [
    "# 6번 : take\n",
    "# 리스트의 앞에서부터의 n개 값을 가져와 반환하는 코드를 작성하세요.\n",
    "def take(itr, n=1):\n",
    "    return itr[:n]\n",
    "print(take([1,2,3,4,5],3))\n",
    "print(take([1,2,3],5))\n",
    "print(take([1,2,3],0))"
   ]
  },
  {
   "cell_type": "code",
   "execution_count": 84,
   "metadata": {},
   "outputs": [
    {
     "name": "stdout",
     "output_type": "stream",
     "text": [
      "[3, 4, 5]\n",
      "[1, 2, 3]\n",
      "[3]\n"
     ]
    }
   ],
   "source": [
    "# 7번 : take right\n",
    "# 리스트의 끝에서부터의 n개 값을 가져와 반환하는 코드를 작성하세요.\n",
    "def take_right(itr, n=1):\n",
    "    return itr[-n:]\n",
    "print(take_right([1,2,3,4,5],3))\n",
    "print(take_right([1,2,3],5))\n",
    "print(take_right([1,2,3]))"
   ]
  },
  {
   "cell_type": "code",
   "execution_count": 87,
   "metadata": {},
   "outputs": [
    {
     "data": {
      "text/plain": [
       "[1, 2, 99, 3, 4, 52]"
      ]
     },
     "execution_count": 87,
     "metadata": {},
     "output_type": "execute_result"
    }
   ],
   "source": [
    "# 8번 : union\n",
    "# 두 리스트에 하나라도 존재하는 값을 모두 반환하는 코드를 작성하세요.\n",
    "a = [1,2,3,99]\n",
    "b = [2,3,4,52] \n",
    "\n",
    "def union(a,b):\n",
    "    return sorted(list(set(a+b)))\n",
    "union(a,b)\n",
    "\n",
    "def union(a,b):\n",
    "  return list(set(a).union(set(b)))\n",
    "union(a,b)"
   ]
  },
  {
   "cell_type": "code",
   "execution_count": 88,
   "metadata": {},
   "outputs": [
    {
     "data": {
      "text/plain": [
       "[1, 2, 3, 4, 5]"
      ]
     },
     "execution_count": 88,
     "metadata": {},
     "output_type": "execute_result"
    }
   ],
   "source": [
    "# 9번 : unique elements\n",
    "# 리스트에서 하나 이상의 중복된 값을 제거한 후 정렬하는 코드를 작성하세요.\n",
    "lst = [1,4,4,4,5,5,2,3]\n",
    "\n",
    "def unique_elements(lst):\n",
    "    return list(set(lst))\n",
    "\n",
    "unique_elements(lst)"
   ]
  },
  {
   "cell_type": "code",
   "execution_count": 89,
   "metadata": {},
   "outputs": [
    {
     "data": {
      "text/plain": [
       "[10, 11, 9]"
      ]
     },
     "execution_count": 89,
     "metadata": {},
     "output_type": "execute_result"
    }
   ],
   "source": [
    "# 10번 : values only\n",
    "# 딕셔너리의 모든 값을 리스트로 변환하는 코드를 작성하세요.\n",
    "ages = {\n",
    "\t\"Peter\":10,\n",
    "\t\"Isabel\":11,\n",
    "\t\"Anna\":9,\n",
    "}\n",
    "\n",
    "def values_only(flat_dict):\n",
    "    return list(flat_dict.values())\n",
    "\n",
    "values_only(ages)"
   ]
  },
  {
   "cell_type": "code",
   "execution_count": null,
   "metadata": {},
   "outputs": [],
   "source": []
  }
 ],
 "metadata": {
  "kernelspec": {
   "display_name": "Python 3",
   "language": "python",
   "name": "python3"
  },
  "language_info": {
   "codemirror_mode": {
    "name": "ipython",
    "version": 3
   },
   "file_extension": ".py",
   "mimetype": "text/x-python",
   "name": "python",
   "nbconvert_exporter": "python",
   "pygments_lexer": "ipython3",
   "version": "3.7.9"
  }
 },
 "nbformat": 4,
 "nbformat_minor": 4
}
