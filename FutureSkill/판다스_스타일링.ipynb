{
  "nbformat": 4,
  "nbformat_minor": 0,
  "metadata": {
    "colab": {
      "name": "판다스 스타일링.ipynb",
      "provenance": []
    },
    "kernelspec": {
      "name": "python3",
      "display_name": "Python 3"
    }
  },
  "cells": [
    {
      "cell_type": "code",
      "metadata": {
        "colab": {
          "base_uri": "https://localhost:8080/",
          "height": 103
        },
        "id": "PDxZILt4u36A",
        "outputId": "1f1131e2-6580-4018-c5b7-8d75aafad678"
      },
      "source": [
        "# 1번 : 스타일 적용\r\n",
        "# 데이터프레임에 음의 값이 입력되는 경우 해당 값의 글자 색상이 초록색(#00FF00)으로 출력되고, 나머지 값은 파랑색(#0000FF)으로 출력되는 color_np_gb 함수를 만드세요.\r\n",
        "import pandas as pd\r\n",
        "import numpy as np\r\n",
        "\r\n",
        "# make sample DataFrame\r\n",
        "np.random.seed(123)\r\n",
        "df = pd.DataFrame(np.random.randn(3, 4), \r\n",
        "                  columns = [\"A\", \"B\", \"C\", \"D\"])\r\n",
        "\r\n",
        "def color_np_gb(value):\r\n",
        "    color = 'green' if value < 0 else 'blue'\r\n",
        "    return \"color: \" + color\r\n",
        "\r\n",
        "df.style.applymap(color_np_gb) # output"
      ],
      "execution_count": 5,
      "outputs": [
        {
          "output_type": "execute_result",
          "data": {
            "text/html": [
              "<style  type=\"text/css\" >\n",
              "#T_0539236a_80cb_11eb_ae43_0242ac1c0002row0_col0,#T_0539236a_80cb_11eb_ae43_0242ac1c0002row0_col3,#T_0539236a_80cb_11eb_ae43_0242ac1c0002row1_col0,#T_0539236a_80cb_11eb_ae43_0242ac1c0002row1_col2,#T_0539236a_80cb_11eb_ae43_0242ac1c0002row1_col3,#T_0539236a_80cb_11eb_ae43_0242ac1c0002row2_col1,#T_0539236a_80cb_11eb_ae43_0242ac1c0002row2_col2,#T_0539236a_80cb_11eb_ae43_0242ac1c0002row2_col3{\n",
              "            color:  green;\n",
              "        }#T_0539236a_80cb_11eb_ae43_0242ac1c0002row0_col1,#T_0539236a_80cb_11eb_ae43_0242ac1c0002row0_col2,#T_0539236a_80cb_11eb_ae43_0242ac1c0002row1_col1,#T_0539236a_80cb_11eb_ae43_0242ac1c0002row2_col0{\n",
              "            color:  blue;\n",
              "        }</style><table id=\"T_0539236a_80cb_11eb_ae43_0242ac1c0002\" ><thead>    <tr>        <th class=\"blank level0\" ></th>        <th class=\"col_heading level0 col0\" >A</th>        <th class=\"col_heading level0 col1\" >B</th>        <th class=\"col_heading level0 col2\" >C</th>        <th class=\"col_heading level0 col3\" >D</th>    </tr></thead><tbody>\n",
              "                <tr>\n",
              "                        <th id=\"T_0539236a_80cb_11eb_ae43_0242ac1c0002level0_row0\" class=\"row_heading level0 row0\" >0</th>\n",
              "                        <td id=\"T_0539236a_80cb_11eb_ae43_0242ac1c0002row0_col0\" class=\"data row0 col0\" >-1.085631</td>\n",
              "                        <td id=\"T_0539236a_80cb_11eb_ae43_0242ac1c0002row0_col1\" class=\"data row0 col1\" >0.997345</td>\n",
              "                        <td id=\"T_0539236a_80cb_11eb_ae43_0242ac1c0002row0_col2\" class=\"data row0 col2\" >0.282978</td>\n",
              "                        <td id=\"T_0539236a_80cb_11eb_ae43_0242ac1c0002row0_col3\" class=\"data row0 col3\" >-1.506295</td>\n",
              "            </tr>\n",
              "            <tr>\n",
              "                        <th id=\"T_0539236a_80cb_11eb_ae43_0242ac1c0002level0_row1\" class=\"row_heading level0 row1\" >1</th>\n",
              "                        <td id=\"T_0539236a_80cb_11eb_ae43_0242ac1c0002row1_col0\" class=\"data row1 col0\" >-0.578600</td>\n",
              "                        <td id=\"T_0539236a_80cb_11eb_ae43_0242ac1c0002row1_col1\" class=\"data row1 col1\" >1.651437</td>\n",
              "                        <td id=\"T_0539236a_80cb_11eb_ae43_0242ac1c0002row1_col2\" class=\"data row1 col2\" >-2.426679</td>\n",
              "                        <td id=\"T_0539236a_80cb_11eb_ae43_0242ac1c0002row1_col3\" class=\"data row1 col3\" >-0.428913</td>\n",
              "            </tr>\n",
              "            <tr>\n",
              "                        <th id=\"T_0539236a_80cb_11eb_ae43_0242ac1c0002level0_row2\" class=\"row_heading level0 row2\" >2</th>\n",
              "                        <td id=\"T_0539236a_80cb_11eb_ae43_0242ac1c0002row2_col0\" class=\"data row2 col0\" >1.265936</td>\n",
              "                        <td id=\"T_0539236a_80cb_11eb_ae43_0242ac1c0002row2_col1\" class=\"data row2 col1\" >-0.866740</td>\n",
              "                        <td id=\"T_0539236a_80cb_11eb_ae43_0242ac1c0002row2_col2\" class=\"data row2 col2\" >-0.678886</td>\n",
              "                        <td id=\"T_0539236a_80cb_11eb_ae43_0242ac1c0002row2_col3\" class=\"data row2 col3\" >-0.094709</td>\n",
              "            </tr>\n",
              "    </tbody></table>"
            ],
            "text/plain": [
              "<pandas.io.formats.style.Styler at 0x7ff55aa0e3d0>"
            ]
          },
          "metadata": {
            "tags": []
          },
          "execution_count": 5
        }
      ]
    },
    {
      "cell_type": "code",
      "metadata": {
        "colab": {
          "base_uri": "https://localhost:8080/",
          "height": 103
        },
        "id": "oaFjCexsvHY2",
        "outputId": "82a0abf8-5258-4eb8-bcb1-e1e8dec702fd"
      },
      "source": [
        "# 2번 : 부분 적용\r\n",
        "# 판다스 데이터프레임 df 객체에 숫자가 음수인 경우 숫자를 빨강으로 하고 양수인 경우 파랑으로 하는 함수 color_np() 를 column A과 column C의 첫 번째와 세 번째 행에 적용하세요.\r\n",
        "import pandas as pd\r\n",
        "import numpy as np\r\n",
        "\r\n",
        "np.random.seed(123)\r\n",
        "df = pd.DataFrame(np.random.randn(3, 4), \r\n",
        "                  columns = [\"A\", \"B\", \"C\", \"D\"])\r\n",
        "\r\n",
        "def color_np(value):\r\n",
        "    if value < 0:\r\n",
        "        color = \"red\"\r\n",
        "    else:\r\n",
        "        color = \"blue\"\r\n",
        "    \r\n",
        "    return \"color: \" + color\r\n",
        "\r\n",
        "df.style.applymap(color_np,\r\n",
        "                  subset = pd.IndexSlice[[1, 2], [\"B\", \"D\"]])\r\n",
        "\r\n",
        "row_index = [0,2]\r\n",
        "col_index = ['A','C']\r\n",
        "df.style.applymap(color_np,\r\n",
        "                  subset = pd.IndexSlice[row_index, col_index])"
      ],
      "execution_count": 17,
      "outputs": [
        {
          "output_type": "execute_result",
          "data": {
            "text/html": [
              "<style  type=\"text/css\" >\n",
              "#T_86f92d96_80cb_11eb_ae43_0242ac1c0002row0_col0,#T_86f92d96_80cb_11eb_ae43_0242ac1c0002row2_col2{\n",
              "            color:  red;\n",
              "        }#T_86f92d96_80cb_11eb_ae43_0242ac1c0002row0_col2,#T_86f92d96_80cb_11eb_ae43_0242ac1c0002row2_col0{\n",
              "            color:  blue;\n",
              "        }</style><table id=\"T_86f92d96_80cb_11eb_ae43_0242ac1c0002\" ><thead>    <tr>        <th class=\"blank level0\" ></th>        <th class=\"col_heading level0 col0\" >A</th>        <th class=\"col_heading level0 col1\" >B</th>        <th class=\"col_heading level0 col2\" >C</th>        <th class=\"col_heading level0 col3\" >D</th>    </tr></thead><tbody>\n",
              "                <tr>\n",
              "                        <th id=\"T_86f92d96_80cb_11eb_ae43_0242ac1c0002level0_row0\" class=\"row_heading level0 row0\" >0</th>\n",
              "                        <td id=\"T_86f92d96_80cb_11eb_ae43_0242ac1c0002row0_col0\" class=\"data row0 col0\" >-1.085631</td>\n",
              "                        <td id=\"T_86f92d96_80cb_11eb_ae43_0242ac1c0002row0_col1\" class=\"data row0 col1\" >0.997345</td>\n",
              "                        <td id=\"T_86f92d96_80cb_11eb_ae43_0242ac1c0002row0_col2\" class=\"data row0 col2\" >0.282978</td>\n",
              "                        <td id=\"T_86f92d96_80cb_11eb_ae43_0242ac1c0002row0_col3\" class=\"data row0 col3\" >-1.506295</td>\n",
              "            </tr>\n",
              "            <tr>\n",
              "                        <th id=\"T_86f92d96_80cb_11eb_ae43_0242ac1c0002level0_row1\" class=\"row_heading level0 row1\" >1</th>\n",
              "                        <td id=\"T_86f92d96_80cb_11eb_ae43_0242ac1c0002row1_col0\" class=\"data row1 col0\" >-0.578600</td>\n",
              "                        <td id=\"T_86f92d96_80cb_11eb_ae43_0242ac1c0002row1_col1\" class=\"data row1 col1\" >1.651437</td>\n",
              "                        <td id=\"T_86f92d96_80cb_11eb_ae43_0242ac1c0002row1_col2\" class=\"data row1 col2\" >-2.426679</td>\n",
              "                        <td id=\"T_86f92d96_80cb_11eb_ae43_0242ac1c0002row1_col3\" class=\"data row1 col3\" >-0.428913</td>\n",
              "            </tr>\n",
              "            <tr>\n",
              "                        <th id=\"T_86f92d96_80cb_11eb_ae43_0242ac1c0002level0_row2\" class=\"row_heading level0 row2\" >2</th>\n",
              "                        <td id=\"T_86f92d96_80cb_11eb_ae43_0242ac1c0002row2_col0\" class=\"data row2 col0\" >1.265936</td>\n",
              "                        <td id=\"T_86f92d96_80cb_11eb_ae43_0242ac1c0002row2_col1\" class=\"data row2 col1\" >-0.866740</td>\n",
              "                        <td id=\"T_86f92d96_80cb_11eb_ae43_0242ac1c0002row2_col2\" class=\"data row2 col2\" >-0.678886</td>\n",
              "                        <td id=\"T_86f92d96_80cb_11eb_ae43_0242ac1c0002row2_col3\" class=\"data row2 col3\" >-0.094709</td>\n",
              "            </tr>\n",
              "    </tbody></table>"
            ],
            "text/plain": [
              "<pandas.io.formats.style.Styler at 0x7ff5568af7d0>"
            ]
          },
          "metadata": {
            "tags": []
          },
          "execution_count": 17
        }
      ]
    },
    {
      "cell_type": "code",
      "metadata": {
        "colab": {
          "base_uri": "https://localhost:8080/",
          "height": 103
        },
        "id": "ZxHj1XiivITv",
        "outputId": "0e918e0d-390b-4791-f5ea-586b376a5c69"
      },
      "source": [
        "# 3번 : 결측치 강조\r\n",
        "# 데이터프레임 내부의 값이 판다스 결측값을 포함하여 빈칸, '-', 'x' 와 같은 문자 또한 결측치로 간주하여 해당 셀의 색상이 #FFAACC 로 되도록 함수 na_fill_02 와 .applymap() 함수의 내부 코드를 수정해보세요.\r\n",
        "\r\n",
        "np.random.seed(456)\r\n",
        "df2 = pd.DataFrame(np.random.randn(3, 4), \r\n",
        "                   columns = [\"A\", \"B\", \"C\", \"D\"])\r\n",
        "df2.iloc[[0, 2], 1] = pd.NA\r\n",
        "df2.iloc[[0, 2], 3] = \"\"\r\n",
        "df2.iloc[1, 2] = \"-\"\r\n",
        "df2.iloc[2, 2] = \"x\"\r\n",
        "\r\n",
        "def na_fill_02(value):\r\n",
        "    if (pd.isna(value)) | (value == \"\") | (value ==\"-\") | (value == 'x'):\r\n",
        "        fill = \"pink\"\r\n",
        "    else:\r\n",
        "        fill = \"inherit\"\r\n",
        "    \r\n",
        "    return \"background-color: \" + fill\r\n",
        "\r\n",
        "df2.style.applymap(na_fill_02)"
      ],
      "execution_count": 30,
      "outputs": [
        {
          "output_type": "execute_result",
          "data": {
            "text/html": [
              "<style  type=\"text/css\" >\n",
              "#T_bcee10c8_80cc_11eb_ae43_0242ac1c0002row0_col0,#T_bcee10c8_80cc_11eb_ae43_0242ac1c0002row0_col2,#T_bcee10c8_80cc_11eb_ae43_0242ac1c0002row1_col0,#T_bcee10c8_80cc_11eb_ae43_0242ac1c0002row1_col1,#T_bcee10c8_80cc_11eb_ae43_0242ac1c0002row1_col3,#T_bcee10c8_80cc_11eb_ae43_0242ac1c0002row2_col0{\n",
              "            background-color:  inherit;\n",
              "        }#T_bcee10c8_80cc_11eb_ae43_0242ac1c0002row0_col1,#T_bcee10c8_80cc_11eb_ae43_0242ac1c0002row0_col3,#T_bcee10c8_80cc_11eb_ae43_0242ac1c0002row1_col2,#T_bcee10c8_80cc_11eb_ae43_0242ac1c0002row2_col1,#T_bcee10c8_80cc_11eb_ae43_0242ac1c0002row2_col2,#T_bcee10c8_80cc_11eb_ae43_0242ac1c0002row2_col3{\n",
              "            background-color:  pink;\n",
              "        }</style><table id=\"T_bcee10c8_80cc_11eb_ae43_0242ac1c0002\" ><thead>    <tr>        <th class=\"blank level0\" ></th>        <th class=\"col_heading level0 col0\" >A</th>        <th class=\"col_heading level0 col1\" >B</th>        <th class=\"col_heading level0 col2\" >C</th>        <th class=\"col_heading level0 col3\" >D</th>    </tr></thead><tbody>\n",
              "                <tr>\n",
              "                        <th id=\"T_bcee10c8_80cc_11eb_ae43_0242ac1c0002level0_row0\" class=\"row_heading level0 row0\" >0</th>\n",
              "                        <td id=\"T_bcee10c8_80cc_11eb_ae43_0242ac1c0002row0_col0\" class=\"data row0 col0\" >-0.668129</td>\n",
              "                        <td id=\"T_bcee10c8_80cc_11eb_ae43_0242ac1c0002row0_col1\" class=\"data row0 col1\" ><NA></td>\n",
              "                        <td id=\"T_bcee10c8_80cc_11eb_ae43_0242ac1c0002row0_col2\" class=\"data row0 col2\" >0.618576</td>\n",
              "                        <td id=\"T_bcee10c8_80cc_11eb_ae43_0242ac1c0002row0_col3\" class=\"data row0 col3\" ></td>\n",
              "            </tr>\n",
              "            <tr>\n",
              "                        <th id=\"T_bcee10c8_80cc_11eb_ae43_0242ac1c0002level0_row1\" class=\"row_heading level0 row1\" >1</th>\n",
              "                        <td id=\"T_bcee10c8_80cc_11eb_ae43_0242ac1c0002row1_col0\" class=\"data row1 col0\" >1.350509</td>\n",
              "                        <td id=\"T_bcee10c8_80cc_11eb_ae43_0242ac1c0002row1_col1\" class=\"data row1 col1\" >1.629589</td>\n",
              "                        <td id=\"T_bcee10c8_80cc_11eb_ae43_0242ac1c0002row1_col2\" class=\"data row1 col2\" >-</td>\n",
              "                        <td id=\"T_bcee10c8_80cc_11eb_ae43_0242ac1c0002row1_col3\" class=\"data row1 col3\" >0.449483</td>\n",
              "            </tr>\n",
              "            <tr>\n",
              "                        <th id=\"T_bcee10c8_80cc_11eb_ae43_0242ac1c0002level0_row2\" class=\"row_heading level0 row2\" >2</th>\n",
              "                        <td id=\"T_bcee10c8_80cc_11eb_ae43_0242ac1c0002row2_col0\" class=\"data row2 col0\" >-0.345811</td>\n",
              "                        <td id=\"T_bcee10c8_80cc_11eb_ae43_0242ac1c0002row2_col1\" class=\"data row2 col1\" ><NA></td>\n",
              "                        <td id=\"T_bcee10c8_80cc_11eb_ae43_0242ac1c0002row2_col2\" class=\"data row2 col2\" >x</td>\n",
              "                        <td id=\"T_bcee10c8_80cc_11eb_ae43_0242ac1c0002row2_col3\" class=\"data row2 col3\" ></td>\n",
              "            </tr>\n",
              "    </tbody></table>"
            ],
            "text/plain": [
              "<pandas.io.formats.style.Styler at 0x7ff556764990>"
            ]
          },
          "metadata": {
            "tags": []
          },
          "execution_count": 30
        }
      ]
    },
    {
      "cell_type": "code",
      "metadata": {
        "colab": {
          "base_uri": "https://localhost:8080/",
          "height": 112
        },
        "id": "nXvwEQMHxEg-",
        "outputId": "fa40434f-342f-49bf-b775-07d46d3c1285"
      },
      "source": [
        "# 4번 : 변수명 강조\r\n",
        "# 데이터프레임 변수 부분의 배경 색상이 #EEEEEE가 되도록 styles 객체에 입력되는 값을 변경하세요.\r\n",
        "import pandas as pd\r\n",
        "import numpy as np\r\n",
        "\r\n",
        "np.random.seed(123)\r\n",
        "df = pd.DataFrame(np.random.randn(3, 4), \r\n",
        "                  columns = [\"A\", \"B\", \"C\", \"D\"])\r\n",
        "\r\n",
        "styles = [dict(selector=\"tr:hover\",   props=[(\"background-color\", \"%s\" % \"#EEEEEE\")]),\r\n",
        "          dict(selector = \"thead th\", props = [(\"font-size\", \"150%\"), \r\n",
        "                                               (\"text-align\", \"center\")]\r\n",
        "\t\t\t\t\t)]\r\n",
        "\r\n",
        "df.style.set_table_styles(styles)"
      ],
      "execution_count": 37,
      "outputs": [
        {
          "output_type": "execute_result",
          "data": {
            "text/html": [
              "<style  type=\"text/css\" >\n",
              "    #T_447c3574_80cd_11eb_ae43_0242ac1c0002 tr:hover {\n",
              "          background-color: #EEEEEE;\n",
              "    }    #T_447c3574_80cd_11eb_ae43_0242ac1c0002 thead th {\n",
              "          font-size: 150%;\n",
              "          text-align: center;\n",
              "    }</style><table id=\"T_447c3574_80cd_11eb_ae43_0242ac1c0002\" ><thead>    <tr>        <th class=\"blank level0\" ></th>        <th class=\"col_heading level0 col0\" >A</th>        <th class=\"col_heading level0 col1\" >B</th>        <th class=\"col_heading level0 col2\" >C</th>        <th class=\"col_heading level0 col3\" >D</th>    </tr></thead><tbody>\n",
              "                <tr>\n",
              "                        <th id=\"T_447c3574_80cd_11eb_ae43_0242ac1c0002level0_row0\" class=\"row_heading level0 row0\" >0</th>\n",
              "                        <td id=\"T_447c3574_80cd_11eb_ae43_0242ac1c0002row0_col0\" class=\"data row0 col0\" >-1.085631</td>\n",
              "                        <td id=\"T_447c3574_80cd_11eb_ae43_0242ac1c0002row0_col1\" class=\"data row0 col1\" >0.997345</td>\n",
              "                        <td id=\"T_447c3574_80cd_11eb_ae43_0242ac1c0002row0_col2\" class=\"data row0 col2\" >0.282978</td>\n",
              "                        <td id=\"T_447c3574_80cd_11eb_ae43_0242ac1c0002row0_col3\" class=\"data row0 col3\" >-1.506295</td>\n",
              "            </tr>\n",
              "            <tr>\n",
              "                        <th id=\"T_447c3574_80cd_11eb_ae43_0242ac1c0002level0_row1\" class=\"row_heading level0 row1\" >1</th>\n",
              "                        <td id=\"T_447c3574_80cd_11eb_ae43_0242ac1c0002row1_col0\" class=\"data row1 col0\" >-0.578600</td>\n",
              "                        <td id=\"T_447c3574_80cd_11eb_ae43_0242ac1c0002row1_col1\" class=\"data row1 col1\" >1.651437</td>\n",
              "                        <td id=\"T_447c3574_80cd_11eb_ae43_0242ac1c0002row1_col2\" class=\"data row1 col2\" >-2.426679</td>\n",
              "                        <td id=\"T_447c3574_80cd_11eb_ae43_0242ac1c0002row1_col3\" class=\"data row1 col3\" >-0.428913</td>\n",
              "            </tr>\n",
              "            <tr>\n",
              "                        <th id=\"T_447c3574_80cd_11eb_ae43_0242ac1c0002level0_row2\" class=\"row_heading level0 row2\" >2</th>\n",
              "                        <td id=\"T_447c3574_80cd_11eb_ae43_0242ac1c0002row2_col0\" class=\"data row2 col0\" >1.265936</td>\n",
              "                        <td id=\"T_447c3574_80cd_11eb_ae43_0242ac1c0002row2_col1\" class=\"data row2 col1\" >-0.866740</td>\n",
              "                        <td id=\"T_447c3574_80cd_11eb_ae43_0242ac1c0002row2_col2\" class=\"data row2 col2\" >-0.678886</td>\n",
              "                        <td id=\"T_447c3574_80cd_11eb_ae43_0242ac1c0002row2_col3\" class=\"data row2 col3\" >-0.094709</td>\n",
              "            </tr>\n",
              "    </tbody></table>"
            ],
            "text/plain": [
              "<pandas.io.formats.style.Styler at 0x7ff5566cb290>"
            ]
          },
          "metadata": {
            "tags": []
          },
          "execution_count": 37
        }
      ]
    },
    {
      "cell_type": "code",
      "metadata": {
        "colab": {
          "base_uri": "https://localhost:8080/",
          "height": 103
        },
        "id": "ox_2TmUAzXeV",
        "outputId": "9efe8613-6120-460d-f2d0-2e27ad9afeaa"
      },
      "source": [
        "# 5번 : 표기법 변경\r\n",
        "#데이터프레임 A와 B 변수의 값을 백분률로 변환하고 반올림하여 소수점 둘 째 자리까지 표기하세요.\r\n",
        "#그리고 C 변수의 값은 세 자리 마다 쉼표를 표기하고 뒤에 \"원\"을 붙이세요.\r\n",
        "#마지막으로 D 변수의 값은 세 자리 마다 쉼표를 표기하고 뒤에 \"$\"를 붙이세요.\r\n",
        "import pandas as pd\r\n",
        "import numpy as np\r\n",
        "\r\n",
        "np.random.seed(123)\r\n",
        "df1 = pd.DataFrame(np.random.uniform(size = (3, 2)).round(4),\r\n",
        "                   columns = [\"A\", \"B\"])\r\n",
        "df2 = pd.DataFrame(np.random.uniform(low = 2000, high = 20000, size = (3, 2)).astype(\"int\"),\r\n",
        "                   columns = [\"C\", \"D\"])\r\n",
        "df = pd.concat([df1, df2], axis = 1)\r\n",
        "\r\n",
        "style_dict = dict()\r\n",
        "df.style.format(style_dict).format({'A':\"{:.2%}\",\r\n",
        "                                    'B':\"{:.2%}\",\r\n",
        "                                    'C':\"{:,}원\",\r\n",
        "                                    'D':\"{:,}$\"})"
      ],
      "execution_count": 61,
      "outputs": [
        {
          "output_type": "execute_result",
          "data": {
            "text/html": [
              "<style  type=\"text/css\" >\n",
              "</style><table id=\"T_883d69ca_80cf_11eb_ae43_0242ac1c0002\" ><thead>    <tr>        <th class=\"blank level0\" ></th>        <th class=\"col_heading level0 col0\" >A</th>        <th class=\"col_heading level0 col1\" >B</th>        <th class=\"col_heading level0 col2\" >C</th>        <th class=\"col_heading level0 col3\" >D</th>    </tr></thead><tbody>\n",
              "                <tr>\n",
              "                        <th id=\"T_883d69ca_80cf_11eb_ae43_0242ac1c0002level0_row0\" class=\"row_heading level0 row0\" >0</th>\n",
              "                        <td id=\"T_883d69ca_80cf_11eb_ae43_0242ac1c0002row0_col0\" class=\"data row0 col0\" >69.65%</td>\n",
              "                        <td id=\"T_883d69ca_80cf_11eb_ae43_0242ac1c0002row0_col1\" class=\"data row0 col1\" >28.61%</td>\n",
              "                        <td id=\"T_883d69ca_80cf_11eb_ae43_0242ac1c0002row0_col2\" class=\"data row0 col2\" >19,653원</td>\n",
              "                        <td id=\"T_883d69ca_80cf_11eb_ae43_0242ac1c0002row0_col3\" class=\"data row0 col3\" >14,326$</td>\n",
              "            </tr>\n",
              "            <tr>\n",
              "                        <th id=\"T_883d69ca_80cf_11eb_ae43_0242ac1c0002level0_row1\" class=\"row_heading level0 row1\" >1</th>\n",
              "                        <td id=\"T_883d69ca_80cf_11eb_ae43_0242ac1c0002row1_col0\" class=\"data row1 col0\" >22.69%</td>\n",
              "                        <td id=\"T_883d69ca_80cf_11eb_ae43_0242ac1c0002row1_col1\" class=\"data row1 col1\" >55.13%</td>\n",
              "                        <td id=\"T_883d69ca_80cf_11eb_ae43_0242ac1c0002row1_col2\" class=\"data row1 col2\" >10,656원</td>\n",
              "                        <td id=\"T_883d69ca_80cf_11eb_ae43_0242ac1c0002row1_col3\" class=\"data row1 col3\" >9,058$</td>\n",
              "            </tr>\n",
              "            <tr>\n",
              "                        <th id=\"T_883d69ca_80cf_11eb_ae43_0242ac1c0002level0_row2\" class=\"row_heading level0 row2\" >2</th>\n",
              "                        <td id=\"T_883d69ca_80cf_11eb_ae43_0242ac1c0002row2_col0\" class=\"data row2 col0\" >71.95%</td>\n",
              "                        <td id=\"T_883d69ca_80cf_11eb_ae43_0242ac1c0002row2_col1\" class=\"data row2 col1\" >42.31%</td>\n",
              "                        <td id=\"T_883d69ca_80cf_11eb_ae43_0242ac1c0002row2_col2\" class=\"data row2 col2\" >8,177원</td>\n",
              "                        <td id=\"T_883d69ca_80cf_11eb_ae43_0242ac1c0002row2_col3\" class=\"data row2 col3\" >15,122$</td>\n",
              "            </tr>\n",
              "    </tbody></table>"
            ],
            "text/plain": [
              "<pandas.io.formats.style.Styler at 0x7ff5567d5dd0>"
            ]
          },
          "metadata": {
            "tags": []
          },
          "execution_count": 61
        }
      ]
    },
    {
      "cell_type": "code",
      "metadata": {
        "colab": {
          "base_uri": "https://localhost:8080/",
          "height": 103
        },
        "id": "7VV_yWHi2BI0",
        "outputId": "875433d8-f55a-4681-d58f-1880f235168a"
      },
      "source": [
        "# 6번 : 다중 적용\r\n",
        "# 데이터프레임 내부 값의 결측치를 .highlight_null() 메서드를 사용하여 강조하고,\r\n",
        "# 사용자 정의 함수 highlight_max_green()을 새로 만들어 행 기준 최대값이 위치한 셀의 배경색이 초록색('green') 이 되도록 하세요.\r\n",
        "\r\n",
        "import pandas as pd\r\n",
        "import numpy as np\r\n",
        "\r\n",
        "np.random.seed(123)\r\n",
        "df1 = pd.DataFrame(np.random.uniform(size = (3, 2)).round(4),\r\n",
        "                   columns = [\"A\", \"B\"])\r\n",
        "df2 = pd.DataFrame(np.random.uniform(low = 2000, high = 20000, size = (3, 2)).astype(\"int\"),\r\n",
        "                   columns = [\"C\", \"D\"])\r\n",
        "df = pd.concat([df1, df2], axis = 1)\r\n",
        "df.iloc[0, 2] = pd.NA\r\n",
        "\r\n",
        "def highlight_max_green(s):\r\n",
        "    is_max = s == s.max()\r\n",
        "    return ['background-color: green' if v else '' for v in is_max]\r\n",
        "\r\n",
        "(df.style.apply(highlight_max_green)\r\n",
        "        .highlight_null(\"red\"))\r\n"
      ],
      "execution_count": 66,
      "outputs": [
        {
          "output_type": "execute_result",
          "data": {
            "text/html": [
              "<style  type=\"text/css\" >\n",
              "#T_983a34b0_80d0_11eb_ae43_0242ac1c0002row0_col2{\n",
              "            background-color:  red;\n",
              "        }#T_983a34b0_80d0_11eb_ae43_0242ac1c0002row1_col1,#T_983a34b0_80d0_11eb_ae43_0242ac1c0002row1_col2,#T_983a34b0_80d0_11eb_ae43_0242ac1c0002row2_col0,#T_983a34b0_80d0_11eb_ae43_0242ac1c0002row2_col3{\n",
              "            background-color:  green;\n",
              "        }</style><table id=\"T_983a34b0_80d0_11eb_ae43_0242ac1c0002\" ><thead>    <tr>        <th class=\"blank level0\" ></th>        <th class=\"col_heading level0 col0\" >A</th>        <th class=\"col_heading level0 col1\" >B</th>        <th class=\"col_heading level0 col2\" >C</th>        <th class=\"col_heading level0 col3\" >D</th>    </tr></thead><tbody>\n",
              "                <tr>\n",
              "                        <th id=\"T_983a34b0_80d0_11eb_ae43_0242ac1c0002level0_row0\" class=\"row_heading level0 row0\" >0</th>\n",
              "                        <td id=\"T_983a34b0_80d0_11eb_ae43_0242ac1c0002row0_col0\" class=\"data row0 col0\" >0.696500</td>\n",
              "                        <td id=\"T_983a34b0_80d0_11eb_ae43_0242ac1c0002row0_col1\" class=\"data row0 col1\" >0.286100</td>\n",
              "                        <td id=\"T_983a34b0_80d0_11eb_ae43_0242ac1c0002row0_col2\" class=\"data row0 col2\" ><NA></td>\n",
              "                        <td id=\"T_983a34b0_80d0_11eb_ae43_0242ac1c0002row0_col3\" class=\"data row0 col3\" >14326</td>\n",
              "            </tr>\n",
              "            <tr>\n",
              "                        <th id=\"T_983a34b0_80d0_11eb_ae43_0242ac1c0002level0_row1\" class=\"row_heading level0 row1\" >1</th>\n",
              "                        <td id=\"T_983a34b0_80d0_11eb_ae43_0242ac1c0002row1_col0\" class=\"data row1 col0\" >0.226900</td>\n",
              "                        <td id=\"T_983a34b0_80d0_11eb_ae43_0242ac1c0002row1_col1\" class=\"data row1 col1\" >0.551300</td>\n",
              "                        <td id=\"T_983a34b0_80d0_11eb_ae43_0242ac1c0002row1_col2\" class=\"data row1 col2\" >10656</td>\n",
              "                        <td id=\"T_983a34b0_80d0_11eb_ae43_0242ac1c0002row1_col3\" class=\"data row1 col3\" >9058</td>\n",
              "            </tr>\n",
              "            <tr>\n",
              "                        <th id=\"T_983a34b0_80d0_11eb_ae43_0242ac1c0002level0_row2\" class=\"row_heading level0 row2\" >2</th>\n",
              "                        <td id=\"T_983a34b0_80d0_11eb_ae43_0242ac1c0002row2_col0\" class=\"data row2 col0\" >0.719500</td>\n",
              "                        <td id=\"T_983a34b0_80d0_11eb_ae43_0242ac1c0002row2_col1\" class=\"data row2 col1\" >0.423100</td>\n",
              "                        <td id=\"T_983a34b0_80d0_11eb_ae43_0242ac1c0002row2_col2\" class=\"data row2 col2\" >8177</td>\n",
              "                        <td id=\"T_983a34b0_80d0_11eb_ae43_0242ac1c0002row2_col3\" class=\"data row2 col3\" >15122</td>\n",
              "            </tr>\n",
              "    </tbody></table>"
            ],
            "text/plain": [
              "<pandas.io.formats.style.Styler at 0x7ff55aa59210>"
            ]
          },
          "metadata": {
            "tags": []
          },
          "execution_count": 66
        }
      ]
    },
    {
      "cell_type": "code",
      "metadata": {
        "colab": {
          "base_uri": "https://localhost:8080/",
          "height": 152
        },
        "id": "WEUUYMXf5Eo-",
        "outputId": "804fc72d-4f38-4c5e-83f6-4474c776e7eb"
      },
      "source": [
        "# 7번 : 제목 및 캡션\r\n",
        "# 데이터프레임의 제목을 \"Title\"로 지정하세요. 제목의 추가 설정으로 font-weight를 700, font-size는 40px, text-align은 가운데로 지정해주세요.\r\n",
        "\r\n",
        "import pandas as pd\r\n",
        "import numpy as np\r\n",
        "\r\n",
        "np.random.seed(123)\r\n",
        "df = pd.DataFrame(np.random.randn(3, 4), \r\n",
        "                  columns = [\"A\", \"B\", \"C\", \"D\"])\r\n",
        "\r\n",
        "caption_props = [(\"caption-side\", \"top\"),\r\n",
        "                 (\"color\", \"#3551FB\"),\r\n",
        "                 (\"font-weight\", \"700\"),\r\n",
        "\t\t\t\t (\"font-size\", \"40px\"),\r\n",
        "                 (\"text-align\", \"center\")\t\t\t\r\n",
        "\t\t\t\t\t\t\t\t]\r\n",
        "\r\n",
        "df.style.set_caption(\"Title\")\\\r\n",
        "    .set_table_styles([dict(selector = \"caption\", \r\n",
        "                            props = caption_props)])"
      ],
      "execution_count": 67,
      "outputs": [
        {
          "output_type": "execute_result",
          "data": {
            "text/html": [
              "<style  type=\"text/css\" >\n",
              "    #T_f854885a_80d0_11eb_ae43_0242ac1c0002 caption {\n",
              "          caption-side: top;\n",
              "          color: #3551FB;\n",
              "          font-weight: 700;\n",
              "          font-size: 40px;\n",
              "          text-align: center;\n",
              "    }</style><table id=\"T_f854885a_80d0_11eb_ae43_0242ac1c0002\" ><caption>Title</caption><thead>    <tr>        <th class=\"blank level0\" ></th>        <th class=\"col_heading level0 col0\" >A</th>        <th class=\"col_heading level0 col1\" >B</th>        <th class=\"col_heading level0 col2\" >C</th>        <th class=\"col_heading level0 col3\" >D</th>    </tr></thead><tbody>\n",
              "                <tr>\n",
              "                        <th id=\"T_f854885a_80d0_11eb_ae43_0242ac1c0002level0_row0\" class=\"row_heading level0 row0\" >0</th>\n",
              "                        <td id=\"T_f854885a_80d0_11eb_ae43_0242ac1c0002row0_col0\" class=\"data row0 col0\" >-1.085631</td>\n",
              "                        <td id=\"T_f854885a_80d0_11eb_ae43_0242ac1c0002row0_col1\" class=\"data row0 col1\" >0.997345</td>\n",
              "                        <td id=\"T_f854885a_80d0_11eb_ae43_0242ac1c0002row0_col2\" class=\"data row0 col2\" >0.282978</td>\n",
              "                        <td id=\"T_f854885a_80d0_11eb_ae43_0242ac1c0002row0_col3\" class=\"data row0 col3\" >-1.506295</td>\n",
              "            </tr>\n",
              "            <tr>\n",
              "                        <th id=\"T_f854885a_80d0_11eb_ae43_0242ac1c0002level0_row1\" class=\"row_heading level0 row1\" >1</th>\n",
              "                        <td id=\"T_f854885a_80d0_11eb_ae43_0242ac1c0002row1_col0\" class=\"data row1 col0\" >-0.578600</td>\n",
              "                        <td id=\"T_f854885a_80d0_11eb_ae43_0242ac1c0002row1_col1\" class=\"data row1 col1\" >1.651437</td>\n",
              "                        <td id=\"T_f854885a_80d0_11eb_ae43_0242ac1c0002row1_col2\" class=\"data row1 col2\" >-2.426679</td>\n",
              "                        <td id=\"T_f854885a_80d0_11eb_ae43_0242ac1c0002row1_col3\" class=\"data row1 col3\" >-0.428913</td>\n",
              "            </tr>\n",
              "            <tr>\n",
              "                        <th id=\"T_f854885a_80d0_11eb_ae43_0242ac1c0002level0_row2\" class=\"row_heading level0 row2\" >2</th>\n",
              "                        <td id=\"T_f854885a_80d0_11eb_ae43_0242ac1c0002row2_col0\" class=\"data row2 col0\" >1.265936</td>\n",
              "                        <td id=\"T_f854885a_80d0_11eb_ae43_0242ac1c0002row2_col1\" class=\"data row2 col1\" >-0.866740</td>\n",
              "                        <td id=\"T_f854885a_80d0_11eb_ae43_0242ac1c0002row2_col2\" class=\"data row2 col2\" >-0.678886</td>\n",
              "                        <td id=\"T_f854885a_80d0_11eb_ae43_0242ac1c0002row2_col3\" class=\"data row2 col3\" >-0.094709</td>\n",
              "            </tr>\n",
              "    </tbody></table>"
            ],
            "text/plain": [
              "<pandas.io.formats.style.Styler at 0x7ff5566ddd50>"
            ]
          },
          "metadata": {
            "tags": []
          },
          "execution_count": 67
        }
      ]
    }
  ]
}