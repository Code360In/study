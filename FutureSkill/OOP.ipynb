{
  "nbformat": 4,
  "nbformat_minor": 0,
  "metadata": {
    "colab": {
      "name": "OOP.ipynb",
      "provenance": []
    },
    "kernelspec": {
      "name": "python3",
      "display_name": "Python 3"
    },
    "language_info": {
      "name": "python"
    }
  },
  "cells": [
    {
      "cell_type": "code",
      "metadata": {
        "id": "9XW2hf2iYfB1"
      },
      "source": [
        "# # 객체 지향 프로그래밍(Object-Oriented Programming) - OOP\n",
        "\n",
        "* OOP는 프로그래밍의 설계 패러다임 중 하나로, 현실 세계를 프로그램 설계에 반영한다는 개념을 기반으로 접근하는 방법\n",
        "\n",
        "* 프로그램을 여러 개의 독립된 객체들과 그 객체들 간의 상호작용으로 파악하는 프로그래밍 접근법이다.\n",
        "\n",
        "* 장점\n",
        "\n",
        "- 코드 재사용 용이\n",
        "\n",
        "- 유지 보수 쉬움\n",
        "\n",
        "- 클래스 단위로 모듈화시켜 개발할 수 있어서 업무 분담이 가능\n",
        "\n",
        "* 단점\n",
        "\n",
        "- 설계 시 많은 노력과 시간\n",
        "\n",
        "- 처리 속도가 느림\n",
        "\n",
        "\n",
        "컴퓨터 프로그램을 객체들의 모임으로 파악하는 것.\n",
        "객체란 어떤 속상이나 값, 함수(파이썬에서는 method)\n",
        "파이썬에서는 클래스라는 객체 단위를 프로그래밍 함으로써 효과적으로 객체를 관리한다\n",
        "그래서 사실 파이썬에서는 모든 것(list, tuple을 포함한 모든 객채)이 클래스이다\n",
        "클래스를 기반으로 만들어직 실체를 instance라 한다\n",
        "\n"
      ],
      "execution_count": null,
      "outputs": []
    },
    {
      "cell_type": "markdown",
      "metadata": {
        "id": "_eUiBBDGYqV8"
      },
      "source": [
        "OOP는 우리가 원하는대로 메모리 상의 객체의 형태를 지정할 수 있는 프로그래밍 방법론입니다.\n",
        "\n",
        "Object 를 감싸고 있는 Class를 선언해 Object의 속성(함수도 포함)들을 감싸주면 그 Class를 통해 사용하게 될 변수가 식별하고 있는 메모리공간에 메모리주소를 통해 전달해주는 꼴입니다.\n",
        "\n",
        "Procedural programming is about writing procedures or functions that perform operations on the data, while object-oriented programming is about creating objects that contain both data and functions.\n",
        "\n",
        "절차적 프로그래밍은 데이터에 수행할 절차(procedures)또는 함수에 대해서 작성하는 프로그래밍인 반면, 객체지향 프로그래밍은 데이터와 함수를 모두 포함하는 object(객체)들을 만들어내는 것에 관한 프로그래밍입니다.\n",
        "\n",
        "Object-oriented programming has several advantages over procedural programming:\n",
        "\n",
        "객체지향 프로그래밍은 절차적 프로그래밍에 비해 다음과 같은 이점들이 있습니다.\n",
        "\n",
        "OOP is faster and easier to execute\n",
        "\n",
        "실행하기에 빠르고 쉽다\n",
        "\n",
        "OOP provides a clear structure for the programs\n",
        "\n",
        "프로그램에 명확한 구조를 제공한다.\n",
        "\n",
        "OOP helps to keep the C++ code DRY \"Don't Repeat Yourself\", and makes the code easier to maintain, modify and debug\n",
        "\n",
        "같은 일을 반복하는 걸 막아주고 코드를 유지, 수정, 디버깅 하기 쉽게 해준다.\n",
        "\n",
        "OOP makes it possible to create full reusable applications with less code and shorter development time\n",
        "\n",
        "적은 코드와 짧은 개발 시간으로도 완전히 재사용가능하게 해준다. (완전히 재사용 가능한 applications를 만들게 해준다.)\n",
        "\n"
      ]
    },
    {
      "cell_type": "markdown",
      "metadata": {
        "id": "QJSH6eUTZ0Si"
      },
      "source": [
        "# 2번 : python과 OOP"
      ]
    },
    {
      "cell_type": "markdown",
      "metadata": {
        "id": "QrdCrZH4Z2vR"
      },
      "source": [
        "파이썬 객체 지향 프로그래밍 패러다임을 따르고 있음\n",
        "- 클래스와 인스턴스\n",
        "    * 추상화 \n",
        "        * 공통 속성이나 기능을 묶어 하나의 이름을 붙이는 것\n",
        "        (ex.클래스를 정의하는 것)\n",
        "    * 상속,재사용\n",
        "        * 이미 작성된 클래스를 이어 받아서 새로운 클래스를 생성하는 기법\n",
        "        * 기능을 수정해야 할 경우 상속받은 자식클래스에서 수정하여 사용가능\n",
        "    * 캡슐화 \n",
        "        * 관련된 데이터와 알고리즘이 하나의 묶음으로 정리 된 것\n",
        "        * 캡슐화를 통해 재사용 용이이썬 객체 지향 프로그래밍 패러다임을 따르고 있음\n",
        "        * 메소드 - 메세지에 따라 실행시킬 프로시저로서 객체지향 언어에서 사용되는 것\n",
        "                                    \n",
        "    * 다형성\n",
        "        * 하나의 이름으로 많은 상황에 대처하는 기법"
      ]
    },
    {
      "cell_type": "markdown",
      "metadata": {
        "id": "Z7ubHkL8bEIr"
      },
      "source": [
        "python이 OOP여서 가지는 특징을 3가지 이상 나열\n",
        "1. 캡슐화(Encapsulation)\n",
        "캡슐화는 객체의 데이터를 외부에서 직접 접근하지 못하게 막고, 함수를 통해서만 조작이 가능하게 하는 작업이다.\n",
        "\n",
        "2. 추상화(Abstraction)\n",
        "추상화는 객체들이 가진 공통의 특성들을 파악하고 불필요한 특성들을 제거하는 과정을 말한다. 객체들이 가진 동작들을 기준으로 이용자들이 동작만 쉽게 구동할 수 있도록 한다. 추상화 과정을 통해 이용자들은 프로그래머가 만든 객체를 더 쉽게 사용할 수 있게 된다.\n",
        "\n",
        "추상화를 할 때 주의할 점은 속성 위주가 아닌 동작 위주로 정의하는 작업을 하는 것이다. 객체의 동작에 연관이 되지 않는 속성들은 결국은 불필요하다. 따라서 불필요한 속성들을 걸러내기 위해 동작을 먼저 정의하고 동작에 필요한 속성들을 정리하는 것이 좋다.\n",
        "\n",
        "3. 다형성\n",
        "- 다양한 형태로 나타날 수 있는 특징\n",
        "\n",
        "- 객체 지향 프로그래밍은 하나의 클래스 내부에 같은 이름의 행위를 여러개 정의하거나 상위 클래스의 행위를 하위 클래스에서 재정의하여 사용할 수 있기 때문에 바로 다형성이라는 특징을 갖게 됩니다.\n",
        "\n",
        "- 어떤 한 요소에 여러 개념을 넣어 놓는 것\n",
        "\n",
        "4. 상속\n",
        "부모객체의 속성/기능을 그대로 이어받는 하위객체를 제작할 수 있는데 '분류도 관점'으로 이해해야한다.\n",
        "\n",
        "하위 객체는 필요하다면 물려받은 것 외에 속성을 extends(혹은 재정의=커스터마이징) 할수 있다.\n",
        "\n",
        "\n",
        "\n",
        "상속과 다형성의 관계\n",
        "\n",
        "부모클래스의 기본적 속성과 기능을 가지고 오는 상속을 통해서, 여러 형태를 만들어낼 수 있는데 이것이 '다형성'이다."
      ]
    },
    {
      "cell_type": "code",
      "metadata": {
        "colab": {
          "base_uri": "https://localhost:8080/"
        },
        "id": "mOzYhaGha69z",
        "outputId": "45c6a96e-a75d-422f-e75e-a2ba92bf701c"
      },
      "source": [
        "# 3번 : python class\n",
        "class Notebook: \n",
        "    def __init__(self, manufacturer, model, memory1, memory2):\n",
        "        self.manufacturer = manufacturer\n",
        "        self.model = model\n",
        "        self.memory1 = memory1\n",
        "        self.memory2 = memory2\n",
        "\n",
        "\n",
        "nb = Notebook(\"Apple\", \"MacBook Pro\", 16, 512)\n",
        "print(\"---- Notebook Information ----\")\n",
        "print(f\"Manufacturer : {nb.manufacturer}\")\n",
        "print(f\"Model : {nb.model}\")\n",
        "print(f\"RAM : {nb.memory1}\")\n",
        "print(f\"SSD : {nb.memory2}\")"
      ],
      "execution_count": 4,
      "outputs": [
        {
          "output_type": "stream",
          "text": [
            "---- Notebook Information ----\n",
            "Manufacturer : Apple\n",
            "Model : MacBook Pro\n",
            "RAM : 16\n",
            "SSD : 512\n"
          ],
          "name": "stdout"
        }
      ]
    },
    {
      "cell_type": "code",
      "metadata": {
        "colab": {
          "base_uri": "https://localhost:8080/"
        },
        "id": "2eItipgEQeBz",
        "outputId": "4c5f3d26-1af1-43c0-bbc2-7913b0448292"
      },
      "source": [
        "class Notebook: \n",
        "    def __init__(self, manufacturer, model, memory1, memory2):\n",
        "        self.manufacturer = manufacturer\n",
        "        self.model = model\n",
        "        self.memory1 = memory1\n",
        "        self.memory2 = memory2\n",
        "\n",
        "\n",
        "nb = Notebook(\"Apple\", \"MacBook Pro\", 16, 512)\n",
        "print(\"---- Notebook Information ----\")\n",
        "print(f\"Manufacturer : {nb.manufacturer}\")\n",
        "print(f\"Model : {nb.model}\")\n",
        "print(f\"RAM : {nb.memory1}\")\n",
        "print(f\"SSD : {nb.memory2}\")"
      ],
      "execution_count": 3,
      "outputs": [
        {
          "output_type": "stream",
          "text": [
            "---- Notebook Information ----\n",
            "Manufacturer : Apple\n",
            "Model : MacBook Pro\n",
            "RAM : 16\n",
            "SSD : 512\n"
          ],
          "name": "stdout"
        }
      ]
    },
    {
      "cell_type": "code",
      "metadata": {
        "colab": {
          "base_uri": "https://localhost:8080/"
        },
        "id": "zrvFegdlQi78",
        "outputId": "6ca623c2-9d6d-4323-e3db-3bcccc9975ff"
      },
      "source": [
        "# 4번 : 운영체제 확인하기\n",
        "\n",
        "UNIX = set([\"macOS X\", \"CentOS\", \"Ubuntu\", \"iOS\", \"Android\", \"webOS\"]) # 일부만 예제로 가져왔습니다.\n",
        "\n",
        "class Notebook:\n",
        "    def __init__(self, manufacturer, model, memory1, memory2, os):\n",
        "        self.manufacturer = manufacturer\n",
        "        self.model = model\n",
        "        self.memory1 = memory1\n",
        "        self.memory2 = memory2\n",
        "        self.os = os\n",
        "\n",
        "    def is_UNIX(self):\n",
        "        return self.os in UNIX\n",
        "\t\t# os가 UNIX에 포함되는지 안되는지 판단하는 함수.\n",
        "\t\t\t\t\n",
        "\n",
        "nb = Notebook(\"Apple\", \"MacBook Pro\", 16, 512, \"macOS X\")\n",
        "nb2 = Notebook(\"Dell\", \"Dell XPS\", 16, 1024, \"Windows 10\")\n",
        "\n",
        "# nb가 UNIX인지 아닌지 확인하는 코드\n",
        "print(nb.is_UNIX())\n",
        "# nb2가 UNIX인지 아닌지 확인하는 코드\n",
        "print(nb2.is_UNIX())"
      ],
      "execution_count": 18,
      "outputs": [
        {
          "output_type": "stream",
          "text": [
            "True\n",
            "None\n",
            "False\n",
            "None\n"
          ],
          "name": "stdout"
        }
      ]
    },
    {
      "cell_type": "code",
      "metadata": {
        "colab": {
          "base_uri": "https://localhost:8080/"
        },
        "id": "A6dUktPqRn1o",
        "outputId": "e49d3c48-18c5-4b1d-812e-dbea2b80cbff"
      },
      "source": [
        "UNIX = set([\"macOS X\", \"CentOS\", \"Ubuntu\", \"iOS\", \"Android\", \"webOS\"])\n",
        "\n",
        "class Notebook:\n",
        "  def __init__(self, manufacturer, model, memory1, memory2, os):\n",
        "    self.manufacturer = manufacturer\n",
        "    self.model = model\n",
        "    self.memory1 = memory1\n",
        "    self.memory2 = memory2\n",
        "    self.os = os\n",
        "\n",
        "  def is_UNIX(self):\n",
        "    return self.os in UNIX\n",
        "\n",
        "nb = Notebook(\"Apple\", \"MacBook Pro\", 16, 512, \"macOS X\")\n",
        "nb2 = Notebook(\"Dell\", \"Dell XPS\", 16, 1024, \"Windows 10\")\n",
        "\n",
        "print(nb.is_UNIX())\n",
        "print(nb2.is_UNIX())"
      ],
      "execution_count": 15,
      "outputs": [
        {
          "output_type": "stream",
          "text": [
            "True\n",
            "False\n"
          ],
          "name": "stdout"
        }
      ]
    },
    {
      "cell_type": "code",
      "metadata": {
        "colab": {
          "base_uri": "https://localhost:8080/"
        },
        "id": "Na967e1iTgxi",
        "outputId": "c0002b14-328b-4424-b007-633a0265b236"
      },
      "source": [
        "# 5번 : 모델명 확인하기\n",
        "UNIX = set([\"macOS X\", \"CentOS\", \"Ubuntu\", \"iOS\", \"Android\", \"webOS\"])\n",
        "\n",
        "class Notebook:\n",
        "    def __init__(self, manufacturer, model, memory1, memory2, os):\n",
        "        self.manufacturer = manufacturer\n",
        "        self.model = model\n",
        "        self.memory1 = memory1\n",
        "        self.memory2 = memory2\n",
        "        self.os = os\n",
        "        \n",
        "    def is_UNIX(self):\n",
        "        return self.os in UNIX\t\t\n",
        "    \n",
        "    def print_model(self):\n",
        "        return self.model\n",
        "\t\n",
        "nb = Notebook(\"Apple\", \"MacBook Pro\", 16, 512, \"macOS X\")\n",
        "nb2 = Notebook(\"Dell\", \"Dell XPS\", 16, 1024, \"Windows 10\")\n",
        "\n",
        "# nb의 model을 출력해주는 코드\n",
        "# nb2의 model을 출력해주는 코드\n",
        "print(f\"Model : {nb.print_model()}\")\n",
        "print(f\"Model : {nb2.print_model()}\")"
      ],
      "execution_count": 24,
      "outputs": [
        {
          "output_type": "stream",
          "text": [
            "Model : MacBook Pro\n",
            "Model : Dell XPS\n"
          ],
          "name": "stdout"
        }
      ]
    },
    {
      "cell_type": "code",
      "metadata": {
        "colab": {
          "base_uri": "https://localhost:8080/"
        },
        "id": "0iCy3SxHUBBJ",
        "outputId": "95c170e9-87e5-4873-d97f-2c28096a1abe"
      },
      "source": [
        "UNIX = set([\"macOS X\", \"CentOS\", \"Ubuntu\", \"iOS\", \"Android\", \"webOS\"])\n",
        "\n",
        "class Notebook:\n",
        "    def __init__(self, manufacturer, model, memory1, memory2, os):\n",
        "        self.manufacturer = manufacturer\n",
        "        self.model = model\n",
        "        self.memory1 = memory1\n",
        "        self.memory2 = memory2\n",
        "        self.os = os\n",
        "\n",
        "    def is_UNIX(self):\n",
        "        return self.os in UNIX\n",
        "\n",
        "    def print_model(self):\n",
        "        return f\"Model : {self.model}\"\n",
        "\n",
        "\n",
        "nb = Notebook(\"Apple\", \"MacBook Pro\", 16, 512, \"macOS X\")\n",
        "nb2 = Notebook(\"Dell\", \"Dell XPS\", 16, 1024, \"Windows 10\")\n",
        "\n",
        "\n",
        "print(nb.print_model())\n",
        "print(nb2.print_model())"
      ],
      "execution_count": 1,
      "outputs": [
        {
          "output_type": "stream",
          "text": [
            "Model : MacBook Pro\n",
            "Model : Dell XPS\n"
          ],
          "name": "stdout"
        }
      ]
    },
    {
      "cell_type": "code",
      "metadata": {
        "id": "dGHrz2G9UWuD"
      },
      "source": [
        "# 6번 : 클래스 상속\n",
        "UNIX = set([\"macOS X\", \"CentOS\", \"Ubuntu\", \"iOS\", \"Android\", \"webOS\"])\n",
        "\n",
        "# notebook class를 상속받아서 새로운 MacBook class를 정의\n",
        "class MacBook(Notebook):\n",
        "    def __init__(self, manufacturer, model, memory1, memory2, os,period,size ): \n",
        "        self.manufacturer = manufacturer\n",
        "        self.model = model\n",
        "        self.memory1 = memory1\n",
        "        self.memory2 = memory2\n",
        "        self.os = os\n",
        "        self.period = period\n",
        "\t\t# 세부 모델명을 저장하는 period 변수 선언.\n",
        "\t\t# 화면 크기를 저장하는 size 변수 선언.\n",
        "        self.size = size\n",
        "\n",
        "# notebook class를 상속받아서 새로운 Dell_Laptop class를 정의\n",
        "# 변수 추가 필요\n",
        "class Dell_Laptop(Notebook):\n",
        "    def __init__(self, manufacturer, model, memory1, memory2, os,naming,size ):\n",
        "        self.manufacturer = manufacturer\n",
        "        self.model = model\n",
        "        self.memory1 = memory1\n",
        "        self.memory2 = memory2\n",
        "        self.os = os\n",
        "        self.naming = naming\n",
        "\t\t# 세부 모델명을 저장하는 naming 변수 선언.\n",
        "\t\t# 화면 크기를 저장하는 size 변수 선언.\n",
        "        self.size = size"
      ],
      "execution_count": 17,
      "outputs": []
    },
    {
      "cell_type": "code",
      "metadata": {
        "id": "AH4lyWLX03-p"
      },
      "source": [
        "class MacBook(Notebook):\n",
        "    def __init__(self, manufacturer, model, memory1, memory2, os, period, size):\n",
        "        super().__init__(manufacturer, model, memory1, memory2, os)\n",
        "        self.period = period\n",
        "        self.size = size\n",
        "        \n",
        "\n",
        "class DellLaptop(Notebook):\n",
        "    def __init__(self, manufacturer, model, memory1, memory2, os, period, size):\n",
        "        super().__init__(manufacturer, model, memory1, memory2, os)\n",
        "        self.period = period\n",
        "        self.size = size"
      ],
      "execution_count": 18,
      "outputs": []
    },
    {
      "cell_type": "code",
      "metadata": {
        "colab": {
          "base_uri": "https://localhost:8080/"
        },
        "id": "FtTzNJfi1OgX",
        "outputId": "444032fa-5f0f-4ad0-e34e-39ca7d04cf4f"
      },
      "source": [
        "# 7번 : Method Overriding\n",
        "# 일부만 예제로 가져왔습니다.\n",
        "UNIX = set([\"macOS X\", \"CentOS\", \"Ubuntu\", \"iOS\", \"Android\", \"webOS\"])\n",
        "\n",
        "class MacBook(Notebook):\n",
        "\t# 변수 추가 필요\n",
        "  def __init__(self, manufacturer, model, memory1, memory2, os, period, size ):\n",
        "      self.manufacturer = manufacturer\n",
        "      self.model = model\n",
        "      self.memory1 = memory1\n",
        "      self.memory2 = memory2\n",
        "      self.os = os\n",
        "      self.period = period\n",
        "      self.size = size\n",
        "\n",
        "\t# 해당 노트북의 모델을 출력해주는 print_model 함수.\n",
        "  def print_model(self):\n",
        "      return f\"MacBook Model : {self.model}({self.size} inch, {self.period})\"\n",
        " \t\n",
        "\n",
        "class DellLaptop(Notebook):\n",
        "\t# 변수 추가 필요\n",
        "  def __init__(self, manufacturer, model, memory1, memory2, os, naming, size):\n",
        "      self.manufacturer = manufacturer\n",
        "      self.model = model\n",
        "      self.memory1 = memory1\n",
        "      self.memory2 = memory2\n",
        "      self.os = os\n",
        "      self.naming = naming\n",
        "      self.size = size\n",
        "      \n",
        "\t# 해당 노트북의 모델을 출력해주는 print_model 함수.\n",
        "  def print_model(self):\n",
        "      return f\"DellLaptop Model : {self.model} {self.size} {self.naming}\"\n",
        "\n",
        "macbook = MacBook(\"Apple\", \"MacBook Pro\", 16, 512, \"macOS X\", \"Late 2015\", 15)\n",
        "delllaptop = DellLaptop(\"Dell\", \"Dell XPS\", 16, 1024, \"Windows 10\", 9500, 15)\n",
        "print(macbook.print_model())\n",
        "print(delllaptop.print_model())"
      ],
      "execution_count": 27,
      "outputs": [
        {
          "output_type": "stream",
          "text": [
            "MacBook Model : MacBook Pro(15 inch, Late 2015)\n",
            "DellLaptop Model : Dell XPS 15 9500\n"
          ],
          "name": "stdout"
        }
      ]
    },
    {
      "cell_type": "code",
      "metadata": {
        "colab": {
          "base_uri": "https://localhost:8080/",
          "height": 34
        },
        "id": "1DMuEkxv235v",
        "outputId": "91877baf-f70e-41ed-f2f8-a5415ef16883"
      },
      "source": [
        "class MacBook(Notebook):\n",
        "    def __init__(self, manufacturer, model, memory1, memory2, os, period, size):\n",
        "        super().__init__(manufacturer, model, memory1, memory2, os)\n",
        "        self.period = period\n",
        "        self.size = size\n",
        "\n",
        "    def print_model(self):\n",
        "        return \"Macbook Model:\" + self.model + \"({} inch, Late {})\".format(self.size, self.period)\n",
        "\n",
        "class DellLaptop(Notebook):\n",
        "    def __init__(self, manufacturer, model, memory1, memory2, os, naming, size):\n",
        "        super().__init__(manufacturer, model, memory1, memory2, os)\n",
        "        self.period = period\n",
        "        self.size = size\n",
        "\n",
        "    def print_model(self):\n",
        "        return \"DellLaptop Model:\" + self.model + self.size + self.detail\n",
        "\n",
        "macbook.print_model()\n",
        "delllaptop.print_model()"
      ],
      "execution_count": 28,
      "outputs": [
        {
          "output_type": "execute_result",
          "data": {
            "application/vnd.google.colaboratory.intrinsic+json": {
              "type": "string"
            },
            "text/plain": [
              "'DellLaptop Model : Dell XPS 15 9500'"
            ]
          },
          "metadata": {
            "tags": []
          },
          "execution_count": 28
        }
      ]
    },
    {
      "cell_type": "code",
      "metadata": {
        "colab": {
          "base_uri": "https://localhost:8080/",
          "height": 52
        },
        "id": "3IEYHbnm3Twu",
        "outputId": "96eccb6a-95a5-435a-c402-57b520b24b38"
      },
      "source": [
        "# 8번 : 상위 클래스 method\n",
        "class MacBook(Notebook):\n",
        "    def __init__(self, manufacturer, model, memory1, memory2, os, period, size):\n",
        "        super().__init__(manufacturer, model, memory1, memory2, os)\n",
        "        self.period = period\n",
        "        self.size = size\n",
        "\n",
        "    def print_model(self):\n",
        "        return f\"MacBook Model : {self.model}({self.size} inch, {self.period})\"\n",
        "\n",
        "class DellLaptop(Notebook):\n",
        "    def __init__(self, manufacturer, model, memory1, memory2, os, naming, size):\n",
        "        super().__init__(manufacturer, model, memory1, memory2, os)\n",
        "        self.naming = naming\n",
        "        self.size = size\n",
        "\n",
        "    def print_model(self):\n",
        "        return  f\"DellLaptop Model : {self.model} {self.size} {self.naming}\"\n",
        "\n",
        "macbook = MacBook(\"Apple\", \"MacBook Pro\", 16, 512, \"macOS X\", \"Late 2015\", 15)\n",
        "delllaptop = DellLaptop(\"Dell\", \"Dell XPS\", 16, 1024, \"Windows 10\", 9500, 15)\n",
        "\n",
        "print(macbook.print_model())\n",
        "delllaptop.print_model()"
      ],
      "execution_count": 34,
      "outputs": [
        {
          "output_type": "stream",
          "text": [
            "MacBook Model : MacBook Pro(15 inch, Late 2015)\n"
          ],
          "name": "stdout"
        },
        {
          "output_type": "execute_result",
          "data": {
            "application/vnd.google.colaboratory.intrinsic+json": {
              "type": "string"
            },
            "text/plain": [
              "'DellLaptop Model : Dell XPS 15 9500'"
            ]
          },
          "metadata": {
            "tags": []
          },
          "execution_count": 34
        }
      ]
    },
    {
      "cell_type": "code",
      "metadata": {
        "id": "xuQcK81u_HuX"
      },
      "source": [
        ""
      ],
      "execution_count": null,
      "outputs": []
    }
  ]
}