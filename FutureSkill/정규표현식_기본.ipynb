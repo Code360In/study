{
  "nbformat": 4,
  "nbformat_minor": 0,
  "metadata": {
    "colab": {
      "name": "정규표현식 기본.ipynb",
      "provenance": [],
      "collapsed_sections": []
    },
    "kernelspec": {
      "name": "python3",
      "display_name": "Python 3"
    }
  },
  "cells": [
    {
      "cell_type": "code",
      "metadata": {
        "colab": {
          "base_uri": "https://localhost:8080/"
        },
        "id": "XEmakps9JxJ-",
        "outputId": "de1ae037-d10c-4bbf-85ce-70f064f8eaba"
      },
      "source": [
        "# 1번 : 카카오톡 채팅\n",
        "# 'ㅋ'을 제외한 나머지 글자를 'ㅋ'으로 치환하는 코드를 작성하세요.\n",
        "import re\n",
        "\n",
        "laugh = \"ㅋㅋㅋㅋㄲㅋㄱㅋㅋㄲㅋzzㅋㅋ\"\n",
        "result = re.sub('ㄲ',\"ㅋ\",laugh)\n",
        "result = re.sub('ㄱ',\"ㅋ\",result)\n",
        "result = re.sub('z',\"ㅋ\",result)\n",
        "print(result)"
      ],
      "execution_count": null,
      "outputs": [
        {
          "output_type": "stream",
          "text": [
            "ㅋㅋㅋㅋㅋㅋㅋㅋㅋㅋㅋㅋㅋㅋㅋ\n"
          ],
          "name": "stdout"
        }
      ]
    },
    {
      "cell_type": "code",
      "metadata": {
        "colab": {
          "base_uri": "https://localhost:8080/"
        },
        "id": "1GTfjjNxKsO3",
        "outputId": "0d1aa814-ddef-4082-bcf5-f76a755edc03"
      },
      "source": [
        "laugh=re.sub('[^ㅋ]', 'ㅋ', laugh)\n",
        "\n",
        "print(laugh)"
      ],
      "execution_count": null,
      "outputs": [
        {
          "output_type": "stream",
          "text": [
            "ㅋㅋㅋㅋㅋㅋㅋㅋㅋㅋㅋㅋㅋㅋㅋ\n"
          ],
          "name": "stdout"
        }
      ]
    },
    {
      "cell_type": "code",
      "metadata": {
        "colab": {
          "base_uri": "https://localhost:8080/"
        },
        "id": "_YwvXc2MK96P",
        "outputId": "906a5654-400d-4f1c-fb59-5896c5329d63"
      },
      "source": [
        "# 2번 : 전화번호\n",
        "# '010-xxxx-xxxx' 형태의 전화번호를 입력받는 코드를 작성하세요.\n",
        "import re\n",
        "while(True):\n",
        "    z = input()\n",
        "    \n",
        "    pat = re.compile('010\\-\\d{4}\\-\\d{4}')\n",
        "    if pat.search(z) != None:\n",
        "        print('고마워')\n",
        "        break\n",
        "    \n",
        "    else: print('전화번호 좀 찍어줘')\n"
      ],
      "execution_count": null,
      "outputs": [
        {
          "output_type": "stream",
          "text": [
            "010-2188-1063\n",
            "고마워\n"
          ],
          "name": "stdout"
        }
      ]
    },
    {
      "cell_type": "code",
      "metadata": {
        "colab": {
          "base_uri": "https://localhost:8080/"
        },
        "id": "_TabJayHcSUg",
        "outputId": "40fe9cd1-c738-4d4a-c8d9-ebd2d6a23ffe"
      },
      "source": [
        "#3번 : 우리말\n",
        "#주어진 텍스트에서 한국어, 숫자, ,, . 를 제외하고 나머지 글자를 모두 제거하는 코드를 작성하세요.\n",
        "\n",
        "wiki = \"\"\"파이썬(Python)은 1991년 프로그래머인 귀도 반 로섬(Guido van Rossum)이\n",
        "발표한 고급 프로그래밍 언어로, 플랫폼에 독립적이며 인터프리터식, 객체지향적,\n",
        "동적 타이핑(dynamically typed)대화형 언어이다.\"\"\"\n",
        "hangul = re.compile('[^ ㄱ-ㅣ0-9가-힣]+')\n",
        "result = hangul.sub('', wiki) \n",
        "print (result)"
      ],
      "execution_count": null,
      "outputs": [
        {
          "output_type": "stream",
          "text": [
            "파이썬은 1991년 프로그래머인 귀도 반 로섬  이발표한 고급 프로그래밍 언어로 플랫폼에 독립적이며 인터프리터식 객체지향적동적 타이핑 대화형 언어이다\n"
          ],
          "name": "stdout"
        }
      ]
    },
    {
      "cell_type": "code",
      "metadata": {
        "colab": {
          "base_uri": "https://localhost:8080/"
        },
        "id": "cE1TBU6xdJBj",
        "outputId": "178b5146-ae47-4aaa-b470-d8ea6f3d7b55"
      },
      "source": [
        "n = re.compile('[^가-힣|^0-9|/^\\s|,]')\n",
        "result = n.sub('', wiki)\n",
        "print(result)"
      ],
      "execution_count": null,
      "outputs": [
        {
          "output_type": "stream",
          "text": [
            "파이썬은 1991년 프로그래머인 귀도 반 로섬  이\n",
            "발표한 고급 프로그래밍 언어로, 플랫폼에 독립적이며 인터프리터식, 객체지향적,\n",
            "동적 타이핑 대화형 언어이다\n"
          ],
          "name": "stdout"
        }
      ]
    },
    {
      "cell_type": "code",
      "metadata": {
        "colab": {
          "base_uri": "https://localhost:8080/"
        },
        "id": "LOUcOY4XdKcB",
        "outputId": "7c9807d5-9170-4332-b7c4-11fc89096eea"
      },
      "source": [
        "# 4번 : 주민등록번호\n",
        "# 주어진 텍스트 속에 있는 주민등록번호를 찾아서 출력하는 코드를 작성하세요.\n",
        "\n",
        "sample = \"\"\"\n",
        "이름 : 홍길동\n",
        "성별 : 남\n",
        "나이 : 30\n",
        "직업 : SW engineer\n",
        "주민등록번호 : 911111-1234567\n",
        "연봉 : $5,000\n",
        "\"\"\"\n",
        "pat = re.compile(\"(\\d{6})[-]\\d{7}\")\n",
        "match = pat.search(sample)\n",
        "print('주민등록번호는',match.group(0) ,'입니다.')"
      ],
      "execution_count": null,
      "outputs": [
        {
          "output_type": "stream",
          "text": [
            "주민등록번호는 911111-1234567 입니다.\n"
          ],
          "name": "stdout"
        }
      ]
    },
    {
      "cell_type": "code",
      "metadata": {
        "colab": {
          "base_uri": "https://localhost:8080/"
        },
        "id": "yWU7zvFVdem-",
        "outputId": "98474827-ae86-4564-c96d-26928856d942"
      },
      "source": [
        "z = re.compile(\"\\d{6}-\\d{7}\")\n",
        "result = z.search(sample).group()\n",
        "print(result)"
      ],
      "execution_count": null,
      "outputs": [
        {
          "output_type": "stream",
          "text": [
            "911111-1234567\n"
          ],
          "name": "stdout"
        }
      ]
    },
    {
      "cell_type": "code",
      "metadata": {
        "colab": {
          "base_uri": "https://localhost:8080/"
        },
        "id": "l0EsDSYoe0T3",
        "outputId": "6782b03b-e626-4032-f943-b290379830a5"
      },
      "source": [
        "# 5번 : 이메일 주소\n",
        "# 주어진 텍스트 속에 있는 이름과 이메일 주소를 찾아서 출력하는 코드를 작성하세요.\n",
        "sample = \"\"\"\n",
        "이름 : 홍길동\n",
        "성별 : 남\n",
        "나이 : 30\n",
        "직업 : SW engineer\n",
        "주민등록번호 : 911111-1234567\n",
        "메일 주소 : gildong@futureskill.io\n",
        "연봉 : $5,000\n",
        "\"\"\"\n",
        "m = re.findall(r'[\\w\\.-]+@[\\w\\.-]+', sample)\n",
        "print('홍길동님의 이메일 주소는',m,'입니다.')"
      ],
      "execution_count": null,
      "outputs": [
        {
          "output_type": "stream",
          "text": [
            "홍길동님의 이메일 주소는 ['gildong@futureskill.io'] 입니다.\n"
          ],
          "name": "stdout"
        }
      ]
    },
    {
      "cell_type": "code",
      "metadata": {
        "colab": {
          "base_uri": "https://localhost:8080/"
        },
        "id": "fTMlV8HFe9_K",
        "outputId": "4c8b9d92-e330-4087-d61b-2c8817267cb3"
      },
      "source": [
        "z = re.compile(\"[a-z A-Z 0-9._+-]+@[a-z A-Z 0-9]+\\.[a-z A-Z 0-9._+-]+\")\n",
        "result = z.search(sample).group()\n",
        "print(result)"
      ],
      "execution_count": null,
      "outputs": [
        {
          "output_type": "stream",
          "text": [
            " gildong@futureskill.io\n"
          ],
          "name": "stdout"
        }
      ]
    },
    {
      "cell_type": "code",
      "metadata": {
        "colab": {
          "base_uri": "https://localhost:8080/"
        },
        "id": "on4iUPu8fwbH",
        "outputId": "698f8320-97ca-427e-c5be-80e1bc51dfc2"
      },
      "source": [
        "# 6번 : 날짜\n",
        "# 주어진 텍스트 속에 있는 다양한 날짜표현을 모두 YYYY-MM-DD 형식으로 바꿔주는 코드를 작성하세요.\n",
        "# (단, 다양한 날짜표현은 해당 데이터 내부에 있는 표현으로 한정합니다. 예를 들어, 이천이십년 3월 팔일은 데이터 내부에 없으므로 반영될 필요가 없습니다. )\n",
        "sample = \"\"\"길동이의 생일은 1991년 11월 11일입니다.\n",
        "길동이는 2017-03-02에 지금 일하고 있는 회사에 입사하였으며, 2018/04/21에 결혼식을 올렸습니다.\n",
        "17/Aug/2019에는 꿈에 그리던 프랑스로 여행도 다녀왔습니다.\n",
        "2020년 1월 20일에 국내 첫 코로나 확진자가 발생한 이후로, 계속해서 사회활동에 제약이 있다.\n",
        "2020/06/01을 기점으로 현재 회사는 재택근무를 시행하고 있으며, 이로 인해 행복하게 집에서\n",
        "근무를 이어나가고 있다.\"\"\"\n",
        "\n",
        "result = re.sub('/', '-', sample)\n",
        "result = re.sub('Aug','08',result)\n",
        "print(result)"
      ],
      "execution_count": null,
      "outputs": [
        {
          "output_type": "stream",
          "text": [
            "길동이의 생일은 1991년 11월 11일입니다.\n",
            "길동이는 2017-03-02에 지금 일하고 있는 회사에 입사하였으며, 2018-04-21에 결혼식을 올렸습니다.\n",
            "17-08-2019에는 꿈에 그리던 프랑스로 여행도 다녀왔습니다.\n",
            "2020년 1월 20일에 국내 첫 코로나 확진자가 발생한 이후로, 계속해서 사회활동에 제약이 있다.\n",
            "2020-06-01을 기점으로 현재 회사는 재택근무를 시행하고 있으며, 이로 인해 행복하게 집에서\n",
            "근무를 이어나가고 있다.\n"
          ],
          "name": "stdout"
        }
      ]
    },
    {
      "cell_type": "code",
      "metadata": {
        "colab": {
          "base_uri": "https://localhost:8080/"
        },
        "id": "qzwXzm2xgf2e",
        "outputId": "8c4f7079-981c-4296-dbb2-6ac212bdb6ae"
      },
      "source": [
        "import re\n",
        "date1 = re.compile('([0-9]{4,4})[/|년|-] ?([0-9]{1,2})[/|월|-] ?([0-9]{1,2})[/|일]?')\n",
        "date2 = re.compile('([0-9]{2,2})/ ?([a-zA-Z]{3,3})/ ?([0-9]{4,4})')\n",
        "sample = date1.sub(r'\\1-\\2-\\3', sample)\n",
        "sample = date2.sub(r'\\3-08-\\1', sample)\n",
        "print(sample)"
      ],
      "execution_count": null,
      "outputs": [
        {
          "output_type": "stream",
          "text": [
            "길동이의 생일은 1991-11-11입니다.\n",
            "길동이는 2017-03-02에 지금 일하고 있는 회사에 입사하였으며, 2018-04-21에 결혼식을 올렸습니다.\n",
            "2019-08-17에는 꿈에 그리던 프랑스로 여행도 다녀왔습니다.\n",
            "2020-1-20에 국내 첫 코로나 확진자가 발생한 이후로, 계속해서 사회활동에 제약이 있다.\n",
            "2020-06-01을 기점으로 현재 회사는 재택근무를 시행하고 있으며, 이로 인해 행복하게 집에서\n",
            "근무를 이어나가고 있다.\n"
          ],
          "name": "stdout"
        }
      ]
    },
    {
      "cell_type": "code",
      "metadata": {
        "colab": {
          "base_uri": "https://localhost:8080/"
        },
        "id": "aGM7ZcUAhn4i",
        "outputId": "b2027543-36c3-4a60-caff-f8784d01d3b3"
      },
      "source": [
        "# 7번 : 연도\n",
        "# 주어진 텍스트 속에 있는 다양한 날짜표현에서 연도(YYYY) 정보만 찾아서 출력하는 코드를 작성하세요.\n",
        "sample = \"\"\"\n",
        "1991년 11월 11일\n",
        "2017-03-02\n",
        "2018/04/21\n",
        "17/Aug/2019\n",
        "2020년 1월 20일\n",
        "2020/06/01\n",
        "\"\"\"\n",
        "for y in re.findall('/?(\\d{4})[년|-|/]?', sample):\n",
        "  print(y)"
      ],
      "execution_count": null,
      "outputs": [
        {
          "output_type": "stream",
          "text": [
            "1991\n"
          ],
          "name": "stdout"
        }
      ]
    },
    {
      "cell_type": "code",
      "metadata": {
        "id": "KIigKsAQr98L",
        "colab": {
          "base_uri": "https://localhost:8080/"
        },
        "outputId": "e6486473-f5fc-44ee-e30b-0377001364be"
      },
      "source": [
        "# 8번 : the thing\n",
        "# 주어진 텍스트 속에 있는 표현들 중에서, the 로 시작하는 단어를 모두 찾아서 출력하는 코드를 작성하세요. (단, The 는 포함하지 않습니다.)\n",
        "import re \n",
        "\n",
        "en_wiki = \"\"\"\n",
        "Python was conceived in the late 1980s as a successor to the ABC language.\n",
        "Python 2.0, released in 2000, introduced features like list comprehensions\n",
        "and a garbage collection system with reference counting.\n",
        "Python 3.0, released in 2008, was a major revision of the language\n",
        "that is not completely backward-compatible,\n",
        "and much Python 2 code does not run unmodified on Python 3.\n",
        "\"\"\"\n",
        "p = re.compile(\"the\\s\\w+\") \n",
        "print(p.findall(en_wiki)) "
      ],
      "execution_count": 15,
      "outputs": [
        {
          "output_type": "stream",
          "text": [
            "['the late', 'the ABC', 'the language']\n"
          ],
          "name": "stdout"
        }
      ]
    },
    {
      "cell_type": "code",
      "metadata": {
        "colab": {
          "base_uri": "https://localhost:8080/"
        },
        "id": "pShlylgEtPJ_",
        "outputId": "cee5d7bc-5bcc-49e3-f576-9ffc1218a54a"
      },
      "source": [
        "re.findall(\"the\\ \\w+\", en_wiki)"
      ],
      "execution_count": 16,
      "outputs": [
        {
          "output_type": "execute_result",
          "data": {
            "text/plain": [
              "['the late', 'the ABC', 'the language']"
            ]
          },
          "metadata": {
            "tags": []
          },
          "execution_count": 16
        }
      ]
    },
    {
      "cell_type": "code",
      "metadata": {
        "colab": {
          "base_uri": "https://localhost:8080/"
        },
        "id": "GPXqZwG3pvuU",
        "outputId": "d7a681f4-4d59-4f95-e1eb-6d06dc1dc0c9"
      },
      "source": [
        "print(re.compile(r'the \\w*').findall(en_wiki))"
      ],
      "execution_count": 17,
      "outputs": [
        {
          "output_type": "stream",
          "text": [
            "['the late', 'the ABC', 'the language']\n"
          ],
          "name": "stdout"
        }
      ]
    },
    {
      "cell_type": "code",
      "metadata": {
        "colab": {
          "base_uri": "https://localhost:8080/"
        },
        "id": "MtMG52E_qmSH",
        "outputId": "df01c234-2834-4f1d-d30d-6158a100b2cb"
      },
      "source": [
        "# 9번 : http\n",
        "# 주어진 URL들중에 http로 시작하는 주소가 있다면,\n",
        "# https로 시작하는 주소로 바꾼 뒤 출력하는 코드를 작성하세요.\n",
        "\n",
        "url1 = \"http://www.python.org/\"\n",
        "url2 = \"https://www.naver.com/\"\n",
        "url3 = \"http://www.google.co.kr/\"\n",
        "url4 = \"https://www.data.go.kr/\"\n",
        "url5 = \"https://www.futureskill.io/\"\n",
        "url6 = \"http://www.kaggle.com/\"\n",
        "\n",
        "li = [url1,url2,url3,url4,url5,url6]\n",
        "cnt = 0\n",
        "for i in enumerate(li):\n",
        "    if re.findall(\"http:+\", i):\n",
        "        cnt +=1\n",
        "print('다음',cnt,'개의 요청에 위험성이 감지되어 자동 변경을 수행했습니다.')\n",
        "print('==============================================')\n",
        "print(re.sub('http:','https:',url1))\n",
        "print(re.sub('http:','https:',url3))\n",
        "print(re.sub('http:','https:',url6))\n",
        "print('==============================================')"
      ],
      "execution_count": 59,
      "outputs": [
        {
          "output_type": "stream",
          "text": [
            "다음 3 개의 요청에 위험성이 감지되어 자동 변경을 수행했습니다.\n",
            "==============================================\n",
            "https://www.python.org/\n",
            "https://www.google.co.kr/\n",
            "https://www.kaggle.com/\n",
            "==============================================\n"
          ],
          "name": "stdout"
        }
      ]
    },
    {
      "cell_type": "code",
      "metadata": {
        "colab": {
          "base_uri": "https://localhost:8080/"
        },
        "id": "5xhMrjflr7R2",
        "outputId": "8510a2f2-3269-48f2-a7c0-d97d96cc815e"
      },
      "source": [
        "urls = [url1, url2, url3, url4, url5, url6]\n",
        "http = re.compile(r'^http://')\n",
        "count = 0\n",
        "result = []\n",
        "for url in urls:\n",
        "  if http.findall(url):\n",
        "    count = count + 1\n",
        "    result.append(re.sub(r'^http://', 'https://', url))\n",
        "print(f'다음 {count}개의 요청에 위험성이 감지되어 자동 변경을 수행했습니다.')\n",
        "print('==============================================')\n",
        "[print(url) for url in result]\n",
        "print('==============================================')"
      ],
      "execution_count": 62,
      "outputs": [
        {
          "output_type": "stream",
          "text": [
            "다음 3개의 요청에 위험성이 감지되어 자동 변경을 수행했습니다.\n",
            "==============================================\n",
            "https://www.python.org/\n",
            "https://www.google.co.kr/\n",
            "https://www.kaggle.com/\n",
            "==============================================\n"
          ],
          "name": "stdout"
        }
      ]
    },
    {
      "cell_type": "code",
      "metadata": {
        "colab": {
          "base_uri": "https://localhost:8080/"
        },
        "id": "REolAoVktd5N",
        "outputId": "6aaf5452-1b33-4f9d-99a3-a952dc1397ac"
      },
      "source": [
        "# 10번 : 해시태그\n",
        "# 주어진 텍스트에서 해시태그(hashtag)를 찾아서, 모두 출력하는 코드를 작성하세요.\n",
        "\n",
        "tweet1 = \"코로나 정말 짜증난다. 놀러좀 가게 제발 그만ㅠㅠ #코로나 #COVID-19 #집콕하자 #거리두기\"\n",
        "tweet2 = \"This song is super amazing. #BTS is super genius! we gonna #crazy in #kpop\" \n",
        "import re\n",
        "p = re.compile(\"#([0-9a-zA-Z가-힣]*)\")\n",
        "print(p.findall(tweet1))\n",
        "print(p.findall(tweet2))\n"
      ],
      "execution_count": 73,
      "outputs": [
        {
          "output_type": "stream",
          "text": [
            "코로나, COVID, 집콕하자, 거리두기, \n",
            "BTS, crazy, kpop, \n"
          ],
          "name": "stdout"
        }
      ]
    },
    {
      "cell_type": "code",
      "metadata": {
        "colab": {
          "base_uri": "https://localhost:8080/"
        },
        "id": "QxkhGCezuJRq",
        "outputId": "b9d41cdf-3088-4ed5-f5a9-b4e75733f935"
      },
      "source": [
        "tweet_list = [tweet1, tweet2]\n",
        "for tweet in tweet_list:\n",
        "    print(re.findall(r\"#\\w+\", tweet))"
      ],
      "execution_count": 67,
      "outputs": [
        {
          "output_type": "stream",
          "text": [
            "['#코로나', '#COVID', '#집콕하자', '#거리두기']\n",
            "['#BTS', '#crazy', '#kpop']\n"
          ],
          "name": "stdout"
        }
      ]
    },
    {
      "cell_type": "code",
      "metadata": {
        "colab": {
          "base_uri": "https://localhost:8080/"
        },
        "id": "mct6qpBDuT7L",
        "outputId": "3a2c2112-eafc-4e57-e267-aab662c740a6"
      },
      "source": [
        "print(re.findall(r'#\\w*', tweet1))\n",
        "print(re.findall(r'#\\w*', tweet2))"
      ],
      "execution_count": 68,
      "outputs": [
        {
          "output_type": "stream",
          "text": [
            "['#코로나', '#COVID', '#집콕하자', '#거리두기']\n",
            "['#BTS', '#crazy', '#kpop']\n"
          ],
          "name": "stdout"
        }
      ]
    },
    {
      "cell_type": "code",
      "metadata": {
        "colab": {
          "base_uri": "https://localhost:8080/"
        },
        "id": "iCQhgLOTuptV",
        "outputId": "af585296-960b-48aa-a838-e5e8da91404d"
      },
      "source": [
        "import re\n",
        "tweet1 = \"코로나 정말 짜증난다. 놀러좀 가게 제발 그만ㅠㅠ #코로나 #COVID-19 #집콕하자 #거리두기\"\n",
        "tweet2 = \"This song is super amazing. #BTS is super genius! we gonna #crazy in #kpop\" \n",
        "\n",
        "word = re.compile('#[^ .]+')\n",
        "print(word.findall(tweet1))\n",
        "print(word.findall(tweet2))"
      ],
      "execution_count": 75,
      "outputs": [
        {
          "output_type": "stream",
          "text": [
            "['#코로나', '#COVID-19', '#집콕하자', '#거리두기']\n",
            "['#BTS', '#crazy', '#kpop']\n"
          ],
          "name": "stdout"
        }
      ]
    },
    {
      "cell_type": "code",
      "metadata": {
        "colab": {
          "base_uri": "https://localhost:8080/"
        },
        "id": "XYsQSQM1vVs3",
        "outputId": "892e945b-6576-40e4-fa7b-30eac9a4234b"
      },
      "source": [
        "# 11번 : @ 친구이름\n",
        "#'@'기호는 많은 소셜 미디어에서 mention 기능을 의미합니다. 주어진 텍스트에서 친구들을 찾아봅시다.\n",
        "# '@'가 포함된 mention 을 모두 찾아서 출력하는 코드를 작성하세요.\n",
        "import re\n",
        "sns1 = \"코로나 정말 짜증난다. @alstn91 우리 작년에 미국여행 꿀잼이었는데ㅠㅠ @jjaejj @jaeyong 내년에는 같이 가자\"\n",
        "sns2 = \"@roro1994님이 @futureskill_official님의 게시글에 댓글을 작성하셨습니다.\"\n",
        "sns3 = \"@ssj0304 @__yjhzzang @beautyK_ 얘들아 이거보셈. 이거 완전 대박임.. 다음에 여기가자\"\n",
        "word = re.compile('@([^ .]+)')\n",
        "print(word.findall(sns1))\n",
        "print(word.findall(sns2))\n",
        "print(word.findall(sns3))"
      ],
      "execution_count": 7,
      "outputs": [
        {
          "output_type": "stream",
          "text": [
            "['alstn91', 'jjaejj', 'jaeyong']\n",
            "['roro1994님이', 'futureskill_official님의']\n",
            "['ssj0304', '__yjhzzang', 'beautyK_']\n"
          ],
          "name": "stdout"
        }
      ]
    },
    {
      "cell_type": "code",
      "metadata": {
        "colab": {
          "base_uri": "https://localhost:8080/"
        },
        "id": "xxrFP8bxvpc9",
        "outputId": "4bc07e2b-c95c-4399-87c0-2565abf4309b"
      },
      "source": [
        "sns1 = \"코로나 정말 짜증난다. @alstn91 우리 작년에 미국여행 꿀잼이었는데ㅠㅠ @jjaejj @jaeyong 내년에는 같이 가자\"\n",
        "sns2 = \"@roro1994님이 @futureskill_official님의 게시글에 댓글을 작성하셨습니다.\"\n",
        "sns3 = \"@ssj0304 @__yjhzzang @beautyK_ 얘들아 이거보셈. 이거 완전 대박임.. 다음에 여기가자\"\n",
        "\n",
        "for i in range(1,4):\n",
        "  strs = globals()['sns{}'.format(i)]\n",
        "  heshis = re.findall(r'[A-Za-z0-9\\_]+',strs)\n",
        "  print(', '.join(heshis))"
      ],
      "execution_count": 10,
      "outputs": [
        {
          "output_type": "stream",
          "text": [
            "alstn91, jjaejj, jaeyong\n",
            "roro1994, futureskill_official\n",
            "ssj0304, __yjhzzang, beautyK_\n"
          ],
          "name": "stdout"
        }
      ]
    },
    {
      "cell_type": "code",
      "metadata": {
        "colab": {
          "base_uri": "https://localhost:8080/"
        },
        "id": "cPrXmptHWShD",
        "outputId": "7a76813d-277e-4aa7-c227-6bef4248baa3"
      },
      "source": [
        "for i in range(1,4):\n",
        "  print(', '.join(re.findall('@([a-z|A-Z|_|0-9]+)',globals()['sns{}'.format(i)])))"
      ],
      "execution_count": 13,
      "outputs": [
        {
          "output_type": "stream",
          "text": [
            "alstn91, jjaejj, jaeyong\n",
            "roro1994, futureskill_official\n",
            "ssj0304, __yjhzzang, beautyK_\n"
          ],
          "name": "stdout"
        }
      ]
    },
    {
      "cell_type": "code",
      "metadata": {
        "colab": {
          "base_uri": "https://localhost:8080/"
        },
        "id": "_RM3BO7cWVPZ",
        "outputId": "d0c6c978-eaa0-4396-ffb4-785376f037ae"
      },
      "source": [
        "# 12번 : 띄어쓰기\n",
        "# 주어진 텍스트에서 \"코딩 교육\" 이라고 되어있는 모든 표현을 \"코딩교육\"으로 바꾸는 코드를 작성하세요.\n",
        "\n",
        "post = \"\"\"요즘 디지털 능력을 위한 다양한 형태의 코딩 교육이 존재합니다. \n",
        "하지만, 기존의 좋고 많은 코딩 교육들이 존재함에도 많은 학습자들은 여전히 간지러운 곳이 많습니다.\n",
        "실질적인 가치를 제공하며 그러한 학습자 분들의 성장을 돕고자 하는 꿈을 꾸는 퓨쳐스킬을 통해서, \n",
        "진짜 내 손으로 할 수 있는 실력을 길러보세요. 매일 하루에 하나씩 꾸준히 직접 공부해보세요.\"\"\"\n",
        "print(re.sub('코딩 교육','코딩교육',post))\n"
      ],
      "execution_count": 14,
      "outputs": [
        {
          "output_type": "stream",
          "text": [
            "요즘 디지털 능력을 위한 다양한 형태의 코딩교육이 존재합니다. \n",
            "하지만, 기존의 좋고 많은 코딩교육들이 존재함에도 많은 학습자들은 여전히 간지러운 곳이 많습니다.\n",
            "실질적인 가치를 제공하며 그러한 학습자 분들의 성장을 돕고자 하는 꿈을 꾸는 퓨쳐스킬을 통해서, \n",
            "진짜 내 손으로 할 수 있는 실력을 길러보세요. 매일 하루에 하나씩 꾸준히 직접 공부해보세요.\n"
          ],
          "name": "stdout"
        }
      ]
    },
    {
      "cell_type": "code",
      "metadata": {
        "colab": {
          "base_uri": "https://localhost:8080/",
          "height": 70
        },
        "id": "cCeNp-2xWqtD",
        "outputId": "0e585cfb-87db-4d0f-abdb-63e59f0f19a5"
      },
      "source": [
        "post.replace('코딩 교육', '코딩교육')"
      ],
      "execution_count": 15,
      "outputs": [
        {
          "output_type": "execute_result",
          "data": {
            "application/vnd.google.colaboratory.intrinsic+json": {
              "type": "string"
            },
            "text/plain": [
              "'요즘 디지털 능력을 위한 다양한 형태의 코딩교육이 존재합니다. \\n하지만, 기존의 좋고 많은 코딩교육들이 존재함에도 많은 학습자들은 여전히 간지러운 곳이 많습니다.\\n실질적인 가치를 제공하며 그러한 학습자 분들의 성장을 돕고자 하는 꿈을 꾸는 퓨쳐스킬을 통해서, \\n진짜 내 손으로 할 수 있는 실력을 길러보세요. 매일 하루에 하나씩 꾸준히 직접 공부해보세요.'"
            ]
          },
          "metadata": {
            "tags": []
          },
          "execution_count": 15
        }
      ]
    },
    {
      "cell_type": "code",
      "metadata": {
        "colab": {
          "base_uri": "https://localhost:8080/"
        },
        "id": "-vouK_oiWzBW",
        "outputId": "f886c271-dc40-4e53-e6c0-33d8dc94c129"
      },
      "source": [
        "reg = re.compile(r'코딩 교육')\n",
        "result = reg.sub(r'코딩교육',post)\n",
        "print(result)"
      ],
      "execution_count": 16,
      "outputs": [
        {
          "output_type": "stream",
          "text": [
            "요즘 디지털 능력을 위한 다양한 형태의 코딩교육이 존재합니다. \n",
            "하지만, 기존의 좋고 많은 코딩교육들이 존재함에도 많은 학습자들은 여전히 간지러운 곳이 많습니다.\n",
            "실질적인 가치를 제공하며 그러한 학습자 분들의 성장을 돕고자 하는 꿈을 꾸는 퓨쳐스킬을 통해서, \n",
            "진짜 내 손으로 할 수 있는 실력을 길러보세요. 매일 하루에 하나씩 꾸준히 직접 공부해보세요.\n"
          ],
          "name": "stdout"
        }
      ]
    },
    {
      "cell_type": "code",
      "metadata": {
        "colab": {
          "base_uri": "https://localhost:8080/"
        },
        "id": "mpVVbeY2W2zw",
        "outputId": "c9edd923-d324-4e48-ff00-a433245d0b03"
      },
      "source": [
        "# 13번 : 스팸 필터링\n",
        "# 주어진 텍스트에서 특수문자와 혼합되어 있는 부적절한 표현들을 찾아서, 해당 텍스트가 spam인지 아닌지 출력해주는 코드를 작성하세요.\n",
        "txt1 = \"Text FA to 87121 to receive entry question(std txt rate)T&C's apply 08452810075over18's\"\n",
        "txt2 = \"Nah I don't think he goes to usf, he lives around here though\"\n",
        "txt3 = \"XXXC#l@u!b: To use your credit, click the WAP link in the next txt message or click here>> http://wap. xxxmobilemovieclub.com?n=QJKGIGHJJGCBL\"\n",
        "txt4 = \"Ok no prob. Take ur time with this hot@g!irl#s!\"\n",
        "txt5 = \"Or ill be a little closer like at the bus stop on the same street\"\n",
        "\n",
        "text = [txt1,txt2,txt3,txt4,txt5]\n",
        "string = '[@#$%^&*()]'\n",
        "for i,j in enumerate(text):\n",
        "    if re.findall(string,j):\n",
        "        print(f'txt{i+1} : spam')\n",
        "    else:\n",
        "        print(f'txt{i+1} : ham')"
      ],
      "execution_count": 50,
      "outputs": [
        {
          "output_type": "stream",
          "text": [
            "txt1 : spam\n",
            "txt2 : ham\n",
            "txt3 : spam\n",
            "txt4 : spam\n",
            "txt5 : ham\n"
          ],
          "name": "stdout"
        }
      ]
    },
    {
      "cell_type": "code",
      "metadata": {
        "colab": {
          "base_uri": "https://localhost:8080/"
        },
        "id": "BBBDS3VfcoqA",
        "outputId": "8687922b-64ed-4f3b-fc81-887af593798a"
      },
      "source": [
        "li = [txt1,txt2,txt3,txt4,txt5]\n",
        "n=0\n",
        "for i in li:\n",
        "  n+=1\n",
        "  if re.search(r'[!@#$%^&*()_+]',i):\n",
        "    print('txt'+str(n),': spam')\n",
        "  else :\n",
        "    print('txt'+str(n),': ham')"
      ],
      "execution_count": 51,
      "outputs": [
        {
          "output_type": "stream",
          "text": [
            "txt1 : spam\n",
            "txt2 : ham\n",
            "txt3 : spam\n",
            "txt4 : spam\n",
            "txt5 : ham\n"
          ],
          "name": "stdout"
        }
      ]
    },
    {
      "cell_type": "code",
      "metadata": {
        "colab": {
          "base_uri": "https://localhost:8080/"
        },
        "id": "QR5Qkqr6cq2A",
        "outputId": "bafa3cc1-1919-4935-ecd1-2da886a59e3d"
      },
      "source": [
        "for i in range(1,6):\n",
        "  result='ham'\n",
        "  if re.search(\"[^\\d|\\s|a-z|A-Z|.,\\']\", globals()['txt{}'.format(i)]):\n",
        "    result='spam'\n",
        "  print('txt{} : {}'.format(i, result))"
      ],
      "execution_count": 52,
      "outputs": [
        {
          "output_type": "stream",
          "text": [
            "txt1 : spam\n",
            "txt2 : ham\n",
            "txt3 : spam\n",
            "txt4 : spam\n",
            "txt5 : ham\n"
          ],
          "name": "stdout"
        }
      ]
    },
    {
      "cell_type": "code",
      "metadata": {
        "colab": {
          "base_uri": "https://localhost:8080/"
        },
        "id": "rjH4tZNAcxAW",
        "outputId": "af749953-9917-4923-de2e-0ba9ca822e5c"
      },
      "source": [
        "# 14번 : 전화번호 (2)\n",
        "survey = \"\"\"\n",
        "010-11-13345\n",
        "010-123-4546\n",
        "002-1234-5678\n",
        "010-9876-4321\n",
        "010-0001-0000\n",
        "000000-0000-0\n",
        "111-1111-1111\n",
        "010-12345678-9\n",
        "010-010-010\n",
        "010-1234-5678\n",
        "\"\"\"\n",
        "p = re.compile('010\\-\\d{4}\\-\\d{4}')\n",
        "p.findall(survey)"
      ],
      "execution_count": 55,
      "outputs": [
        {
          "output_type": "execute_result",
          "data": {
            "text/plain": [
              "['010-9876-4321', '010-0001-0000', '010-1234-5678']"
            ]
          },
          "metadata": {
            "tags": []
          },
          "execution_count": 55
        }
      ]
    },
    {
      "cell_type": "code",
      "metadata": {
        "colab": {
          "base_uri": "https://localhost:8080/"
        },
        "id": "mEOhQrBBeJm_",
        "outputId": "f370e176-c627-402b-8de3-fb3efd9f89d9"
      },
      "source": [
        "for number in re.findall(r\"010-\\d{4}-\\d{4}\", survey):\n",
        "    print(number)"
      ],
      "execution_count": 57,
      "outputs": [
        {
          "output_type": "stream",
          "text": [
            "010-9876-4321\n",
            "010-0001-0000\n",
            "010-1234-5678\n"
          ],
          "name": "stdout"
        }
      ]
    },
    {
      "cell_type": "code",
      "metadata": {
        "colab": {
          "base_uri": "https://localhost:8080/"
        },
        "id": "5R53cKcveXDY",
        "outputId": "87f402cd-71b9-451f-e282-b17e962617e3"
      },
      "source": [
        "print(re.findall(r'010-\\d{4}-\\d{4}', survey))"
      ],
      "execution_count": 58,
      "outputs": [
        {
          "output_type": "stream",
          "text": [
            "['010-9876-4321', '010-0001-0000', '010-1234-5678']\n"
          ],
          "name": "stdout"
        }
      ]
    }
  ]
}