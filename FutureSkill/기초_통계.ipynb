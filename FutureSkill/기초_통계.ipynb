{
  "nbformat": 4,
  "nbformat_minor": 0,
  "metadata": {
    "colab": {
      "name": "기초 통계.ipynb",
      "provenance": []
    },
    "kernelspec": {
      "name": "python3",
      "display_name": "Python 3"
    }
  },
  "cells": [
    {
      "cell_type": "code",
      "metadata": {
        "id": "ny_F1wLkfR0d"
      },
      "source": [
        "# 1번: 데이터 불러오기\r\n",
        "# '팔머 펭귄 데이터'가 담겨있는 URL에서 데이터를 직접 불러와 DataFrame으로 만들어주는 코드를 작성해보세요.\r\n",
        "\r\n",
        "import pandas as pd\r\n",
        "url =  'https://raw.githubusercontent.com/allisonhorst/palmerpenguins/master/inst/extdata/penguins.csv'\r\n",
        "penguin_data = pd.read_csv(url)"
      ],
      "execution_count": 30,
      "outputs": []
    },
    {
      "cell_type": "code",
      "metadata": {
        "colab": {
          "base_uri": "https://localhost:8080/",
          "height": 406
        },
        "id": "X-VZjWDofZfT",
        "outputId": "ca1ad2ec-d127-420a-b49a-5514853d4113"
      },
      "source": [
        "penguin_data"
      ],
      "execution_count": 31,
      "outputs": [
        {
          "output_type": "execute_result",
          "data": {
            "text/html": [
              "<div>\n",
              "<style scoped>\n",
              "    .dataframe tbody tr th:only-of-type {\n",
              "        vertical-align: middle;\n",
              "    }\n",
              "\n",
              "    .dataframe tbody tr th {\n",
              "        vertical-align: top;\n",
              "    }\n",
              "\n",
              "    .dataframe thead th {\n",
              "        text-align: right;\n",
              "    }\n",
              "</style>\n",
              "<table border=\"1\" class=\"dataframe\">\n",
              "  <thead>\n",
              "    <tr style=\"text-align: right;\">\n",
              "      <th></th>\n",
              "      <th>species</th>\n",
              "      <th>island</th>\n",
              "      <th>bill_length_mm</th>\n",
              "      <th>bill_depth_mm</th>\n",
              "      <th>flipper_length_mm</th>\n",
              "      <th>body_mass_g</th>\n",
              "      <th>sex</th>\n",
              "      <th>year</th>\n",
              "    </tr>\n",
              "  </thead>\n",
              "  <tbody>\n",
              "    <tr>\n",
              "      <th>0</th>\n",
              "      <td>Adelie</td>\n",
              "      <td>Torgersen</td>\n",
              "      <td>39.1</td>\n",
              "      <td>18.7</td>\n",
              "      <td>181.0</td>\n",
              "      <td>3750.0</td>\n",
              "      <td>male</td>\n",
              "      <td>2007</td>\n",
              "    </tr>\n",
              "    <tr>\n",
              "      <th>1</th>\n",
              "      <td>Adelie</td>\n",
              "      <td>Torgersen</td>\n",
              "      <td>39.5</td>\n",
              "      <td>17.4</td>\n",
              "      <td>186.0</td>\n",
              "      <td>3800.0</td>\n",
              "      <td>female</td>\n",
              "      <td>2007</td>\n",
              "    </tr>\n",
              "    <tr>\n",
              "      <th>2</th>\n",
              "      <td>Adelie</td>\n",
              "      <td>Torgersen</td>\n",
              "      <td>40.3</td>\n",
              "      <td>18.0</td>\n",
              "      <td>195.0</td>\n",
              "      <td>3250.0</td>\n",
              "      <td>female</td>\n",
              "      <td>2007</td>\n",
              "    </tr>\n",
              "    <tr>\n",
              "      <th>3</th>\n",
              "      <td>Adelie</td>\n",
              "      <td>Torgersen</td>\n",
              "      <td>NaN</td>\n",
              "      <td>NaN</td>\n",
              "      <td>NaN</td>\n",
              "      <td>NaN</td>\n",
              "      <td>NaN</td>\n",
              "      <td>2007</td>\n",
              "    </tr>\n",
              "    <tr>\n",
              "      <th>4</th>\n",
              "      <td>Adelie</td>\n",
              "      <td>Torgersen</td>\n",
              "      <td>36.7</td>\n",
              "      <td>19.3</td>\n",
              "      <td>193.0</td>\n",
              "      <td>3450.0</td>\n",
              "      <td>female</td>\n",
              "      <td>2007</td>\n",
              "    </tr>\n",
              "    <tr>\n",
              "      <th>...</th>\n",
              "      <td>...</td>\n",
              "      <td>...</td>\n",
              "      <td>...</td>\n",
              "      <td>...</td>\n",
              "      <td>...</td>\n",
              "      <td>...</td>\n",
              "      <td>...</td>\n",
              "      <td>...</td>\n",
              "    </tr>\n",
              "    <tr>\n",
              "      <th>339</th>\n",
              "      <td>Chinstrap</td>\n",
              "      <td>Dream</td>\n",
              "      <td>55.8</td>\n",
              "      <td>19.8</td>\n",
              "      <td>207.0</td>\n",
              "      <td>4000.0</td>\n",
              "      <td>male</td>\n",
              "      <td>2009</td>\n",
              "    </tr>\n",
              "    <tr>\n",
              "      <th>340</th>\n",
              "      <td>Chinstrap</td>\n",
              "      <td>Dream</td>\n",
              "      <td>43.5</td>\n",
              "      <td>18.1</td>\n",
              "      <td>202.0</td>\n",
              "      <td>3400.0</td>\n",
              "      <td>female</td>\n",
              "      <td>2009</td>\n",
              "    </tr>\n",
              "    <tr>\n",
              "      <th>341</th>\n",
              "      <td>Chinstrap</td>\n",
              "      <td>Dream</td>\n",
              "      <td>49.6</td>\n",
              "      <td>18.2</td>\n",
              "      <td>193.0</td>\n",
              "      <td>3775.0</td>\n",
              "      <td>male</td>\n",
              "      <td>2009</td>\n",
              "    </tr>\n",
              "    <tr>\n",
              "      <th>342</th>\n",
              "      <td>Chinstrap</td>\n",
              "      <td>Dream</td>\n",
              "      <td>50.8</td>\n",
              "      <td>19.0</td>\n",
              "      <td>210.0</td>\n",
              "      <td>4100.0</td>\n",
              "      <td>male</td>\n",
              "      <td>2009</td>\n",
              "    </tr>\n",
              "    <tr>\n",
              "      <th>343</th>\n",
              "      <td>Chinstrap</td>\n",
              "      <td>Dream</td>\n",
              "      <td>50.2</td>\n",
              "      <td>18.7</td>\n",
              "      <td>198.0</td>\n",
              "      <td>3775.0</td>\n",
              "      <td>female</td>\n",
              "      <td>2009</td>\n",
              "    </tr>\n",
              "  </tbody>\n",
              "</table>\n",
              "<p>344 rows × 8 columns</p>\n",
              "</div>"
            ],
            "text/plain": [
              "       species     island  bill_length_mm  ...  body_mass_g     sex  year\n",
              "0       Adelie  Torgersen            39.1  ...       3750.0    male  2007\n",
              "1       Adelie  Torgersen            39.5  ...       3800.0  female  2007\n",
              "2       Adelie  Torgersen            40.3  ...       3250.0  female  2007\n",
              "3       Adelie  Torgersen             NaN  ...          NaN     NaN  2007\n",
              "4       Adelie  Torgersen            36.7  ...       3450.0  female  2007\n",
              "..         ...        ...             ...  ...          ...     ...   ...\n",
              "339  Chinstrap      Dream            55.8  ...       4000.0    male  2009\n",
              "340  Chinstrap      Dream            43.5  ...       3400.0  female  2009\n",
              "341  Chinstrap      Dream            49.6  ...       3775.0    male  2009\n",
              "342  Chinstrap      Dream            50.8  ...       4100.0    male  2009\n",
              "343  Chinstrap      Dream            50.2  ...       3775.0  female  2009\n",
              "\n",
              "[344 rows x 8 columns]"
            ]
          },
          "metadata": {
            "tags": []
          },
          "execution_count": 31
        }
      ]
    },
    {
      "cell_type": "code",
      "metadata": {
        "colab": {
          "base_uri": "https://localhost:8080/"
        },
        "id": "gbb1bqVpfp1a",
        "outputId": "e7c99b8b-f2ca-4314-a86f-68bfb0f1684e"
      },
      "source": [
        "list(penguin_data.columns)"
      ],
      "execution_count": 9,
      "outputs": [
        {
          "output_type": "execute_result",
          "data": {
            "text/plain": [
              "['species',\n",
              " 'island',\n",
              " 'bill_length_mm',\n",
              " 'bill_depth_mm',\n",
              " 'flipper_length_mm',\n",
              " 'body_mass_g',\n",
              " 'sex',\n",
              " 'year']"
            ]
          },
          "metadata": {
            "tags": []
          },
          "execution_count": 9
        }
      ]
    },
    {
      "cell_type": "code",
      "metadata": {
        "colab": {
          "base_uri": "https://localhost:8080/"
        },
        "id": "dguYDIAhfd2W",
        "outputId": "750d622e-6a8b-4324-cc93-7fc64683f2f5"
      },
      "source": [
        "# 2번: 데이터 구조 확인\r\n",
        "# 팔머 펭귄 데이터의 구조를 확인하려고 합니다.\r\n",
        "# 데이터의 열 개수(n_var), 행의 개수(n_sample), 열 이름들(names_var)을 출력하는 코드를 작성해보세요.\r\n",
        "# code from 1번\r\n",
        "\r\n",
        "n_var = len(penguin_data.columns)\r\n",
        "n_sample = len(penguin_data.index)\r\n",
        "names_var = list(penguin_data.columns)\r\n",
        "\r\n",
        "print(n_var)\r\n",
        "print(n_sample)\r\n",
        "print(names_var)"
      ],
      "execution_count": 10,
      "outputs": [
        {
          "output_type": "stream",
          "text": [
            "8\n",
            "344\n",
            "['species', 'island', 'bill_length_mm', 'bill_depth_mm', 'flipper_length_mm', 'body_mass_g', 'sex', 'year']\n"
          ],
          "name": "stdout"
        }
      ]
    },
    {
      "cell_type": "code",
      "metadata": {
        "colab": {
          "base_uri": "https://localhost:8080/"
        },
        "id": "li99K7cGf6UW",
        "outputId": "d07a6fb9-9b1c-4d14-e5c3-5adaaba7de8c"
      },
      "source": [
        "n_var = penguin_data.shape[1]\r\n",
        "n_sample = penguin_data.shape[0]\r\n",
        "names_var = penguin_data.columns\r\n",
        "\r\n",
        "print(n_var)\r\n",
        "print(n_sample)\r\n",
        "print(names_var)"
      ],
      "execution_count": 12,
      "outputs": [
        {
          "output_type": "stream",
          "text": [
            "8\n",
            "344\n",
            "Index(['species', 'island', 'bill_length_mm', 'bill_depth_mm',\n",
            "       'flipper_length_mm', 'body_mass_g', 'sex', 'year'],\n",
            "      dtype='object')\n"
          ],
          "name": "stdout"
        }
      ]
    },
    {
      "cell_type": "code",
      "metadata": {
        "colab": {
          "base_uri": "https://localhost:8080/"
        },
        "id": "XU37C2n2f9q1",
        "outputId": "ce71a66d-938a-44b5-a165-438129b90cef"
      },
      "source": [
        "# 3번: 데이터 전처리\r\n",
        "# 팔머 펭귄 데이터에서 불완전한 데이터에 대한 정보를 확인해보고, 불완전한 데이터를 제거한 데이터의 크기를 출력하는 코드를 작성해보세요.\r\n",
        "\r\n",
        "missing_info = penguin_data.isna().sum()\r\n",
        "incomplete_data = penguin_data[penguin_data.sex.notnull() == False]\r\n",
        "penguin_data = penguin_data.dropna()\r\n",
        "\r\n",
        "print(missing_info)\r\n",
        "print(incomplete_data)\r\n",
        "print(penguin_data.shape)"
      ],
      "execution_count": 33,
      "outputs": [
        {
          "output_type": "stream",
          "text": [
            "species               0\n",
            "island                0\n",
            "bill_length_mm        2\n",
            "bill_depth_mm         2\n",
            "flipper_length_mm     2\n",
            "body_mass_g           2\n",
            "sex                  11\n",
            "year                  0\n",
            "dtype: int64\n",
            "    species     island  bill_length_mm  ...  body_mass_g  sex  year\n",
            "3    Adelie  Torgersen             NaN  ...          NaN  NaN  2007\n",
            "8    Adelie  Torgersen            34.1  ...       3475.0  NaN  2007\n",
            "9    Adelie  Torgersen            42.0  ...       4250.0  NaN  2007\n",
            "10   Adelie  Torgersen            37.8  ...       3300.0  NaN  2007\n",
            "11   Adelie  Torgersen            37.8  ...       3700.0  NaN  2007\n",
            "47   Adelie      Dream            37.5  ...       2975.0  NaN  2007\n",
            "178  Gentoo     Biscoe            44.5  ...       4100.0  NaN  2007\n",
            "218  Gentoo     Biscoe            46.2  ...       4650.0  NaN  2008\n",
            "256  Gentoo     Biscoe            47.3  ...       4725.0  NaN  2009\n",
            "268  Gentoo     Biscoe            44.5  ...       4875.0  NaN  2009\n",
            "271  Gentoo     Biscoe             NaN  ...          NaN  NaN  2009\n",
            "\n",
            "[11 rows x 8 columns]\n",
            "(333, 8)\n"
          ],
          "name": "stdout"
        }
      ]
    },
    {
      "cell_type": "code",
      "metadata": {
        "colab": {
          "base_uri": "https://localhost:8080/",
          "height": 47
        },
        "id": "-lxV3nFPhCoB",
        "outputId": "58135a2c-20ea-4087-d21c-5dc27edba02e"
      },
      "source": [
        "penguin_data[penguin_data.isnull().any(axis=1)]"
      ],
      "execution_count": 34,
      "outputs": [
        {
          "output_type": "execute_result",
          "data": {
            "text/html": [
              "<div>\n",
              "<style scoped>\n",
              "    .dataframe tbody tr th:only-of-type {\n",
              "        vertical-align: middle;\n",
              "    }\n",
              "\n",
              "    .dataframe tbody tr th {\n",
              "        vertical-align: top;\n",
              "    }\n",
              "\n",
              "    .dataframe thead th {\n",
              "        text-align: right;\n",
              "    }\n",
              "</style>\n",
              "<table border=\"1\" class=\"dataframe\">\n",
              "  <thead>\n",
              "    <tr style=\"text-align: right;\">\n",
              "      <th></th>\n",
              "      <th>species</th>\n",
              "      <th>island</th>\n",
              "      <th>bill_length_mm</th>\n",
              "      <th>bill_depth_mm</th>\n",
              "      <th>flipper_length_mm</th>\n",
              "      <th>body_mass_g</th>\n",
              "      <th>sex</th>\n",
              "      <th>year</th>\n",
              "    </tr>\n",
              "  </thead>\n",
              "  <tbody>\n",
              "  </tbody>\n",
              "</table>\n",
              "</div>"
            ],
            "text/plain": [
              "Empty DataFrame\n",
              "Columns: [species, island, bill_length_mm, bill_depth_mm, flipper_length_mm, body_mass_g, sex, year]\n",
              "Index: []"
            ]
          },
          "metadata": {
            "tags": []
          },
          "execution_count": 34
        }
      ]
    },
    {
      "cell_type": "code",
      "metadata": {
        "colab": {
          "base_uri": "https://localhost:8080/",
          "height": 406
        },
        "id": "HvfUqL91h36y",
        "outputId": "172ff640-4c49-4f62-8002-7c7d68a95f4a"
      },
      "source": [
        "# 4번: 데이터 변수 선택\r\n",
        "# 데이터 분석에 사용하지 않는 island, year column을 제거한 뒤 데이터를 출력하는 코드를 작성하세요.\r\n",
        "penguin_data = penguin_data.drop(['island','year'], axis=1)\r\n",
        "penguin_data"
      ],
      "execution_count": 37,
      "outputs": [
        {
          "output_type": "execute_result",
          "data": {
            "text/html": [
              "<div>\n",
              "<style scoped>\n",
              "    .dataframe tbody tr th:only-of-type {\n",
              "        vertical-align: middle;\n",
              "    }\n",
              "\n",
              "    .dataframe tbody tr th {\n",
              "        vertical-align: top;\n",
              "    }\n",
              "\n",
              "    .dataframe thead th {\n",
              "        text-align: right;\n",
              "    }\n",
              "</style>\n",
              "<table border=\"1\" class=\"dataframe\">\n",
              "  <thead>\n",
              "    <tr style=\"text-align: right;\">\n",
              "      <th></th>\n",
              "      <th>species</th>\n",
              "      <th>bill_length_mm</th>\n",
              "      <th>bill_depth_mm</th>\n",
              "      <th>flipper_length_mm</th>\n",
              "      <th>body_mass_g</th>\n",
              "      <th>sex</th>\n",
              "    </tr>\n",
              "  </thead>\n",
              "  <tbody>\n",
              "    <tr>\n",
              "      <th>0</th>\n",
              "      <td>Adelie</td>\n",
              "      <td>39.1</td>\n",
              "      <td>18.7</td>\n",
              "      <td>181.0</td>\n",
              "      <td>3750.0</td>\n",
              "      <td>male</td>\n",
              "    </tr>\n",
              "    <tr>\n",
              "      <th>1</th>\n",
              "      <td>Adelie</td>\n",
              "      <td>39.5</td>\n",
              "      <td>17.4</td>\n",
              "      <td>186.0</td>\n",
              "      <td>3800.0</td>\n",
              "      <td>female</td>\n",
              "    </tr>\n",
              "    <tr>\n",
              "      <th>2</th>\n",
              "      <td>Adelie</td>\n",
              "      <td>40.3</td>\n",
              "      <td>18.0</td>\n",
              "      <td>195.0</td>\n",
              "      <td>3250.0</td>\n",
              "      <td>female</td>\n",
              "    </tr>\n",
              "    <tr>\n",
              "      <th>4</th>\n",
              "      <td>Adelie</td>\n",
              "      <td>36.7</td>\n",
              "      <td>19.3</td>\n",
              "      <td>193.0</td>\n",
              "      <td>3450.0</td>\n",
              "      <td>female</td>\n",
              "    </tr>\n",
              "    <tr>\n",
              "      <th>5</th>\n",
              "      <td>Adelie</td>\n",
              "      <td>39.3</td>\n",
              "      <td>20.6</td>\n",
              "      <td>190.0</td>\n",
              "      <td>3650.0</td>\n",
              "      <td>male</td>\n",
              "    </tr>\n",
              "    <tr>\n",
              "      <th>...</th>\n",
              "      <td>...</td>\n",
              "      <td>...</td>\n",
              "      <td>...</td>\n",
              "      <td>...</td>\n",
              "      <td>...</td>\n",
              "      <td>...</td>\n",
              "    </tr>\n",
              "    <tr>\n",
              "      <th>339</th>\n",
              "      <td>Chinstrap</td>\n",
              "      <td>55.8</td>\n",
              "      <td>19.8</td>\n",
              "      <td>207.0</td>\n",
              "      <td>4000.0</td>\n",
              "      <td>male</td>\n",
              "    </tr>\n",
              "    <tr>\n",
              "      <th>340</th>\n",
              "      <td>Chinstrap</td>\n",
              "      <td>43.5</td>\n",
              "      <td>18.1</td>\n",
              "      <td>202.0</td>\n",
              "      <td>3400.0</td>\n",
              "      <td>female</td>\n",
              "    </tr>\n",
              "    <tr>\n",
              "      <th>341</th>\n",
              "      <td>Chinstrap</td>\n",
              "      <td>49.6</td>\n",
              "      <td>18.2</td>\n",
              "      <td>193.0</td>\n",
              "      <td>3775.0</td>\n",
              "      <td>male</td>\n",
              "    </tr>\n",
              "    <tr>\n",
              "      <th>342</th>\n",
              "      <td>Chinstrap</td>\n",
              "      <td>50.8</td>\n",
              "      <td>19.0</td>\n",
              "      <td>210.0</td>\n",
              "      <td>4100.0</td>\n",
              "      <td>male</td>\n",
              "    </tr>\n",
              "    <tr>\n",
              "      <th>343</th>\n",
              "      <td>Chinstrap</td>\n",
              "      <td>50.2</td>\n",
              "      <td>18.7</td>\n",
              "      <td>198.0</td>\n",
              "      <td>3775.0</td>\n",
              "      <td>female</td>\n",
              "    </tr>\n",
              "  </tbody>\n",
              "</table>\n",
              "<p>333 rows × 6 columns</p>\n",
              "</div>"
            ],
            "text/plain": [
              "       species  bill_length_mm  ...  body_mass_g     sex\n",
              "0       Adelie            39.1  ...       3750.0    male\n",
              "1       Adelie            39.5  ...       3800.0  female\n",
              "2       Adelie            40.3  ...       3250.0  female\n",
              "4       Adelie            36.7  ...       3450.0  female\n",
              "5       Adelie            39.3  ...       3650.0    male\n",
              "..         ...             ...  ...          ...     ...\n",
              "339  Chinstrap            55.8  ...       4000.0    male\n",
              "340  Chinstrap            43.5  ...       3400.0  female\n",
              "341  Chinstrap            49.6  ...       3775.0    male\n",
              "342  Chinstrap            50.8  ...       4100.0    male\n",
              "343  Chinstrap            50.2  ...       3775.0  female\n",
              "\n",
              "[333 rows x 6 columns]"
            ]
          },
          "metadata": {
            "tags": []
          },
          "execution_count": 37
        }
      ]
    },
    {
      "cell_type": "markdown",
      "metadata": {
        "id": "7auEhX5Oicux"
      },
      "source": [
        "# 분포의 중심을 잡는 지표"
      ]
    },
    {
      "cell_type": "code",
      "metadata": {
        "colab": {
          "base_uri": "https://localhost:8080/"
        },
        "id": "C4y2pOFMiEHR",
        "outputId": "bd279209-fb99-43f5-eb28-176db0d0fd65"
      },
      "source": [
        "# 1번 평균\r\n",
        "# 앞선 '데이터의 구조의 이해' 콘텐츠에서 우리는 팔머 펭귄(Palmer penguins) 데이터를 불러오고, 완전한 표본들만을 골라서, 분석에 필요한 변수들을 선택했어요.\r\n",
        "# penguin_data 데이터의 정량적 변수들(quantative variable) 의 평균을 구해보세요.\r\n",
        "import pandas as pd\r\n",
        "\r\n",
        "# load data\r\n",
        "url = \"https://raw.githubusercontent.com/allisonhorst/palmerpenguins/master/inst/extdata/penguins.csv\"\r\n",
        "penguin_data = pd.read_csv(url)\r\n",
        "\r\n",
        "# data pre-processing\r\n",
        "penguin_data = penguin_data[~penguin_data.isnull().any(axis = 1)]\r\n",
        "penguin_data = penguin_data.drop([\"island\", \"year\"], axis = 1)\r\n",
        "\r\n",
        "var_means = penguin_data.mean()\r\n",
        "var_means"
      ],
      "execution_count": 38,
      "outputs": [
        {
          "output_type": "execute_result",
          "data": {
            "text/plain": [
              "bill_length_mm         43.992793\n",
              "bill_depth_mm          17.164865\n",
              "flipper_length_mm     200.966967\n",
              "body_mass_g          4207.057057\n",
              "dtype: float64"
            ]
          },
          "metadata": {
            "tags": []
          },
          "execution_count": 38
        }
      ]
    },
    {
      "cell_type": "code",
      "metadata": {
        "colab": {
          "base_uri": "https://localhost:8080/"
        },
        "id": "IkY9Bo-YijpD",
        "outputId": "83094b48-24ed-4c25-ffb8-fc7c5754b1f9"
      },
      "source": [
        "# 2번 : 중앙값\r\n",
        "# 평균과 함께 많이 쓰이는 통계지표로 중앙값(median)이 있습니다.\r\n",
        "# penguin_data 데이터의 정량적 변수들(quantative variable)의 중앙값(median) 을 구하는 코드를 작성해보세요.\r\n",
        "\r\n",
        "var_medians = penguin_data.median()\r\n",
        "var_medians"
      ],
      "execution_count": 39,
      "outputs": [
        {
          "output_type": "execute_result",
          "data": {
            "text/plain": [
              "bill_length_mm         44.5\n",
              "bill_depth_mm          17.3\n",
              "flipper_length_mm     197.0\n",
              "body_mass_g          4050.0\n",
              "dtype: float64"
            ]
          },
          "metadata": {
            "tags": []
          },
          "execution_count": 39
        }
      ]
    },
    {
      "cell_type": "code",
      "metadata": {
        "colab": {
          "base_uri": "https://localhost:8080/"
        },
        "id": "1Aq3mw6IuxsB",
        "outputId": "ed7195a0-4498-4975-acf4-6f5570e23d29"
      },
      "source": [
        "# 3번 : 중앙값과 평균의 성질 이해 (1)\r\n",
        "# 평균과 중앙값을 계산해 보았으니, 성질에 대해서도 알아봅시다.\r\n",
        "# 펭귄 데이터에 상수 2를 곱하고 10을 더한 새로운 데이터 penguin_data_new의 중앙값과 평균을\r\n",
        "# 펭귄 데이터의 중앙값과 평균에 상수 2를 곱하고 10을 더한 값과 비교하는 코드를 작성해보세요.\r\n",
        "\r\n",
        "### Python package load ###\r\n",
        "import warnings\r\n",
        "import numpy  as np\r\n",
        "import pandas as pd\r\n",
        "import matplotlib as plt\r\n",
        "warnings.simplefilter(action='ignore', category=FutureWarning)\r\n",
        "\r\n",
        "# data set load\r\n",
        "url = \"https://raw.githubusercontent.com/allisonhorst/palmerpenguins/master/inst/extdata/penguins.csv\"\r\n",
        "penguin_data = pd.read_csv(url)\r\n",
        "\r\n",
        "# data set examination\r\n",
        "penguin_data = penguin_data[~penguin_data.isnull().any(axis=1)]\r\n",
        "penguin_data = penguin_data.drop([\"island\", \"year\"], axis = 1)\r\n",
        "penguin_data = penguin_data.drop([\"species\", \"sex\"], axis = 1)\r\n",
        "\r\n",
        "mean_vec = penguin_data.mean()\r\n",
        "median_vec = penguin_data.median()\r\n",
        "\r\n",
        "penguin_data_new = (penguin_data * 2.0) + 10\r\n",
        "\r\n",
        "mean_vec_new = penguin_data_new.mean()\r\n",
        "median_vec_new = penguin_data_new.median()\r\n",
        "\r\n",
        "print((mean_vec * 2.0 + 10.0) - mean_vec_new)\r\n",
        "print((median_vec * 2.0 + 10.0) - median_vec_new)\r\n"
      ],
      "execution_count": 43,
      "outputs": [
        {
          "output_type": "stream",
          "text": [
            "bill_length_mm      -1.421085e-14\n",
            "bill_depth_mm        1.421085e-14\n",
            "flipper_length_mm    0.000000e+00\n",
            "body_mass_g          0.000000e+00\n",
            "dtype: float64\n",
            "bill_length_mm       0.0\n",
            "bill_depth_mm        0.0\n",
            "flipper_length_mm    0.0\n",
            "body_mass_g          0.0\n",
            "dtype: float64\n"
          ],
          "name": "stdout"
        }
      ]
    },
    {
      "cell_type": "code",
      "metadata": {
        "colab": {
          "base_uri": "https://localhost:8080/"
        },
        "id": "zYUN8jctQpNo",
        "outputId": "0178dbcb-1492-4c5d-937b-757347cdb574"
      },
      "source": [
        "# 4번 : 중앙값과 평균의 성질 이해 (2)\r\n",
        "# 펭귄 데이터의 부리 길이를 length 변수로, \r\n",
        "# 부리 깊이를 depth 변수로 저장한 뒤 평균과 중앙값을 구하고, \r\n",
        "# 첫번째 변수를 +1000으로, \r\n",
        "# 마지막 변수를 -1000으로 바꾼 뒤 평균과 중앙값을 구해서 서로 비교해 보는 코드를 작성하세요.\r\n",
        "\r\n",
        "length = penguin_data[\"bill_length_mm\"].to_numpy(dtype=\"float\")\r\n",
        "depth = penguin_data[\"bill_depth_mm\"].to_numpy(dtype=\"float\")\r\n",
        "\r\n",
        "# mean and median for length, depth\r\n",
        "length_mean = length.mean()\r\n",
        "length_median = np.median(length)\r\n",
        "depth_mean = depth.mean()\r\n",
        "depth_median = np.median(depth)\r\n",
        "\r\n",
        "# value change\r\n",
        "length[0] = length[0] + 1000\r\n",
        "depth[-1] = depth[-1] - 1000\r\n",
        "\r\n",
        "# new mean and median for length, depth\r\n",
        "length_mean_new = length.mean()\r\n",
        "length_median_new = np.median(length)\r\n",
        "depth_mean_new = depth.mean()\r\n",
        "depth_median_new = np.median(depth)\r\n",
        "\r\n",
        "# compare the result\r\n",
        "length_mean_new > length_median_new \r\n",
        "depth_mean_new > depth_median_new\r\n",
        "\r\n",
        "abs(length_mean_new - length_mean)\r\n",
        "abs(length_median_new - length_median)\r\n",
        "abs(depth_mean_new - depth_mean)\r\n",
        "abs(depth_median_new - depth_median)\r\n",
        "\r\n",
        "print(length_mean_new > length_median_new)\r\n",
        "print(depth_mean_new > depth_median_new)\r\n",
        "print(abs(length_mean_new - length_mean))\r\n",
        "print(abs(length_median_new - length_median))\r\n",
        "print(abs(depth_mean_new - depth_mean))\r\n",
        "print(abs(depth_median_new - depth_median))\r\n"
      ],
      "execution_count": 44,
      "outputs": [
        {
          "output_type": "stream",
          "text": [
            "True\n",
            "False\n",
            "3.003003003003002\n",
            "0.3999999999999986\n",
            "3.0030030030030037\n",
            "0.0\n"
          ],
          "name": "stdout"
        }
      ]
    },
    {
      "cell_type": "code",
      "metadata": {
        "colab": {
          "base_uri": "https://localhost:8080/",
          "height": 294
        },
        "id": "8rdsPFeNRqiq",
        "outputId": "5a147605-557d-4fe9-ef30-dca5340e922b"
      },
      "source": [
        "# 5번 : 분포의 치우침 시각화\r\n",
        "# 팔머 펭귄 데이터의 몸무게(body_mass_g) 변수에 대한 히스토그램을 seaborn을 사용해 그려보세요.\r\n",
        "import pandas as pd\r\n",
        "import seaborn as sns\r\n",
        "import matplotlib.pyplot as plt\r\n",
        "\r\n",
        "# 데이터 불러오기\r\n",
        "url = \"https://raw.githubusercontent.com/allisonhorst/palmerpenguins/master/inst/extdata/penguins.csv\"\r\n",
        "penguin_data = pd.read_csv(url)\r\n",
        "\r\n",
        "# 데이터 전처리 및 변수 선택\r\n",
        "penguin_data = penguin_data[~penguin_data.isnull().any(axis=1)]\r\n",
        "penguin_data = penguin_data.drop([\"island\", \"year\"], axis = 1)\r\n",
        "\r\n",
        "group_mean = penguin_data.body_mass_g.mean(axis=0)\r\n",
        "group_median = penguin_data.body_mass_g.median(axis=0)\r\n",
        "\r\n",
        "# 테마 설정\r\n",
        "sns.set_style(\"darkgrid\")\r\n",
        "\r\n",
        "# 히스토그램 그리기\r\n",
        "myplot = sns.histplot(data =penguin_data, x =\"body_mass_g\" )\r\n",
        "\r\n",
        "# 제목 및 x축 제목 설정\r\n",
        "myplot.set_xlabel(\"Body mass (g)\")\r\n",
        "myplot.set_title(\"Histogram of Palmer Penguins' body mass \")\r\n",
        "\r\n",
        "# 평균, 중앙값 표시하기\r\n",
        "plt.axvline(x = group_mean,color='r')\r\n",
        "plt.axvline(x = group_median,color = 'y' )\r\n",
        "\r\n",
        "plt.show()"
      ],
      "execution_count": 56,
      "outputs": [
        {
          "output_type": "display_data",
          "data": {
            "image/png": "[encoded data removed]",
            "text/plain": [
              "<Figure size 432x288 with 1 Axes>"
            ]
          },
          "metadata": {
            "tags": []
          }
        }
      ]
    },
    {
      "cell_type": "code",
      "metadata": {
        "id": "xT63WqslTP-z"
      },
      "source": [
        "#myplot = sns.histplot(penguin_data[\"body_mass_g\"])\r\n",
        "#myplot.set(title = \"Histogram of Palmer Penguins' body mass\", xlabel = \"Body mass(g)\", ylabel=\"Count\")\r\n",
        "#plt.axvline(group_mean[3], color = \"r\")\r\n",
        "#plt.axvline(group_median[3], color = \"yellow\")\r\n",
        "#plt.show()"
      ],
      "execution_count": 58,
      "outputs": []
    },
    {
      "cell_type": "markdown",
      "metadata": {
        "id": "f9a_VGgwdnFf"
      },
      "source": [
        "# 분포의 퍼짐을 잡는 지표"
      ]
    },
    {
      "cell_type": "code",
      "metadata": {
        "colab": {
          "base_uri": "https://localhost:8080/"
        },
        "id": "y-La-LTUU646",
        "outputId": "ad59442e-e023-4da3-a3f7-b1fc0d997b77"
      },
      "source": [
        "# 1번 : IQR(Inter Quartile Range)\r\n",
        "# 팔머 펭귄(Parmer penguins) 데이터의 bill_length_mm 변수의 종(species)별 IQR을 판다스(Pandas)의 median() 함수를 구하세요.\r\n",
        "\r\n",
        "import pandas as pd\r\n",
        "\r\n",
        "# data set load\r\n",
        "url = \"https://raw.githubusercontent.com/allisonhorst/palmerpenguins/master/inst/extdata/penguins.csv\"\r\n",
        "penguin_data = pd.read_csv(url)\r\n",
        "\r\n",
        "# data pre-processing\r\n",
        "penguin_data = penguin_data[~penguin_data.isnull().any(axis=1)]\r\n",
        "penguin_data = penguin_data.drop([\"island\", \"year\"], axis = 1)\r\n",
        "\r\n",
        "group = penguin_data.groupby([\"species\"])\r\n",
        "\r\n",
        "q1 = group.quantile(.25)\r\n",
        "q3 = group.quantile(.75)\r\n",
        "\r\n",
        "iqr = q3 - q1\r\n",
        "iqr['bill_length_mm']\r\n"
      ],
      "execution_count": 83,
      "outputs": [
        {
          "output_type": "execute_result",
          "data": {
            "text/plain": [
              "species\n",
              "Adelie       4.050\n",
              "Chinstrap    4.725\n",
              "Gentoo       4.250\n",
              "Name: bill_length_mm, dtype: float64"
            ]
          },
          "metadata": {
            "tags": []
          },
          "execution_count": 83
        }
      ]
    },
    {
      "cell_type": "code",
      "metadata": {
        "colab": {
          "base_uri": "https://localhost:8080/",
          "height": 353
        },
        "id": "g4inFMFpfgeH",
        "outputId": "56c96348-e899-4aeb-8092-950f994dea20"
      },
      "source": [
        "# 2번 : 5개 숫자로 요약하기 - Box plot (1)\r\n",
        "# 팔머 펭귄(Parmer penguins) 데이터의 flipper_length_mm변수의 다섯숫자요약 정보와 종(species)별 Box plot을 그려보세요.\r\n",
        "import matplotlib.pyplot as plt\r\n",
        "\r\n",
        "boxplot_info = group['flipper_length_mm'].describe()[['min','25%','50%','75%','max']]\r\n",
        "boxplot_info.transpose().boxplot(column = [\"Adelie\", \"Chinstrap\", \"Gentoo\"])\r\n",
        "print(boxplot_info)\r\n",
        "plt.show()"
      ],
      "execution_count": 84,
      "outputs": [
        {
          "output_type": "stream",
          "text": [
            "             min    25%    50%    75%    max\n",
            "species                                     \n",
            "Adelie     172.0  186.0  190.0  195.0  210.0\n",
            "Chinstrap  178.0  191.0  196.0  201.0  212.0\n",
            "Gentoo     203.0  212.0  216.0  221.5  231.0\n"
          ],
          "name": "stdout"
        },
        {
          "output_type": "display_data",
          "data": {
            "image/png": "[encoded data removed]",
            "text/plain": [
              "<Figure size 432x288 with 1 Axes>"
            ]
          },
          "metadata": {
            "tags": [],
            "needs_background": "light"
          }
        }
      ]
    },
    {
      "cell_type": "code",
      "metadata": {
        "colab": {
          "base_uri": "https://localhost:8080/",
          "height": 353
        },
        "id": "kSijNCzlgvmV",
        "outputId": "56a05207-a9ed-43b0-fd0c-b8256c03198d"
      },
      "source": [
        "# 3번 : 특이점(outlier) 표시하기 - Box plot (2)\r\n",
        "# 앞선 문제의 코드를 사용하여 팔머 펭귄(Parmer penguins) 데이터의 bill_length_mm 변수의 종(species)별 Box plot을 그려보고, Boxplot의 수염(Whisker) 정보를 가지는 DataFrame boxplot_info와 Boxplot 바깥의 outlier 정보를 담은 DataFrame outlier_info 를 구하는 코드를 작성해보세요.\r\n",
        "\r\n",
        "boxplot_info = group['bill_length_mm'].describe()[['min','25%','50%','75%','max']]\r\n",
        "\r\n",
        "print(boxplot_info)\r\n",
        "flierprops = dict(marker='+', markeredgecolor='r',linestyle='none')\r\n",
        "boxplot_info.transpose().boxplot(column = [\"Adelie\", \"Chinstrap\", \"Gentoo\"], flierprops=flierprops )\r\n",
        "plt.show()"
      ],
      "execution_count": 85,
      "outputs": [
        {
          "output_type": "stream",
          "text": [
            "            min     25%    50%     75%   max\n",
            "species                                     \n",
            "Adelie     32.1  36.725  38.85  40.775  46.0\n",
            "Chinstrap  40.9  46.350  49.55  51.075  58.0\n",
            "Gentoo     40.9  45.350  47.40  49.600  59.6\n"
          ],
          "name": "stdout"
        },
        {
          "output_type": "display_data",
          "data": {
            "image/png": "[encoded data removed]",
            "text/plain": [
              "<Figure size 432x288 with 1 Axes>"
            ]
          },
          "metadata": {
            "tags": [],
            "needs_background": "light"
          }
        }
      ]
    },
    {
      "cell_type": "code",
      "metadata": {
        "colab": {
          "base_uri": "https://localhost:8080/"
        },
        "id": "OTyDic3khF9e",
        "outputId": "03d3b9ae-539a-464e-f3db-aac212ff3b4a"
      },
      "source": [
        "# 4번 : 분산과 표준편차\r\n",
        "# 펭귄 데이터의 bill_length_mm 의 표본 분산과 표준 편차를 구하는 코드를 작성해보세요.\r\n",
        "# (단, Pandas의 var() 과 std() 함수를 쓰지 않고 구해보세요.)\r\n",
        "import numpy as np\r\n",
        "\r\n",
        "x = penguin_data[\"bill_length_mm\"]\r\n",
        "mean = x.mean()\r\n",
        "x_var = x.var()\r\n",
        "x_std = x.std()\r\n",
        "\r\n",
        "print(x_std)\r\n",
        "print(x_var)\r\n"
      ],
      "execution_count": 124,
      "outputs": [
        {
          "output_type": "stream",
          "text": [
            "5.46866834264756\n",
            "29.90633344187561\n"
          ],
          "name": "stdout"
        }
      ]
    },
    {
      "cell_type": "code",
      "metadata": {
        "colab": {
          "base_uri": "https://localhost:8080/"
        },
        "id": "r94TV-7cTt1q",
        "outputId": "ef731a04-6154-4539-f418-77fbf09f46ce"
      },
      "source": [
        "# 5번 : 분산과 표준편차의 성질\r\n",
        "# 다음 조건에 명시된 5가지의 DataFrame을 pandas의 var()과 std() 함수를 써서 출력해보세요.\r\n",
        "\r\n",
        "### Python package load ###\r\n",
        "import warnings\r\n",
        "import pandas as pd\r\n",
        "import math\r\n",
        "\r\n",
        "warnings.simplefilter(action='ignore', category=FutureWarning)\r\n",
        "\r\n",
        "# data set load\r\n",
        "url = \"https://raw.githubusercontent.com/allisonhorst/palmerpenguins/master/inst/extdata/penguins.csv\"\r\n",
        "penguin_data = pd.read_csv(url)\r\n",
        "\r\n",
        "# data pre-processing\r\n",
        "penguin_data = penguin_data[~penguin_data.isnull().any(axis=1)]\r\n",
        "penguin_data = penguin_data.drop([\"island\", \"year\"], axis = 1)\r\n",
        "\r\n",
        "group = penguin_data.groupby([\"species\"])\r\n",
        "penguin_data_plus10 = penguin_data.set_index('species')[['bill_length_mm',\t'bill_depth_mm','flipper_length_mm','body_mass_g']] + 10\r\n",
        "penguin_data_x2 = penguin_data.set_index('species')[['bill_length_mm',\t'bill_depth_mm','flipper_length_mm','body_mass_g']] * 2\r\n",
        "\r\n",
        "result1 = group.var()\r\n",
        "result2 = penguin_data_plus10.groupby('species').var()\r\n",
        "result3 = penguin_data_x2.groupby('species').var()\r\n",
        "\r\n",
        "# result checkout\r\n",
        "#result2[0] / result1[0] # var\r\n",
        "#result2[1] / result1[1] # std\r\n",
        "#result3[0] / result1[0] # var\r\n",
        "#result3[1] / result1[1] # std\r\n",
        "\r\n",
        "print(penguin_data_plus10)\r\n",
        "print(penguin_data_x2)\r\n",
        "print(result1)\r\n",
        "print(result2)\r\n",
        "print(result3)"
      ],
      "execution_count": 170,
      "outputs": [
        {
          "output_type": "stream",
          "text": [
            "           bill_length_mm  bill_depth_mm  flipper_length_mm  body_mass_g\n",
            "species                                                                 \n",
            "Adelie               49.1           28.7              191.0       3760.0\n",
            "Adelie               49.5           27.4              196.0       3810.0\n",
            "Adelie               50.3           28.0              205.0       3260.0\n",
            "Adelie               46.7           29.3              203.0       3460.0\n",
            "Adelie               49.3           30.6              200.0       3660.0\n",
            "...                   ...            ...                ...          ...\n",
            "Chinstrap            65.8           29.8              217.0       4010.0\n",
            "Chinstrap            53.5           28.1              212.0       3410.0\n",
            "Chinstrap            59.6           28.2              203.0       3785.0\n",
            "Chinstrap            60.8           29.0              220.0       4110.0\n",
            "Chinstrap            60.2           28.7              208.0       3785.0\n",
            "\n",
            "[333 rows x 4 columns]\n",
            "           bill_length_mm  bill_depth_mm  flipper_length_mm  body_mass_g\n",
            "species                                                                 \n",
            "Adelie               78.2           37.4              362.0       7500.0\n",
            "Adelie               79.0           34.8              372.0       7600.0\n",
            "Adelie               80.6           36.0              390.0       6500.0\n",
            "Adelie               73.4           38.6              386.0       6900.0\n",
            "Adelie               78.6           41.2              380.0       7300.0\n",
            "...                   ...            ...                ...          ...\n",
            "Chinstrap           111.6           39.6              414.0       8000.0\n",
            "Chinstrap            87.0           36.2              404.0       6800.0\n",
            "Chinstrap            99.2           36.4              386.0       7550.0\n",
            "Chinstrap           101.6           38.0              420.0       8200.0\n",
            "Chinstrap           100.4           37.4              396.0       7550.0\n",
            "\n",
            "[333 rows x 4 columns]\n",
            "           bill_length_mm  bill_depth_mm  flipper_length_mm    body_mass_g\n",
            "species                                                                   \n",
            "Adelie           7.089421       1.486786          42.534199  210332.427964\n",
            "Chinstrap       11.150630       1.289122          50.863916  147713.454785\n",
            "Gentoo           9.647955       0.972192          43.367896  251478.332859\n",
            "           bill_length_mm  bill_depth_mm  flipper_length_mm    body_mass_g\n",
            "species                                                                   \n",
            "Adelie           7.089421       1.486786          42.534199  210332.427964\n",
            "Chinstrap       11.150630       1.289122          50.863916  147713.454785\n",
            "Gentoo           9.647955       0.972192          43.367896  251478.332859\n",
            "           bill_length_mm  bill_depth_mm  flipper_length_mm   body_mass_g\n",
            "species                                                                  \n",
            "Adelie          28.357685       5.947142         170.136797  8.413297e+05\n",
            "Chinstrap       44.602520       5.156488         203.455663  5.908538e+05\n",
            "Gentoo          38.591819       3.888768         173.471585  1.005913e+06\n"
          ],
          "name": "stdout"
        }
      ]
    }
  ]
}