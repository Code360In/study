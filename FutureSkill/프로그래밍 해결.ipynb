{
  "nbformat": 4,
  "nbformat_minor": 0,
  "metadata": {
    "colab": {
      "name": "프로그래밍.ipynb",
      "provenance": []
    },
    "kernelspec": {
      "name": "python3",
      "display_name": "Python 3"
    }
  },
  "cells": [
    {
      "cell_type": "markdown",
      "metadata": {
        "id": "9TgRu_Ky9_wZ"
      },
      "source": [
        "# 문제를 해결하는 힘을 길러요, 프로그래밍\r\n",
        "# 변수와 자료형"
      ]
    },
    {
      "cell_type": "code",
      "metadata": {
        "colab": {
          "base_uri": "https://localhost:8080/"
        },
        "id": "iG6pwokJ9EbY",
        "outputId": "6a3c9194-7f0a-452d-df40-c9a6c8db885d"
      },
      "source": [
        "l = [100, 200, 300]\r\n",
        "\r\n",
        "print(type(l))"
      ],
      "execution_count": null,
      "outputs": [
        {
          "output_type": "stream",
          "text": [
            "<class 'list'>\n"
          ],
          "name": "stdout"
        }
      ]
    },
    {
      "cell_type": "code",
      "metadata": {
        "colab": {
          "base_uri": "https://localhost:8080/"
        },
        "id": "mVK5HSTz9IeL",
        "outputId": "d5a9d7cd-b27d-4a00-ea34-c5e635bff45d"
      },
      "source": [
        "# 2번 : 변수의 자료형 2\r\n",
        "# 다음 베이스라인의 출력 결과를 작성하세요.\r\n",
        "# 베이스라인처럼 변수 a를 입력으로 받아서, print(type(a)) 로 넣었을 때 변수의 자료형이 출력됩니다.\r\n",
        "\r\n",
        "a = 1\r\n",
        "b = 2.22\r\n",
        "c = 'p'\r\n",
        "d = [1, 2, 3]\r\n",
        "\r\n",
        "print(type(a))\r\n",
        "print(type(b))\r\n",
        "print(type(c))\r\n",
        "print(type(d))"
      ],
      "execution_count": null,
      "outputs": [
        {
          "output_type": "stream",
          "text": [
            "<class 'int'>\n",
            "<class 'float'>\n",
            "<class 'str'>\n",
            "<class 'list'>\n"
          ],
          "name": "stdout"
        }
      ]
    },
    {
      "cell_type": "code",
      "metadata": {
        "id": "ev_7umf09UYV"
      },
      "source": [
        "# 3번 : false\r\n",
        "# 다음 베이스라인중, 파이썬 문법상 FALSE로 간주하지 않고 TRUE로 간주하는 변수를 고르세요.\r\n",
        "\r\n",
        "a = None\r\n",
        "b = 1\r\n",
        "c = \"\"\r\n",
        "d = 0\r\n",
        "e = bool(0)\r\n"
      ],
      "execution_count": null,
      "outputs": []
    },
    {
      "cell_type": "code",
      "metadata": {
        "colab": {
          "base_uri": "https://localhost:8080/"
        },
        "id": "RwDWkDs09c1B",
        "outputId": "e5f24bdf-032c-45a0-8384-dc4858e68a8e"
      },
      "source": [
        "a = None\r\n",
        "b = 1\r\n",
        "c = \"\"\r\n",
        "d = 0\r\n",
        "e = bool(0)\r\n",
        "\r\n",
        "if a:\r\n",
        "    print(\"a is True\")\r\n",
        "if b:\r\n",
        "    print(\"b is True\")\r\n",
        "if c:\r\n",
        "    print(\"c is True\")\r\n",
        "if d:\r\n",
        "    print(\"d is True\")\r\n",
        "if e:\r\n",
        "    print(\"e is True\")"
      ],
      "execution_count": null,
      "outputs": [
        {
          "output_type": "stream",
          "text": [
            "b is True\n"
          ],
          "name": "stdout"
        }
      ]
    },
    {
      "cell_type": "code",
      "metadata": {
        "colab": {
          "base_uri": "https://localhost:8080/",
          "height": 134
        },
        "id": "yL3mAfF29d66",
        "outputId": "b5ee311f-07a0-4416-f9c5-2d61c27b1cdf"
      },
      "source": [
        "# 4번 : 변수명\r\n",
        "# 다음 베이스라인에서 변수명으로 사용할 수 없어 에러가 출력되는 코드를 2개 고르세요.\r\n",
        "age = 0\r\n",
        "a = 1\r\n",
        "#as = 'hello'\r\n",
        "_age = 'world'\r\n",
        "#1age = 3.14"
      ],
      "execution_count": null,
      "outputs": [
        {
          "output_type": "error",
          "ename": "SyntaxError",
          "evalue": "ignored",
          "traceback": [
            "\u001b[0;36m  File \u001b[0;32m\"<ipython-input-15-a4fd93878ce0>\"\u001b[0;36m, line \u001b[0;32m7\u001b[0m\n\u001b[0;31m    1age = 3.14\u001b[0m\n\u001b[0m       ^\u001b[0m\n\u001b[0;31mSyntaxError\u001b[0m\u001b[0;31m:\u001b[0m invalid syntax\n"
          ]
        }
      ]
    },
    {
      "cell_type": "code",
      "metadata": {
        "colab": {
          "base_uri": "https://localhost:8080/"
        },
        "id": "_ujKfWY3AZ6e",
        "outputId": "e73ae245-8e99-4271-bccc-9d9984cfbf43"
      },
      "source": [
        "# 5번 : 패션대회\r\n",
        "import re\r\n",
        "\r\n",
        "records = \"1번: 4,2,3 2번: 3 3번: 2,3,4,1 4번: 2,3\"\r\n",
        "unique_item = []\r\n",
        "\r\n",
        "regex = re.compile(\"\\d번\")\r\n",
        "reg = regex.findall(records)\r\n",
        "for i in reg:\r\n",
        "    records = records.replace(i,'')\r\n",
        "res = re.findall(\"\\d+\", records)\r\n",
        "unique_item = sorted(set(res), key = lambda x: res.index(x))\r\n",
        "print(unique_item)"
      ],
      "execution_count": null,
      "outputs": [
        {
          "output_type": "stream",
          "text": [
            "['4', '2', '3', '1']\n"
          ],
          "name": "stdout"
        }
      ]
    },
    {
      "cell_type": "markdown",
      "metadata": {
        "id": "HZcpIvWa9-G8"
      },
      "source": [
        "# 입출력"
      ]
    },
    {
      "cell_type": "code",
      "metadata": {
        "colab": {
          "base_uri": "https://localhost:8080/"
        },
        "id": "821l4q5V9zvV",
        "outputId": "3af89f25-ff12-4576-91ba-72ae851856e7"
      },
      "source": [
        "# 1번 : 자기소개\r\n",
        "# 신학기가 시작되고, 아이들이 돌아가면서 자기소개를 하기로 했습니다. 이름을 입력하면 자기소개를 하는 문장이 출력되도록 코드를 작성하세요.\r\n",
        "print('안녕하세요. 저는',input()+'입니다.')"
      ],
      "execution_count": null,
      "outputs": [
        {
          "output_type": "stream",
          "text": [
            "김다정\n",
            "안녕하세요. 저는 김다정입니다.\n"
          ],
          "name": "stdout"
        }
      ]
    },
    {
      "cell_type": "code",
      "metadata": {
        "colab": {
          "base_uri": "https://localhost:8080/"
        },
        "id": "Og6W7cEl-Whj",
        "outputId": "270b4eb2-26c9-4287-aa32-79b6402a5863"
      },
      "source": [
        "# 2번 : OX문제\r\n",
        "# print(10/2)의 출력 결과는 5인가요? 맞다면 O, 틀리다면 X 를 제출하세요.\r\n",
        "if print(10/2) == 5:\r\n",
        "    print('O')\r\n",
        "else:\r\n",
        "    print('X')"
      ],
      "execution_count": null,
      "outputs": [
        {
          "output_type": "stream",
          "text": [
            "5.0\n",
            "X\n"
          ],
          "name": "stdout"
        }
      ]
    },
    {
      "cell_type": "code",
      "metadata": {
        "colab": {
          "base_uri": "https://localhost:8080/"
        },
        "id": "r8CiFKHc-hXe",
        "outputId": "2882d9b6-2da5-4d09-81f2-0ccc3a970166"
      },
      "source": [
        "# 3번 : sep과 end를 활용한 출력방법\r\n",
        "year = '2020'\r\n",
        "month = '09'\r\n",
        "day = '01'\r\n",
        "hour = '11'\r\n",
        "minute = '34'\r\n",
        "second = '27'\r\n",
        "print(year, month, day, sep = '/', end = ' ')\r\n",
        "print(hour, minute, second,sep = ':' )"
      ],
      "execution_count": null,
      "outputs": [
        {
          "output_type": "stream",
          "text": [
            "2020/09/01 11:34:27\n"
          ],
          "name": "stdout"
        }
      ]
    },
    {
      "cell_type": "markdown",
      "metadata": {
        "id": "lzUuzbqHLY1o"
      },
      "source": [
        "# 조건문"
      ]
    },
    {
      "cell_type": "code",
      "metadata": {
        "id": "GdaacG5NBRi4",
        "colab": {
          "base_uri": "https://localhost:8080/"
        },
        "outputId": "33cc4a22-ce17-481c-f5f7-8e9a97f19316"
      },
      "source": [
        "# 1번 : 놀이기구 키 제한\r\n",
        "#입력으로 키가 주어지면, 키가 150이 넘으면 True를 틀리면 False를 출력하는 코드를 작성하세요.\r\n",
        "\r\n",
        "a , b = int(input()), float(input())\r\n",
        "if a > 150:\r\n",
        "    print(True)\r\n",
        "else:\r\n",
        "    print(False)\r\n",
        "if b > 150:\r\n",
        "    print(True)\r\n",
        "else:\r\n",
        "    print(False)"
      ],
      "execution_count": null,
      "outputs": [
        {
          "output_type": "stream",
          "text": [
            "154\n",
            "37.8\n",
            "True\n",
            "False\n"
          ],
          "name": "stdout"
        }
      ]
    },
    {
      "cell_type": "code",
      "metadata": {
        "colab": {
          "base_uri": "https://localhost:8080/"
        },
        "id": "CVe3RRAaFg_m",
        "outputId": "eda1bac5-5024-4ad7-a464-9f706b03c694"
      },
      "source": [
        "for i in range(2):\r\n",
        "    height = float(input())\r\n",
        "    if height < 150:\r\n",
        "        False\r\n",
        "    else:\r\n",
        "        True"
      ],
      "execution_count": null,
      "outputs": [
        {
          "output_type": "stream",
          "text": [
            "154 \n",
            "37.8\n"
          ],
          "name": "stdout"
        }
      ]
    },
    {
      "cell_type": "code",
      "metadata": {
        "colab": {
          "base_uri": "https://localhost:8080/"
        },
        "id": "XMFdeOqqGGXX",
        "outputId": "72fd43d0-226e-4c7a-b646-dba5df046f1b"
      },
      "source": [
        "# 2번 : 3의 배수 인가요\r\n",
        "# 입력으로 랜덤한 숫자 n이 주어집니다. 만약 그 수가 3의 배수라면 '짝'이라는 글자를, 3의 배수가 아니라면 n을 그대로 출력하는 코드를 작성해주세요.\r\n",
        "for i in range(2):\r\n",
        "    n = int(input())\r\n",
        "    if n % 3 == 0:\r\n",
        "        print('8')\r\n",
        "    else:\r\n",
        "        print(n)"
      ],
      "execution_count": null,
      "outputs": [
        {
          "output_type": "stream",
          "text": [
            "3\n",
            "짝\n",
            "8\n",
            "8\n"
          ],
          "name": "stdout"
        }
      ]
    },
    {
      "cell_type": "code",
      "metadata": {
        "colab": {
          "base_uri": "https://localhost:8080/"
        },
        "id": "A2Om7_R_GYSR",
        "outputId": "b536decc-215b-4e5a-99a1-e7a182b451a8"
      },
      "source": [
        "while 1:\r\n",
        "    try:\r\n",
        "        n = int(input())\r\n",
        "    except:\r\n",
        "        break\r\n",
        "    if n % 3 == 0: # n을 3으로 나눈 나머지가 0이면 == 3의 배수\r\n",
        "        print('짝')\r\n",
        "    else:\r\n",
        "        print(n)"
      ],
      "execution_count": null,
      "outputs": [
        {
          "output_type": "stream",
          "text": [
            "3\n",
            "짝\n",
            "8\n",
            "8\n",
            "ㅂㅈㄷ\n"
          ],
          "name": "stdout"
        }
      ]
    },
    {
      "cell_type": "code",
      "metadata": {
        "colab": {
          "base_uri": "https://localhost:8080/"
        },
        "id": "O5k7MBWKGkFA",
        "outputId": "7fc781ff-3960-4922-ebc3-576d528166bf"
      },
      "source": [
        "# 3번 : 배수인지 확인하기\r\n",
        "#변수 i가 6의 배수인지 확인하여, 맞으면 True, 틀리면 False 를 출력하는 코드를 작성하세요.\r\n",
        "\r\n",
        "i = 7\r\n",
        "if i % 6 == 0:\r\n",
        "    print(True)\r\n",
        "else:\r\n",
        "    print('NO')\r\n"
      ],
      "execution_count": null,
      "outputs": [
        {
          "output_type": "stream",
          "text": [
            "NO\n"
          ],
          "name": "stdout"
        }
      ]
    },
    {
      "cell_type": "code",
      "metadata": {
        "colab": {
          "base_uri": "https://localhost:8080/",
          "height": 401
        },
        "id": "AM3rxm4lGvld",
        "outputId": "0d1ed1d3-db32-4c48-ca47-4cd0fab6872f"
      },
      "source": [
        "# 4번 : 연속되는 수\r\n",
        "# 숫자가 공백으로 구분되어 주어지면, 이 숫자의 배열이 연속수인지 아닌지 True/False 로 판별하는 코드를 작성해주세요. (단, 자연수와 음수를 포함한 정수를 입력으로 받으며, 연속인지 아닌지의 기준은 정수를 기준으로 한다.)\r\n",
        "\r\n",
        "for i in range(6):\r\n",
        "    try:\r\n",
        "            n = list(map(int, input().split()))\r\n",
        "            res = sorted(n)\r\n",
        "            if res[i+1] == res[i] + 1:\r\n",
        "                print(True)\r\n",
        "            else:\r\n",
        "                print(False)\r\n",
        "    except ValueError:\r\n",
        "        print('정수가 아닌수가 포함되어 있습니다.')"
      ],
      "execution_count": null,
      "outputs": [
        {
          "output_type": "stream",
          "text": [
            "99 100 101\n",
            "True\n",
            "-2 -1 0 1 2\n",
            "True\n",
            "0.1 0.2 0.3\n",
            "정수가 아닌수가 포함되어 있습니다.\n",
            "1 1.5 2\n",
            "정수가 아닌수가 포함되어 있습니다.\n",
            "1 4 2 6\n"
          ],
          "name": "stdout"
        },
        {
          "output_type": "error",
          "ename": "IndexError",
          "evalue": "ignored",
          "traceback": [
            "\u001b[0;31m---------------------------------------------------------------------------\u001b[0m",
            "\u001b[0;31mIndexError\u001b[0m                                Traceback (most recent call last)",
            "\u001b[0;32m<ipython-input-4-f903052c8f9c>\u001b[0m in \u001b[0;36m<module>\u001b[0;34m()\u001b[0m\n\u001b[1;32m      6\u001b[0m             \u001b[0mn\u001b[0m \u001b[0;34m=\u001b[0m \u001b[0mlist\u001b[0m\u001b[0;34m(\u001b[0m\u001b[0mmap\u001b[0m\u001b[0;34m(\u001b[0m\u001b[0mint\u001b[0m\u001b[0;34m,\u001b[0m \u001b[0minput\u001b[0m\u001b[0;34m(\u001b[0m\u001b[0;34m)\u001b[0m\u001b[0;34m.\u001b[0m\u001b[0msplit\u001b[0m\u001b[0;34m(\u001b[0m\u001b[0;34m)\u001b[0m\u001b[0;34m)\u001b[0m\u001b[0;34m)\u001b[0m\u001b[0;34m\u001b[0m\u001b[0;34m\u001b[0m\u001b[0m\n\u001b[1;32m      7\u001b[0m             \u001b[0mres\u001b[0m \u001b[0;34m=\u001b[0m \u001b[0msorted\u001b[0m\u001b[0;34m(\u001b[0m\u001b[0mn\u001b[0m\u001b[0;34m)\u001b[0m\u001b[0;34m\u001b[0m\u001b[0;34m\u001b[0m\u001b[0m\n\u001b[0;32m----> 8\u001b[0;31m             \u001b[0;32mif\u001b[0m \u001b[0mres\u001b[0m\u001b[0;34m[\u001b[0m\u001b[0mi\u001b[0m\u001b[0;34m+\u001b[0m\u001b[0;36m1\u001b[0m\u001b[0;34m]\u001b[0m \u001b[0;34m==\u001b[0m \u001b[0mres\u001b[0m\u001b[0;34m[\u001b[0m\u001b[0mi\u001b[0m\u001b[0;34m]\u001b[0m \u001b[0;34m+\u001b[0m \u001b[0;36m1\u001b[0m\u001b[0;34m:\u001b[0m\u001b[0;34m\u001b[0m\u001b[0;34m\u001b[0m\u001b[0m\n\u001b[0m\u001b[1;32m      9\u001b[0m                 \u001b[0mprint\u001b[0m\u001b[0;34m(\u001b[0m\u001b[0;32mTrue\u001b[0m\u001b[0;34m)\u001b[0m\u001b[0;34m\u001b[0m\u001b[0;34m\u001b[0m\u001b[0m\n\u001b[1;32m     10\u001b[0m             \u001b[0;32melse\u001b[0m\u001b[0;34m:\u001b[0m\u001b[0;34m\u001b[0m\u001b[0;34m\u001b[0m\u001b[0m\n",
            "\u001b[0;31mIndexError\u001b[0m: list index out of range"
          ]
        }
      ]
    },
    {
      "cell_type": "code",
      "metadata": {
        "colab": {
          "base_uri": "https://localhost:8080/"
        },
        "id": "RVAR-NqqIPtN",
        "outputId": "d29249d5-3149-44e2-8376-ec3ceb7f2ba6"
      },
      "source": [
        "for i in range(6):\r\n",
        "    try:\r\n",
        "        new_list = list(map(int, input().split()))\r\n",
        "        new_list = sorted(new_list)\r\n",
        "        start = new_list[0]\r\n",
        "        for i in new_list:\r\n",
        "            if start == i:\r\n",
        "                start += 1\r\n",
        "                continue\r\n",
        "            else:\r\n",
        "                print(False)\r\n",
        "                break\r\n",
        "            print(True)\r\n",
        "    except ValueError:\r\n",
        "        print('정수가 아닌수가 포함되어 있습니다.')"
      ],
      "execution_count": null,
      "outputs": [
        {
          "output_type": "stream",
          "text": [
            "1 2 4 3 5\n",
            "1 4 2 6\n",
            "False\n",
            "99 100 101\n",
            "-2 -1 0 1 2\n",
            "0.1 0.2 0.3\n",
            "정수가 아닌수가 포함되어 있습니다.\n",
            "1 1.5 2\n",
            "정수가 아닌수가 포함되어 있습니다.\n"
          ],
          "name": "stdout"
        }
      ]
    },
    {
      "cell_type": "markdown",
      "metadata": {
        "id": "1qTKsKHwLauu"
      },
      "source": [
        "# 반복문"
      ]
    },
    {
      "cell_type": "code",
      "metadata": {
        "colab": {
          "base_uri": "https://localhost:8080/"
        },
        "id": "5hvxMB4lLXPR",
        "outputId": "07200038-3b13-4c88-dba4-07f556d997c3"
      },
      "source": [
        "# 1번 : for문 계산\r\n",
        "# 다음 베이스라인의 출력값은 무엇인가요?\r\n",
        "\r\n",
        "a = 10\r\n",
        "b = 2\r\n",
        "for i in range(1, 5, 2):\r\n",
        "    a += i\r\n",
        " \r\n",
        "print(a+b)"
      ],
      "execution_count": null,
      "outputs": [
        {
          "output_type": "stream",
          "text": [
            "16\n"
          ],
          "name": "stdout"
        }
      ]
    },
    {
      "cell_type": "code",
      "metadata": {
        "colab": {
          "base_uri": "https://localhost:8080/"
        },
        "id": "2s1AUydVLetP",
        "outputId": "897c3754-af41-4bad-f194-60f45aa6d2dd"
      },
      "source": [
        "# 2번 : 구구단 출력하기\r\n",
        "# 1~9까지의 숫자 중 하나를 입력하면 그 단의 구구단 결과를 한 줄에 출력하는 코드를 작성해보세요.\r\n",
        "\r\n",
        "x = int(input())\r\n",
        "res = []\r\n",
        "for y in range(1, 10):\r\n",
        "    res.append(x*y)\r\n",
        "res        "
      ],
      "execution_count": null,
      "outputs": [
        {
          "output_type": "stream",
          "text": [
            "2\n"
          ],
          "name": "stdout"
        },
        {
          "output_type": "execute_result",
          "data": {
            "text/plain": [
              "[2, 4, 6, 8, 10, 12, 14, 16, 18]"
            ]
          },
          "metadata": {
            "tags": []
          },
          "execution_count": 10
        }
      ]
    },
    {
      "cell_type": "code",
      "metadata": {
        "colab": {
          "base_uri": "https://localhost:8080/"
        },
        "id": "E-k640ZmoO22",
        "outputId": "5a3c9289-953b-408f-b2be-45cb9534f6fe"
      },
      "source": [
        "num = input() \r\n",
        "\r\n",
        "nums_list = list([str(i*int(num)) for i in range(1, 10)])\r\n",
        "print(', '.join(nums_list))"
      ],
      "execution_count": null,
      "outputs": [
        {
          "output_type": "stream",
          "text": [
            "2\n",
            "2, 4, 6, 8, 10, 12, 14, 16, 18\n"
          ],
          "name": "stdout"
        }
      ]
    },
    {
      "cell_type": "code",
      "metadata": {
        "colab": {
          "base_uri": "https://localhost:8080/"
        },
        "id": "s9a1dfqTpStm",
        "outputId": "5e34dbc1-75cf-4ea1-c6e4-c5a0d946507e"
      },
      "source": [
        "a = int(input())\r\n",
        "for i in range(1, 10):\r\n",
        "    print(f'{a}x{i} = {a*i}')"
      ],
      "execution_count": null,
      "outputs": [
        {
          "output_type": "stream",
          "text": [
            "2\n",
            "2x1 = 2\n",
            "2x2 = 4\n",
            "2x3 = 6\n",
            "2x4 = 8\n",
            "2x5 = 10\n",
            "2x6 = 12\n",
            "2x7 = 14\n",
            "2x8 = 16\n",
            "2x9 = 18\n"
          ],
          "name": "stdout"
        }
      ]
    },
    {
      "cell_type": "code",
      "metadata": {
        "colab": {
          "base_uri": "https://localhost:8080/"
        },
        "id": "8ITy0dUvpTDI",
        "outputId": "d97aa787-b110-4e18-84bd-3039cfbf5644"
      },
      "source": [
        "# 3번 : for문을 이용한 기본 활용\r\n",
        "# 0부터 100까지를 모두 더하는 코드를 작성하세요. (단, for문을 활용하세요.)\r\n",
        "\r\n",
        "sum = 0\r\n",
        "for i in range(0,101):\r\n",
        "    sum += i\r\n",
        "print(sum)"
      ],
      "execution_count": null,
      "outputs": [
        {
          "output_type": "stream",
          "text": [
            "5050\n"
          ],
          "name": "stdout"
        }
      ]
    },
    {
      "cell_type": "code",
      "metadata": {
        "colab": {
          "base_uri": "https://localhost:8080/"
        },
        "id": "f9FjnpRRpbXd",
        "outputId": "d07016ad-4c70-4438-d3bb-056f5996a290"
      },
      "source": [
        "# 4번 : 별 찍기\r\n",
        "a = int(input())\r\n",
        "for i in range(1,a+1):\r\n",
        "    for j in range(a+1 -i):\r\n",
        "        print(\" \", end =\"\")\r\n",
        "    for j in range(2 * i -1):\r\n",
        "        print(\"*\", end = \"\")\r\n",
        "    print()"
      ],
      "execution_count": null,
      "outputs": [
        {
          "output_type": "stream",
          "text": [
            "5\n",
            "     *\n",
            "    ***\n",
            "   *****\n",
            "  *******\n",
            " *********\n"
          ],
          "name": "stdout"
        }
      ]
    },
    {
      "cell_type": "markdown",
      "metadata": {
        "id": "jh0c_PDZsB1g"
      },
      "source": [
        "# 리스트"
      ]
    },
    {
      "cell_type": "code",
      "metadata": {
        "colab": {
          "base_uri": "https://localhost:8080/"
        },
        "id": "3B0AgjcerC4V",
        "outputId": "764ab05a-3aa3-4acc-8bb0-6d9531c36072"
      },
      "source": [
        "# 1번 : 리스트의 삭제\r\n",
        "# 주어진 리스트에서 400, 500을 삭제하는 코드를 작성하세요.\r\n",
        "\r\n",
        "nums = [100, 200, 300, 400, 500]\r\n",
        "del nums[4]\r\n",
        "del nums[3]\r\n",
        "print(nums)"
      ],
      "execution_count": null,
      "outputs": [
        {
          "output_type": "stream",
          "text": [
            "[100, 200, 300]\n"
          ],
          "name": "stdout"
        }
      ]
    },
    {
      "cell_type": "code",
      "metadata": {
        "id": "jcnOW0cdsQ7R"
      },
      "source": [
        "nums = [100, 200, 300, 400, 500]\r\n",
        "\r\n",
        "nums.remove(400)\r\n",
        "nums.remove(500)\r\n"
      ],
      "execution_count": null,
      "outputs": []
    },
    {
      "cell_type": "code",
      "metadata": {
        "colab": {
          "base_uri": "https://localhost:8080/"
        },
        "id": "Y1RQ3MlxsTuj",
        "outputId": "849ab101-f3e1-458e-8cb1-e92457251a5a"
      },
      "source": [
        "# 2번 : 리스트의 내장함수\r\n",
        "# 주어진 리스트의 중간에 숫자를 삽입하는 코드를 작성하세요.\r\n",
        "nums = [200, 100, 300]\r\n",
        "nums.insert(2,10000)\r\n",
        "print(nums)"
      ],
      "execution_count": null,
      "outputs": [
        {
          "output_type": "stream",
          "text": [
            "[200, 100, 10000, 300]\n"
          ],
          "name": "stdout"
        }
      ]
    },
    {
      "cell_type": "code",
      "metadata": {
        "colab": {
          "base_uri": "https://localhost:8080/"
        },
        "id": "Qbd-fMjGskEr",
        "outputId": "73e3e4d3-c7bf-45a6-a04d-613792a2e74e"
      },
      "source": [
        "# 3번 : 변형된 리스트\r\n",
        "# 다음과 같이 리스트를 조작하는 코드를 작성하세요.\r\n",
        "\r\n",
        "a = [1, 2, 3, 4]\r\n",
        "b = ['a', 'b', 'c', 'd']\r\n",
        "\r\n",
        "list(map(list,zip(a,b)))"
      ],
      "execution_count": null,
      "outputs": [
        {
          "output_type": "execute_result",
          "data": {
            "text/plain": [
              "[[1, 'a'], [2, 'b'], [3, 'c'], [4, 'd']]"
            ]
          },
          "metadata": {
            "tags": []
          },
          "execution_count": 73
        }
      ]
    },
    {
      "cell_type": "code",
      "metadata": {
        "colab": {
          "base_uri": "https://localhost:8080/"
        },
        "id": "Ijxu-q23tvoU",
        "outputId": "d8b5bb46-cd3c-434f-8e96-75999aceebfb"
      },
      "source": [
        "print([list(i) for i in list(zip(a,b))])"
      ],
      "execution_count": null,
      "outputs": [
        {
          "output_type": "stream",
          "text": [
            "[[1, 'a'], [2, 'b'], [3, 'c'], [4, 'd']]\n"
          ],
          "name": "stdout"
        }
      ]
    },
    {
      "cell_type": "code",
      "metadata": {
        "colab": {
          "base_uri": "https://localhost:8080/"
        },
        "id": "4lGqB5TEuqw6",
        "outputId": "c344d4b3-8f55-4cd8-9624-db97e29d39c7"
      },
      "source": [
        "a = [1, 2, 3, 4]\r\n",
        "b = ['a', 'b', 'c', 'd']\r\n",
        "z = 1\r\n",
        "c = []\r\n",
        "\r\n",
        "\r\n",
        "for n in range(len(a)):\r\n",
        "    if z%2 == 0:\r\n",
        "        c.append([b[n], a[n]])\r\n",
        "        z = z+1\r\n",
        "    \r\n",
        "    else: \r\n",
        "        c.append([a[n], b[n]])\r\n",
        "        z +=1\r\n",
        "c"
      ],
      "execution_count": null,
      "outputs": [
        {
          "output_type": "execute_result",
          "data": {
            "text/plain": [
              "[[1, 'a'], ['b', 2], [3, 'c'], ['d', 4]]"
            ]
          },
          "metadata": {
            "tags": []
          },
          "execution_count": 76
        }
      ]
    },
    {
      "cell_type": "code",
      "metadata": {
        "colab": {
          "base_uri": "https://localhost:8080/"
        },
        "id": "IMEUYipGusvN",
        "outputId": "f312b853-decc-4dd1-a9f0-bf0e9d7094a0"
      },
      "source": [
        "# 4번 : enumerate\r\n",
        "# 새학기가 되어 이름을 가나다 순서대로 배정하고 번호를 매기려고 합니다.\r\n",
        "# 입력받은 명단 리스트를 처리하여, 이름과 번호를 아래와 같이 출력하는 코드를 작성해주세요.\r\n",
        "student = ['강은지','김유정','박현서','최성훈','홍유진',\r\n",
        "           '박지호','권윤일','김채리','한지호','김진이',\r\n",
        "           '김민호','강채연']\r\n",
        "for i,k in enumerate(student):\r\n",
        "    print('번호:',i,', 이름:',k)"
      ],
      "execution_count": null,
      "outputs": [
        {
          "output_type": "stream",
          "text": [
            "번호: 0 , 이름: 강은지\n",
            "번호: 1 , 이름: 김유정\n",
            "번호: 2 , 이름: 박현서\n",
            "번호: 3 , 이름: 최성훈\n",
            "번호: 4 , 이름: 홍유진\n",
            "번호: 5 , 이름: 박지호\n",
            "번호: 6 , 이름: 권윤일\n",
            "번호: 7 , 이름: 김채리\n",
            "번호: 8 , 이름: 한지호\n",
            "번호: 9 , 이름: 김진이\n",
            "번호: 10 , 이름: 김민호\n",
            "번호: 11 , 이름: 강채연\n"
          ],
          "name": "stdout"
        }
      ]
    },
    {
      "cell_type": "code",
      "metadata": {
        "colab": {
          "base_uri": "https://localhost:8080/"
        },
        "id": "ycRiF2utvEXN",
        "outputId": "44d33062-c876-4bae-f2d9-86cceedb1214"
      },
      "source": [
        "student = ['강은지','김유정','박현서','최성훈','홍유진',\r\n",
        "           '박지호','권윤일','김채리','한지호','김진이',\r\n",
        "           '김민호','강채연']\r\n",
        "\r\n",
        "\r\n",
        "for i in range(len(student)):\r\n",
        "    print(f'번호: {i} 이름: {student[i]}')"
      ],
      "execution_count": null,
      "outputs": [
        {
          "output_type": "stream",
          "text": [
            "번호: 0 이름: 강은지\n",
            "번호: 1 이름: 김유정\n",
            "번호: 2 이름: 박현서\n",
            "번호: 3 이름: 최성훈\n",
            "번호: 4 이름: 홍유진\n",
            "번호: 5 이름: 박지호\n",
            "번호: 6 이름: 권윤일\n",
            "번호: 7 이름: 김채리\n",
            "번호: 8 이름: 한지호\n",
            "번호: 9 이름: 김진이\n",
            "번호: 10 이름: 김민호\n",
            "번호: 11 이름: 강채연\n"
          ],
          "name": "stdout"
        }
      ]
    },
    {
      "cell_type": "markdown",
      "metadata": {
        "id": "lc_c6A3JI5cI"
      },
      "source": [
        "# 산술과 기초수학\r\n"
      ]
    },
    {
      "cell_type": "code",
      "metadata": {
        "colab": {
          "base_uri": "https://localhost:8080/"
        },
        "id": "XhFpgjwzvKvT",
        "outputId": "db0f6bd5-96d6-4ffa-cee7-b0bdb17c166b"
      },
      "source": [
        "# 1번 : 평균 점수\r\n",
        "# 공백으로 구분하여 세 과목의 점수가 주어지면, 전체 평균 점수를 구하는 프로그램을 작성하세요.\r\n",
        "a,b,c = map(int, input().split())\r\n",
        "print(round((a+b+c) / 3))"
      ],
      "execution_count": null,
      "outputs": [
        {
          "output_type": "stream",
          "text": [
            "20 30 40\n",
            "30\n"
          ],
          "name": "stdout"
        }
      ]
    },
    {
      "cell_type": "code",
      "metadata": {
        "id": "C10o_q2aJK9t"
      },
      "source": [
        "#a = input().split(' ')\r\n",
        "#z = []\r\n",
        "#for i in range(len(a)):\r\n",
        "    #z.append(int(a[i]))\r\n",
        "\r\n",
        "#print(int(sum(z)/len(z)))"
      ],
      "execution_count": null,
      "outputs": []
    },
    {
      "cell_type": "code",
      "metadata": {
        "colab": {
          "base_uri": "https://localhost:8080/"
        },
        "id": "WuyqmNYOJxh6",
        "outputId": "48cde92f-698f-42d3-8744-ac90d8ad29da"
      },
      "source": [
        "# 2번 : 제곱을 구하자\r\n",
        "# 공백으로 구분하여 두 숫자 a와 b가 주어지면, a의 b제곱(a의 b승)을 구하는 코드를 작성하세요.\r\n",
        "\r\n",
        "for _ in range(2):\r\n",
        "    a,b = map(int, input().split())\r\n",
        "    print(a ** b)"
      ],
      "execution_count": null,
      "outputs": [
        {
          "output_type": "stream",
          "text": [
            "2 3\n",
            "8\n",
            "8 2\n",
            "64\n"
          ],
          "name": "stdout"
        }
      ]
    },
    {
      "cell_type": "code",
      "metadata": {
        "colab": {
          "base_uri": "https://localhost:8080/"
        },
        "id": "wXn29_6aKUYI",
        "outputId": "dd646414-cc13-425d-ffb5-e4f79e1a9508"
      },
      "source": [
        "# 3번 : 몫과 나머지\r\n",
        "# 공백으로 구분하여 두 숫자가 주어집니다.\r\n",
        "# 첫번째 숫자로 두번째 숫자를 나누었을 때, 그 몫과 나머지를 공백으로 구분하여 출력하는 코드를 작성하세요.\r\n",
        "\r\n",
        "for _ in range(2):\r\n",
        "    a,b = map(int, input().split())\r\n",
        "    print(a//b, a%b)"
      ],
      "execution_count": null,
      "outputs": [
        {
          "output_type": "stream",
          "text": [
            "10 2\n",
            "5 0\n",
            "10 3\n",
            "3 1\n"
          ],
          "name": "stdout"
        }
      ]
    },
    {
      "cell_type": "code",
      "metadata": {
        "colab": {
          "base_uri": "https://localhost:8080/"
        },
        "id": "ywQvXwhtK5zE",
        "outputId": "8122c0bb-6942-4638-d16b-66eb50c86102"
      },
      "source": [
        "# 4번 : 원의 넓이를 구하세요\r\n",
        "# 원의 넓이를 구하는 코드를 작성해봅시다.\r\n",
        "# 입력을 반지름의 길이로 정수 n이 주어지면 원의 넓이를 반환하는 함수를 작성해주세요.\r\n",
        "print(3.14 * int(input()) ** 2)"
      ],
      "execution_count": null,
      "outputs": [
        {
          "output_type": "stream",
          "text": [
            "5\n",
            "78.5\n"
          ],
          "name": "stdout"
        }
      ]
    },
    {
      "cell_type": "code",
      "metadata": {
        "colab": {
          "base_uri": "https://localhost:8080/"
        },
        "id": "0MJCK8muLJGu",
        "outputId": "c0117698-6ec5-4f1f-91fe-62d7e58ea6dc"
      },
      "source": [
        "from math import pi\r\n",
        "\r\n",
        "\r\n",
        "def cycle():\r\n",
        "    n = int(input())\r\n",
        "    return n * n *pi\r\n",
        "\r\n",
        "\r\n",
        "print(cycle())"
      ],
      "execution_count": null,
      "outputs": [
        {
          "output_type": "stream",
          "text": [
            "5\n",
            "78.53981633974483\n"
          ],
          "name": "stdout"
        }
      ]
    },
    {
      "cell_type": "code",
      "metadata": {
        "colab": {
          "base_uri": "https://localhost:8080/"
        },
        "id": "rp6OA3ZWLPjV",
        "outputId": "eb31a1f4-96f4-4cd5-dc4b-c8013148fb5a"
      },
      "source": [
        "# 5번 : Time 함수 사용하기\r\n",
        "import time\r\n",
        "print(time.strftime('%Y-%m-%d', time.localtime(time.time()))[0:4])"
      ],
      "execution_count": null,
      "outputs": [
        {
          "output_type": "stream",
          "text": [
            "2021\n"
          ],
          "name": "stdout"
        }
      ]
    },
    {
      "cell_type": "code",
      "metadata": {
        "colab": {
          "base_uri": "https://localhost:8080/"
        },
        "id": "8y1AsZGtLeZN",
        "outputId": "db979391-87d7-44f3-f8df-7f985a52691b"
      },
      "source": [
        "print(f'{time.strftime(\"%Y\")}')"
      ],
      "execution_count": null,
      "outputs": [
        {
          "output_type": "stream",
          "text": [
            "2021\n"
          ],
          "name": "stdout"
        }
      ]
    },
    {
      "cell_type": "code",
      "metadata": {
        "colab": {
          "base_uri": "https://localhost:8080/"
        },
        "id": "MdmUkdY8LpmL",
        "outputId": "b422ab85-dbd3-4fb8-85c7-938b9a62085e"
      },
      "source": [
        "# 최대값 구하기\r\n",
        "# 순서가 없는 N개의 숫자가 공백으로 구분되어 주어집니다.\r\n",
        "# 주어진 숫자들 중 최댓값을 반환하는 코드를 작성하세요.\r\n",
        "for _ in range(2):\r\n",
        "    print(max(map(int, input().split())))"
      ],
      "execution_count": null,
      "outputs": [
        {
          "output_type": "stream",
          "text": [
            "5 3 7 6\n",
            "7\n",
            "10 9 8 7 6 5 4 3 2 1 0\n",
            "10\n"
          ],
          "name": "stdout"
        }
      ]
    },
    {
      "cell_type": "code",
      "metadata": {
        "colab": {
          "base_uri": "https://localhost:8080/"
        },
        "id": "O-dZTocxL6LY",
        "outputId": "7797c52e-3f37-4b52-c07a-d0dd75e86a81"
      },
      "source": [
        "# 7번 : 반 평균 등수\r\n",
        "# 30명의 학생으로 이루어진 한 반의 학생들의 성적 데이터를, 아래 베이스라인 을 이용해 생성하세요.\r\n",
        "# 생성된 랜덤 데이터를 통해서 과목별 평균 그리고 학생별 평균 을 구하는 코드를 작성하세요.\r\n",
        "\r\n",
        "import random as r\r\n",
        "import numpy as np\r\n",
        "\r\n",
        "score = []\r\n",
        "class_score = []\r\n",
        "average_score_by_student = []\r\n",
        "average_score_by_subject = []\r\n",
        "score_subject = [[], [], [], [] ,[]]\r\n",
        "\r\n",
        "for z in range(30):\r\n",
        "    class_score.append(score)\r\n",
        "    average_score_by_student.append(np.mean(score, dtype = np.int))\r\n",
        "    for i in range(5):\r\n",
        "        score.append(r.randint(1, 100))\r\n",
        "        score_subject[i].append(score[i])\r\n",
        "average_score_by_subject = [np.mean(score_subject[i]) for i in range(5)]\r\n",
        "\r\n",
        "print(average_score_by_subject)\r\n",
        "print(average_score_by_student)"
      ],
      "execution_count": null,
      "outputs": [
        {
          "output_type": "stream",
          "text": [
            "[43.0, 27.0, 83.0, 87.0, 49.0]\n",
            "[-9223372036854775808, 57, 50, 56, 54, 54, 50, 49, 50, 49, 49, 49, 47, 47, 46, 45, 45, 46, 45, 46, 46, 46, 45, 46, 44, 45, 45, 46, 45, 45]\n"
          ],
          "name": "stdout"
        },
        {
          "output_type": "stream",
          "text": [
            "/usr/local/lib/python3.7/dist-packages/numpy/core/fromnumeric.py:3373: RuntimeWarning: Mean of empty slice.\n",
            "  out=out, **kwargs)\n",
            "/usr/local/lib/python3.7/dist-packages/numpy/core/_methods.py:170: RuntimeWarning: invalid value encountered in long_scalars\n",
            "  ret = ret.dtype.type(ret / rcount)\n"
          ],
          "name": "stderr"
        }
      ]
    },
    {
      "cell_type": "code",
      "metadata": {
        "colab": {
          "base_uri": "https://localhost:8080/"
        },
        "id": "cim2XQXHUg1R",
        "outputId": "f391df36-10ff-45f8-8f29-d1d9a47721e4"
      },
      "source": [
        "# 8번 : 순열과 조합\r\n",
        "# 한글의 자음(consonant)으로 이루어진 리스트 ll 과, 14 이하의 임의의 수 nn을 입력으로 받아,\r\n",
        "# ll 에서 nn개의 자음을 뽑을 때, 만들 수 있는 모든 조합(combination)과, 그 개수를 출력하는 코드를 작성하세요.\r\n",
        "from itertools import combinations\r\n",
        "\r\n",
        "consonant = input()\r\n",
        "combination = list(combinations(consonant,2))\r\n",
        "print(combination)\r\n",
        "print(len(combination))"
      ],
      "execution_count": null,
      "outputs": [
        {
          "output_type": "stream",
          "text": [
            "['ㄱ','ㄴ','ㄷ','ㄹ']\n",
            "[('[', \"'\"), ('[', 'ㄱ'), ('[', \"'\"), ('[', ','), ('[', \"'\"), ('[', 'ㄴ'), ('[', \"'\"), ('[', ','), ('[', \"'\"), ('[', 'ㄷ'), ('[', \"'\"), ('[', ','), ('[', \"'\"), ('[', 'ㄹ'), ('[', \"'\"), ('[', ']'), (\"'\", 'ㄱ'), (\"'\", \"'\"), (\"'\", ','), (\"'\", \"'\"), (\"'\", 'ㄴ'), (\"'\", \"'\"), (\"'\", ','), (\"'\", \"'\"), (\"'\", 'ㄷ'), (\"'\", \"'\"), (\"'\", ','), (\"'\", \"'\"), (\"'\", 'ㄹ'), (\"'\", \"'\"), (\"'\", ']'), ('ㄱ', \"'\"), ('ㄱ', ','), ('ㄱ', \"'\"), ('ㄱ', 'ㄴ'), ('ㄱ', \"'\"), ('ㄱ', ','), ('ㄱ', \"'\"), ('ㄱ', 'ㄷ'), ('ㄱ', \"'\"), ('ㄱ', ','), ('ㄱ', \"'\"), ('ㄱ', 'ㄹ'), ('ㄱ', \"'\"), ('ㄱ', ']'), (\"'\", ','), (\"'\", \"'\"), (\"'\", 'ㄴ'), (\"'\", \"'\"), (\"'\", ','), (\"'\", \"'\"), (\"'\", 'ㄷ'), (\"'\", \"'\"), (\"'\", ','), (\"'\", \"'\"), (\"'\", 'ㄹ'), (\"'\", \"'\"), (\"'\", ']'), (',', \"'\"), (',', 'ㄴ'), (',', \"'\"), (',', ','), (',', \"'\"), (',', 'ㄷ'), (',', \"'\"), (',', ','), (',', \"'\"), (',', 'ㄹ'), (',', \"'\"), (',', ']'), (\"'\", 'ㄴ'), (\"'\", \"'\"), (\"'\", ','), (\"'\", \"'\"), (\"'\", 'ㄷ'), (\"'\", \"'\"), (\"'\", ','), (\"'\", \"'\"), (\"'\", 'ㄹ'), (\"'\", \"'\"), (\"'\", ']'), ('ㄴ', \"'\"), ('ㄴ', ','), ('ㄴ', \"'\"), ('ㄴ', 'ㄷ'), ('ㄴ', \"'\"), ('ㄴ', ','), ('ㄴ', \"'\"), ('ㄴ', 'ㄹ'), ('ㄴ', \"'\"), ('ㄴ', ']'), (\"'\", ','), (\"'\", \"'\"), (\"'\", 'ㄷ'), (\"'\", \"'\"), (\"'\", ','), (\"'\", \"'\"), (\"'\", 'ㄹ'), (\"'\", \"'\"), (\"'\", ']'), (',', \"'\"), (',', 'ㄷ'), (',', \"'\"), (',', ','), (',', \"'\"), (',', 'ㄹ'), (',', \"'\"), (',', ']'), (\"'\", 'ㄷ'), (\"'\", \"'\"), (\"'\", ','), (\"'\", \"'\"), (\"'\", 'ㄹ'), (\"'\", \"'\"), (\"'\", ']'), ('ㄷ', \"'\"), ('ㄷ', ','), ('ㄷ', \"'\"), ('ㄷ', 'ㄹ'), ('ㄷ', \"'\"), ('ㄷ', ']'), (\"'\", ','), (\"'\", \"'\"), (\"'\", 'ㄹ'), (\"'\", \"'\"), (\"'\", ']'), (',', \"'\"), (',', 'ㄹ'), (',', \"'\"), (',', ']'), (\"'\", 'ㄹ'), (\"'\", \"'\"), (\"'\", ']'), ('ㄹ', \"'\"), ('ㄹ', ']'), (\"'\", ']')]\n",
            "136\n"
          ],
          "name": "stdout"
        }
      ]
    },
    {
      "cell_type": "code",
      "metadata": {
        "colab": {
          "base_uri": "https://localhost:8080/"
        },
        "id": "OmgU_bvuU2LU",
        "outputId": "117022be-dbca-4576-bc1f-28464c65b9a6"
      },
      "source": [
        "from itertools import combinations as combi\r\n",
        "\r\n",
        "consonant = input('자음을 입력해주세요')\r\n",
        "n = input('조합을 만들 개수를 입력해주세요') \r\n",
        "\r\n",
        "combination = []\r\n",
        "\r\n",
        "combination = list(map(''.join, combi(list(consonant), int(n))))\r\n",
        "\r\n",
        "\r\n",
        "print(combination)\r\n",
        "print(len(combination))"
      ],
      "execution_count": null,
      "outputs": [
        {
          "output_type": "stream",
          "text": [
            "자음을 입력해주세요['ㄱ','ㄴ','ㄷ','ㄹ']\n",
            "조합을 만들 개수를 입력해주세요3\n",
            "[\"['ㄱ\", \"[''\", \"[',\", \"[''\", \"['ㄴ\", \"[''\", \"[',\", \"[''\", \"['ㄷ\", \"[''\", \"[',\", \"[''\", \"['ㄹ\", \"[''\", \"[']\", \"[ㄱ'\", '[ㄱ,', \"[ㄱ'\", '[ㄱㄴ', \"[ㄱ'\", '[ㄱ,', \"[ㄱ'\", '[ㄱㄷ', \"[ㄱ'\", '[ㄱ,', \"[ㄱ'\", '[ㄱㄹ', \"[ㄱ'\", '[ㄱ]', \"[',\", \"[''\", \"['ㄴ\", \"[''\", \"[',\", \"[''\", \"['ㄷ\", \"[''\", \"[',\", \"[''\", \"['ㄹ\", \"[''\", \"[']\", \"[,'\", '[,ㄴ', \"[,'\", '[,,', \"[,'\", '[,ㄷ', \"[,'\", '[,,', \"[,'\", '[,ㄹ', \"[,'\", '[,]', \"['ㄴ\", \"[''\", \"[',\", \"[''\", \"['ㄷ\", \"[''\", \"[',\", \"[''\", \"['ㄹ\", \"[''\", \"[']\", \"[ㄴ'\", '[ㄴ,', \"[ㄴ'\", '[ㄴㄷ', \"[ㄴ'\", '[ㄴ,', \"[ㄴ'\", '[ㄴㄹ', \"[ㄴ'\", '[ㄴ]', \"[',\", \"[''\", \"['ㄷ\", \"[''\", \"[',\", \"[''\", \"['ㄹ\", \"[''\", \"[']\", \"[,'\", '[,ㄷ', \"[,'\", '[,,', \"[,'\", '[,ㄹ', \"[,'\", '[,]', \"['ㄷ\", \"[''\", \"[',\", \"[''\", \"['ㄹ\", \"[''\", \"[']\", \"[ㄷ'\", '[ㄷ,', \"[ㄷ'\", '[ㄷㄹ', \"[ㄷ'\", '[ㄷ]', \"[',\", \"[''\", \"['ㄹ\", \"[''\", \"[']\", \"[,'\", '[,ㄹ', \"[,'\", '[,]', \"['ㄹ\", \"[''\", \"[']\", \"[ㄹ'\", '[ㄹ]', \"[']\", \"'ㄱ'\", \"'ㄱ,\", \"'ㄱ'\", \"'ㄱㄴ\", \"'ㄱ'\", \"'ㄱ,\", \"'ㄱ'\", \"'ㄱㄷ\", \"'ㄱ'\", \"'ㄱ,\", \"'ㄱ'\", \"'ㄱㄹ\", \"'ㄱ'\", \"'ㄱ]\", \"'',\", \"'''\", \"''ㄴ\", \"'''\", \"'',\", \"'''\", \"''ㄷ\", \"'''\", \"'',\", \"'''\", \"''ㄹ\", \"'''\", \"'']\", \"','\", \"',ㄴ\", \"','\", \"',,\", \"','\", \"',ㄷ\", \"','\", \"',,\", \"','\", \"',ㄹ\", \"','\", \"',]\", \"''ㄴ\", \"'''\", \"'',\", \"'''\", \"''ㄷ\", \"'''\", \"'',\", \"'''\", \"''ㄹ\", \"'''\", \"'']\", \"'ㄴ'\", \"'ㄴ,\", \"'ㄴ'\", \"'ㄴㄷ\", \"'ㄴ'\", \"'ㄴ,\", \"'ㄴ'\", \"'ㄴㄹ\", \"'ㄴ'\", \"'ㄴ]\", \"'',\", \"'''\", \"''ㄷ\", \"'''\", \"'',\", \"'''\", \"''ㄹ\", \"'''\", \"'']\", \"','\", \"',ㄷ\", \"','\", \"',,\", \"','\", \"',ㄹ\", \"','\", \"',]\", \"''ㄷ\", \"'''\", \"'',\", \"'''\", \"''ㄹ\", \"'''\", \"'']\", \"'ㄷ'\", \"'ㄷ,\", \"'ㄷ'\", \"'ㄷㄹ\", \"'ㄷ'\", \"'ㄷ]\", \"'',\", \"'''\", \"''ㄹ\", \"'''\", \"'']\", \"','\", \"',ㄹ\", \"','\", \"',]\", \"''ㄹ\", \"'''\", \"'']\", \"'ㄹ'\", \"'ㄹ]\", \"'']\", \"ㄱ',\", \"ㄱ''\", \"ㄱ'ㄴ\", \"ㄱ''\", \"ㄱ',\", \"ㄱ''\", \"ㄱ'ㄷ\", \"ㄱ''\", \"ㄱ',\", \"ㄱ''\", \"ㄱ'ㄹ\", \"ㄱ''\", \"ㄱ']\", \"ㄱ,'\", 'ㄱ,ㄴ', \"ㄱ,'\", 'ㄱ,,', \"ㄱ,'\", 'ㄱ,ㄷ', \"ㄱ,'\", 'ㄱ,,', \"ㄱ,'\", 'ㄱ,ㄹ', \"ㄱ,'\", 'ㄱ,]', \"ㄱ'ㄴ\", \"ㄱ''\", \"ㄱ',\", \"ㄱ''\", \"ㄱ'ㄷ\", \"ㄱ''\", \"ㄱ',\", \"ㄱ''\", \"ㄱ'ㄹ\", \"ㄱ''\", \"ㄱ']\", \"ㄱㄴ'\", 'ㄱㄴ,', \"ㄱㄴ'\", 'ㄱㄴㄷ', \"ㄱㄴ'\", 'ㄱㄴ,', \"ㄱㄴ'\", 'ㄱㄴㄹ', \"ㄱㄴ'\", 'ㄱㄴ]', \"ㄱ',\", \"ㄱ''\", \"ㄱ'ㄷ\", \"ㄱ''\", \"ㄱ',\", \"ㄱ''\", \"ㄱ'ㄹ\", \"ㄱ''\", \"ㄱ']\", \"ㄱ,'\", 'ㄱ,ㄷ', \"ㄱ,'\", 'ㄱ,,', \"ㄱ,'\", 'ㄱ,ㄹ', \"ㄱ,'\", 'ㄱ,]', \"ㄱ'ㄷ\", \"ㄱ''\", \"ㄱ',\", \"ㄱ''\", \"ㄱ'ㄹ\", \"ㄱ''\", \"ㄱ']\", \"ㄱㄷ'\", 'ㄱㄷ,', \"ㄱㄷ'\", 'ㄱㄷㄹ', \"ㄱㄷ'\", 'ㄱㄷ]', \"ㄱ',\", \"ㄱ''\", \"ㄱ'ㄹ\", \"ㄱ''\", \"ㄱ']\", \"ㄱ,'\", 'ㄱ,ㄹ', \"ㄱ,'\", 'ㄱ,]', \"ㄱ'ㄹ\", \"ㄱ''\", \"ㄱ']\", \"ㄱㄹ'\", 'ㄱㄹ]', \"ㄱ']\", \"','\", \"',ㄴ\", \"','\", \"',,\", \"','\", \"',ㄷ\", \"','\", \"',,\", \"','\", \"',ㄹ\", \"','\", \"',]\", \"''ㄴ\", \"'''\", \"'',\", \"'''\", \"''ㄷ\", \"'''\", \"'',\", \"'''\", \"''ㄹ\", \"'''\", \"'']\", \"'ㄴ'\", \"'ㄴ,\", \"'ㄴ'\", \"'ㄴㄷ\", \"'ㄴ'\", \"'ㄴ,\", \"'ㄴ'\", \"'ㄴㄹ\", \"'ㄴ'\", \"'ㄴ]\", \"'',\", \"'''\", \"''ㄷ\", \"'''\", \"'',\", \"'''\", \"''ㄹ\", \"'''\", \"'']\", \"','\", \"',ㄷ\", \"','\", \"',,\", \"','\", \"',ㄹ\", \"','\", \"',]\", \"''ㄷ\", \"'''\", \"'',\", \"'''\", \"''ㄹ\", \"'''\", \"'']\", \"'ㄷ'\", \"'ㄷ,\", \"'ㄷ'\", \"'ㄷㄹ\", \"'ㄷ'\", \"'ㄷ]\", \"'',\", \"'''\", \"''ㄹ\", \"'''\", \"'']\", \"','\", \"',ㄹ\", \"','\", \"',]\", \"''ㄹ\", \"'''\", \"'']\", \"'ㄹ'\", \"'ㄹ]\", \"'']\", \",'ㄴ\", \",''\", \",',\", \",''\", \",'ㄷ\", \",''\", \",',\", \",''\", \",'ㄹ\", \",''\", \",']\", \",ㄴ'\", ',ㄴ,', \",ㄴ'\", ',ㄴㄷ', \",ㄴ'\", ',ㄴ,', \",ㄴ'\", ',ㄴㄹ', \",ㄴ'\", ',ㄴ]', \",',\", \",''\", \",'ㄷ\", \",''\", \",',\", \",''\", \",'ㄹ\", \",''\", \",']\", \",,'\", ',,ㄷ', \",,'\", ',,,', \",,'\", ',,ㄹ', \",,'\", ',,]', \",'ㄷ\", \",''\", \",',\", \",''\", \",'ㄹ\", \",''\", \",']\", \",ㄷ'\", ',ㄷ,', \",ㄷ'\", ',ㄷㄹ', \",ㄷ'\", ',ㄷ]', \",',\", \",''\", \",'ㄹ\", \",''\", \",']\", \",,'\", ',,ㄹ', \",,'\", ',,]', \",'ㄹ\", \",''\", \",']\", \",ㄹ'\", ',ㄹ]', \",']\", \"'ㄴ'\", \"'ㄴ,\", \"'ㄴ'\", \"'ㄴㄷ\", \"'ㄴ'\", \"'ㄴ,\", \"'ㄴ'\", \"'ㄴㄹ\", \"'ㄴ'\", \"'ㄴ]\", \"'',\", \"'''\", \"''ㄷ\", \"'''\", \"'',\", \"'''\", \"''ㄹ\", \"'''\", \"'']\", \"','\", \"',ㄷ\", \"','\", \"',,\", \"','\", \"',ㄹ\", \"','\", \"',]\", \"''ㄷ\", \"'''\", \"'',\", \"'''\", \"''ㄹ\", \"'''\", \"'']\", \"'ㄷ'\", \"'ㄷ,\", \"'ㄷ'\", \"'ㄷㄹ\", \"'ㄷ'\", \"'ㄷ]\", \"'',\", \"'''\", \"''ㄹ\", \"'''\", \"'']\", \"','\", \"',ㄹ\", \"','\", \"',]\", \"''ㄹ\", \"'''\", \"'']\", \"'ㄹ'\", \"'ㄹ]\", \"'']\", \"ㄴ',\", \"ㄴ''\", \"ㄴ'ㄷ\", \"ㄴ''\", \"ㄴ',\", \"ㄴ''\", \"ㄴ'ㄹ\", \"ㄴ''\", \"ㄴ']\", \"ㄴ,'\", 'ㄴ,ㄷ', \"ㄴ,'\", 'ㄴ,,', \"ㄴ,'\", 'ㄴ,ㄹ', \"ㄴ,'\", 'ㄴ,]', \"ㄴ'ㄷ\", \"ㄴ''\", \"ㄴ',\", \"ㄴ''\", \"ㄴ'ㄹ\", \"ㄴ''\", \"ㄴ']\", \"ㄴㄷ'\", 'ㄴㄷ,', \"ㄴㄷ'\", 'ㄴㄷㄹ', \"ㄴㄷ'\", 'ㄴㄷ]', \"ㄴ',\", \"ㄴ''\", \"ㄴ'ㄹ\", \"ㄴ''\", \"ㄴ']\", \"ㄴ,'\", 'ㄴ,ㄹ', \"ㄴ,'\", 'ㄴ,]', \"ㄴ'ㄹ\", \"ㄴ''\", \"ㄴ']\", \"ㄴㄹ'\", 'ㄴㄹ]', \"ㄴ']\", \"','\", \"',ㄷ\", \"','\", \"',,\", \"','\", \"',ㄹ\", \"','\", \"',]\", \"''ㄷ\", \"'''\", \"'',\", \"'''\", \"''ㄹ\", \"'''\", \"'']\", \"'ㄷ'\", \"'ㄷ,\", \"'ㄷ'\", \"'ㄷㄹ\", \"'ㄷ'\", \"'ㄷ]\", \"'',\", \"'''\", \"''ㄹ\", \"'''\", \"'']\", \"','\", \"',ㄹ\", \"','\", \"',]\", \"''ㄹ\", \"'''\", \"'']\", \"'ㄹ'\", \"'ㄹ]\", \"'']\", \",'ㄷ\", \",''\", \",',\", \",''\", \",'ㄹ\", \",''\", \",']\", \",ㄷ'\", ',ㄷ,', \",ㄷ'\", ',ㄷㄹ', \",ㄷ'\", ',ㄷ]', \",',\", \",''\", \",'ㄹ\", \",''\", \",']\", \",,'\", ',,ㄹ', \",,'\", ',,]', \",'ㄹ\", \",''\", \",']\", \",ㄹ'\", ',ㄹ]', \",']\", \"'ㄷ'\", \"'ㄷ,\", \"'ㄷ'\", \"'ㄷㄹ\", \"'ㄷ'\", \"'ㄷ]\", \"'',\", \"'''\", \"''ㄹ\", \"'''\", \"'']\", \"','\", \"',ㄹ\", \"','\", \"',]\", \"''ㄹ\", \"'''\", \"'']\", \"'ㄹ'\", \"'ㄹ]\", \"'']\", \"ㄷ',\", \"ㄷ''\", \"ㄷ'ㄹ\", \"ㄷ''\", \"ㄷ']\", \"ㄷ,'\", 'ㄷ,ㄹ', \"ㄷ,'\", 'ㄷ,]', \"ㄷ'ㄹ\", \"ㄷ''\", \"ㄷ']\", \"ㄷㄹ'\", 'ㄷㄹ]', \"ㄷ']\", \"','\", \"',ㄹ\", \"','\", \"',]\", \"''ㄹ\", \"'''\", \"'']\", \"'ㄹ'\", \"'ㄹ]\", \"'']\", \",'ㄹ\", \",''\", \",']\", \",ㄹ'\", ',ㄹ]', \",']\", \"'ㄹ'\", \"'ㄹ]\", \"'']\", \"ㄹ']\"]\n",
            "680\n"
          ],
          "name": "stdout"
        }
      ]
    },
    {
      "cell_type": "code",
      "metadata": {
        "colab": {
          "base_uri": "https://localhost:8080/"
        },
        "id": "F8RwXNioWL_z",
        "outputId": "3b4a6c9e-7a15-4af2-c713-2a44525b6ff9"
      },
      "source": [
        "# 9번 : 숫자뽑기\r\n",
        "# 숫자 nn을 이루는 자리수 중에서 kk개의 수를 선택하여 조합을 만들 수 있습니다.\r\n",
        "# 이 때, 만들 수 있는 조합과 가장 큰 수를 찾는 코드를 작성해주세요.\r\n",
        "\r\n",
        "from itertools import permutations\r\n",
        "\r\n",
        "n = 1723\r\n",
        "k = 2\r\n",
        "l = [i for i in str(n)]\r\n",
        "\r\n",
        "print(list(map(''.join, permutations(l,k))))\r\n",
        "print(max(list(map(''.join, permutations(l,k)))))"
      ],
      "execution_count": null,
      "outputs": [
        {
          "output_type": "stream",
          "text": [
            "['17', '12', '13', '71', '72', '73', '21', '27', '23', '31', '37', '32']\n",
            "73\n"
          ],
          "name": "stdout"
        }
      ]
    },
    {
      "cell_type": "markdown",
      "metadata": {
        "id": "WkFF_Uufbvgi"
      },
      "source": [
        "# 문자열 1편"
      ]
    },
    {
      "cell_type": "code",
      "metadata": {
        "colab": {
          "base_uri": "https://localhost:8080/"
        },
        "id": "HIDoEQiyXdct",
        "outputId": "a919c4f6-9eee-4f4f-aa4e-07f4520cb0ab"
      },
      "source": [
        "# 문자열 1편\r\n",
        "for _ in range(4):\r\n",
        "    print(input().upper())"
      ],
      "execution_count": null,
      "outputs": [
        {
          "output_type": "stream",
          "text": [
            "mary\n",
            "MARY\n",
            "maRy\n",
            "MARY\n",
            "mary!\n",
            "MARY!\n",
            "ma ry\n",
            "MA RY\n"
          ],
          "name": "stdout"
        }
      ]
    },
    {
      "cell_type": "code",
      "metadata": {
        "colab": {
          "base_uri": "https://localhost:8080/"
        },
        "id": "4ddFCtYQb2FH",
        "outputId": "b840c42f-f681-4ea2-bbda-936e1c90f57b"
      },
      "source": [
        "# 2번 : 오타 수정하기\r\n",
        "for _ in range(3):\r\n",
        "    print(input().replace('q','e'))"
      ],
      "execution_count": null,
      "outputs": [
        {
          "output_type": "stream",
          "text": [
            "Hqllo\n",
            "Hello\n",
            "querty\n",
            "euerty\n",
            "hqllo my namq is saqrym\n",
            "hello my name is saerym\n"
          ],
          "name": "stdout"
        }
      ]
    },
    {
      "cell_type": "code",
      "metadata": {
        "colab": {
          "base_uri": "https://localhost:8080/"
        },
        "id": "Z8MkC8kdcO90",
        "outputId": "e4ee9577-6abd-40f5-9c11-71fd34a4fb9a"
      },
      "source": [
        "# 3번 : 대문자만 지나가세요\r\n",
        "# 문장을 입력으로 받아, 입력받은 것 중 대문자만 필터링하는(뽑아서 출력하는) 프로그램을 만들어보세요.\r\n",
        "\r\n",
        "for _ in range(2):\r\n",
        "    li = []\r\n",
        "    for i in input():\r\n",
        "        if i.isupper():\r\n",
        "            li.append(i)\r\n",
        "    print(\"\".join(li))"
      ],
      "execution_count": null,
      "outputs": [
        {
          "output_type": "stream",
          "text": [
            "HelloWorld\n",
            "HW\n",
            "I Love Futureskill]\n",
            "ILF\n"
          ],
          "name": "stdout"
        }
      ]
    },
    {
      "cell_type": "code",
      "metadata": {
        "colab": {
          "base_uri": "https://localhost:8080/"
        },
        "id": "CAIkII_ddxML",
        "outputId": "8c0bc27c-25be-4ef9-d0a7-da323a0bdab7"
      },
      "source": [
        "a = '''HelloWorld!\r\n",
        "I Love Futureskill'''\r\n",
        "\r\n",
        "z=[x for x in a if x.isupper()]\r\n",
        "print(\"\".join(z))"
      ],
      "execution_count": null,
      "outputs": [
        {
          "output_type": "stream",
          "text": [
            "HWILF\n"
          ],
          "name": "stdout"
        }
      ]
    },
    {
      "cell_type": "code",
      "metadata": {
        "colab": {
          "base_uri": "https://localhost:8080/"
        },
        "id": "6cxjccIYznfV",
        "outputId": "7ee1fbca-a3b6-425d-d133-39a558a00e1a"
      },
      "source": [
        "# 4번 : 대소문자 바꿔서 출력하기\r\n",
        "for _ in range(2):\r\n",
        "    print(input().swapcase())"
      ],
      "execution_count": null,
      "outputs": [
        {
          "output_type": "stream",
          "text": [
            "abC\n",
            "ABc\n",
            "AAABBBcccddd\n",
            "aaabbbCCCDDD\n"
          ],
          "name": "stdout"
        }
      ]
    },
    {
      "cell_type": "markdown",
      "metadata": {
        "id": "kbt9YctR1IsJ"
      },
      "source": [
        "# 문자열 2편"
      ]
    },
    {
      "cell_type": "code",
      "metadata": {
        "colab": {
          "base_uri": "https://localhost:8080/"
        },
        "id": "u-6Fq1eb0n24",
        "outputId": "69812a75-6783-4f99-ba14-1b67e1ae0942"
      },
      "source": [
        "# 1번 : 2-gram\r\n",
        "text = input()\r\n",
        "\r\n",
        "two_gram = zip(text, text[1:])\r\n",
        "for i in two_gram:\r\n",
        "    print(i[0], i[1], sep='')"
      ],
      "execution_count": null,
      "outputs": [
        {
          "output_type": "stream",
          "text": [
            "Python\n",
            "Py\n",
            "yt\n",
            "th\n",
            "ho\n",
            "on\n"
          ],
          "name": "stdout"
        }
      ]
    },
    {
      "cell_type": "code",
      "metadata": {
        "colab": {
          "base_uri": "https://localhost:8080/"
        },
        "id": "JX1_XFO40uHQ",
        "outputId": "aa0a216e-3115-4a6f-e34f-e92131ae170c"
      },
      "source": [
        "# 2번 : 문자열 만들기\r\n",
        "print(len(input().split(\" \")))"
      ],
      "execution_count": null,
      "outputs": [
        {
          "output_type": "stream",
          "text": [
            "안녕하세요. 저는 퓨쳐스킬대학교 인공지능전공 김유진입니다.\n",
            "5\n"
          ],
          "name": "stdout"
        }
      ]
    },
    {
      "cell_type": "code",
      "metadata": {
        "colab": {
          "base_uri": "https://localhost:8080/"
        },
        "id": "ccBxXCBt1ves",
        "outputId": "11821616-e2cd-49e4-c787-5d4f6f3e6093"
      },
      "source": [
        "# 3번 : Count 사용하기\r\n",
        "from collections import Counter\r\n",
        "\r\n",
        "text = input().split()\r\n",
        "print(Counter(text).most_common()[0][0]+'(이)가 총',len(text),'표 중',Counter(text).most_common()[0][1],'표로 반장이 되었습니다.')"
      ],
      "execution_count": null,
      "outputs": [
        {
          "output_type": "stream",
          "text": [
            "원범 원범 혜원 혜원 혜원 혜원 유진 유진\n",
            "혜원(이)가 총 8 표 중 4 표로 반장이 되었습니다.\n"
          ],
          "name": "stdout"
        }
      ]
    },
    {
      "cell_type": "code",
      "metadata": {
        "colab": {
          "base_uri": "https://localhost:8080/"
        },
        "id": "9VNxVXD-25ew",
        "outputId": "dcb9459f-33dc-45a3-a9c0-8b522bc02299"
      },
      "source": [
        "# 4번 : 친해지고 싶어\r\n",
        "for _ in range(4):\r\n",
        "    text = input().split()\r\n",
        "    res = []\r\n",
        "    for i in range(len(text)):\r\n",
        "        res += text[i][0]\r\n",
        "    print(''.join(res).upper())"
      ],
      "execution_count": null,
      "outputs": [
        {
          "output_type": "stream",
          "text": [
            "복잡한 세상 편하게 살자\n",
            "복세편살\n",
            "사랑해요 퓨쳐스킬\n",
            "사퓨\n",
            "As fast as possible\n",
            "AFAP\n",
            "As 빠르게 as possible\n",
            "A빠AP\n"
          ],
          "name": "stdout"
        }
      ]
    },
    {
      "cell_type": "code",
      "metadata": {
        "colab": {
          "base_uri": "https://localhost:8080/"
        },
        "id": "ebEgJIgC4GtW",
        "outputId": "6785fe92-34da-4628-ba93-e3a55b204205"
      },
      "source": [
        "a = input().split(' ')\r\n",
        "z = ''\r\n",
        "for i in a:\r\n",
        "    z+=i[0]\r\n",
        "print(z)"
      ],
      "execution_count": null,
      "outputs": [
        {
          "output_type": "stream",
          "text": [
            "복잡한 세상 편하게 살자\n",
            "복세편살\n"
          ],
          "name": "stdout"
        }
      ]
    },
    {
      "cell_type": "code",
      "metadata": {
        "colab": {
          "base_uri": "https://localhost:8080/"
        },
        "id": "IylPHSkO5C59",
        "outputId": "d1fb98c9-11d0-401e-907d-5e264671dcfc"
      },
      "source": [
        "# 5번 : 문자열 압축하기\r\n",
        "# 문자열을 입력으로 받아 반복되는 문자를 압축하여 표현하는 코드를 작성해주세요.\r\n",
        "\r\n",
        "for _ in range(5):\r\n",
        "    a = (str(input()) + chr(32)).lower()\r\n",
        "    a = a.lower()\r\n",
        "    b = ''\r\n",
        "    count = 1\r\n",
        "    for i in range(len(a) - 1):\r\n",
        "        if a[i] == a[i + 1]:\r\n",
        "            count += 1\r\n",
        "        else:\r\n",
        "            b += a[i] + str(count)\r\n",
        "            count = 1\r\n",
        "    print(b)"
      ],
      "execution_count": null,
      "outputs": [
        {
          "output_type": "stream",
          "text": [
            "aaab\n",
            "a3b1\n",
            "aaa!!!\n",
            "a3!3\n",
            "aaabbbcdddd\n",
            "a3b3c1d4\n",
            "aAaBBbcddDd\n",
            "a3b3c1d4\n",
            "Hello! World!!!\n",
            "h1e1l2o1!1 1w1o1r1l1d1!3\n"
          ],
          "name": "stdout"
        }
      ]
    },
    {
      "cell_type": "code",
      "metadata": {
        "colab": {
          "base_uri": "https://localhost:8080/"
        },
        "id": "09xFVznKs_ZI",
        "outputId": "ebf39c42-1bba-4484-cb75-b4892716bab4"
      },
      "source": [
        "# 6번 : 빈칸채우기\r\n",
        "# 총 문자열의 길이는 50으로 제한하고 사용자가 문자열을 입력하면 그 문자열을 가운데 정렬을 해주고, 나머지 빈 부분에는 '='을 채워넣는 코드를 작성해주세요.\r\n",
        "print(input().center(50,'='))"
      ],
      "execution_count": null,
      "outputs": [
        {
          "output_type": "stream",
          "text": [
            "hi\n",
            "========================hi========================\n"
          ],
          "name": "stdout"
        }
      ]
    },
    {
      "cell_type": "markdown",
      "metadata": {
        "id": "iD0lwjBQutpC"
      },
      "source": [
        "# 문자열 3편"
      ]
    },
    {
      "cell_type": "code",
      "metadata": {
        "colab": {
          "base_uri": "https://localhost:8080/"
        },
        "id": "vOiJm0qvuvBS",
        "outputId": "41e12dcf-c15c-4204-e423-fb5f2a3658aa"
      },
      "source": [
        "# 1번 : 로꾸거\r\n",
        "# 입력된 문장을 거꾸로 뒤집어 출력하는 코드를 작성하세요\r\n",
        "for _ in range(2):\r\n",
        "    print(input()[::-1])"
      ],
      "execution_count": null,
      "outputs": [
        {
          "output_type": "stream",
          "text": [
            "거꾸로\n",
            "로꾸거\n",
            "개굴개굴\n",
            "굴개굴개\n"
          ],
          "name": "stdout"
        }
      ]
    },
    {
      "cell_type": "code",
      "metadata": {
        "colab": {
          "base_uri": "https://localhost:8080/"
        },
        "id": "dkwUyZPeu2fH",
        "outputId": "87d32da0-540b-4be2-bcf5-740c4a0ba919"
      },
      "source": [
        "# 2번 : 거꾸로 출력하기\r\n",
        "# 한 줄에 여러개의 숫자가 입력되면, 역순으로 그 숫자들을 하나씩 출력하는 코드를 작성해주세요.\r\n",
        "for _ in range(2):\r\n",
        "    a =input().split()\r\n",
        "    print(' '.join(a[::-1]))"
      ],
      "execution_count": null,
      "outputs": [
        {
          "output_type": "stream",
          "text": [
            "1 2 3 4 5\n",
            "5 4 3 2 1\n",
            "123 99 7 423 12 44 1\n",
            "1 44 12 423 7 99 123\n"
          ],
          "name": "stdout"
        }
      ]
    },
    {
      "cell_type": "code",
      "metadata": {
        "id": "-waU48oDvnZJ"
      },
      "source": [
        "# a = input().split(\" \")\r\n",
        "# print(a[::-1])"
      ],
      "execution_count": null,
      "outputs": []
    },
    {
      "cell_type": "code",
      "metadata": {
        "colab": {
          "base_uri": "https://localhost:8080/"
        },
        "id": "0RS2EvfyvprB",
        "outputId": "e0166adf-51dd-4fd9-a9e7-99770ef13d2d"
      },
      "source": [
        "# 3번 : 몇 번째 행성인가요\r\n",
        "n = ['수성', '금성', '지구', '화성', '목성', '토성', '천왕성', '해왕성']\r\n",
        "for _ in range(2):\r\n",
        "    b = int(input())\r\n",
        "    print(n[b-1])"
      ],
      "execution_count": null,
      "outputs": [
        {
          "output_type": "stream",
          "text": [
            "1\n",
            "수성\n",
            "3\n",
            "지구\n"
          ],
          "name": "stdout"
        }
      ]
    },
    {
      "cell_type": "code",
      "metadata": {
        "colab": {
          "base_uri": "https://localhost:8080/"
        },
        "id": "w2Dnz5Ndv-d1",
        "outputId": "9987ce62-dd58-4dd2-ee63-42cc97bc8f4f"
      },
      "source": [
        "a = '수성, 금성, 지구, 화성, 목성, 토성, 천왕성, 해왕성'\r\n",
        "a = a.split(',')\r\n",
        "z = input()\r\n",
        "print(a[int(z) -1])"
      ],
      "execution_count": null,
      "outputs": [
        {
          "output_type": "stream",
          "text": [
            "1\n",
            "수성\n"
          ],
          "name": "stdout"
        }
      ]
    },
    {
      "cell_type": "code",
      "metadata": {
        "id": "9WPMzKW2wBCX"
      },
      "source": [
        "# 4번 : 행성 문제 2\r\n",
        "n = '수성, 금성, 지구, 화성, 목성, 토성, 천왕성, 해왕성'\r\n",
        "n = n.split(',')\r\n",
        "name = 'Mercury, Venus, Earth, Mars, Jupiter, Saturn, Uranus, Neptune'\r\n",
        "name = name.split(',')"
      ],
      "execution_count": null,
      "outputs": []
    },
    {
      "cell_type": "code",
      "metadata": {
        "colab": {
          "base_uri": "https://localhost:8080/"
        },
        "id": "lVjuMAkOwu4R",
        "outputId": "ad5d5174-9697-4d51-9696-cea12d06fd78"
      },
      "source": [
        "# 4번 : 행성 문제 2\r\n",
        "\r\n",
        "from collections import defaultdict\r\n",
        "\r\n",
        "n = '수성, 금성, 지구, 화성, 목성, 토성, 천왕성, 해왕성'\r\n",
        "n = n.split(', ')\r\n",
        "name = 'Mercury, Venus, Earth, Mars, Jupiter, Saturn, Uranus, Neptune'\r\n",
        "name = name.split(', ')\r\n",
        "\r\n",
        "dic = defaultdict(list)\r\n",
        "for i in range(len(n)):\r\n",
        "    dic[n[i]].append(name[i])\r\n",
        "\r\n",
        "for _ in range(2):\r\n",
        "    print(dic[input()])"
      ],
      "execution_count": null,
      "outputs": [
        {
          "output_type": "stream",
          "text": [
            "수성\n",
            "['Mercury']\n",
            "천왕성\n",
            "['Uranus']\n"
          ],
          "name": "stdout"
        }
      ]
    },
    {
      "cell_type": "code",
      "metadata": {
        "colab": {
          "base_uri": "https://localhost:8080/"
        },
        "id": "OIB-bCFSwvcd",
        "outputId": "c6305970-0663-4a06-ea67-14fe3fa1f96c"
      },
      "source": [
        "a = '수성, 금성, 지구, 화성, 목성, 토성, 천왕성, 해왕성'\r\n",
        "a = a.split(', ')\r\n",
        "\r\n",
        "c = 'Mercury, Venus, Earth, Mars, Jupiter, Saturn, Uranus, Neptune'\r\n",
        "c = c.split(', ')\r\n",
        "\r\n",
        "z = {}\r\n",
        "for i in range(len(a)):\r\n",
        "    z[a[i]] = c[i]\r\n",
        "    \r\n",
        "x = input()\r\n",
        "print(z[x])"
      ],
      "execution_count": null,
      "outputs": [
        {
          "output_type": "stream",
          "text": [
            "천왕성\n",
            "Uranus\n"
          ],
          "name": "stdout"
        }
      ]
    },
    {
      "cell_type": "code",
      "metadata": {
        "colab": {
          "base_uri": "https://localhost:8080/"
        },
        "id": "n1cBqzpgyue3",
        "outputId": "10ebe17e-d82c-4b98-a1fe-5bab39d4ac7d"
      },
      "source": [
        "# 5번 : 각 자리수의 합\r\n",
        "for _ in range(3):\r\n",
        "    n = input()\r\n",
        "    sum = 0\r\n",
        "\r\n",
        "    for i in str(n):\r\n",
        "        sum += int(i)\r\n",
        "    print(sum)"
      ],
      "execution_count": null,
      "outputs": [
        {
          "output_type": "stream",
          "text": [
            "12\n",
            "3\n",
            "1234\n",
            "10\n",
            "18234\n",
            "18\n"
          ],
          "name": "stdout"
        }
      ]
    },
    {
      "cell_type": "code",
      "metadata": {
        "colab": {
          "base_uri": "https://localhost:8080/"
        },
        "id": "3nbJIFhr0ATD",
        "outputId": "e3cd2d70-f93a-4120-ba60-4a03cfc0cbfd"
      },
      "source": [
        "# 6번 : Str 자료형의 응용\r\n",
        "# 1부터 100까지의(100을 포함) 숫자를 구성하는 모든 자릿수의 총 합을 구하는 코드를 작성해주세요.\r\n",
        "\r\n",
        "def sum_cdf(n):\r\n",
        "    str_n = str(n)\r\n",
        "    sum_cdf = 0\r\n",
        "\r\n",
        "    for cdf in str_n:\r\n",
        "        sum_cdf = sum_cdf + int(cdf)\r\n",
        "    return sum_cdf\r\n",
        "res = 0\r\n",
        "for i in range(1,101):\r\n",
        "    res = res + sum_cdf(i)\r\n",
        "print(res)"
      ],
      "execution_count": null,
      "outputs": [
        {
          "output_type": "stream",
          "text": [
            "901\n"
          ],
          "name": "stdout"
        }
      ]
    },
    {
      "cell_type": "code",
      "metadata": {
        "colab": {
          "base_uri": "https://localhost:8080/"
        },
        "id": "1uMpRGF11Dmt",
        "outputId": "581ed36a-e22b-4a36-fd42-803a06ddcdc7"
      },
      "source": [
        "# 7번 : 내장함수 응용하기\r\n",
        "# 0부터 1000까지 1의 개수를 세는 프로그램을 만들려고 합니다.\r\n",
        "n = str(input().split(', '))\r\n",
        "n.count('1')"
      ],
      "execution_count": null,
      "outputs": [
        {
          "output_type": "stream",
          "text": [
            "10, 11, 12\n"
          ],
          "name": "stdout"
        },
        {
          "output_type": "execute_result",
          "data": {
            "text/plain": [
              "4"
            ]
          },
          "metadata": {
            "tags": []
          },
          "execution_count": 85
        }
      ]
    },
    {
      "cell_type": "code",
      "metadata": {
        "colab": {
          "base_uri": "https://localhost:8080/"
        },
        "id": "7XYJkdvn1Nmb",
        "outputId": "ae96b48f-c9e6-4c2f-f520-d9a30ce9ed2d"
      },
      "source": [
        "# 8번 : 문자열 속 문자 찾기\r\n",
        "for _ in range(2):\r\n",
        "    text = input()\r\n",
        "    word = input()\r\n",
        "    print(text.find(word))"
      ],
      "execution_count": null,
      "outputs": [
        {
          "output_type": "stream",
          "text": [
            "pineapple is yummy\n",
            "apple\n",
            "4\n",
            "did you solve futureskill last week\n",
            "skill\n",
            "20\n"
          ],
          "name": "stdout"
        }
      ]
    },
    {
      "cell_type": "markdown",
      "metadata": {
        "id": "qjH288B73RB0"
      },
      "source": [
        "# 딕셔너리, 셋, 클래스"
      ]
    },
    {
      "cell_type": "code",
      "metadata": {
        "colab": {
          "base_uri": "https://localhost:8080/"
        },
        "id": "ZEMrHeK_1pr_",
        "outputId": "0419e2b2-25d7-4672-f1b3-5fa6639a5688"
      },
      "source": [
        "# 1번 : 딕셔너리 만들기\r\n",
        "key = input().split()\r\n",
        "value = map(int, input().split())\r\n",
        "\r\n",
        "result = dict(zip(key,value))\r\n",
        "print(result)"
      ],
      "execution_count": null,
      "outputs": [
        {
          "output_type": "stream",
          "text": [
            "Yujin Hyewon\n",
            "70 100\n",
            "{'Yujin': 70, 'Hyewon': 100}\n"
          ],
          "name": "stdout"
        }
      ]
    },
    {
      "cell_type": "code",
      "metadata": {
        "colab": {
          "base_uri": "https://localhost:8080/"
        },
        "id": "gEVUyCBFMSos",
        "outputId": "e890776d-7181-4bd8-e8b8-5dae133eb356"
      },
      "source": [
        "# 2번 : 딕셔너리 키 이름 중복\r\n",
        "d = {'height':180, 'weight':78, 'weight':84, 'temparture':36, 'eyesight':1}\r\n",
        "print(d['weight'])\r\n",
        "\r\n",
        "#딕셔너리 키 이름이 중복되었을 경우엔 가장 마지막에 사용한 키가 출력됨\r\n",
        "\r\n"
      ],
      "execution_count": null,
      "outputs": [
        {
          "output_type": "stream",
          "text": [
            "84\n"
          ],
          "name": "stdout"
        }
      ]
    },
    {
      "cell_type": "code",
      "metadata": {
        "colab": {
          "base_uri": "https://localhost:8080/"
        },
        "id": "a6N7JC3XMltA",
        "outputId": "5dd4b9b8-2930-4810-baaf-4cf5bbba2827"
      },
      "source": [
        "# 3번 : 리스트의 함수 응용\r\n",
        "nationWidth = {\r\n",
        "     'Korea': 220877,\r\n",
        "     'Rusia': 17098242,\r\n",
        "     'China': 9596961,\r\n",
        "     'France': 543965,\r\n",
        "     'Japan': 377915,\r\n",
        "     'England' : 242900 }\r\n",
        "for i in nationWidth:\r\n",
        "    if i != 'Korea':\r\n",
        "        dif = abs(nationWidth['Korea'] - nationWidth[i])\r\n",
        "        nationWidth[i] = dif\r\n",
        "\r\n",
        "na = nationWidth.items()\r\n",
        "country = ''\r\n",
        "\r\n",
        "for i in na:\r\n",
        "    if i[1] == min(nationWidth.values()):\r\n",
        "        country = i[0]\r\n",
        "print(country, min(nationWidth.values()))"
      ],
      "execution_count": null,
      "outputs": [
        {
          "output_type": "stream",
          "text": [
            "England 22023\n"
          ],
          "name": "stdout"
        }
      ]
    },
    {
      "cell_type": "code",
      "metadata": {
        "colab": {
          "base_uri": "https://localhost:8080/"
        },
        "id": "KohP6SbROAFc",
        "outputId": "4027a473-66ce-4953-a652-631452c2a8cf"
      },
      "source": [
        "# 4번 : 중복 제거\r\n",
        "people = [\r\n",
        "         ('김철수', '01040442913'),\r\n",
        "         ('이훈이', '01041442914'),\r\n",
        "         ('채성아', '01040342914'),\r\n",
        "         ('김철수', '01040442913'),\r\n",
        "         ('신짱아', '01040443914'),\r\n",
        "         ('신짱아', '01040443914'),\r\n",
        "         ('김철수', '01040442913'),\r\n",
        "         ('신짱아', '01040443914'),\r\n",
        "         ('신짱아', '01040443914'),\r\n",
        "         ('김철수', '01040442913'),\r\n",
        "         ('신짱구', '01040412914'),\r\n",
        "         ('신짱아', '01040443914'),\r\n",
        "         ('김철수', '01040442913'),\r\n",
        "         ('채성아', '01040342914'),\r\n",
        "         ('신짱아', '01040443914'),\r\n",
        "         ('신짱아', '01040443914'),\r\n",
        "         ('김철수', '01040442913'),\r\n",
        "         ]\r\n",
        "print(len(set(people)))"
      ],
      "execution_count": null,
      "outputs": [
        {
          "output_type": "stream",
          "text": [
            "5\n"
          ],
          "name": "stdout"
        }
      ]
    },
    {
      "cell_type": "code",
      "metadata": {
        "colab": {
          "base_uri": "https://localhost:8080/"
        },
        "id": "q7CLtEjWOO5I",
        "outputId": "05b0c4d5-5dcf-4bed-8df7-c7f65bc39aa8"
      },
      "source": [
        "# 5번 : Set 은 어떻게 만드나요\r\n",
        "a = {1, 2, 3, 5, 6, 7}\r\n",
        "b = {}\r\n",
        "c = set('python')\r\n",
        "d = set(range(5))\r\n",
        "e = set()\r\n",
        "print(type(a))\r\n",
        "print(type(b))\r\n",
        "print(type(c))\r\n",
        "print(type(d))\r\n",
        "print(type(e))"
      ],
      "execution_count": null,
      "outputs": [
        {
          "output_type": "stream",
          "text": [
            "<class 'set'>\n",
            "<class 'dict'>\n",
            "<class 'set'>\n",
            "<class 'set'>\n",
            "<class 'set'>\n"
          ],
          "name": "stdout"
        }
      ]
    },
    {
      "cell_type": "code",
      "metadata": {
        "colab": {
          "base_uri": "https://localhost:8080/"
        },
        "id": "XtWxb39KOP4M",
        "outputId": "e1709bb3-554a-4c2f-d0bd-bb4e8a8ab2d0"
      },
      "source": [
        "# 6번 : 게임 캐릭터 클래스 만들기\r\n",
        "class Wizard:\r\n",
        "    def __init__(self,health,mana,armor):\r\n",
        "        self.health = health\r\n",
        "        self.mana = mana\r\n",
        "        self.armor = armor\r\n",
        "    def attack(self):\r\n",
        "        print('파이어볼')\r\n",
        "x = Wizard(health = 545, mana = 210, armor = 10)\r\n",
        "print(x.health, x.mana, x.armor)\r\n",
        "x.attack()"
      ],
      "execution_count": null,
      "outputs": [
        {
          "output_type": "stream",
          "text": [
            "545 210 10\n",
            "파이어볼\n"
          ],
          "name": "stdout"
        }
      ]
    },
    {
      "cell_type": "markdown",
      "metadata": {
        "id": "3WX1y15HPNFS"
      },
      "source": [
        "# 파싱"
      ]
    },
    {
      "cell_type": "code",
      "metadata": {
        "colab": {
          "base_uri": "https://localhost:8080/"
        },
        "id": "QDyQb9C1OuF1",
        "outputId": "8db1d2a5-2cfb-4c76-de2b-65ca46c7a3e5"
      },
      "source": [
        "# 1번 : 콤마 찍기\r\n",
        "# 임의의 숫자를 입력받아 천 단위로 콤마(,)를 찍어 출력하는 코드를 작성하세요.\r\n",
        "def comma(a):\r\n",
        "    if len(a) <= 3:\r\n",
        "        return a\r\n",
        "    else:\r\n",
        "        return comma(a[:len(a)-3]) + ',' + a[len(a)-3:]\r\n",
        "\r\n",
        "for _ in range(3):\r\n",
        "    print(comma(input()))"
      ],
      "execution_count": null,
      "outputs": [
        {
          "output_type": "stream",
          "text": [
            "100\n",
            "100\n",
            "1000\n",
            "1,000\n",
            "12345678\n",
            "12,345,678\n"
          ],
          "name": "stdout"
        }
      ]
    },
    {
      "cell_type": "code",
      "metadata": {
        "colab": {
          "base_uri": "https://localhost:8080/",
          "height": 34
        },
        "id": "QIr4M2U2QMmj",
        "outputId": "df4772a9-363a-4caf-a5a1-12422c818395"
      },
      "source": [
        "while True:\r\n",
        "    n = int(input())\r\n",
        "    if n==0: break;\r\n",
        "    print('{:,}'.format(n))"
      ],
      "execution_count": null,
      "outputs": [
        {
          "output_type": "execute_result",
          "data": {
            "application/vnd.google.colaboratory.intrinsic+json": {
              "type": "string"
            },
            "text/plain": [
              "'678'"
            ]
          },
          "metadata": {
            "tags": []
          },
          "execution_count": 29
        }
      ]
    },
    {
      "cell_type": "code",
      "metadata": {
        "colab": {
          "base_uri": "https://localhost:8080/"
        },
        "id": "5ylw7m9MQPha",
        "outputId": "d6b83ac2-0858-4035-b875-a0c7f84c6097"
      },
      "source": [
        "# 2번 : 괄호 문자열\r\n",
        "# 입력으로 주어진 괄호 문자열이 바른 문자열인지 바르지 않은 문자열인지 True/False 로 판단하여 출력하는 코드를 작성해보세요.\r\n",
        "for _ in range(3):\r\n",
        "    sentence = input()\r\n",
        "    judge = 0\r\n",
        "    if sentence.count('(') == sentence.count(')') :\r\n",
        "        judge = True\r\n",
        "    else:\r\n",
        "        judge = False\r\n",
        "    print(judge)"
      ],
      "execution_count": null,
      "outputs": [
        {
          "output_type": "stream",
          "text": [
            "()\n",
            "True\n",
            "(())\n",
            "True\n",
            "((()\n",
            "False\n"
          ],
          "name": "stdout"
        }
      ]
    },
    {
      "cell_type": "code",
      "metadata": {
        "colab": {
          "base_uri": "https://localhost:8080/"
        },
        "id": "AlxVGVRcQqfY",
        "outputId": "63da3c00-333b-4042-816e-ae5689742a02"
      },
      "source": [
        "# 3번 : 수학 괄호 파싱\r\n",
        "def math(e):\r\n",
        "    stack = []\r\n",
        "    for i in range(len(e)):\r\n",
        "        if e[i] == '(':\r\n",
        "            stack.append(i)\r\n",
        "        elif e[i] == ')':\r\n",
        "            if len(stacke) == 0:\r\n",
        "                return False\r\n",
        "            stack.pop()\r\n",
        "        if len(stack) != 0:\r\n",
        "            return False\r\n",
        "        return True\r\n",
        "        \r\n",
        "while True:\r\n",
        "    order = input('수식입력(1), 프로그램 종료(2) :')\r\n",
        "    if order == '1':\r\n",
        "        ex = input('수식을 입력하세요 :')\r\n",
        "        print(math(ex))\r\n",
        "    else:\r\n",
        "        break\r\n"
      ],
      "execution_count": null,
      "outputs": [
        {
          "output_type": "stream",
          "text": [
            "수식입력(1), 프로그램 종료(2) :1\n",
            "수식을 입력하세요 :3 + 5\n",
            "True\n",
            "수식입력(1), 프로그램 종료(2) :1\n",
            "수식을 입력하세요 :5 + 7) * (3 * 5)\n",
            "True\n",
            "수식입력(1), 프로그램 종료(2) :1\n",
            "수식을 입력하세요 :(5 + 7) * (3 * 5)\n",
            "False\n",
            "수식입력(1), 프로그램 종료(2) :break\n"
          ],
          "name": "stdout"
        }
      ]
    },
    {
      "cell_type": "code",
      "metadata": {
        "colab": {
          "base_uri": "https://localhost:8080/"
        },
        "id": "Sec8sNq5Tyik",
        "outputId": "a0616be4-94b6-4a1a-aa5b-a1fd923505be"
      },
      "source": [
        "# 4번 : 수학 괄호 파싱 2\r\n",
        "def math_1(e):\r\n",
        "    stack = []\r\n",
        "    for i in range(len(e)):\r\n",
        "        if e[i] == '{':\r\n",
        "            stack.append(i)\r\n",
        "            if math(list(e[i+1:])) is False:\r\n",
        "                return True\r\n",
        "            elif ex[i] == '}':\r\n",
        "                if len(stack) == 0:\r\n",
        "                    return False\r\n",
        "                stack.pop()\r\n",
        "            else:\r\n",
        "                return math(list(e[i+1:]))\r\n",
        "    if len(stack) != 0:\r\n",
        "        return False\r\n",
        "    return True\r\n",
        "\r\n",
        "while 1:\r\n",
        "    order = input('수식입력(1), 프로그램 종료(2) :')\r\n",
        "    if order == '1':\r\n",
        "        ex = input('수식을 입력하세요 :')\r\n",
        "        print(math_1(ex))\r\n",
        "    else:\r\n",
        "        break"
      ],
      "execution_count": null,
      "outputs": [
        {
          "output_type": "stream",
          "text": [
            "수식입력(1), 프로그램 종료(2) :1\n",
            "수식을 입력하세요 :5 + 7 * {(3 * 5)}\n",
            "True\n",
            "수식입력(1), 프로그램 종료(2) :1\n",
            "수식을 입력하세요 :5 + 7){ * (3 * 5)\n",
            "True\n",
            "수식입력(1), 프로그램 종료(2) :1\n",
            "수식을 입력하세요 :{{{(5 + 7) * (3 * 5)}}}\n",
            "True\n",
            "수식입력(1), 프로그램 종료(2) :2\n"
          ],
          "name": "stdout"
        }
      ]
    },
    {
      "cell_type": "code",
      "metadata": {
        "colab": {
          "base_uri": "https://localhost:8080/"
        },
        "id": "HbvwA8V4WeNG",
        "outputId": "8627313d-8cae-491e-de4c-e2fdb935ca1c"
      },
      "source": [
        "def math(e):\r\n",
        "    try:\r\n",
        "        return True if eval(e) else False\r\n",
        "    except:\r\n",
        "        return False\r\n",
        "\r\n",
        "while True:\r\n",
        "    order = input('수식입력(1), 프로그램 종료(2) :')\r\n",
        "    if order == '1':\r\n",
        "        ex = input('수식을 입력하세요 :')\r\n",
        "        print(math(ex.replace('{','(').replace('}',')')))\r\n",
        "    else:\r\n",
        "        break"
      ],
      "execution_count": null,
      "outputs": [
        {
          "output_type": "stream",
          "text": [
            "수식입력(1), 프로그램 종료(2) :1\n",
            "수식을 입력하세요 :5 + 7 * {(3 * 5)}\n",
            "True\n",
            "수식입력(1), 프로그램 종료(2) :1\n",
            "수식을 입력하세요 :5 + 7){ * (3 * 5)\n",
            "False\n",
            "수식입력(1), 프로그램 종료(2) :1\n",
            "수식을 입력하세요 :{{{(5 + 7) * (3 * 5)}}}\n",
            "True\n",
            "수식입력(1), 프로그램 종료(2) :2\n"
          ],
          "name": "stdout"
        }
      ]
    },
    {
      "cell_type": "code",
      "metadata": {
        "colab": {
          "base_uri": "https://localhost:8080/",
          "height": 390
        },
        "id": "_y0sRRrJXJWX",
        "outputId": "7d34a8bb-a248-4a5c-b965-d9952ed7a53e"
      },
      "source": [
        "# 5번 : 키보드 고장\r\n",
        "import pandas as pd\r\n",
        "from random import randint\r\n",
        "\r\n",
        "df = pd.read_csv('/content/montly.csv',thousands=',') \r\n",
        "df.월급여 = df.월급여.astype(int)\r\n",
        "\r\n",
        "for i in range(len(df.월급여)):\r\n",
        "    df['월급여2'] = [randint(1,df.월급여[i])]\r\n",
        "df"
      ],
      "execution_count": null,
      "outputs": [
        {
          "output_type": "error",
          "ename": "ValueError",
          "evalue": "ignored",
          "traceback": [
            "\u001b[0;31m---------------------------------------------------------------------------\u001b[0m",
            "\u001b[0;31mValueError\u001b[0m                                Traceback (most recent call last)",
            "\u001b[0;32m<ipython-input-14-8ac93b007b64>\u001b[0m in \u001b[0;36m<module>\u001b[0;34m()\u001b[0m\n\u001b[1;32m      7\u001b[0m \u001b[0;34m\u001b[0m\u001b[0m\n\u001b[1;32m      8\u001b[0m \u001b[0;32mfor\u001b[0m \u001b[0mi\u001b[0m \u001b[0;32min\u001b[0m \u001b[0mrange\u001b[0m\u001b[0;34m(\u001b[0m\u001b[0mlen\u001b[0m\u001b[0;34m(\u001b[0m\u001b[0mdf\u001b[0m\u001b[0;34m.\u001b[0m\u001b[0m월급여\u001b[0m\u001b[0;34m)\u001b[0m\u001b[0;34m)\u001b[0m\u001b[0;34m:\u001b[0m\u001b[0;34m\u001b[0m\u001b[0;34m\u001b[0m\u001b[0m\n\u001b[0;32m----> 9\u001b[0;31m     \u001b[0mdf\u001b[0m\u001b[0;34m[\u001b[0m\u001b[0;34m'월급여2'\u001b[0m\u001b[0;34m]\u001b[0m \u001b[0;34m=\u001b[0m \u001b[0;34m[\u001b[0m\u001b[0mrandint\u001b[0m\u001b[0;34m(\u001b[0m\u001b[0;36m1\u001b[0m\u001b[0;34m,\u001b[0m\u001b[0mdf\u001b[0m\u001b[0;34m.\u001b[0m\u001b[0m월급여\u001b[0m\u001b[0;34m[\u001b[0m\u001b[0mi\u001b[0m\u001b[0;34m]\u001b[0m\u001b[0;34m)\u001b[0m\u001b[0;34m]\u001b[0m\u001b[0;34m\u001b[0m\u001b[0;34m\u001b[0m\u001b[0m\n\u001b[0m\u001b[1;32m     10\u001b[0m \u001b[0mdf\u001b[0m\u001b[0;34m\u001b[0m\u001b[0;34m\u001b[0m\u001b[0m\n",
            "\u001b[0;32m/usr/local/lib/python3.7/dist-packages/pandas/core/frame.py\u001b[0m in \u001b[0;36m__setitem__\u001b[0;34m(self, key, value)\u001b[0m\n\u001b[1;32m   3042\u001b[0m         \u001b[0;32melse\u001b[0m\u001b[0;34m:\u001b[0m\u001b[0;34m\u001b[0m\u001b[0;34m\u001b[0m\u001b[0m\n\u001b[1;32m   3043\u001b[0m             \u001b[0;31m# set column\u001b[0m\u001b[0;34m\u001b[0m\u001b[0;34m\u001b[0m\u001b[0;34m\u001b[0m\u001b[0m\n\u001b[0;32m-> 3044\u001b[0;31m             \u001b[0mself\u001b[0m\u001b[0;34m.\u001b[0m\u001b[0m_set_item\u001b[0m\u001b[0;34m(\u001b[0m\u001b[0mkey\u001b[0m\u001b[0;34m,\u001b[0m \u001b[0mvalue\u001b[0m\u001b[0;34m)\u001b[0m\u001b[0;34m\u001b[0m\u001b[0;34m\u001b[0m\u001b[0m\n\u001b[0m\u001b[1;32m   3045\u001b[0m \u001b[0;34m\u001b[0m\u001b[0m\n\u001b[1;32m   3046\u001b[0m     \u001b[0;32mdef\u001b[0m \u001b[0m_setitem_slice\u001b[0m\u001b[0;34m(\u001b[0m\u001b[0mself\u001b[0m\u001b[0;34m,\u001b[0m \u001b[0mkey\u001b[0m\u001b[0;34m:\u001b[0m \u001b[0mslice\u001b[0m\u001b[0;34m,\u001b[0m \u001b[0mvalue\u001b[0m\u001b[0;34m)\u001b[0m\u001b[0;34m:\u001b[0m\u001b[0;34m\u001b[0m\u001b[0;34m\u001b[0m\u001b[0m\n",
            "\u001b[0;32m/usr/local/lib/python3.7/dist-packages/pandas/core/frame.py\u001b[0m in \u001b[0;36m_set_item\u001b[0;34m(self, key, value)\u001b[0m\n\u001b[1;32m   3118\u001b[0m         \"\"\"\n\u001b[1;32m   3119\u001b[0m         \u001b[0mself\u001b[0m\u001b[0;34m.\u001b[0m\u001b[0m_ensure_valid_index\u001b[0m\u001b[0;34m(\u001b[0m\u001b[0mvalue\u001b[0m\u001b[0;34m)\u001b[0m\u001b[0;34m\u001b[0m\u001b[0;34m\u001b[0m\u001b[0m\n\u001b[0;32m-> 3120\u001b[0;31m         \u001b[0mvalue\u001b[0m \u001b[0;34m=\u001b[0m \u001b[0mself\u001b[0m\u001b[0;34m.\u001b[0m\u001b[0m_sanitize_column\u001b[0m\u001b[0;34m(\u001b[0m\u001b[0mkey\u001b[0m\u001b[0;34m,\u001b[0m \u001b[0mvalue\u001b[0m\u001b[0;34m)\u001b[0m\u001b[0;34m\u001b[0m\u001b[0;34m\u001b[0m\u001b[0m\n\u001b[0m\u001b[1;32m   3121\u001b[0m         \u001b[0mNDFrame\u001b[0m\u001b[0;34m.\u001b[0m\u001b[0m_set_item\u001b[0m\u001b[0;34m(\u001b[0m\u001b[0mself\u001b[0m\u001b[0;34m,\u001b[0m \u001b[0mkey\u001b[0m\u001b[0;34m,\u001b[0m \u001b[0mvalue\u001b[0m\u001b[0;34m)\u001b[0m\u001b[0;34m\u001b[0m\u001b[0;34m\u001b[0m\u001b[0m\n\u001b[1;32m   3122\u001b[0m \u001b[0;34m\u001b[0m\u001b[0m\n",
            "\u001b[0;32m/usr/local/lib/python3.7/dist-packages/pandas/core/frame.py\u001b[0m in \u001b[0;36m_sanitize_column\u001b[0;34m(self, key, value, broadcast)\u001b[0m\n\u001b[1;32m   3766\u001b[0m \u001b[0;34m\u001b[0m\u001b[0m\n\u001b[1;32m   3767\u001b[0m             \u001b[0;31m# turn me into an ndarray\u001b[0m\u001b[0;34m\u001b[0m\u001b[0;34m\u001b[0m\u001b[0;34m\u001b[0m\u001b[0m\n\u001b[0;32m-> 3768\u001b[0;31m             \u001b[0mvalue\u001b[0m \u001b[0;34m=\u001b[0m \u001b[0msanitize_index\u001b[0m\u001b[0;34m(\u001b[0m\u001b[0mvalue\u001b[0m\u001b[0;34m,\u001b[0m \u001b[0mself\u001b[0m\u001b[0;34m.\u001b[0m\u001b[0mindex\u001b[0m\u001b[0;34m)\u001b[0m\u001b[0;34m\u001b[0m\u001b[0;34m\u001b[0m\u001b[0m\n\u001b[0m\u001b[1;32m   3769\u001b[0m             \u001b[0;32mif\u001b[0m \u001b[0;32mnot\u001b[0m \u001b[0misinstance\u001b[0m\u001b[0;34m(\u001b[0m\u001b[0mvalue\u001b[0m\u001b[0;34m,\u001b[0m \u001b[0;34m(\u001b[0m\u001b[0mnp\u001b[0m\u001b[0;34m.\u001b[0m\u001b[0mndarray\u001b[0m\u001b[0;34m,\u001b[0m \u001b[0mIndex\u001b[0m\u001b[0;34m)\u001b[0m\u001b[0;34m)\u001b[0m\u001b[0;34m:\u001b[0m\u001b[0;34m\u001b[0m\u001b[0;34m\u001b[0m\u001b[0m\n\u001b[1;32m   3770\u001b[0m                 \u001b[0;32mif\u001b[0m \u001b[0misinstance\u001b[0m\u001b[0;34m(\u001b[0m\u001b[0mvalue\u001b[0m\u001b[0;34m,\u001b[0m \u001b[0mlist\u001b[0m\u001b[0;34m)\u001b[0m \u001b[0;32mand\u001b[0m \u001b[0mlen\u001b[0m\u001b[0;34m(\u001b[0m\u001b[0mvalue\u001b[0m\u001b[0;34m)\u001b[0m \u001b[0;34m>\u001b[0m \u001b[0;36m0\u001b[0m\u001b[0;34m:\u001b[0m\u001b[0;34m\u001b[0m\u001b[0;34m\u001b[0m\u001b[0m\n",
            "\u001b[0;32m/usr/local/lib/python3.7/dist-packages/pandas/core/internals/construction.py\u001b[0m in \u001b[0;36msanitize_index\u001b[0;34m(data, index)\u001b[0m\n\u001b[1;32m    746\u001b[0m     \u001b[0;32mif\u001b[0m \u001b[0mlen\u001b[0m\u001b[0;34m(\u001b[0m\u001b[0mdata\u001b[0m\u001b[0;34m)\u001b[0m \u001b[0;34m!=\u001b[0m \u001b[0mlen\u001b[0m\u001b[0;34m(\u001b[0m\u001b[0mindex\u001b[0m\u001b[0;34m)\u001b[0m\u001b[0;34m:\u001b[0m\u001b[0;34m\u001b[0m\u001b[0;34m\u001b[0m\u001b[0m\n\u001b[1;32m    747\u001b[0m         raise ValueError(\n\u001b[0;32m--> 748\u001b[0;31m             \u001b[0;34m\"Length of values \"\u001b[0m\u001b[0;34m\u001b[0m\u001b[0;34m\u001b[0m\u001b[0m\n\u001b[0m\u001b[1;32m    749\u001b[0m             \u001b[0;34mf\"({len(data)}) \"\u001b[0m\u001b[0;34m\u001b[0m\u001b[0;34m\u001b[0m\u001b[0m\n\u001b[1;32m    750\u001b[0m             \u001b[0;34m\"does not match length of index \"\u001b[0m\u001b[0;34m\u001b[0m\u001b[0;34m\u001b[0m\u001b[0m\n",
            "\u001b[0;31mValueError\u001b[0m: Length of values (1) does not match length of index (5)"
          ]
        }
      ]
    },
    {
      "cell_type": "code",
      "metadata": {
        "colab": {
          "base_uri": "https://localhost:8080/"
        },
        "id": "3RiK_-izyx8U",
        "outputId": "dcdc5c59-4a57-47b8-85ae-39ca7fe38265"
      },
      "source": [
        "randint(1,df.월급여[0])"
      ],
      "execution_count": null,
      "outputs": [
        {
          "output_type": "execute_result",
          "data": {
            "text/plain": [
              "2843005"
            ]
          },
          "metadata": {
            "tags": []
          },
          "execution_count": 10
        }
      ]
    },
    {
      "cell_type": "code",
      "metadata": {
        "colab": {
          "base_uri": "https://localhost:8080/",
          "height": 197
        },
        "id": "QdUa95-kyuJ8",
        "outputId": "2e1ede09-b0cd-4da3-8b8a-f55a4d53abc5"
      },
      "source": [
        "import pandas as pd\r\n",
        "from random import randint\r\n",
        "\r\n",
        "df = pd.read_csv('/content/montly.csv',thousands=',') \r\n",
        "df.월급여 = df.월급여.astype(int)\r\n",
        "df.insert(2,'월급여2',[randint(1,df.월급여[i]) for i in range(len(df.월급여))])\r\n",
        "dif = df['월급여'] - df['월급여2']\r\n",
        "df.insert(2,'월급여1',dif)\r\n",
        "df.drop(['월급여'],axis=1,inplace=True)\r\n",
        "df"
      ],
      "execution_count": null,
      "outputs": [
        {
          "output_type": "execute_result",
          "data": {
            "text/html": [
              "<div>\n",
              "<style scoped>\n",
              "    .dataframe tbody tr th:only-of-type {\n",
              "        vertical-align: middle;\n",
              "    }\n",
              "\n",
              "    .dataframe tbody tr th {\n",
              "        vertical-align: top;\n",
              "    }\n",
              "\n",
              "    .dataframe thead th {\n",
              "        text-align: right;\n",
              "    }\n",
              "</style>\n",
              "<table border=\"1\" class=\"dataframe\">\n",
              "  <thead>\n",
              "    <tr style=\"text-align: right;\">\n",
              "      <th></th>\n",
              "      <th>이름</th>\n",
              "      <th>월급여1</th>\n",
              "      <th>월급여2</th>\n",
              "      <th>은행</th>\n",
              "      <th>계좌번호</th>\n",
              "    </tr>\n",
              "  </thead>\n",
              "  <tbody>\n",
              "    <tr>\n",
              "      <th>0</th>\n",
              "      <td>김과장</td>\n",
              "      <td>1262938</td>\n",
              "      <td>2737062</td>\n",
              "      <td>퓨쳐</td>\n",
              "      <td>123-4567-8910-123</td>\n",
              "    </tr>\n",
              "    <tr>\n",
              "      <th>1</th>\n",
              "      <td>이과장</td>\n",
              "      <td>3470393</td>\n",
              "      <td>329607</td>\n",
              "      <td>퓨쳐</td>\n",
              "      <td>234-5678-9101-112</td>\n",
              "    </tr>\n",
              "    <tr>\n",
              "      <th>2</th>\n",
              "      <td>강과장</td>\n",
              "      <td>888165</td>\n",
              "      <td>2611835</td>\n",
              "      <td>퓨쳐</td>\n",
              "      <td>456-7891-0111-213</td>\n",
              "    </tr>\n",
              "    <tr>\n",
              "      <th>3</th>\n",
              "      <td>김대리</td>\n",
              "      <td>298510</td>\n",
              "      <td>2401490</td>\n",
              "      <td>스킬</td>\n",
              "      <td>567-8910-1112-131</td>\n",
              "    </tr>\n",
              "    <tr>\n",
              "      <th>4</th>\n",
              "      <td>이사원</td>\n",
              "      <td>61901</td>\n",
              "      <td>2438099</td>\n",
              "      <td>스킬</td>\n",
              "      <td>678-9101-1121-314</td>\n",
              "    </tr>\n",
              "  </tbody>\n",
              "</table>\n",
              "</div>"
            ],
            "text/plain": [
              "    이름     월급여1     월급여2  은행               계좌번호\n",
              "0  김과장  1262938  2737062  퓨쳐  123-4567-8910-123\n",
              "1  이과장  3470393   329607  퓨쳐  234-5678-9101-112\n",
              "2  강과장   888165  2611835  퓨쳐  456-7891-0111-213\n",
              "3  김대리   298510  2401490  스킬  567-8910-1112-131\n",
              "4  이사원    61901  2438099  스킬  678-9101-1121-314"
            ]
          },
          "metadata": {
            "tags": []
          },
          "execution_count": 27
        }
      ]
    },
    {
      "cell_type": "code",
      "metadata": {
        "colab": {
          "base_uri": "https://localhost:8080/",
          "height": 197
        },
        "id": "Y-ubMxFDylXH",
        "outputId": "6359a7d3-1541-4253-9712-dfc7e5cd51a6"
      },
      "source": [
        "import pandas as pd\r\n",
        "from random import randint\r\n",
        "\r\n",
        "df = pd.read_csv('montly.csv',thousands=',')  # df.월급여 = df.월급여.replace(',','')\r\n",
        "df.월급여 = df.월급여.astype(int)\r\n",
        "df.insert(2,'월급여2',[randint(1,df.월급여[i]) for i in range(len(df.월급여))])\r\n",
        "\r\n",
        "def sol(a,b): return a-b\r\n",
        "df['월급여'] = df.apply(lambda x:sol(x['월급여'],x['월급여2']),axis=1)\r\n",
        "df"
      ],
      "execution_count": null,
      "outputs": [
        {
          "output_type": "execute_result",
          "data": {
            "text/html": [
              "<div>\n",
              "<style scoped>\n",
              "    .dataframe tbody tr th:only-of-type {\n",
              "        vertical-align: middle;\n",
              "    }\n",
              "\n",
              "    .dataframe tbody tr th {\n",
              "        vertical-align: top;\n",
              "    }\n",
              "\n",
              "    .dataframe thead th {\n",
              "        text-align: right;\n",
              "    }\n",
              "</style>\n",
              "<table border=\"1\" class=\"dataframe\">\n",
              "  <thead>\n",
              "    <tr style=\"text-align: right;\">\n",
              "      <th></th>\n",
              "      <th>이름</th>\n",
              "      <th>월급여</th>\n",
              "      <th>월급여2</th>\n",
              "      <th>은행</th>\n",
              "      <th>계좌번호</th>\n",
              "    </tr>\n",
              "  </thead>\n",
              "  <tbody>\n",
              "    <tr>\n",
              "      <th>0</th>\n",
              "      <td>김과장</td>\n",
              "      <td>1994633</td>\n",
              "      <td>2005367</td>\n",
              "      <td>퓨쳐</td>\n",
              "      <td>123-4567-8910-123</td>\n",
              "    </tr>\n",
              "    <tr>\n",
              "      <th>1</th>\n",
              "      <td>이과장</td>\n",
              "      <td>1447880</td>\n",
              "      <td>2352120</td>\n",
              "      <td>퓨쳐</td>\n",
              "      <td>234-5678-9101-112</td>\n",
              "    </tr>\n",
              "    <tr>\n",
              "      <th>2</th>\n",
              "      <td>강과장</td>\n",
              "      <td>1306343</td>\n",
              "      <td>2193657</td>\n",
              "      <td>퓨쳐</td>\n",
              "      <td>456-7891-0111-213</td>\n",
              "    </tr>\n",
              "    <tr>\n",
              "      <th>3</th>\n",
              "      <td>김대리</td>\n",
              "      <td>2288521</td>\n",
              "      <td>411479</td>\n",
              "      <td>스킬</td>\n",
              "      <td>567-8910-1112-131</td>\n",
              "    </tr>\n",
              "    <tr>\n",
              "      <th>4</th>\n",
              "      <td>이사원</td>\n",
              "      <td>1621397</td>\n",
              "      <td>878603</td>\n",
              "      <td>스킬</td>\n",
              "      <td>678-9101-1121-314</td>\n",
              "    </tr>\n",
              "  </tbody>\n",
              "</table>\n",
              "</div>"
            ],
            "text/plain": [
              "    이름      월급여     월급여2  은행               계좌번호\n",
              "0  김과장  1994633  2005367  퓨쳐  123-4567-8910-123\n",
              "1  이과장  1447880  2352120  퓨쳐  234-5678-9101-112\n",
              "2  강과장  1306343  2193657  퓨쳐  456-7891-0111-213\n",
              "3  김대리  2288521   411479  스킬  567-8910-1112-131\n",
              "4  이사원  1621397   878603  스킬  678-9101-1121-314"
            ]
          },
          "metadata": {
            "tags": []
          },
          "execution_count": 21
        }
      ]
    },
    {
      "cell_type": "markdown",
      "metadata": {
        "id": "vq3ZFWoc2HgC"
      },
      "source": [
        "# 프로그래밍 2편"
      ]
    },
    {
      "cell_type": "code",
      "metadata": {
        "id": "J21DVwkn2JUP",
        "colab": {
          "base_uri": "https://localhost:8080/"
        },
        "outputId": "82207bb4-e5e5-4b66-c150-4a27195fd030"
      },
      "source": [
        "# 1번 : 이상한 369\r\n",
        "def sol(n):\r\n",
        "    def check(n):\r\n",
        "        for i in str(n):\r\n",
        "            if int(i) == 0 or int(i) % 3 != 0:\r\n",
        "                return 0\r\n",
        "        return 1\r\n",
        "\r\n",
        "    cnt = 0\r\n",
        "    for i in range(1,n+1):\r\n",
        "        cnt += check(i) \r\n",
        "    return cnt\r\n",
        "\r\n",
        "print(sol(int(input())))"
      ],
      "execution_count": 21,
      "outputs": [
        {
          "output_type": "stream",
          "text": [
            "93\n",
            "10\n"
          ],
          "name": "stdout"
        }
      ]
    },
    {
      "cell_type": "code",
      "metadata": {
        "colab": {
          "base_uri": "https://localhost:8080/"
        },
        "id": "wKo3UTD72YdT",
        "outputId": "149ce5b5-4e2a-4d2c-b5a7-9175da0f3e90"
      },
      "source": [
        "# 2번 : 버스시간표\r\n",
        "li = ['12:30','13:20','14:13']\r\n",
        "now = '12:40'\r\n",
        "\r\n",
        "res = []\r\n",
        "\r\n",
        "def min_change(time):\r\n",
        "    return int(time.split(':')[0])*60 + int(time.split(':')[1])\r\n",
        "def hour_change(time):\r\n",
        "    return '{:02d}시간 {:02d}분'.format(time//60,time%60)\r\n",
        "\r\n",
        "for i in li:\r\n",
        "    if min_change(i) - changeMin(now) < 0:\r\n",
        "        res.append('지나갔습니다.')\r\n",
        "    else:\r\n",
        "        res.append(hour_change(changeMin(i)-changeMin(now)))\r\n",
        "print(res)"
      ],
      "execution_count": 40,
      "outputs": [
        {
          "output_type": "stream",
          "text": [
            "['지나갔습니다.', '00시간 40분', '01시간 33분']\n"
          ],
          "name": "stdout"
        }
      ]
    },
    {
      "cell_type": "code",
      "metadata": {
        "colab": {
          "base_uri": "https://localhost:8080/"
        },
        "id": "BfQv7z_S47Zn",
        "outputId": "591101cf-3539-49e7-a5f0-1627e83ad96d"
      },
      "source": [
        "# 3번 : 날짜 출력하기\r\n",
        "from datetime import date\r\n",
        "print(str(date.today().year)+str(date.today().month)+str(date.today().day))"
      ],
      "execution_count": 50,
      "outputs": [
        {
          "output_type": "stream",
          "text": [
            "2021318\n"
          ],
          "name": "stdout"
        }
      ]
    },
    {
      "cell_type": "code",
      "metadata": {
        "colab": {
          "base_uri": "https://localhost:8080/"
        },
        "id": "uynzNTC06O1G",
        "outputId": "260e3ad4-909e-4502-c117-37e2b7ef7229"
      },
      "source": [
        "# # 4번 : 천하제일 먹기대회\r\n",
        "nameList = [\"손오공\", \"야모챠\", \"메지터\", \"비콜로\"]\r\n",
        "scoreList = [70, 10, 55, 40]\r\n",
        "\r\n",
        "res = {}\r\n",
        "a = list([i,j] for i,j in zip(nameList,scoreList))\r\n",
        "a = sorted(a, key= lambda a:a[1], reverse=True)\r\n",
        "\r\n",
        "for i in range(len(a)):\r\n",
        "    res[a[i][0]] = i+1\r\n",
        "print(res)"
      ],
      "execution_count": 59,
      "outputs": [
        {
          "output_type": "stream",
          "text": [
            "{'손오공': 1, '메지터': 2, '비콜로': 3, '야모챠': 4}\n"
          ],
          "name": "stdout"
        }
      ]
    },
    {
      "cell_type": "markdown",
      "metadata": {
        "id": "mUaoI4f47rs-"
      },
      "source": [
        "# 프로그래밍 3편"
      ]
    },
    {
      "cell_type": "code",
      "metadata": {
        "colab": {
          "base_uri": "https://localhost:8080/"
        },
        "id": "Ofbkz4cF7FVx",
        "outputId": "b16f0860-f557-49ff-85ad-780b0f0cc3cd"
      },
      "source": [
        "# 1번 : 아르바이트\r\n",
        "records = [97, 86, 75, 66, 55, 97, 85, 97, 97, 95]\r\n",
        "numCandy = 0\r\n",
        "for i in range(3) :\r\n",
        "    max_value = max(records)\r\n",
        "    for j in range(len(records)):\r\n",
        "        if max_value in records:\r\n",
        "            numCandy += 1\r\n",
        "            records.remove(max_value)\r\n",
        "print(numCandy)"
      ],
      "execution_count": 60,
      "outputs": [
        {
          "output_type": "stream",
          "text": [
            "6\n"
          ],
          "name": "stdout"
        }
      ]
    },
    {
      "cell_type": "code",
      "metadata": {
        "colab": {
          "base_uri": "https://localhost:8080/"
        },
        "id": "-oTPxcpp7Fm9",
        "outputId": "6d068f1e-3524-4ffb-92e5-ec2fb783ff99"
      },
      "source": [
        "# 2번 : 수영장 채우기\r\n",
        "for _ in range(3):\r\n",
        "    water = int(input())\r\n",
        "    res = 0\r\n",
        "\r\n",
        "    while water > 2:\r\n",
        "        if water > 7 :\r\n",
        "            res += water // 7\r\n",
        "            water = water % 7\r\n",
        "        else:\r\n",
        "            res += water // 3\r\n",
        "            water = water % 3\r\n",
        "    if water == 0:\r\n",
        "        print(res)\r\n",
        "    else:\r\n",
        "        print(-1)"
      ],
      "execution_count": 64,
      "outputs": [
        {
          "output_type": "stream",
          "text": [
            "24\n",
            "4\n",
            "30\n",
            "-1\n",
            "11\n",
            "-1\n"
          ],
          "name": "stdout"
        }
      ]
    },
    {
      "cell_type": "code",
      "metadata": {
        "colab": {
          "base_uri": "https://localhost:8080/"
        },
        "id": "WxjnXn4O_eTV",
        "outputId": "59ecf72e-cb3d-49d4-a1a4-956b0e2aaf99"
      },
      "source": [
        "# 3번 : 악수 \r\n",
        "n =int(input())\r\n",
        "count = 0\r\n",
        "people = 0\r\n",
        "res = []\r\n",
        "\r\n",
        "while True:\r\n",
        "    a = people * (people+1) // 2\r\n",
        "    people+=1\r\n",
        "    if n < a:\r\n",
        "        break\r\n",
        "count = n - (people-2)*(people-1) // 2\r\n",
        "print(count,people)"
      ],
      "execution_count": 69,
      "outputs": [
        {
          "output_type": "stream",
          "text": [
            "59\n",
            "4 12\n"
          ],
          "name": "stdout"
        }
      ]
    },
    {
      "cell_type": "code",
      "metadata": {
        "colab": {
          "base_uri": "https://localhost:8080/"
        },
        "id": "p29IaSF1_fDQ",
        "outputId": "4d3f8e97-516b-4ed6-b285-ad098668ff65"
      },
      "source": [
        "# 4번 : 놀이동산에 가자\r\n",
        "limit_weight = int(input())\r\n",
        "n = int(input())\r\n",
        "list_weight = [20,20,20,20,20,20]\r\n",
        "count =0\r\n",
        "maximum = 0\r\n",
        "\r\n",
        "for i in range(n) :\r\n",
        "    maximum += list_weight[i]\r\n",
        "    if maximum < limit_weight :\r\n",
        "        count+=1\r\n",
        "    else:\r\n",
        "        break\r\n",
        "print(count)"
      ],
      "execution_count": 87,
      "outputs": [
        {
          "output_type": "stream",
          "text": [
            "50\n",
            "5\n",
            "2\n"
          ],
          "name": "stdout"
        }
      ]
    },
    {
      "cell_type": "markdown",
      "metadata": {
        "id": "Ly85cJMsc6IC"
      },
      "source": [
        "# 프로그래밍 4편"
      ]
    },
    {
      "cell_type": "code",
      "metadata": {
        "colab": {
          "base_uri": "https://localhost:8080/"
        },
        "id": "zcVyCogPCksa",
        "outputId": "929e9d06-0dbf-4186-eaa1-3a64107f9505"
      },
      "source": [
        "# 1번 : 숫자놀이\r\n",
        "foo = int(input())\r\n",
        "\r\n",
        "def check(n) :\r\n",
        "    max_n = max([int(i) for i in str(n)])\r\n",
        "    cnt = [ str(i)+str(str(n).count(str(i))) for i in range(1,max_n+1) ]\r\n",
        "    return ''.join(cnt)\r\n",
        "\r\n",
        "def soultion(N):\r\n",
        "    res = 1\r\n",
        "    if N == 1:\r\n",
        "        return res\r\n",
        "    else:\r\n",
        "        for i in range(N-1):\r\n",
        "            res = test(res)\r\n",
        "    return res\r\n",
        "print(soultion(foo))"
      ],
      "execution_count": 20,
      "outputs": [
        {
          "output_type": "stream",
          "text": [
            "6\n",
            "122131\n"
          ],
          "name": "stdout"
        }
      ]
    },
    {
      "cell_type": "code",
      "metadata": {
        "colab": {
          "base_uri": "https://localhost:8080/"
        },
        "id": "yJo7_Rj7agQi",
        "outputId": "0ddbc315-3a04-443e-8fde-8d206446e854"
      },
      "source": [
        "# 2번 : 토끼들의 행진\r\n",
        "stoneDurability = [1, 2, 1, 4]\r\n",
        "rabbitAbility = [2, 1]\r\n",
        "\r\n",
        "def simulate(stoneDurability, rabbitAbility):\r\n",
        "    res = [\"pass\" for i in range(len(rabbitAbility))]\r\n",
        "    for i in range(len(rabbitAbility)):\r\n",
        "        p = 0\r\n",
        "        while p<len(stoneDurability)-1:\r\n",
        "            p += rabbitAbility[i]\r\n",
        "            stoneDurability[p-1]-=1\r\n",
        "            if stoneDurability[p-1]<0:\r\n",
        "                answer[i] = \"fail\"\r\n",
        "    print(res)\r\n",
        "simulate(stoneDurability, rabbitAbility)"
      ],
      "execution_count": 48,
      "outputs": [
        {
          "output_type": "stream",
          "text": [
            "['pass', 'pass']\n"
          ],
          "name": "stdout"
        }
      ]
    },
    {
      "cell_type": "code",
      "metadata": {
        "colab": {
          "base_uri": "https://localhost:8080/",
          "height": 205
        },
        "id": "DjN8nPX6ggWv",
        "outputId": "db0ad2ef-4469-43bd-fdc9-2e109f1d9010"
      },
      "source": [
        "# 3번 : 같은 의약 성분을 찾아라\r\n",
        "import random as r\r\n",
        "\r\n",
        "l = [chr(i) for i in range(65, 91)]\r\n",
        "\r\n",
        "medicine = []\r\n",
        "total_medicine = []\r\n",
        "similar_medicine = []\r\n",
        "\r\n",
        "for i in range(8):\r\n",
        "    medicine.append(r.choice(l))\r\n",
        "\r\n",
        "for i in range(100):\r\n",
        "    total_medicine.append(r.sample(l, 8))\r\n",
        "\r\n",
        "for i in total_medicine:\r\n",
        "    if len(set(i) & set(medicine)) == \r\n",
        "        similar_medicine.append(i)\r\n",
        "\r\n",
        "print(similar_medicine)"
      ],
      "execution_count": 1,
      "outputs": [
        {
          "output_type": "error",
          "ename": "NameError",
          "evalue": "ignored",
          "traceback": [
            "\u001b[0;31m---------------------------------------------------------------------------\u001b[0m",
            "\u001b[0;31mNameError\u001b[0m                                 Traceback (most recent call last)",
            "\u001b[0;32m<ipython-input-1-f4d9d2206b1c>\u001b[0m in \u001b[0;36m<module>\u001b[0;34m()\u001b[0m\n\u001b[1;32m     17\u001b[0m '''\n\u001b[1;32m     18\u001b[0m \u001b[0;34m\u001b[0m\u001b[0m\n\u001b[0;32m---> 19\u001b[0;31m \u001b[0mprint\u001b[0m\u001b[0;34m(\u001b[0m\u001b[0msimilar_medicine\u001b[0m\u001b[0;34m)\u001b[0m\u001b[0;34m\u001b[0m\u001b[0;34m\u001b[0m\u001b[0m\n\u001b[0m",
            "\u001b[0;31mNameError\u001b[0m: name 'similar_medicine' is not defined"
          ]
        }
      ]
    },
    {
      "cell_type": "code",
      "metadata": {
        "colab": {
          "base_uri": "https://localhost:8080/"
        },
        "id": "9xLe3UX07par",
        "outputId": "24f97548-3b7c-4229-9a99-dda4e24b731e"
      },
      "source": [
        "import random as r\r\n",
        "\r\n",
        "l = [chr(i) for i in range(65, 91)]\r\n",
        "\r\n",
        "medicine = []\r\n",
        "total_medicine = []\r\n",
        "similar_medicine = []\r\n",
        "\r\n",
        "for i in range(8):\r\n",
        "    medicine.append(r.choice(l))\r\n",
        "print('input :', medicine)\r\n",
        "for i in range(100):\r\n",
        "    total_medicine.append(r.sample(l, 8))\r\n",
        "\r\n",
        "for i in total_medicine:\r\n",
        "    if len(set(i) & set(medicine)) >= 4:\r\n",
        "        similar_medicine.append(i)\r\n",
        "similar_medicine"
      ],
      "execution_count": 18,
      "outputs": [
        {
          "output_type": "stream",
          "text": [
            "input : ['U', 'T', 'C', 'S', 'W', 'Y', 'G', 'H']\n"
          ],
          "name": "stdout"
        },
        {
          "output_type": "execute_result",
          "data": {
            "text/plain": [
              "[['S', 'I', 'R', 'C', 'K', 'G', 'W', 'F'],\n",
              " ['E', 'B', 'G', 'W', 'P', 'I', 'S', 'C'],\n",
              " ['T', 'M', 'S', 'U', 'R', 'X', 'G', 'O'],\n",
              " ['V', 'C', 'S', 'A', 'F', 'H', 'U', 'L'],\n",
              " ['G', 'X', 'Y', 'T', 'W', 'D', 'R', 'S'],\n",
              " ['V', 'T', 'Y', 'M', 'S', 'D', 'N', 'C'],\n",
              " ['Q', 'Y', 'I', 'U', 'G', 'C', 'L', 'R'],\n",
              " ['Y', 'X', 'V', 'N', 'U', 'Q', 'H', 'G'],\n",
              " ['C', 'M', 'Z', 'S', 'I', 'T', 'W', 'X'],\n",
              " ['F', 'C', 'A', 'K', 'G', 'W', 'T', 'I'],\n",
              " ['P', 'J', 'U', 'T', 'V', 'W', 'G', 'Z'],\n",
              " ['W', 'P', 'T', 'O', 'N', 'U', 'K', 'C'],\n",
              " ['G', 'F', 'P', 'Y', 'A', 'M', 'S', 'T']]"
            ]
          },
          "metadata": {
            "tags": []
          },
          "execution_count": 18
        }
      ]
    },
    {
      "cell_type": "markdown",
      "metadata": {
        "id": "ikJwuu1KNEH_"
      },
      "source": [
        "# 프로그래밍 5편"
      ]
    },
    {
      "cell_type": "code",
      "metadata": {
        "colab": {
          "base_uri": "https://localhost:8080/"
        },
        "id": "O_E8UDzDNDol",
        "outputId": "08ae92e3-c770-466b-be18-728c868ad63f"
      },
      "source": [
        "# 1번 : 퍼즐게임\r\n",
        "# 0:빈칸 1: 파랑 2: 빨강 3: 노랑 4: 초록 5:주황\r\n",
        "game_map = [\r\n",
        "\t[0,0,0,0],\r\n",
        "\t[0,1,0,3],\r\n",
        "\t[2,5,0,1],\r\n",
        "\t[2,4,4,1],\r\n",
        "\t[5,1,1,1]\r\n",
        "\t]\r\n",
        "operation = [1,1,1,1,3,3,3]\r\n",
        "def simulate(game_map,operation):\r\n",
        "    m = 0\r\n",
        "    stack = [0]\r\n",
        "    while operation:\r\n",
        "        a = operation.pop(0)\r\n",
        "        for i in range(len(game_map)):\r\n",
        "            if game_map[i][a-1] != 0:\r\n",
        "                if stack[len(stack)-1] == game_map[i][a-1]:\r\n",
        "                    m += game_map[i][a-1] * 2\r\n",
        "                    game_map[i][a-1] = 0\r\n",
        "                    stack.pop()\r\n",
        "                else:\r\n",
        "                    stack.append(game_map[i][a-1])\r\n",
        "            else:\r\n",
        "                if i ==len(game_map) -1 and game_map[i][a-1] ==0:\r\n",
        "                    m -= 1\r\n",
        "    return m\r\n",
        "\r\n",
        "simulate(game_map,operation)"
      ],
      "execution_count": 16,
      "outputs": [
        {
          "output_type": "execute_result",
          "data": {
            "text/plain": [
              "4"
            ]
          },
          "metadata": {
            "tags": []
          },
          "execution_count": 16
        }
      ]
    }
  ]
}