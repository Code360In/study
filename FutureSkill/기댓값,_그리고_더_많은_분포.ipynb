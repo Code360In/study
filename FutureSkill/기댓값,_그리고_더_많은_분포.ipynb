{
  "nbformat": 4,
  "nbformat_minor": 0,
  "metadata": {
    "colab": {
      "name": "기댓값, 그리고 더 많은 분포.ipynb",
      "provenance": []
    },
    "kernelspec": {
      "name": "python3",
      "display_name": "Python 3"
    },
    "language_info": {
      "name": "python"
    }
  },
  "cells": [
    {
      "cell_type": "markdown",
      "metadata": {
        "id": "WcsDC-oCvX5a"
      },
      "source": [
        "# 1번 : Expectation"
      ]
    },
    {
      "cell_type": "code",
      "metadata": {
        "id": "lKHerBBdvXkB"
      },
      "source": [
        "from scipy.stats import binom\n",
        "def binom_exp(n, p):\n",
        "    '''\n",
        "    이항 분포에 대해, 주어진 모수를 가지고 모든 가능한 경우의 수의 확률을 구하고, \n",
        "    이를 토대로 평균과 분산이라는 기댓값을 구해보자\n",
        "    '''\n",
        "    xs = range(0, n+1)\n",
        "    probs = [binom.pmf(xs,n,p) for x in xs]\n",
        "    mean = n*p\n",
        "    var = n*p*(1-p)\n",
        "\n",
        "    print(f\"Mean of Binom({n}, {p}): {mean:.2f}\")\n",
        "    print(f\"Variance of Binom({n}, {p}): {var:.2f}\")"
      ],
      "execution_count": 8,
      "outputs": []
    },
    {
      "cell_type": "code",
      "metadata": {
        "colab": {
          "base_uri": "https://localhost:8080/"
        },
        "id": "erHHk8tBCcX7",
        "outputId": "f0405fd4-06e2-43a6-9441-058cb8b04982"
      },
      "source": [
        "binom_exp(10, .2)\n",
        "\n",
        "binom_exp(3, .9)\n",
        "\n",
        "binom_exp(200, .05)\n",
        "\n",
        "binom_exp(200, .5)"
      ],
      "execution_count": 9,
      "outputs": [
        {
          "output_type": "stream",
          "text": [
            "Mean of Binom(10, 0.2): 2.00\n",
            "Variance of Binom(10, 0.2): 1.60\n",
            "Mean of Binom(3, 0.9): 2.70\n",
            "Variance of Binom(3, 0.9): 0.27\n",
            "Mean of Binom(200, 0.05): 10.00\n",
            "Variance of Binom(200, 0.05): 9.50\n",
            "Mean of Binom(200, 0.5): 100.00\n",
            "Variance of Binom(200, 0.5): 50.00\n"
          ],
          "name": "stdout"
        }
      ]
    },
    {
      "cell_type": "code",
      "metadata": {
        "id": "TXYG6CVjv4l1"
      },
      "source": [
        "def binom_exp(n, p):    \n",
        "    '''\n",
        "    이항 분포에 대해, 주어진 모수를 가지고 모든 가능한 경우의 수의 확률을 구하고, \n",
        "    이를 토대로 평균과 분산이라는 기댓값을 구해보자\n",
        "    >>> binom_exp(10, .2)\n",
        "    Binom(10, 0.2)의 평균: 2.00\n",
        "    Binom(10, 0.2)의 분산: 1.60\n",
        "    >>> binom_exp(3, .9)\n",
        "    Binom(3, 0.9)의 평균: 2.70\n",
        "    Binom(3, 0.9)의 분산: 0.27\n",
        "    >>> binom_exp(200, .05)\n",
        "    Binom(200, 0.05)의 평균: 10.00\n",
        "    Binom(200, 0.05)의 분산: 9.50\n",
        "    >>> binom_exp(200, .5)\n",
        "    Binom(200, 0.5)의 평균: 100.00\n",
        "    Binom(200, 0.5)의 분산: 50.00\n",
        "    '''\n",
        "    xs = range(0, n+1)\n",
        "    probs = binom.pmf(xs,n,p)\n",
        "    mean = sum(xs*probs)\n",
        "    var = sum((xs-mean)*(xs-mean)*probs)\n",
        "\n",
        "\n",
        "    print(f\"Mean of Binom({n}, {p}): {mean:.2f}\")\n",
        "    print(f\"Variance of Binom({n}, {p}): {var:.2f}\")\n"
      ],
      "execution_count": 6,
      "outputs": []
    },
    {
      "cell_type": "markdown",
      "metadata": {
        "id": "bcPt49L7FUgL"
      },
      "source": [
        "# 2번 : Independence\n"
      ]
    },
    {
      "cell_type": "code",
      "metadata": {
        "colab": {
          "base_uri": "https://localhost:8080/"
        },
        "id": "_iLmAoMSv9PT",
        "outputId": "b6933474-7ca2-4cfd-d8d3-2f6f23a45f38"
      },
      "source": [
        "import numpy as np\n",
        "import matplotlib.pyplot as plt\n",
        "\n",
        "domestic_prices = [9800, 7490, 4480, 3750, 12900, 7480, 11900, 16500, 10620, 7900, 10900, 19500, 8900, 4800, 9900, 34900, 33000, 15000, 49000, 13500, 7950, 8415, 8000, 5500, 7110, 12900, 12160, 8640, 3950, 5480, 6900, 25900, 15800, 6500, 5650, 5980, 10625, 19800, 5600, 29750, 15210, 8820, 9405, 10500, 8850, 7553, 9900, 8980, 19000, 15000, 8000, 3750, 13000, 9900, 5850, 18905, 10000, 39000, 12350, 14400, 45000, 11305, 24900, 11353, 7553, 2975, 11900, 12800, 10500, 7900, 6950, 8500, 2800, 4200, 3500, 6900, 2750, 8500, 5800, 9900, 37000, 13110, 9900, 8900, 29665, 4800, 11950]\n",
        "imported_prices = [2030, 2280, 750, 8800, 4950, 3200, 2700, 3200, 3800, 7950, 5940, 3300, 11900, 3900, 4700, 4500, 2080, 1350, 1170, 4500, 2160, 8500, 4580, 10900, 8900, 6980, 3900, 5400, 5300, 4500, 4800, 16500, 13500, 4400, 4400, 2660, 39900, 6200, 8700, 1650, 7950, 2900, 3500, 2900, 6950, 6950, 2800, 3500, 6900, 9900, 8500, 14900, 9900, 21000]\n",
        "\n",
        "total_price_mean = np.mean(domestic_prices+imported_prices)\n",
        "total_price_std = np.std(domestic_prices+imported_prices)\n",
        "print(f\"전체 과일의 가격 평균: {total_price_mean:.2f}\")\n",
        "print(f\"전체 과일의 가격 분산: {total_price_std:.2f}\\n\")\n",
        "\n",
        "domestic_price_mean = np.mean(domestic_prices)\n",
        "imported_price_mean = np.mean(imported_prices)\n",
        "print(f\"국산 과일의 가격 평균: {domestic_price_mean:.2f}\")\n",
        "print(f\"수입 과일의 가격 평균: {imported_price_mean:.2f}\\n\")\n",
        "\n",
        "domestic_price_std = np.std(domestic_prices)\n",
        "imported_price_std =np.std(imported_prices)\n",
        "print(f\"국산 과일의 가격 분산: {domestic_price_std:.2f}\")\n",
        "print(f\"수입 과일의 가격 분산: {imported_price_std:.2f}\\n\")\n"
      ],
      "execution_count": 13,
      "outputs": [
        {
          "output_type": "stream",
          "text": [
            "전체 과일의 가격 평균: 10141.09\n",
            "전체 과일의 가격 분산: 8680.49\n",
            "\n",
            "국산 과일의 가격 평균: 12350.74\n",
            "수입 과일의 가격 평균: 6581.11\n",
            "\n",
            "국산 과일의 가격 분산: 9288.73\n",
            "수입 과일의 가격 분산: 6099.39\n",
            "\n"
          ],
          "name": "stdout"
        }
      ]
    },
    {
      "cell_type": "markdown",
      "metadata": {
        "id": "ZsSRaIlgP8Vb"
      },
      "source": [
        "# 3번 : Sample & statistic"
      ]
    },
    {
      "cell_type": "code",
      "metadata": {
        "colab": {
          "base_uri": "https://localhost:8080/"
        },
        "id": "NhCy0vZyF23M",
        "outputId": "0488238f-7843-45b1-c397-b884a3cd1b5f"
      },
      "source": [
        "import numpy as np\n",
        "def normal_sample_comparison(n, mu, sigma):\n",
        "    '''\n",
        "    정규 분포으로부터 n개의 샘플을 난수 추출한 뒤, 표본 평균과 분산을 실제 모수와 비교해보자\n",
        "    '''\n",
        "    samples = np.random.normal(mu,sigma,n)\n",
        "\n",
        "    sample_mean = np.mean(samples)\n",
        "    sample_sigma = np.std(samples)\n",
        "\n",
        "    print(f\"Norm({mu}, {sigma}^2)의 표본 평균: {sample_mean:.2f}\")\n",
        "    print(f\"Norm({mu}, {sigma}^2)의 표본 표준편차: {sample_sigma:.2f}\")\n",
        "\n",
        "np.random.seed(85) # 같은 결과를 보장하기 위해 사용했습니다\n",
        "normal_sample_comparison(100, 50, 3)\n",
        "normal_sample_comparison(10, 20, 7)\n",
        "normal_sample_comparison(10000, 0, 100)"
      ],
      "execution_count": 2,
      "outputs": [
        {
          "output_type": "stream",
          "text": [
            "Norm(50, 3^2)의 표본 평균: 49.78\n",
            "Norm(50, 3^2)의 표본 표준편차: 3.10\n",
            "Norm(20, 7^2)의 표본 평균: 16.40\n",
            "Norm(20, 7^2)의 표본 표준편차: 4.15\n",
            "Norm(0, 100^2)의 표본 평균: 0.22\n",
            "Norm(0, 100^2)의 표본 표준편차: 99.89\n"
          ],
          "name": "stdout"
        }
      ]
    },
    {
      "cell_type": "markdown",
      "metadata": {
        "id": "7kB7YvH8nKwg"
      },
      "source": [
        "# 4번 : Chi-squared distribution"
      ]
    },
    {
      "cell_type": "code",
      "metadata": {
        "colab": {
          "base_uri": "https://localhost:8080/",
          "height": 264
        },
        "id": "GnBEVbjOQVHT",
        "outputId": "3f2f5573-71fe-4a09-be75-a74b5846597e"
      },
      "source": [
        "import numpy as np\n",
        "import matplotlib.pyplot as plt\n",
        "from scipy.stats import chi2\n",
        "\n",
        "norms = [np.random.normal(0,1,10) for _ in range(100000)]\n",
        "# 정규분포에서 난수 추출된 리스트들의 각각의 제곱합을 구하시오\n",
        "ss =   [np.sum(np.power(norm,2)) for norm in norms]\n",
        "\n",
        "xs = np.arange(0, np.max(ss), 0.01)\n",
        "# 자유도가 10인 카이스퀘어 분포로부터 각 x에 해당하는 확률 값을 구하시오\n",
        "ps = chi2(10).pdf(xs)\n",
        "\n",
        "plt.hist(ss, bins = 50, density=True)\n",
        "plt.plot(xs, ps, color='red')\n",
        "plt.show()"
      ],
      "execution_count": 10,
      "outputs": [
        {
          "output_type": "display_data",
          "data": {
            "image/png": "[encoded data removed]",
            "text/plain": [
              "<Figure size 432x288 with 1 Axes>"
            ]
          },
          "metadata": {
            "tags": [],
            "needs_background": "light"
          }
        }
      ]
    },
    {
      "cell_type": "markdown",
      "metadata": {
        "id": "Cb4QaI7kjQV2"
      },
      "source": [
        "# 5번 : F and t distribution"
      ]
    },
    {
      "cell_type": "code",
      "metadata": {
        "colab": {
          "base_uri": "https://localhost:8080/",
          "height": 264
        },
        "id": "AZ9rHJHVqf55",
        "outputId": "f8459943-5990-400c-e68f-a5ee005044fa"
      },
      "source": [
        "import numpy as np\n",
        "import matplotlib.pyplot as plt\n",
        "from scipy.stats import t, norm\n",
        "import math\n",
        "\n",
        "mu, sigma, n = 70, 8, 5\n",
        "\n",
        "norms = [np.random.normal(mu,sigma,n) for _ in range(50000)]   # 평균이 mu이고 표준편차가 sigma이며 크기가 5인 정규분포를 50000회 샘플링하자\n",
        "norms_normalized = (np.mean(norms, axis=1) - np.mean(norms)) / (np.std(norms,axis=1)/math.sqrt(n))        # 크기가 5인 각각의 샘플에서, 각각의 평균을 구한 뒤 모평균을 빼고 각 샘플의 표준 편차/루트n으로 나눠주자.\n",
        "norms_normalized = norms_normalized = [x for x in norms_normalized if x>-3 and x<3]  # 위의 표준화된 표본평균들 중 -3~3사이인 값들만 남기자\n",
        "\n",
        "xs = np.linspace(norm.ppf(0.001), norm.ppf(0.999), 1000)\n",
        "ps_norm = norm.pdf(xs)              # xs에 있는 각 x 값에 대한 정규분포의 pdf를 뽑자\n",
        "ps_t = t(n-1).pdf(xs)   # xs에 있는 각 x 값에 대한 자유도가 n-1인 t 분포의 pdf를 뽑자\n",
        "\n",
        "plt.hist(norms_normalized, bins=50, density=True, color='skyblue', alpha=0.8)\n",
        "plt.plot(xs, ps_norm, color='red')\n",
        "plt.plot(xs, ps_t, color='green')\n",
        "plt.xlim(-3, 3)\n",
        "plt.legend(['normal', 't'])\n",
        "plt.show()"
      ],
      "execution_count": 1,
      "outputs": [
        {
          "output_type": "display_data",
          "data": {
            "image/png": "[encoded data removed]",
            "text/plain": [
              "<Figure size 432x288 with 1 Axes>"
            ]
          },
          "metadata": {
            "tags": [],
            "needs_background": "light"
          }
        }
      ]
    },
    {
      "cell_type": "code",
      "metadata": {
        "id": "wVaZrOv7N639"
      },
      "source": [
        "from scipy.stats import norm, poisson\n",
        "poisson.cdf"
      ],
      "execution_count": 5,
      "outputs": []
    },
    {
      "cell_type": "markdown",
      "metadata": {
        "id": "caB_M5voLHou"
      },
      "source": [
        "# 6번 : Cumulative distribution function"
      ]
    },
    {
      "cell_type": "code",
      "metadata": {
        "colab": {
          "base_uri": "https://localhost:8080/",
          "height": 793
        },
        "id": "7HrmbGHkkChj",
        "outputId": "bdc32db8-e285-4752-ce09-b8e7708d8567"
      },
      "source": [
        "import numpy as np\n",
        "import matplotlib.pyplot as plt\n",
        "from scipy.stats import norm, poisson\n",
        "\n",
        "def norm_cdf_drawer(mu, sigma):\n",
        "    '''\n",
        "    x의 범위는 평균을 기준으로 3시그마 전후로 한다\n",
        "    '''\n",
        "    xs = np.linspace(mu-(3*sigma), mu+(3*sigma))\n",
        "    cdf_norm = norm.cdf(xs,mu,sigma)\n",
        "    plt.plot(xs, cdf_norm, color='blue')\n",
        "    plt.show()\n",
        "\n",
        "def poisson_cdf_drawer(lamb):\n",
        "    '''\n",
        "    x의 범위는 0부터 람다의 2배까지\n",
        "    '''\n",
        "    xs = np.arange(0, 2*lamb)\n",
        "    cdf_poi = poisson(lamb).cdf(xs)\n",
        "    plt.plot(xs, cdf_poi, color='blue')\n",
        "    plt.xlim(0, 2*lamb)\n",
        "    plt.title(f'Poisson({lamb})')\n",
        "    plt.show()\n",
        "\n",
        "norm_cdf_drawer(7, 3)\n",
        "poisson_cdf_drawer(3)\n",
        "poisson_cdf_drawer(10)"
      ],
      "execution_count": 14,
      "outputs": [
        {
          "output_type": "display_data",
          "data": {
            "image/png": "[encoded data removed]",
            "text/plain": [
              "<Figure size 432x288 with 1 Axes>"
            ]
          },
          "metadata": {
            "tags": [],
            "needs_background": "light"
          }
        },
        {
          "output_type": "display_data",
          "data": {
            "image/png": "[encoded data removed]",
            "text/plain": [
              "<Figure size 432x288 with 1 Axes>"
            ]
          },
          "metadata": {
            "tags": [],
            "needs_background": "light"
          }
        },
        {
          "output_type": "display_data",
          "data": {
            "image/png": "[encoded data removed]",
            "text/plain": [
              "<Figure size 432x288 with 1 Axes>"
            ]
          },
          "metadata": {
            "tags": [],
            "needs_background": "light"
          }
        }
      ]
    },
    {
      "cell_type": "code",
      "metadata": {
        "colab": {
          "base_uri": "https://localhost:8080/",
          "height": 851
        },
        "id": "ndzOq_DTOKjU",
        "outputId": "33830181-3fc3-4366-ffd6-ce541354ed14"
      },
      "source": [
        "import numpy as np\n",
        "import matplotlib.pyplot as plt\n",
        "from scipy.stats import norm, poisson\n",
        "from scipy.special import factorial\n",
        "from scipy import integrate  \n",
        "\n",
        "\n",
        "def norm_cdf_drawer(mu, sigma):\n",
        "    '''\n",
        "    x의 범위는 평균을 기준으로 3시그마 전후로 한다\n",
        "    '''\n",
        "    xs = np.linspace(mu - 3 * sigma, mu + 3 * sigma, 1000)\n",
        "    ps = norm.cdf(xs, mu, sigma)\n",
        "    plt.plot(xs, ps, color='red')\n",
        "    plt.ylabel('P(X<x)')\n",
        "    plt.xlabel('x')\n",
        "    plt.title(f'N({mu}, {sigma}^2)')\n",
        "    plt.show()\n",
        "        \n",
        "\n",
        "\n",
        "def poisson_cdf_drawer(lamb):\n",
        "    '''\n",
        "    x의 범위는 0부터 람다의 2배까지\n",
        "    '''\n",
        "    xs = np.linspace(0, 2 * lamb, 1000)\n",
        "    f = lambda x: np.exp(-lamb) * lamb**x / factorial(x)\n",
        "    ps=[]\n",
        "    for idx, s in enumerate(xs):\n",
        "        ps.append(integrate.quad(f, 0., s)[0])\n",
        "    plt.plot(xs, ps, color='blue')\n",
        "    plt.ylabel('P(X<x)')\n",
        "    plt.xlabel('x')\n",
        "    plt.title(f'Poisson({lamb})')\n",
        "    plt.show()\n",
        "\n",
        "\n",
        "norm_cdf_drawer(7, 3)\n",
        "poisson_cdf_drawer(3)\n",
        "poisson_cdf_drawer(10)"
      ],
      "execution_count": 12,
      "outputs": [
        {
          "output_type": "display_data",
          "data": {
            "image/png": "[encoded data removed]",
            "text/plain": [
              "<Figure size 432x288 with 1 Axes>"
            ]
          },
          "metadata": {
            "tags": [],
            "needs_background": "light"
          }
        },
        {
          "output_type": "display_data",
          "data": {
            "image/png": "[encoded data removed]",
            "text/plain": [
              "<Figure size 432x288 with 1 Axes>"
            ]
          },
          "metadata": {
            "tags": [],
            "needs_background": "light"
          }
        },
        {
          "output_type": "display_data",
          "data": {
            "image/png": "[encoded data removed]",
            "text/plain": [
              "<Figure size 432x288 with 1 Axes>"
            ]
          },
          "metadata": {
            "tags": [],
            "needs_background": "light"
          }
        }
      ]
    },
    {
      "cell_type": "markdown",
      "metadata": {
        "id": "kBf3JCl5Fx8_"
      },
      "source": [
        "# 7번 : Quantile"
      ]
    },
    {
      "cell_type": "code",
      "metadata": {
        "colab": {
          "base_uri": "https://localhost:8080/"
        },
        "id": "9Gp9zxoyPcXL",
        "outputId": "d9830155-efcb-43ed-d23e-d0728bd0b9af"
      },
      "source": [
        "from scipy.stats import norm\n",
        "import numpy as np\n",
        "\n",
        "def iq_percentile(q, mu, std):\n",
        "    iq = (norm.ppf(1-q) * std) + mu\n",
        "    print(f\"IQ가 평균 {mu}, 표준편차 {std}인 정규 분포를 따를 때\")\n",
        "    print(f\"상위 {q*100:.2f}%의 IQ: {iq:.2f}\")\n",
        "\n",
        "iq_percentile(0.01, 100, 24)\n",
        "iq_percentile(0.10, 100, 24)\n",
        "iq_percentile(0.025, 100, 16)\n",
        "iq_percentile(0.5, 100, 16)"
      ],
      "execution_count": 8,
      "outputs": [
        {
          "output_type": "stream",
          "text": [
            "IQ가 평균 100, 표준편차 24인 정규 분포를 따를 때\n",
            "상위 1.00%의 IQ: 155.83\n",
            "IQ가 평균 100, 표준편차 24인 정규 분포를 따를 때\n",
            "상위 10.00%의 IQ: 130.76\n",
            "IQ가 평균 100, 표준편차 16인 정규 분포를 따를 때\n",
            "상위 2.50%의 IQ: 131.36\n",
            "IQ가 평균 100, 표준편차 16인 정규 분포를 따를 때\n",
            "상위 50.00%의 IQ: 100.00\n"
          ],
          "name": "stdout"
        }
      ]
    },
    {
      "cell_type": "markdown",
      "metadata": {
        "id": "a9jPPy7EZnBc"
      },
      "source": [
        "# Compare means"
      ]
    },
    {
      "cell_type": "code",
      "metadata": {
        "colab": {
          "base_uri": "https://localhost:8080/"
        },
        "id": "prkO6r0cIqa9",
        "outputId": "5dcede40-d75f-4996-dc29-48d27244d3da"
      },
      "source": [
        "from collections import Counter, OrderedDict\n",
        "from scipy.stats import norm, binom\n",
        "import numpy as np\n",
        "\n",
        "def binom_counter(size):\n",
        "    n= 5\n",
        "    p = 0.3\n",
        "    samples = binom.rvs(n=5,p=0.3,size=size) # code here n=5이고 p=0.3인 이항 분포에서 size만큼의 표본을 추출\n",
        "\n",
        "    for value, count in sorted(Counter(samples).items()):\n",
        "        print(f\"값이 {value}인 표본의 수: {count}({100*count/size:.2f}%)\")\n",
        "\n",
        "def compare_sample_prob(lower_bound, upper_bound):\n",
        "    norm_samples = norm.rvs(0, 1, 100000)\n",
        "    target_samples = [x for x in norm_samples if x>lower_bound and x<upper_bound] # lower_bound와 upper_bound사이의 값을 갖는 샘플들\n",
        "    target_sample_prop = len(target_samples) /len(norm_samples) # 해당 샘플들의 비율\n",
        "    target_prob = norm.cdf(upper_bound) - norm.cdf(lower_bound) # 표본 정규 분포가 lower_bound와 upper_bound 사이의 값을 가질 확률\n",
        "\n",
        "    print(f\"표본에서 타겟 샘플의 비율: {target_sample_prop:.4f}\")\n",
        "    print(f\"확률 분포에서 타겟 샘플의 확률: {target_prob:.4f}\")\n",
        "\n",
        "binom_counter(1000000)\n",
        "compare_sample_prob(0, 1)\n",
        "compare_sample_prob(0, 2)\n",
        "compare_sample_prob(0, 3)\n",
        "compare_sample_prob(-1, 0)\n",
        "compare_sample_prob(-np.inf, 0)\n",
        "compare_sample_prob(-1, 1)"
      ],
      "execution_count": 43,
      "outputs": [
        {
          "output_type": "stream",
          "text": [
            "값이 0인 표본의 수: 167605(16.76%)\n",
            "값이 1인 표본의 수: 360963(36.10%)\n",
            "값이 2인 표본의 수: 308658(30.87%)\n",
            "값이 3인 표본의 수: 131919(13.19%)\n",
            "값이 4인 표본의 수: 28419(2.84%)\n",
            "값이 5인 표본의 수: 2436(0.24%)\n",
            "표본에서 타겟 샘플의 비율: 0.3432\n",
            "확률 분포에서 타겟 샘플의 확률: 0.3413\n",
            "표본에서 타겟 샘플의 비율: 0.4769\n",
            "확률 분포에서 타겟 샘플의 확률: 0.4772\n",
            "표본에서 타겟 샘플의 비율: 0.4965\n",
            "확률 분포에서 타겟 샘플의 확률: 0.4987\n",
            "표본에서 타겟 샘플의 비율: 0.3402\n",
            "확률 분포에서 타겟 샘플의 확률: 0.3413\n",
            "표본에서 타겟 샘플의 비율: 0.5028\n",
            "확률 분포에서 타겟 샘플의 확률: 0.5000\n",
            "표본에서 타겟 샘플의 비율: 0.6805\n",
            "확률 분포에서 타겟 샘플의 확률: 0.6827\n"
          ],
          "name": "stdout"
        }
      ]
    },
    {
      "cell_type": "code",
      "metadata": {
        "colab": {
          "base_uri": "https://localhost:8080/"
        },
        "id": "nwH_ThjZbWql",
        "outputId": "d54a6053-5fcc-4eaf-fad8-11e3062bd34a"
      },
      "source": [
        "from collections import Counter, OrderedDict\n",
        "from scipy.stats import norm, binom\n",
        "import numpy as np\n",
        "\n",
        "\n",
        "def binom_counter(size):\n",
        "    n = 5; p = 0.3\n",
        "    samples = binom.rvs(n, p, size=size)  # code here n=5이고 p=0.3인 이항 분포에서 size만큼의 표본을 추출\n",
        "\n",
        "\n",
        "    for value, count in sorted(Counter(samples).items()):\n",
        "        print(f\"값이 {value}인 표본의 수: {count}({100*count/size:.2f}%)\")\n",
        "\n",
        "\n",
        "def compare_sample_prob(lower_bound, upper_bound):\n",
        "    norm_samples = norm.rvs(0, 1, 100000)\n",
        "    \n",
        "    # code here\n",
        "    target_samples = [sample for sample in norm_samples if lower_bound < sample < upper_bound]    # lower_bound와 upper_bound사이의 값을 갖는 샘플들\n",
        "    target_sample_prop = len(target_samples) / len(norm_samples) # 해당 샘플들의 비율\n",
        "    target_prob = norm.cdf(upper_bound) - norm.cdf(lower_bound) # 표본 정규 분포가 lower_bound와 upper_bound 사이의 값을 가질 확률\n",
        "\n",
        "    print(f\"표본에서 타겟 샘플의 비율: {target_sample_prop:.4f}\")\n",
        "    print(f\"확률 분포에서 타겟 샘플의 확률: {target_prob:.4f}\")\n",
        "\n",
        "binom_counter(1000000)\n",
        "compare_sample_prob(0, 1)\n",
        "compare_sample_prob(0, 2)\n",
        "compare_sample_prob(0, 3)\n",
        "compare_sample_prob(-1, 0)\n",
        "compare_sample_prob(-np.inf, 0)\n",
        "compare_sample_prob(-1, 1)"
      ],
      "execution_count": 42,
      "outputs": [
        {
          "output_type": "stream",
          "text": [
            "값이 0인 표본의 수: 167975(16.80%)\n",
            "값이 1인 표본의 수: 359488(35.95%)\n",
            "값이 2인 표본의 수: 308885(30.89%)\n",
            "값이 3인 표본의 수: 132856(13.29%)\n",
            "값이 4인 표본의 수: 28349(2.83%)\n",
            "값이 5인 표본의 수: 2447(0.24%)\n",
            "표본에서 타겟 샘플의 비율: 0.3424\n",
            "확률 분포에서 타겟 샘플의 확률: 0.3413\n",
            "표본에서 타겟 샘플의 비율: 0.4751\n",
            "확률 분포에서 타겟 샘플의 확률: 0.4772\n",
            "표본에서 타겟 샘플의 비율: 0.5016\n",
            "확률 분포에서 타겟 샘플의 확률: 0.4987\n",
            "표본에서 타겟 샘플의 비율: 0.3402\n",
            "확률 분포에서 타겟 샘플의 확률: 0.3413\n",
            "표본에서 타겟 샘플의 비율: 0.5022\n",
            "확률 분포에서 타겟 샘플의 확률: 0.5000\n",
            "표본에서 타겟 샘플의 비율: 0.6827\n",
            "확률 분포에서 타겟 샘플의 확률: 0.6827\n"
          ],
          "name": "stdout"
        }
      ]
    },
    {
      "cell_type": "markdown",
      "metadata": {
        "id": "diJrpiHselPH"
      },
      "source": [
        "# 9번 : Secretary problem\n"
      ]
    },
    {
      "cell_type": "code",
      "metadata": {
        "colab": {
          "base_uri": "https://localhost:8080/"
        },
        "id": "PPkoavA6eki9",
        "outputId": "87ed624f-8ac8-4e09-9353-767ddec3f330"
      },
      "source": [
        "import random\n",
        "import numpy as np\n",
        "\n",
        "def interview(k):\n",
        "    scores = list(range(1, 101))\n",
        "    # code here\n",
        "\t\t# scores를 shuffle\n",
        "    np.random.shuffle(scores)\n",
        "\n",
        "    explore = scores[:k] # scores중 앞의 30개\n",
        "    max_explore = max(explore)\n",
        "\n",
        "    max_found = False\n",
        "    for idx, score in enumerate(scores[k:]):\n",
        "        if score > max_explore:\n",
        "            if score == 100:\n",
        "                return True\n",
        "            else:\n",
        "                return False\n",
        "\n",
        "    return False\n",
        "\n",
        "def interview_iterator(n, k):\n",
        "    interviewed = [interview(k) for i in range(n)]\n",
        "    found_count = sum([i for i in interviewed])\n",
        "    print(f\"{n}회 중 성공 횟수: {found_count}({100 * found_count / n}%)\")\n",
        "\n",
        "interview_iterator(10000, 50)\n",
        "interview_iterator(10000, 75)\n",
        "interview_iterator(10000, 25)\n",
        "interview_iterator(10000, 37)"
      ],
      "execution_count": 5,
      "outputs": [
        {
          "output_type": "stream",
          "text": [
            "10000회 중 성공 횟수: 3397(33.97%)\n",
            "10000회 중 성공 횟수: 2178(21.78%)\n",
            "10000회 중 성공 횟수: 3489(34.89%)\n",
            "10000회 중 성공 횟수: 3753(37.53%)\n"
          ],
          "name": "stdout"
        }
      ]
    }
  ]
}