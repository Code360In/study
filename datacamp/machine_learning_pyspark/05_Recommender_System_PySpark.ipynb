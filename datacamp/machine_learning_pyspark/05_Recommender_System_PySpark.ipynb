{
  "nbformat": 4,
  "nbformat_minor": 0,
  "metadata": {
    "colab": {
      "name": "05_Recommender_System_PySpark.ipynb",
      "provenance": []
    },
    "kernelspec": {
      "name": "python3",
      "display_name": "Python 3"
    }
  },
  "cells": [
    {
      "cell_type": "code",
      "metadata": {
        "colab": {
          "base_uri": "https://localhost:8080/"
        },
        "id": "jh9BYOiZG5xI",
        "outputId": "65c95cad-ea37-40c9-a799-b00c1ffd0106"
      },
      "source": [
        "pip install pyspark"
      ],
      "execution_count": 1,
      "outputs": [
        {
          "output_type": "stream",
          "text": [
            "Collecting pyspark\n",
            "\u001b[?25l  Downloading https://files.pythonhosted.org/packages/27/67/5158f846202d7f012d1c9ca21c3549a58fd3c6707ae8ee823adcaca6473c/pyspark-3.0.2.tar.gz (204.8MB)\n",
            "\u001b[K     |████████████████████████████████| 204.8MB 73kB/s \n",
            "\u001b[?25hCollecting py4j==0.10.9\n",
            "\u001b[?25l  Downloading https://files.pythonhosted.org/packages/9e/b6/6a4fb90cd235dc8e265a6a2067f2a2c99f0d91787f06aca4bcf7c23f3f80/py4j-0.10.9-py2.py3-none-any.whl (198kB)\n",
            "\u001b[K     |████████████████████████████████| 204kB 51.0MB/s \n",
            "\u001b[?25hBuilding wheels for collected packages: pyspark\n",
            "  Building wheel for pyspark (setup.py) ... \u001b[?25l\u001b[?25hdone\n",
            "  Created wheel for pyspark: filename=pyspark-3.0.2-py2.py3-none-any.whl size=205186687 sha256=035618a3fbe30f69a60db28e7d828081597b56ff16e6b6d3aeabfaff9b3d0f55\n",
            "  Stored in directory: /root/.cache/pip/wheels/8b/09/da/c1f2859bcc86375dc972c5b6af4881b3603269bcc4c9be5d16\n",
            "Successfully built pyspark\n",
            "Installing collected packages: py4j, pyspark\n",
            "Successfully installed py4j-0.10.9 pyspark-3.0.2\n"
          ],
          "name": "stdout"
        }
      ]
    },
    {
      "cell_type": "code",
      "metadata": {
        "id": "iqYj1aToL2S6"
      },
      "source": [
        "from pyspark.sql import SparkSession \r\n",
        "spark=SparkSession.builder.appName('rc').getOrCreate()"
      ],
      "execution_count": 2,
      "outputs": []
    },
    {
      "cell_type": "code",
      "metadata": {
        "id": "4DYImZWCL3Zq"
      },
      "source": [
        "from pyspark.sql.functions import *"
      ],
      "execution_count": 3,
      "outputs": []
    },
    {
      "cell_type": "code",
      "metadata": {
        "id": "spOV3Dl6L5Rr"
      },
      "source": [
        "df=spark.read.csv('/content/drive/MyDrive/datacamp/movie_ratings_df.csv',inferSchema=True,header=True)"
      ],
      "execution_count": 4,
      "outputs": []
    },
    {
      "cell_type": "code",
      "metadata": {
        "colab": {
          "base_uri": "https://localhost:8080/"
        },
        "id": "UztmI0jRL-NL",
        "outputId": "aa317bcd-02a0-4f63-b626-e89c02dcf198"
      },
      "source": [
        "print((df.count(),len(df.columns)))"
      ],
      "execution_count": 5,
      "outputs": [
        {
          "output_type": "stream",
          "text": [
            "(100000, 3)\n"
          ],
          "name": "stdout"
        }
      ]
    },
    {
      "cell_type": "code",
      "metadata": {
        "colab": {
          "base_uri": "https://localhost:8080/"
        },
        "id": "SG9m_FMnL-52",
        "outputId": "3858a649-5592-4363-f0a0-1529f1ed9d71"
      },
      "source": [
        "df.printSchema()"
      ],
      "execution_count": 6,
      "outputs": [
        {
          "output_type": "stream",
          "text": [
            "root\n",
            " |-- userId: integer (nullable = true)\n",
            " |-- title: string (nullable = true)\n",
            " |-- rating: integer (nullable = true)\n",
            "\n"
          ],
          "name": "stdout"
        }
      ]
    },
    {
      "cell_type": "code",
      "metadata": {
        "colab": {
          "base_uri": "https://localhost:8080/"
        },
        "id": "rnQnVb3PL_zn",
        "outputId": "ea019086-24cd-439d-80c6-997b084aa1c5"
      },
      "source": [
        "df.orderBy(rand()).show(10,False)"
      ],
      "execution_count": 7,
      "outputs": [
        {
          "output_type": "stream",
          "text": [
            "+------+---------------------------------------+------+\n",
            "|userId|title                                  |rating|\n",
            "+------+---------------------------------------+------+\n",
            "|389   |Reality Bites (1994)                   |2     |\n",
            "|839   |Event Horizon (1997)                   |2     |\n",
            "|305   |Ma vie en rose (My Life in Pink) (1997)|4     |\n",
            "|757   |Spawn (1997)                           |3     |\n",
            "|181   |An Unforgettable Summer (1994)         |1     |\n",
            "|473   |Chasing Amy (1997)                     |5     |\n",
            "|551   |Nixon (1995)                           |2     |\n",
            "|346   |Showgirls (1995)                       |1     |\n",
            "|864   |Rob Roy (1995)                         |3     |\n",
            "|69    |Chasing Amy (1997)                     |5     |\n",
            "+------+---------------------------------------+------+\n",
            "only showing top 10 rows\n",
            "\n"
          ],
          "name": "stdout"
        }
      ]
    },
    {
      "cell_type": "code",
      "metadata": {
        "colab": {
          "base_uri": "https://localhost:8080/"
        },
        "id": "X2CLwnX6MBkE",
        "outputId": "3bbb6b7b-b330-415c-d279-dcdab0170fdb"
      },
      "source": [
        "df.show(10,False)"
      ],
      "execution_count": 9,
      "outputs": [
        {
          "output_type": "stream",
          "text": [
            "+------+------------+------+\n",
            "|userId|title       |rating|\n",
            "+------+------------+------+\n",
            "|196   |Kolya (1996)|3     |\n",
            "|63    |Kolya (1996)|3     |\n",
            "|226   |Kolya (1996)|5     |\n",
            "|154   |Kolya (1996)|3     |\n",
            "|306   |Kolya (1996)|5     |\n",
            "|296   |Kolya (1996)|4     |\n",
            "|34    |Kolya (1996)|5     |\n",
            "|271   |Kolya (1996)|4     |\n",
            "|201   |Kolya (1996)|4     |\n",
            "|209   |Kolya (1996)|4     |\n",
            "+------+------------+------+\n",
            "only showing top 10 rows\n",
            "\n"
          ],
          "name": "stdout"
        }
      ]
    },
    {
      "cell_type": "code",
      "metadata": {
        "colab": {
          "base_uri": "https://localhost:8080/"
        },
        "id": "rAxV8XE5MaS0",
        "outputId": "6c9d0da6-aaad-4691-96f5-384e739240a2"
      },
      "source": [
        "df.groupBy('userId').count().orderBy('count',ascending=False).show(10,False)"
      ],
      "execution_count": 10,
      "outputs": [
        {
          "output_type": "stream",
          "text": [
            "+------+-----+\n",
            "|userId|count|\n",
            "+------+-----+\n",
            "|405   |737  |\n",
            "|655   |685  |\n",
            "|13    |636  |\n",
            "|450   |540  |\n",
            "|276   |518  |\n",
            "|416   |493  |\n",
            "|537   |490  |\n",
            "|303   |484  |\n",
            "|234   |480  |\n",
            "|393   |448  |\n",
            "+------+-----+\n",
            "only showing top 10 rows\n",
            "\n"
          ],
          "name": "stdout"
        }
      ]
    },
    {
      "cell_type": "code",
      "metadata": {
        "colab": {
          "base_uri": "https://localhost:8080/"
        },
        "id": "9BOz7IwqMory",
        "outputId": "62164ba2-c1f8-4594-eae6-214d4f922590"
      },
      "source": [
        "df.groupBy('userId').count().orderBy('count',ascending=True).show(10,False)"
      ],
      "execution_count": 11,
      "outputs": [
        {
          "output_type": "stream",
          "text": [
            "+------+-----+\n",
            "|userId|count|\n",
            "+------+-----+\n",
            "|732   |20   |\n",
            "|631   |20   |\n",
            "|572   |20   |\n",
            "|685   |20   |\n",
            "|93    |20   |\n",
            "|34    |20   |\n",
            "|636   |20   |\n",
            "|300   |20   |\n",
            "|926   |20   |\n",
            "|596   |20   |\n",
            "+------+-----+\n",
            "only showing top 10 rows\n",
            "\n"
          ],
          "name": "stdout"
        }
      ]
    },
    {
      "cell_type": "code",
      "metadata": {
        "colab": {
          "base_uri": "https://localhost:8080/"
        },
        "id": "0g5Dd-DSMr2e",
        "outputId": "a4e4adc0-e3ac-42ca-9d5c-52cc9287afa9"
      },
      "source": [
        "df.groupBy('title').count().orderBy('count',ascending=False).show(10,False)"
      ],
      "execution_count": 12,
      "outputs": [
        {
          "output_type": "stream",
          "text": [
            "+-----------------------------+-----+\n",
            "|title                        |count|\n",
            "+-----------------------------+-----+\n",
            "|Star Wars (1977)             |583  |\n",
            "|Contact (1997)               |509  |\n",
            "|Fargo (1996)                 |508  |\n",
            "|Return of the Jedi (1983)    |507  |\n",
            "|Liar Liar (1997)             |485  |\n",
            "|English Patient, The (1996)  |481  |\n",
            "|Scream (1996)                |478  |\n",
            "|Toy Story (1995)             |452  |\n",
            "|Air Force One (1997)         |431  |\n",
            "|Independence Day (ID4) (1996)|429  |\n",
            "+-----------------------------+-----+\n",
            "only showing top 10 rows\n",
            "\n"
          ],
          "name": "stdout"
        }
      ]
    },
    {
      "cell_type": "code",
      "metadata": {
        "colab": {
          "base_uri": "https://localhost:8080/"
        },
        "id": "RWyZxKxSMtQ1",
        "outputId": "ea9db02f-c087-490b-edc5-6373a16a82e4"
      },
      "source": [
        "df.groupBy('title').count().orderBy('count',ascending=True).show(10,False)"
      ],
      "execution_count": 13,
      "outputs": [
        {
          "output_type": "stream",
          "text": [
            "+------------------------------------------+-----+\n",
            "|title                                     |count|\n",
            "+------------------------------------------+-----+\n",
            "|Marlene Dietrich: Shadow and Light (1996) |1    |\n",
            "|Next Step, The (1995)                     |1    |\n",
            "|Lashou shentan (1992)                     |1    |\n",
            "|Modern Affair, A (1995)                   |1    |\n",
            "|Fear, The (1995)                          |1    |\n",
            "|Leopard Son, The (1996)                   |1    |\n",
            "|Mad Dog Time (1996)                       |1    |\n",
            "|JLG/JLG - autoportrait de d�cembre (1994) |1    |\n",
            "|Vie est belle, La (Life is Rosey) (1987)  |1    |\n",
            "|Target (1995)                             |1    |\n",
            "+------------------------------------------+-----+\n",
            "only showing top 10 rows\n",
            "\n"
          ],
          "name": "stdout"
        }
      ]
    },
    {
      "cell_type": "markdown",
      "metadata": {
        "id": "hV4PdfaZMzmb"
      },
      "source": [
        "StringIndexer : string 값을 수치형으로"
      ]
    },
    {
      "cell_type": "code",
      "metadata": {
        "id": "oJA0oJi6MunF"
      },
      "source": [
        "from pyspark.ml.feature import StringIndexer,IndexToString"
      ],
      "execution_count": 14,
      "outputs": []
    },
    {
      "cell_type": "code",
      "metadata": {
        "id": "7Td-R8dHMwJw"
      },
      "source": [
        "stringIndexer = StringIndexer(inputCol=\"title\", outputCol=\"title_new\")"
      ],
      "execution_count": 15,
      "outputs": []
    },
    {
      "cell_type": "code",
      "metadata": {
        "id": "mb2kVA59MxJ3"
      },
      "source": [
        "model = stringIndexer.fit(df)"
      ],
      "execution_count": 16,
      "outputs": []
    },
    {
      "cell_type": "code",
      "metadata": {
        "id": "UjcJNOPBM512"
      },
      "source": [
        "indexed = model.transform(df)"
      ],
      "execution_count": 17,
      "outputs": []
    },
    {
      "cell_type": "code",
      "metadata": {
        "colab": {
          "base_uri": "https://localhost:8080/"
        },
        "id": "hH_911xeM61a",
        "outputId": "34362658-c938-4f9d-f6f0-ea8e0e401846"
      },
      "source": [
        "indexed.show(10)"
      ],
      "execution_count": 18,
      "outputs": [
        {
          "output_type": "stream",
          "text": [
            "+------+------------+------+---------+\n",
            "|userId|       title|rating|title_new|\n",
            "+------+------------+------+---------+\n",
            "|   196|Kolya (1996)|     3|    287.0|\n",
            "|    63|Kolya (1996)|     3|    287.0|\n",
            "|   226|Kolya (1996)|     5|    287.0|\n",
            "|   154|Kolya (1996)|     3|    287.0|\n",
            "|   306|Kolya (1996)|     5|    287.0|\n",
            "|   296|Kolya (1996)|     4|    287.0|\n",
            "|    34|Kolya (1996)|     5|    287.0|\n",
            "|   271|Kolya (1996)|     4|    287.0|\n",
            "|   201|Kolya (1996)|     4|    287.0|\n",
            "|   209|Kolya (1996)|     4|    287.0|\n",
            "+------+------------+------+---------+\n",
            "only showing top 10 rows\n",
            "\n"
          ],
          "name": "stdout"
        }
      ]
    },
    {
      "cell_type": "code",
      "metadata": {
        "colab": {
          "base_uri": "https://localhost:8080/"
        },
        "id": "8AF46jmkM7ez",
        "outputId": "b8e47d75-dbae-4e09-8756-3c0a3e1f9b28"
      },
      "source": [
        "indexed.orderBy(rand()).show(10)"
      ],
      "execution_count": 20,
      "outputs": [
        {
          "output_type": "stream",
          "text": [
            "+------+--------------------+------+---------+\n",
            "|userId|               title|rating|title_new|\n",
            "+------+--------------------+------+---------+\n",
            "|   655|Seven (Se7en) (1995)|     2|     80.0|\n",
            "|   214|   Local Hero (1983)|     5|    525.0|\n",
            "|   792|Escape from L.A. ...|     2|    368.0|\n",
            "|   659|As Good As It Get...|     4|    301.0|\n",
            "|   826|       Casper (1995)|     3|    587.0|\n",
            "|   655|      Go Fish (1994)|     3|   1013.0|\n",
            "|    13|        Glory (1989)|     5|    161.0|\n",
            "|   756|When the Cats Awa...|     4|   1001.0|\n",
            "|   405|Awfully Big Adven...|     3|   1180.0|\n",
            "|   699|  Primal Fear (1996)|     2|    146.0|\n",
            "+------+--------------------+------+---------+\n",
            "only showing top 10 rows\n",
            "\n"
          ],
          "name": "stdout"
        }
      ]
    },
    {
      "cell_type": "code",
      "metadata": {
        "colab": {
          "base_uri": "https://localhost:8080/"
        },
        "id": "rlMH4QpzNDIH",
        "outputId": "cd31af5b-df13-4b77-9f87-7100a804fe84"
      },
      "source": [
        "indexed.groupBy('title_new').count().orderBy('count',ascending=False).show(10,False)"
      ],
      "execution_count": 21,
      "outputs": [
        {
          "output_type": "stream",
          "text": [
            "+---------+-----+\n",
            "|title_new|count|\n",
            "+---------+-----+\n",
            "|0.0      |583  |\n",
            "|1.0      |509  |\n",
            "|2.0      |508  |\n",
            "|3.0      |507  |\n",
            "|4.0      |485  |\n",
            "|5.0      |481  |\n",
            "|6.0      |478  |\n",
            "|7.0      |452  |\n",
            "|8.0      |431  |\n",
            "|9.0      |429  |\n",
            "+---------+-----+\n",
            "only showing top 10 rows\n",
            "\n"
          ],
          "name": "stdout"
        }
      ]
    },
    {
      "cell_type": "code",
      "metadata": {
        "id": "2KZLe3SzNG9u"
      },
      "source": [
        "train,test=indexed.randomSplit([0.75,0.25])"
      ],
      "execution_count": 22,
      "outputs": []
    },
    {
      "cell_type": "code",
      "metadata": {
        "colab": {
          "base_uri": "https://localhost:8080/"
        },
        "id": "252F4mH2NKD_",
        "outputId": "81876327-c98b-4be7-f818-510a430f9850"
      },
      "source": [
        "train.count()"
      ],
      "execution_count": 23,
      "outputs": [
        {
          "output_type": "execute_result",
          "data": {
            "text/plain": [
              "74623"
            ]
          },
          "metadata": {
            "tags": []
          },
          "execution_count": 23
        }
      ]
    },
    {
      "cell_type": "code",
      "metadata": {
        "colab": {
          "base_uri": "https://localhost:8080/"
        },
        "id": "RRx1q6TSNKzh",
        "outputId": "72942193-7b1c-46ef-df89-4190f08b0211"
      },
      "source": [
        "test.count()"
      ],
      "execution_count": 24,
      "outputs": [
        {
          "output_type": "execute_result",
          "data": {
            "text/plain": [
              "25377"
            ]
          },
          "metadata": {
            "tags": []
          },
          "execution_count": 24
        }
      ]
    },
    {
      "cell_type": "markdown",
      "metadata": {
        "id": "Ii5plcQVNUTR"
      },
      "source": [
        "Alternating Least Squares 알고리즘 - Spark에 내장되어 있는 추천 알고리즘\r\n",
        ",ALS 메서드를 사용할 때 시스템은 순위, 정규화, 반복 매개변수를 사용하여 가장 적합한 모델을 찾음\r\n",
        "\r\n",
        "추천 엔진\r\n",
        "* 데이터를 수집하기 위해 사용자 상호작용을 기록하는 확장 가능한 프런트엔드\r\n",
        "\r\n",
        "* 머신러닝 플랫폼으로 액세스할 수 있는 영구 저장소. 이 저장소에 데이터를 로드하려면 데이터 가져오기-내보내기 및 변환과 같은 여러 단계를 수행해야 할 수 있습니다.\r\n",
        "\r\n",
        "* 기존 콘텐츠를 분석하여 관련된 추천 항목을 만들 수 있는 머신러닝 플랫폼\r\n",
        "\r\n",
        "* 추천 항목의 시의성 요구사항을 기반으로 프런트엔드에서 실시간으로 또는 나중에 사용할 수 있는 저장소\r\n",
        "\r\n",
        "\r\n",
        "\r\n"
      ]
    },
    {
      "cell_type": "code",
      "metadata": {
        "id": "lxJSqYtWNLgg"
      },
      "source": [
        "from pyspark.ml.recommendation import ALS"
      ],
      "execution_count": 25,
      "outputs": []
    },
    {
      "cell_type": "code",
      "metadata": {
        "id": "iX9xirkSNMjr"
      },
      "source": [
        "rec=ALS(maxIter=10,\r\n",
        "        regParam=0.01,\r\n",
        "        userCol='userId',\r\n",
        "        itemCol='title_new',\r\n",
        "        ratingCol='rating',\r\n",
        "        nonnegative=True,\r\n",
        "        coldStartStrategy=\"drop\")"
      ],
      "execution_count": 27,
      "outputs": []
    },
    {
      "cell_type": "code",
      "metadata": {
        "id": "xpfc9Dq1NO1H"
      },
      "source": [
        "rec_model=rec.fit(train)"
      ],
      "execution_count": 28,
      "outputs": []
    },
    {
      "cell_type": "code",
      "metadata": {
        "id": "RAbPV7JFOVkj"
      },
      "source": [
        "predicted_ratings=rec_model.transform(test)"
      ],
      "execution_count": 29,
      "outputs": []
    },
    {
      "cell_type": "code",
      "metadata": {
        "colab": {
          "base_uri": "https://localhost:8080/"
        },
        "id": "umpoPNikOWaL",
        "outputId": "dfdd0b8e-7dc9-4f95-cc12-6af4fcbaac3c"
      },
      "source": [
        "predicted_ratings.printSchema()"
      ],
      "execution_count": 30,
      "outputs": [
        {
          "output_type": "stream",
          "text": [
            "root\n",
            " |-- userId: integer (nullable = true)\n",
            " |-- title: string (nullable = true)\n",
            " |-- rating: integer (nullable = true)\n",
            " |-- title_new: double (nullable = false)\n",
            " |-- prediction: float (nullable = false)\n",
            "\n"
          ],
          "name": "stdout"
        }
      ]
    },
    {
      "cell_type": "code",
      "metadata": {
        "colab": {
          "base_uri": "https://localhost:8080/"
        },
        "id": "VklIrqD3OXK_",
        "outputId": "8ab1dbf7-08ec-482f-d4da-db52d8419a75"
      },
      "source": [
        "predicted_ratings.orderBy(rand()).show(10)"
      ],
      "execution_count": 31,
      "outputs": [
        {
          "output_type": "stream",
          "text": [
            "+------+--------------------+------+---------+----------+\n",
            "|userId|               title|rating|title_new|prediction|\n",
            "+------+--------------------+------+---------+----------+\n",
            "|   782|       Mother (1996)|     2|    170.0| 2.1171088|\n",
            "|   290|Lost World: Juras...|     3|    190.0| 2.8683853|\n",
            "|   109|    Cape Fear (1991)|     4|    160.0|   3.67037|\n",
            "|    18|Treasure of the S...|     4|    421.0| 4.6111684|\n",
            "|   207|Glimmer Man, The ...|     3|    617.0| 2.6924212|\n",
            "|   451|  Money Talks (1997)|     4|    362.0| 3.1377785|\n",
            "|   169|Gone with the Win...|     4|    162.0|  4.349395|\n",
            "|   230|Christmas Carol, ...|     4|    468.0| 3.4983423|\n",
            "|   263|Fugitive, The (1993)|     4|     23.0| 4.1242876|\n",
            "|   608|  Stand by Me (1986)|     5|     86.0| 3.5233638|\n",
            "+------+--------------------+------+---------+----------+\n",
            "only showing top 10 rows\n",
            "\n"
          ],
          "name": "stdout"
        }
      ]
    },
    {
      "cell_type": "code",
      "metadata": {
        "id": "ZTmyIia7OYMx"
      },
      "source": [
        "from pyspark.ml.evaluation import RegressionEvaluator"
      ],
      "execution_count": 32,
      "outputs": []
    },
    {
      "cell_type": "code",
      "metadata": {
        "id": "UjoeqpqWOZWY"
      },
      "source": [
        "evaluator=RegressionEvaluator(metricName='rmse',predictionCol='prediction',labelCol='rating')"
      ],
      "execution_count": 33,
      "outputs": []
    },
    {
      "cell_type": "code",
      "metadata": {
        "id": "wN_-7e5RObHB"
      },
      "source": [
        "#rmse=evaluator.evaluate(prediction)\r\n",
        "#print(rmse)"
      ],
      "execution_count": 38,
      "outputs": []
    },
    {
      "cell_type": "code",
      "metadata": {
        "id": "uLwxLr3jOcj8"
      },
      "source": [
        "unique_movies=indexed.select('title_new').distinct()"
      ],
      "execution_count": 39,
      "outputs": []
    },
    {
      "cell_type": "code",
      "metadata": {
        "colab": {
          "base_uri": "https://localhost:8080/"
        },
        "id": "w8ZR9ZhHOstg",
        "outputId": "ea905d66-531c-4ffb-b202-e7b52849198b"
      },
      "source": [
        "unique_movies.count()"
      ],
      "execution_count": 40,
      "outputs": [
        {
          "output_type": "execute_result",
          "data": {
            "text/plain": [
              "1664"
            ]
          },
          "metadata": {
            "tags": []
          },
          "execution_count": 40
        }
      ]
    },
    {
      "cell_type": "code",
      "metadata": {
        "id": "nEO0yd2fOtep"
      },
      "source": [
        "a = unique_movies.alias('a')"
      ],
      "execution_count": 41,
      "outputs": []
    },
    {
      "cell_type": "code",
      "metadata": {
        "id": "nujKYz4ZOuxW"
      },
      "source": [
        "user_id=85"
      ],
      "execution_count": 42,
      "outputs": []
    },
    {
      "cell_type": "code",
      "metadata": {
        "id": "HANR_gXhOvmN"
      },
      "source": [
        "watched_movies=indexed.filter(indexed['userId'] == user_id).select('title_new').distinct()"
      ],
      "execution_count": 44,
      "outputs": []
    },
    {
      "cell_type": "code",
      "metadata": {
        "colab": {
          "base_uri": "https://localhost:8080/"
        },
        "id": "4YiMhsuzOwhp",
        "outputId": "10b4f2e6-8c64-4135-ff6f-24c82fea7c65"
      },
      "source": [
        "watched_movies.count()"
      ],
      "execution_count": 45,
      "outputs": [
        {
          "output_type": "execute_result",
          "data": {
            "text/plain": [
              "287"
            ]
          },
          "metadata": {
            "tags": []
          },
          "execution_count": 45
        }
      ]
    },
    {
      "cell_type": "code",
      "metadata": {
        "id": "UeKXLMb_Ozkc"
      },
      "source": [
        "b=watched_movies.alias('b')"
      ],
      "execution_count": 46,
      "outputs": []
    },
    {
      "cell_type": "code",
      "metadata": {
        "id": "yORwyYkhO07M"
      },
      "source": [
        "total_movies = a.join(b, a.title_new == b.title_new,how='left')"
      ],
      "execution_count": 47,
      "outputs": []
    },
    {
      "cell_type": "code",
      "metadata": {
        "colab": {
          "base_uri": "https://localhost:8080/"
        },
        "id": "wyTniACYO18S",
        "outputId": "8c5fcdae-94a3-49e1-b458-08a5f82f2294"
      },
      "source": [
        "total_movies.show(10,False)"
      ],
      "execution_count": 48,
      "outputs": [
        {
          "output_type": "stream",
          "text": [
            "+---------+---------+\n",
            "|title_new|title_new|\n",
            "+---------+---------+\n",
            "|305.0    |305.0    |\n",
            "|596.0    |null     |\n",
            "|299.0    |null     |\n",
            "|769.0    |null     |\n",
            "|692.0    |null     |\n",
            "|934.0    |null     |\n",
            "|1051.0   |null     |\n",
            "|496.0    |null     |\n",
            "|558.0    |558.0    |\n",
            "|170.0    |null     |\n",
            "+---------+---------+\n",
            "only showing top 10 rows\n",
            "\n"
          ],
          "name": "stdout"
        }
      ]
    },
    {
      "cell_type": "code",
      "metadata": {
        "id": "YskvPCtOO3bL"
      },
      "source": [
        "remaining_movies=total_movies.where(col(\"b.title_new\").isNull()).select(a.title_new).distinct()"
      ],
      "execution_count": 49,
      "outputs": []
    },
    {
      "cell_type": "code",
      "metadata": {
        "colab": {
          "base_uri": "https://localhost:8080/"
        },
        "id": "d6LxY3QBO45W",
        "outputId": "6c7b4078-1ba9-479c-a33c-620a283ee99d"
      },
      "source": [
        "remaining_movies.count()"
      ],
      "execution_count": 50,
      "outputs": [
        {
          "output_type": "execute_result",
          "data": {
            "text/plain": [
              "1377"
            ]
          },
          "metadata": {
            "tags": []
          },
          "execution_count": 50
        }
      ]
    },
    {
      "cell_type": "code",
      "metadata": {
        "id": "pve2w4sTO6uO"
      },
      "source": [
        "remaining_movies=remaining_movies.withColumn(\"userId\",lit(int(user_id)))"
      ],
      "execution_count": 51,
      "outputs": []
    },
    {
      "cell_type": "code",
      "metadata": {
        "colab": {
          "base_uri": "https://localhost:8080/"
        },
        "id": "Pty_OTEPO8HS",
        "outputId": "56b3f758-c4ae-4b32-f334-cf162f4ef1be"
      },
      "source": [
        "remaining_movies.show(10,False)"
      ],
      "execution_count": 52,
      "outputs": [
        {
          "output_type": "stream",
          "text": [
            "+---------+------+\n",
            "|title_new|userId|\n",
            "+---------+------+\n",
            "|596.0    |85    |\n",
            "|299.0    |85    |\n",
            "|769.0    |85    |\n",
            "|692.0    |85    |\n",
            "|934.0    |85    |\n",
            "|1051.0   |85    |\n",
            "|496.0    |85    |\n",
            "|170.0    |85    |\n",
            "|184.0    |85    |\n",
            "|576.0    |85    |\n",
            "+---------+------+\n",
            "only showing top 10 rows\n",
            "\n"
          ],
          "name": "stdout"
        }
      ]
    },
    {
      "cell_type": "code",
      "metadata": {
        "id": "HGj7ScPPO9Y2"
      },
      "source": [
        "recommendations=rec_model.transform(remaining_movies).orderBy('prediction',ascending=False)"
      ],
      "execution_count": 53,
      "outputs": []
    },
    {
      "cell_type": "code",
      "metadata": {
        "colab": {
          "base_uri": "https://localhost:8080/"
        },
        "id": "8lMBW2gDPADO",
        "outputId": "9bed97f5-1867-4516-fb96-6aef2704cd71"
      },
      "source": [
        "recommendations.show(5,False)"
      ],
      "execution_count": 54,
      "outputs": [
        {
          "output_type": "stream",
          "text": [
            "+---------+------+----------+\n",
            "|title_new|userId|prediction|\n",
            "+---------+------+----------+\n",
            "|1277.0   |85    |6.0915475 |\n",
            "|1411.0   |85    |5.142268  |\n",
            "|488.0    |85    |4.9674134 |\n",
            "|1055.0   |85    |4.9455795 |\n",
            "|1306.0   |85    |4.9157705 |\n",
            "+---------+------+----------+\n",
            "only showing top 5 rows\n",
            "\n"
          ],
          "name": "stdout"
        }
      ]
    },
    {
      "cell_type": "code",
      "metadata": {
        "id": "rcJY4pg7PA-C"
      },
      "source": [
        "movie_title = IndexToString(inputCol=\"title_new\", outputCol=\"title\",labels=model.labels)\r\n",
        "\r\n",
        "final_recommendations=movie_title.transform(recommendations)"
      ],
      "execution_count": 55,
      "outputs": []
    },
    {
      "cell_type": "code",
      "metadata": {
        "colab": {
          "base_uri": "https://localhost:8080/"
        },
        "id": "6zXAaI1gPDM1",
        "outputId": "810f788e-e6b7-4e70-8cea-f299af9cd346"
      },
      "source": [
        "final_recommendations.show(10,False)"
      ],
      "execution_count": 56,
      "outputs": [
        {
          "output_type": "stream",
          "text": [
            "+---------+------+----------+------------------------------------------------------+\n",
            "|title_new|userId|prediction|title                                                 |\n",
            "+---------+------+----------+------------------------------------------------------+\n",
            "|1277.0   |85    |6.0915475 |Mina Tannenbaum (1994)                                |\n",
            "|1411.0   |85    |5.142268  |Boys, Les (1997)                                      |\n",
            "|488.0    |85    |4.9674134 |Wallace & Gromit: The Best of Aardman Animation (1996)|\n",
            "|1055.0   |85    |4.9455795 |Red Firecracker, Green Firecracker (1994)             |\n",
            "|1306.0   |85    |4.9157705 |Faust (1994)                                          |\n",
            "|1296.0   |85    |4.780933  |Best Men (1997)                                       |\n",
            "|285.0    |85    |4.739542  |Wrong Trousers, The (1993)                            |\n",
            "|1198.0   |85    |4.7066956 |Pather Panchali (1955)                                |\n",
            "|829.0    |85    |4.6819634 |My Man Godfrey (1936)                                 |\n",
            "|1014.0   |85    |4.6787996 |Hard Eight (1996)                                     |\n",
            "+---------+------+----------+------------------------------------------------------+\n",
            "only showing top 10 rows\n",
            "\n"
          ],
          "name": "stdout"
        }
      ]
    },
    {
      "cell_type": "code",
      "metadata": {
        "id": "Q07w60eFPEdJ"
      },
      "source": [
        "def top_movies(user_id,n):\r\n",
        "    \"\"\"\r\n",
        "    This function returns the top 'n' movies that user has not seen yet but might like \r\n",
        "    \r\n",
        "    \"\"\"\r\n",
        "    #assigning alias name 'a' to unique movies df\r\n",
        "    a = unique_movies.alias('a')\r\n",
        "    \r\n",
        "    #creating another dataframe which contains already watched movie by active user \r\n",
        "    watched_movies=indexed.filter(indexed['userId'] == user_id).select('title_new')\r\n",
        "    \r\n",
        "    #assigning alias name 'b' to watched movies df\r\n",
        "    b=watched_movies.alias('b')\r\n",
        "    \r\n",
        "    #joining both tables on left join \r\n",
        "    total_movies = a.join(b, a.title_new == b.title_new,how='left')\r\n",
        "    \r\n",
        "    #selecting movies which active user is yet to rate or watch\r\n",
        "    remaining_movies=total_movies.where(col(\"b.title_new\").isNull()).select(a.title_new).distinct()\r\n",
        "    \r\n",
        "    \r\n",
        "    #adding new column of user_Id of active useer to remaining movies df \r\n",
        "    remaining_movies=remaining_movies.withColumn(\"userId\",lit(int(user_id)))\r\n",
        "    \r\n",
        "    \r\n",
        "    #making recommendations using ALS recommender model and selecting only top 'n' movies\r\n",
        "    recommendations=rec_model.transform(remaining_movies).orderBy('prediction',ascending=False).limit(n)\r\n",
        "    \r\n",
        "    \r\n",
        "    #adding columns of movie titles in recommendations\r\n",
        "    movie_title = IndexToString(inputCol=\"title_new\", outputCol=\"title\",labels=model.labels)\r\n",
        "    final_recommendations=movie_title.transform(recommendations)\r\n",
        "    \r\n",
        "    #return the recommendations to active user\r\n",
        "    return final_recommendations.show(n,False)\r\n"
      ],
      "execution_count": 57,
      "outputs": []
    },
    {
      "cell_type": "code",
      "metadata": {
        "colab": {
          "base_uri": "https://localhost:8080/"
        },
        "id": "N8XEHdwUPO4J",
        "outputId": "bf26b3dd-6ab4-417d-9e53-34b0ea2b2cdd"
      },
      "source": [
        "top_movies(85,10)"
      ],
      "execution_count": 58,
      "outputs": [
        {
          "output_type": "stream",
          "text": [
            "+---------+------+----------+------------------------------------------------------+\n",
            "|title_new|userId|prediction|title                                                 |\n",
            "+---------+------+----------+------------------------------------------------------+\n",
            "|1277.0   |85    |6.0915475 |Mina Tannenbaum (1994)                                |\n",
            "|1411.0   |85    |5.142268  |Boys, Les (1997)                                      |\n",
            "|488.0    |85    |4.9674134 |Wallace & Gromit: The Best of Aardman Animation (1996)|\n",
            "|1055.0   |85    |4.9455795 |Red Firecracker, Green Firecracker (1994)             |\n",
            "|1306.0   |85    |4.9157705 |Faust (1994)                                          |\n",
            "|1296.0   |85    |4.780933  |Best Men (1997)                                       |\n",
            "|285.0    |85    |4.739542  |Wrong Trousers, The (1993)                            |\n",
            "|1198.0   |85    |4.7066956 |Pather Panchali (1955)                                |\n",
            "|829.0    |85    |4.6819634 |My Man Godfrey (1936)                                 |\n",
            "|1014.0   |85    |4.6787996 |Hard Eight (1996)                                     |\n",
            "+---------+------+----------+------------------------------------------------------+\n",
            "\n"
          ],
          "name": "stdout"
        }
      ]
    },
    {
      "cell_type": "code",
      "metadata": {
        "id": "5fCDBeV3PQ74"
      },
      "source": [
        ""
      ],
      "execution_count": null,
      "outputs": []
    }
  ]
}