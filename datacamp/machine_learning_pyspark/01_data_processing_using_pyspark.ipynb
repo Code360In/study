{
  "nbformat": 4,
  "nbformat_minor": 0,
  "metadata": {
    "colab": {
      "name": "data_processing_using_pyspark.ipynb",
      "provenance": [],
      "toc_visible": true
    },
    "kernelspec": {
      "name": "python3",
      "display_name": "Python 3"
    }
  },
  "cells": [
    {
      "cell_type": "markdown",
      "metadata": {
        "id": "JOSGM4Em-AxQ"
      },
      "source": [
        "Data Processing using Pyspark"
      ]
    },
    {
      "cell_type": "code",
      "metadata": {
        "colab": {
          "base_uri": "https://localhost:8080/"
        },
        "id": "bbxHVX3R-FQl",
        "outputId": "97d1b77d-03f0-4973-b1cd-1d2f0b7b75a1"
      },
      "source": [
        "!pip install pyspark"
      ],
      "execution_count": 2,
      "outputs": [
        {
          "output_type": "stream",
          "text": [
            "Collecting pyspark\n",
            "\u001b[?25l  Downloading https://files.pythonhosted.org/packages/27/67/5158f846202d7f012d1c9ca21c3549a58fd3c6707ae8ee823adcaca6473c/pyspark-3.0.2.tar.gz (204.8MB)\n",
            "\u001b[K     |████████████████████████████████| 204.8MB 70kB/s \n",
            "\u001b[?25hCollecting py4j==0.10.9\n",
            "\u001b[?25l  Downloading https://files.pythonhosted.org/packages/9e/b6/6a4fb90cd235dc8e265a6a2067f2a2c99f0d91787f06aca4bcf7c23f3f80/py4j-0.10.9-py2.py3-none-any.whl (198kB)\n",
            "\u001b[K     |████████████████████████████████| 204kB 41.4MB/s \n",
            "\u001b[?25hBuilding wheels for collected packages: pyspark\n",
            "  Building wheel for pyspark (setup.py) ... \u001b[?25l\u001b[?25hdone\n",
            "  Created wheel for pyspark: filename=pyspark-3.0.2-py2.py3-none-any.whl size=205186687 sha256=0e7b601f30e72b5930dd589862d0dd8eefd71c0c0582d15356b4aa462c7b109a\n",
            "  Stored in directory: /root/.cache/pip/wheels/8b/09/da/c1f2859bcc86375dc972c5b6af4881b3603269bcc4c9be5d16\n",
            "Successfully built pyspark\n",
            "Installing collected packages: py4j, pyspark\n",
            "Successfully installed py4j-0.10.9 pyspark-3.0.2\n"
          ],
          "name": "stdout"
        }
      ]
    },
    {
      "cell_type": "markdown",
      "metadata": {
        "id": "LhPRdfUw-fpt"
      },
      "source": [
        "SparkSession은 DataFrame 과 Dataset APIs 를 사용하여 Spark 프로그래밍을 할 수 있도록 해 줌\r\n",
        "\r\n",
        "CSV의 문제는 표준 포맷이 없다는점 -> 빅데이터의 특성상 전달 파일의 포맷이 잘못되는 경우가 많은데 필드가 많고 data type이 섞이게 되면 에러찾기 복잡하므로 \r\n",
        "\r\n",
        "inferSchema: schema를 Spark이 자동으로 알아내는 경우 사용"
      ]
    },
    {
      "cell_type": "code",
      "metadata": {
        "id": "8e8GfcNR-I9A"
      },
      "source": [
        "from pyspark.sql import SparkSession\r\n",
        "spark=SparkSession.builder.appName('data_processing').getOrCreate()"
      ],
      "execution_count": 1,
      "outputs": []
    },
    {
      "cell_type": "code",
      "metadata": {
        "id": "yPal6Q1i9iYg"
      },
      "source": [
        "df = spark.read.csv('/content/drive/MyDrive/datacamp/sample_data.csv', inferSchema= True, header =True)"
      ],
      "execution_count": 2,
      "outputs": []
    },
    {
      "cell_type": "code",
      "metadata": {
        "colab": {
          "base_uri": "https://localhost:8080/"
        },
        "id": "R0GP1Pgp_Kse",
        "outputId": "b3094b2d-a44c-4404-df39-6802544e0081"
      },
      "source": [
        "df.show(5)"
      ],
      "execution_count": 3,
      "outputs": [
        {
          "output_type": "stream",
          "text": [
            "+-------+---+----------+------+-------+\n",
            "|ratings|age|experience|family| mobile|\n",
            "+-------+---+----------+------+-------+\n",
            "|      3| 32|       9.0|     3|   Vivo|\n",
            "|      3| 27|      13.0|     3|  Apple|\n",
            "|      4| 22|       2.5|     0|Samsung|\n",
            "|      4| 37|      16.5|     4|  Apple|\n",
            "|      5| 27|       9.0|     1|     MI|\n",
            "+-------+---+----------+------+-------+\n",
            "only showing top 5 rows\n",
            "\n"
          ],
          "name": "stdout"
        }
      ]
    },
    {
      "cell_type": "code",
      "metadata": {
        "colab": {
          "base_uri": "https://localhost:8080/"
        },
        "id": "cobIRRmE-nNi",
        "outputId": "d9aec623-f739-4d4a-9f77-4c5d8e116f92"
      },
      "source": [
        "df.count()"
      ],
      "execution_count": 4,
      "outputs": [
        {
          "output_type": "execute_result",
          "data": {
            "text/plain": [
              "33"
            ]
          },
          "metadata": {
            "tags": []
          },
          "execution_count": 4
        }
      ]
    },
    {
      "cell_type": "code",
      "metadata": {
        "colab": {
          "base_uri": "https://localhost:8080/"
        },
        "id": "MYBBOWbI_WMS",
        "outputId": "343ba54f-aa4e-4204-ed6e-a45bbc0a015b"
      },
      "source": [
        "df.columns"
      ],
      "execution_count": 5,
      "outputs": [
        {
          "output_type": "execute_result",
          "data": {
            "text/plain": [
              "['ratings', 'age', 'experience', 'family', 'mobile']"
            ]
          },
          "metadata": {
            "tags": []
          },
          "execution_count": 5
        }
      ]
    },
    {
      "cell_type": "code",
      "metadata": {
        "colab": {
          "base_uri": "https://localhost:8080/"
        },
        "id": "fDSAc45S_Jil",
        "outputId": "6d40df6a-e502-49ed-ef52-cd6e66d1742a"
      },
      "source": [
        "print(df.count(), len(df.columns))"
      ],
      "execution_count": 6,
      "outputs": [
        {
          "output_type": "stream",
          "text": [
            "33 5\n"
          ],
          "name": "stdout"
        }
      ]
    },
    {
      "cell_type": "code",
      "metadata": {
        "colab": {
          "base_uri": "https://localhost:8080/"
        },
        "id": "JpYsF3Kp_Ijm",
        "outputId": "3810e464-341c-4166-c88b-c7ad4de6ec40"
      },
      "source": [
        "df.printSchema()"
      ],
      "execution_count": 7,
      "outputs": [
        {
          "output_type": "stream",
          "text": [
            "root\n",
            " |-- ratings: integer (nullable = true)\n",
            " |-- age: integer (nullable = true)\n",
            " |-- experience: double (nullable = true)\n",
            " |-- family: integer (nullable = true)\n",
            " |-- mobile: string (nullable = true)\n",
            "\n"
          ],
          "name": "stdout"
        }
      ]
    },
    {
      "cell_type": "code",
      "metadata": {
        "colab": {
          "base_uri": "https://localhost:8080/"
        },
        "id": "UsynjjtL_YJf",
        "outputId": "137fd8cc-a019-4033-ddc6-3b00d4190f9a"
      },
      "source": [
        "df.select('age', 'mobile').show(5)"
      ],
      "execution_count": 8,
      "outputs": [
        {
          "output_type": "stream",
          "text": [
            "+---+-------+\n",
            "|age| mobile|\n",
            "+---+-------+\n",
            "| 32|   Vivo|\n",
            "| 27|  Apple|\n",
            "| 22|Samsung|\n",
            "| 37|  Apple|\n",
            "| 27|     MI|\n",
            "+---+-------+\n",
            "only showing top 5 rows\n",
            "\n"
          ],
          "name": "stdout"
        }
      ]
    },
    {
      "cell_type": "code",
      "metadata": {
        "colab": {
          "base_uri": "https://localhost:8080/"
        },
        "id": "9QSpmIkH_crM",
        "outputId": "dae6fdf2-9e19-4982-e0f1-5c858a4cc853"
      },
      "source": [
        "df.describe().show()"
      ],
      "execution_count": 9,
      "outputs": [
        {
          "output_type": "stream",
          "text": [
            "+-------+------------------+------------------+------------------+------------------+------+\n",
            "|summary|           ratings|               age|        experience|            family|mobile|\n",
            "+-------+------------------+------------------+------------------+------------------+------+\n",
            "|  count|                33|                33|                33|                33|    33|\n",
            "|   mean|3.5757575757575757|30.484848484848484|10.303030303030303|1.8181818181818181|  null|\n",
            "| stddev|1.1188806636071336|  6.18527087180309| 6.770731351213326|1.8448330794164254|  null|\n",
            "|    min|                 1|                22|               2.5|                 0| Apple|\n",
            "|    max|                 5|                42|              23.0|                 5|  Vivo|\n",
            "+-------+------------------+------------------+------------------+------------------+------+\n",
            "\n"
          ],
          "name": "stdout"
        }
      ]
    },
    {
      "cell_type": "code",
      "metadata": {
        "id": "DsxoqPBZ_eN9"
      },
      "source": [
        "from pyspark.sql.types import StringType,DoubleType,IntegerType"
      ],
      "execution_count": 10,
      "outputs": []
    },
    {
      "cell_type": "code",
      "metadata": {
        "colab": {
          "base_uri": "https://localhost:8080/"
        },
        "id": "8qlI5HAb_jrF",
        "outputId": "9a88fe53-aeec-45b2-c094-c21cb050673e"
      },
      "source": [
        "#False 추가시 우측으로 글 정렬\r\n",
        "#withColumn 열 추가\r\n",
        "df.withColumn('age_after_10_yrs',(df['age'] + 10)).show(10,False) "
      ],
      "execution_count": 11,
      "outputs": [
        {
          "output_type": "stream",
          "text": [
            "+-------+---+----------+------+-------+----------------+\n",
            "|ratings|age|experience|family|mobile |age_after_10_yrs|\n",
            "+-------+---+----------+------+-------+----------------+\n",
            "|3      |32 |9.0       |3     |Vivo   |42              |\n",
            "|3      |27 |13.0      |3     |Apple  |37              |\n",
            "|4      |22 |2.5       |0     |Samsung|32              |\n",
            "|4      |37 |16.5      |4     |Apple  |47              |\n",
            "|5      |27 |9.0       |1     |MI     |37              |\n",
            "|4      |27 |9.0       |0     |Oppo   |37              |\n",
            "|5      |37 |23.0      |5     |Vivo   |47              |\n",
            "|5      |37 |23.0      |5     |Samsung|47              |\n",
            "|3      |22 |2.5       |0     |Apple  |32              |\n",
            "|3      |27 |6.0       |0     |MI     |37              |\n",
            "+-------+---+----------+------+-------+----------------+\n",
            "only showing top 10 rows\n",
            "\n"
          ],
          "name": "stdout"
        }
      ]
    },
    {
      "cell_type": "markdown",
      "metadata": {
        "id": "sJ9rtGsMBjye"
      },
      "source": [
        "BinaryType: binary\r\n",
        "\r\n",
        "BooleanType: boolean\r\n",
        "\r\n",
        "ByteType: tinyint\r\n",
        "\r\n",
        "DateType: date\r\n",
        "\r\n",
        "DecimalType: decimal(10,0)\r\n",
        "\r\n",
        "DoubleType: double\r\n",
        "\r\n",
        "FloatType: float\r\n",
        "\r\n",
        "IntegerType: int\r\n",
        "\r\n",
        "LongType: bigint\r\n",
        "\r\n",
        "ShortType: smallint\r\n",
        "\r\n",
        "StringType: string\r\n",
        "\r\n",
        "TimestampType: timestamp"
      ]
    },
    {
      "cell_type": "code",
      "metadata": {
        "colab": {
          "base_uri": "https://localhost:8080/"
        },
        "id": "aaKIwSEJ_saJ",
        "outputId": "b4da7176-cc86-49db-f109-3a0638fc4ff0"
      },
      "source": [
        "#cast 데이터 타입 변환\r\n",
        "df.withColumn('age_double',df['age'].cast(DoubleType())).show(10)"
      ],
      "execution_count": 12,
      "outputs": [
        {
          "output_type": "stream",
          "text": [
            "+-------+---+----------+------+-------+----------+\n",
            "|ratings|age|experience|family| mobile|age_double|\n",
            "+-------+---+----------+------+-------+----------+\n",
            "|      3| 32|       9.0|     3|   Vivo|      32.0|\n",
            "|      3| 27|      13.0|     3|  Apple|      27.0|\n",
            "|      4| 22|       2.5|     0|Samsung|      22.0|\n",
            "|      4| 37|      16.5|     4|  Apple|      37.0|\n",
            "|      5| 27|       9.0|     1|     MI|      27.0|\n",
            "|      4| 27|       9.0|     0|   Oppo|      27.0|\n",
            "|      5| 37|      23.0|     5|   Vivo|      37.0|\n",
            "|      5| 37|      23.0|     5|Samsung|      37.0|\n",
            "|      3| 22|       2.5|     0|  Apple|      22.0|\n",
            "|      3| 27|       6.0|     0|     MI|      27.0|\n",
            "+-------+---+----------+------+-------+----------+\n",
            "only showing top 10 rows\n",
            "\n"
          ],
          "name": "stdout"
        }
      ]
    },
    {
      "cell_type": "code",
      "metadata": {
        "colab": {
          "base_uri": "https://localhost:8080/"
        },
        "id": "ArgKy7SSBOAL",
        "outputId": "fd2e9126-5339-4d76-e03d-d61d787bc976"
      },
      "source": [
        "df.withColumn(\"age_after_10_yrs\",(df[\"age\"]+10)).show(10,False)"
      ],
      "execution_count": 13,
      "outputs": [
        {
          "output_type": "stream",
          "text": [
            "+-------+---+----------+------+-------+----------------+\n",
            "|ratings|age|experience|family|mobile |age_after_10_yrs|\n",
            "+-------+---+----------+------+-------+----------------+\n",
            "|3      |32 |9.0       |3     |Vivo   |42              |\n",
            "|3      |27 |13.0      |3     |Apple  |37              |\n",
            "|4      |22 |2.5       |0     |Samsung|32              |\n",
            "|4      |37 |16.5      |4     |Apple  |47              |\n",
            "|5      |27 |9.0       |1     |MI     |37              |\n",
            "|4      |27 |9.0       |0     |Oppo   |37              |\n",
            "|5      |37 |23.0      |5     |Vivo   |47              |\n",
            "|5      |37 |23.0      |5     |Samsung|47              |\n",
            "|3      |22 |2.5       |0     |Apple  |32              |\n",
            "|3      |27 |6.0       |0     |MI     |37              |\n",
            "+-------+---+----------+------+-------+----------------+\n",
            "only showing top 10 rows\n",
            "\n"
          ],
          "name": "stdout"
        }
      ]
    },
    {
      "cell_type": "code",
      "metadata": {
        "colab": {
          "base_uri": "https://localhost:8080/"
        },
        "id": "6iTvKm_QB7Sb",
        "outputId": "cb586702-79ae-43e3-d29a-912ef7d857db"
      },
      "source": [
        "#filter\r\n",
        "df.filter(df['mobile']=='Vivo').show()"
      ],
      "execution_count": 14,
      "outputs": [
        {
          "output_type": "stream",
          "text": [
            "+-------+---+----------+------+------+\n",
            "|ratings|age|experience|family|mobile|\n",
            "+-------+---+----------+------+------+\n",
            "|      3| 32|       9.0|     3|  Vivo|\n",
            "|      5| 37|      23.0|     5|  Vivo|\n",
            "|      4| 37|       6.0|     0|  Vivo|\n",
            "|      5| 37|      13.0|     1|  Vivo|\n",
            "|      4| 37|       6.0|     0|  Vivo|\n",
            "+-------+---+----------+------+------+\n",
            "\n"
          ],
          "name": "stdout"
        }
      ]
    },
    {
      "cell_type": "code",
      "metadata": {
        "colab": {
          "base_uri": "https://localhost:8080/"
        },
        "id": "bpPIKlE7B9yz",
        "outputId": "4a46eb53-73bc-4891-cfd7-721c7a752df3"
      },
      "source": [
        "df.filter(df['mobile'] == 'Vivo').select('age','ratings','mobile').show()"
      ],
      "execution_count": 15,
      "outputs": [
        {
          "output_type": "stream",
          "text": [
            "+---+-------+------+\n",
            "|age|ratings|mobile|\n",
            "+---+-------+------+\n",
            "| 32|      3|  Vivo|\n",
            "| 37|      5|  Vivo|\n",
            "| 37|      4|  Vivo|\n",
            "| 37|      5|  Vivo|\n",
            "| 37|      4|  Vivo|\n",
            "+---+-------+------+\n",
            "\n"
          ],
          "name": "stdout"
        }
      ]
    },
    {
      "cell_type": "code",
      "metadata": {
        "colab": {
          "base_uri": "https://localhost:8080/"
        },
        "id": "B174qJ2VCIO0",
        "outputId": "40669405-de04-45d9-ed43-752ac6730d76"
      },
      "source": [
        "df.filter(df['mobile']=='Vivo').filter(df['experience'] >10).show()"
      ],
      "execution_count": 16,
      "outputs": [
        {
          "output_type": "stream",
          "text": [
            "+-------+---+----------+------+------+\n",
            "|ratings|age|experience|family|mobile|\n",
            "+-------+---+----------+------+------+\n",
            "|      5| 37|      23.0|     5|  Vivo|\n",
            "|      5| 37|      13.0|     1|  Vivo|\n",
            "+-------+---+----------+------+------+\n",
            "\n"
          ],
          "name": "stdout"
        }
      ]
    },
    {
      "cell_type": "code",
      "metadata": {
        "colab": {
          "base_uri": "https://localhost:8080/"
        },
        "id": "FOt2fxk0CJ9v",
        "outputId": "297982cf-0460-4c98-d094-4dc07d6296c2"
      },
      "source": [
        "df.filter((df['mobile']=='Vivo')&(df['experience'] >10)).show()"
      ],
      "execution_count": 17,
      "outputs": [
        {
          "output_type": "stream",
          "text": [
            "+-------+---+----------+------+------+\n",
            "|ratings|age|experience|family|mobile|\n",
            "+-------+---+----------+------+------+\n",
            "|      5| 37|      23.0|     5|  Vivo|\n",
            "|      5| 37|      13.0|     1|  Vivo|\n",
            "+-------+---+----------+------+------+\n",
            "\n"
          ],
          "name": "stdout"
        }
      ]
    },
    {
      "cell_type": "code",
      "metadata": {
        "colab": {
          "base_uri": "https://localhost:8080/"
        },
        "id": "yEGp-3gaCLez",
        "outputId": "80876214-e9ef-40d5-bac7-0d4a9cd3cd95"
      },
      "source": [
        "df.select('mobile').distinct().show()"
      ],
      "execution_count": 18,
      "outputs": [
        {
          "output_type": "stream",
          "text": [
            "+-------+\n",
            "| mobile|\n",
            "+-------+\n",
            "|     MI|\n",
            "|   Oppo|\n",
            "|Samsung|\n",
            "|   Vivo|\n",
            "|  Apple|\n",
            "+-------+\n",
            "\n"
          ],
          "name": "stdout"
        }
      ]
    },
    {
      "cell_type": "code",
      "metadata": {
        "colab": {
          "base_uri": "https://localhost:8080/"
        },
        "id": "chAmVKY5CMot",
        "outputId": "59164fcc-06d9-4884-d4ba-f1da8211f420"
      },
      "source": [
        "df.select('mobile').distinct().count()"
      ],
      "execution_count": 19,
      "outputs": [
        {
          "output_type": "execute_result",
          "data": {
            "text/plain": [
              "5"
            ]
          },
          "metadata": {
            "tags": []
          },
          "execution_count": 19
        }
      ]
    },
    {
      "cell_type": "code",
      "metadata": {
        "colab": {
          "base_uri": "https://localhost:8080/"
        },
        "id": "kFaslIZxCOO6",
        "outputId": "bfad1f7c-482f-407d-bfa3-72850becafc2"
      },
      "source": [
        "df.groupBy('mobile').count().show(5,False)"
      ],
      "execution_count": 20,
      "outputs": [
        {
          "output_type": "stream",
          "text": [
            "+-------+-----+\n",
            "|mobile |count|\n",
            "+-------+-----+\n",
            "|MI     |8    |\n",
            "|Oppo   |7    |\n",
            "|Samsung|6    |\n",
            "|Vivo   |5    |\n",
            "|Apple  |7    |\n",
            "+-------+-----+\n",
            "\n"
          ],
          "name": "stdout"
        }
      ]
    },
    {
      "cell_type": "code",
      "metadata": {
        "colab": {
          "base_uri": "https://localhost:8080/"
        },
        "id": "40TwhRy_CTH9",
        "outputId": "6fa2f36b-434e-404b-b799-bcab07f94bc9"
      },
      "source": [
        "df.groupBy('mobile').count().orderBy('count',ascending=False).show(5,False)"
      ],
      "execution_count": 21,
      "outputs": [
        {
          "output_type": "stream",
          "text": [
            "+-------+-----+\n",
            "|mobile |count|\n",
            "+-------+-----+\n",
            "|MI     |8    |\n",
            "|Oppo   |7    |\n",
            "|Apple  |7    |\n",
            "|Samsung|6    |\n",
            "|Vivo   |5    |\n",
            "+-------+-----+\n",
            "\n"
          ],
          "name": "stdout"
        }
      ]
    },
    {
      "cell_type": "code",
      "metadata": {
        "colab": {
          "base_uri": "https://localhost:8080/"
        },
        "id": "UeePjGNtCbZA",
        "outputId": "84671b88-d863-46b9-d79f-6bdd4cdf0912"
      },
      "source": [
        "df.groupBy('mobile').mean().show(5,False)"
      ],
      "execution_count": 22,
      "outputs": [
        {
          "output_type": "stream",
          "text": [
            "+-------+------------------+------------------+------------------+------------------+\n",
            "|mobile |avg(ratings)      |avg(age)          |avg(experience)   |avg(family)       |\n",
            "+-------+------------------+------------------+------------------+------------------+\n",
            "|MI     |3.5               |30.125            |10.1875           |1.375             |\n",
            "|Oppo   |2.857142857142857 |28.428571428571427|10.357142857142858|1.4285714285714286|\n",
            "|Samsung|4.166666666666667 |28.666666666666668|8.666666666666666 |1.8333333333333333|\n",
            "|Vivo   |4.2               |36.0              |11.4              |1.8               |\n",
            "|Apple  |3.4285714285714284|30.571428571428573|11.0              |2.7142857142857144|\n",
            "+-------+------------------+------------------+------------------+------------------+\n",
            "\n"
          ],
          "name": "stdout"
        }
      ]
    },
    {
      "cell_type": "code",
      "metadata": {
        "colab": {
          "base_uri": "https://localhost:8080/"
        },
        "id": "ejT499hOCerc",
        "outputId": "4e46f439-9220-4dd6-fd11-798caeea8c80"
      },
      "source": [
        "df.groupBy('mobile').sum().show(5,False)"
      ],
      "execution_count": 23,
      "outputs": [
        {
          "output_type": "stream",
          "text": [
            "+-------+------------+--------+---------------+-----------+\n",
            "|mobile |sum(ratings)|sum(age)|sum(experience)|sum(family)|\n",
            "+-------+------------+--------+---------------+-----------+\n",
            "|MI     |28          |241     |81.5           |11         |\n",
            "|Oppo   |20          |199     |72.5           |10         |\n",
            "|Samsung|25          |172     |52.0           |11         |\n",
            "|Vivo   |21          |180     |57.0           |9          |\n",
            "|Apple  |24          |214     |77.0           |19         |\n",
            "+-------+------------+--------+---------------+-----------+\n",
            "\n"
          ],
          "name": "stdout"
        }
      ]
    },
    {
      "cell_type": "code",
      "metadata": {
        "colab": {
          "base_uri": "https://localhost:8080/"
        },
        "id": "2dgRoeKiChQl",
        "outputId": "0c1169b2-036b-4863-9de7-4b349c47e971"
      },
      "source": [
        "df.groupBy('mobile').max().show(5,False)"
      ],
      "execution_count": 24,
      "outputs": [
        {
          "output_type": "stream",
          "text": [
            "+-------+------------+--------+---------------+-----------+\n",
            "|mobile |max(ratings)|max(age)|max(experience)|max(family)|\n",
            "+-------+------------+--------+---------------+-----------+\n",
            "|MI     |5           |42      |23.0           |5          |\n",
            "|Oppo   |4           |42      |23.0           |2          |\n",
            "|Samsung|5           |37      |23.0           |5          |\n",
            "|Vivo   |5           |37      |23.0           |5          |\n",
            "|Apple  |4           |37      |16.5           |5          |\n",
            "+-------+------------+--------+---------------+-----------+\n",
            "\n"
          ],
          "name": "stdout"
        }
      ]
    },
    {
      "cell_type": "code",
      "metadata": {
        "colab": {
          "base_uri": "https://localhost:8080/"
        },
        "id": "ruRpBvlNCjBb",
        "outputId": "b842a02a-22c7-4da2-ed9d-d882e0675046"
      },
      "source": [
        "df.groupBy('mobile').min().show(5,False)"
      ],
      "execution_count": 25,
      "outputs": [
        {
          "output_type": "stream",
          "text": [
            "+-------+------------+--------+---------------+-----------+\n",
            "|mobile |min(ratings)|min(age)|min(experience)|min(family)|\n",
            "+-------+------------+--------+---------------+-----------+\n",
            "|MI     |1           |27      |2.5            |0          |\n",
            "|Oppo   |2           |22      |6.0            |0          |\n",
            "|Samsung|2           |22      |2.5            |0          |\n",
            "|Vivo   |3           |32      |6.0            |0          |\n",
            "|Apple  |3           |22      |2.5            |0          |\n",
            "+-------+------------+--------+---------------+-----------+\n",
            "\n"
          ],
          "name": "stdout"
        }
      ]
    },
    {
      "cell_type": "code",
      "metadata": {
        "colab": {
          "base_uri": "https://localhost:8080/"
        },
        "id": "3HTZr4yTCj8-",
        "outputId": "b541aebf-26da-4bb7-f300-b0bfe3d8b168"
      },
      "source": [
        "df.groupBy('mobile').agg({'experience':'sum'}).show(5,False)"
      ],
      "execution_count": 26,
      "outputs": [
        {
          "output_type": "stream",
          "text": [
            "+-------+---------------+\n",
            "|mobile |sum(experience)|\n",
            "+-------+---------------+\n",
            "|MI     |81.5           |\n",
            "|Oppo   |72.5           |\n",
            "|Samsung|52.0           |\n",
            "|Vivo   |57.0           |\n",
            "|Apple  |77.0           |\n",
            "+-------+---------------+\n",
            "\n"
          ],
          "name": "stdout"
        }
      ]
    },
    {
      "cell_type": "markdown",
      "metadata": {
        "id": "SbtzziJjC2-Z"
      },
      "source": [
        "UDF란  User Defined Functions의 약자로서 사용자가 직접 개발한 method"
      ]
    },
    {
      "cell_type": "code",
      "metadata": {
        "id": "0voXXrzIClHi"
      },
      "source": [
        "#UDF\r\n",
        "from pyspark.sql.functions import udf"
      ],
      "execution_count": 27,
      "outputs": []
    },
    {
      "cell_type": "code",
      "metadata": {
        "id": "O4zrHkIJCpgp"
      },
      "source": [
        "#function\r\n",
        "def price_range(brand):\r\n",
        "    if brand in ['Samsung','Apple']:\r\n",
        "        return 'High Price'\r\n",
        "    elif brand =='MI':\r\n",
        "        return 'Mid Price'\r\n",
        "    else:\r\n",
        "        return 'Low Price'"
      ],
      "execution_count": 28,
      "outputs": []
    },
    {
      "cell_type": "code",
      "metadata": {
        "colab": {
          "base_uri": "https://localhost:8080/"
        },
        "id": "KsUvtUpPCuvx",
        "outputId": "9c53cfa7-ace1-4e13-9172-9f7fe3d1a771"
      },
      "source": [
        "brand_udf=udf(price_range,StringType())\r\n",
        "\r\n",
        "df.withColumn('price_range',brand_udf(df['mobile'])).show(10,False)"
      ],
      "execution_count": 29,
      "outputs": [
        {
          "output_type": "stream",
          "text": [
            "+-------+---+----------+------+-------+-----------+\n",
            "|ratings|age|experience|family|mobile |price_range|\n",
            "+-------+---+----------+------+-------+-----------+\n",
            "|3      |32 |9.0       |3     |Vivo   |Low Price  |\n",
            "|3      |27 |13.0      |3     |Apple  |High Price |\n",
            "|4      |22 |2.5       |0     |Samsung|High Price |\n",
            "|4      |37 |16.5      |4     |Apple  |High Price |\n",
            "|5      |27 |9.0       |1     |MI     |Mid Price  |\n",
            "|4      |27 |9.0       |0     |Oppo   |Low Price  |\n",
            "|5      |37 |23.0      |5     |Vivo   |Low Price  |\n",
            "|5      |37 |23.0      |5     |Samsung|High Price |\n",
            "|3      |22 |2.5       |0     |Apple  |High Price |\n",
            "|3      |27 |6.0       |0     |MI     |Mid Price  |\n",
            "+-------+---+----------+------+-------+-----------+\n",
            "only showing top 10 rows\n",
            "\n"
          ],
          "name": "stdout"
        }
      ]
    },
    {
      "cell_type": "code",
      "metadata": {
        "colab": {
          "base_uri": "https://localhost:8080/"
        },
        "id": "YMiU3ZdODaic",
        "outputId": "4d94bff1-560b-46a5-c836-b38bf3edc1b4"
      },
      "source": [
        "age_udf = udf(lambda age : \"young\" if age <= 30 else \"senior\", StringType())\r\n",
        "\r\n",
        "df.withColumn('age_group', age_udf(df.age)).show(10,False)"
      ],
      "execution_count": 30,
      "outputs": [
        {
          "output_type": "stream",
          "text": [
            "+-------+---+----------+------+-------+---------+\n",
            "|ratings|age|experience|family|mobile |age_group|\n",
            "+-------+---+----------+------+-------+---------+\n",
            "|3      |32 |9.0       |3     |Vivo   |senior   |\n",
            "|3      |27 |13.0      |3     |Apple  |young    |\n",
            "|4      |22 |2.5       |0     |Samsung|young    |\n",
            "|4      |37 |16.5      |4     |Apple  |senior   |\n",
            "|5      |27 |9.0       |1     |MI     |young    |\n",
            "|4      |27 |9.0       |0     |Oppo   |young    |\n",
            "|5      |37 |23.0      |5     |Vivo   |senior   |\n",
            "|5      |37 |23.0      |5     |Samsung|senior   |\n",
            "|3      |22 |2.5       |0     |Apple  |young    |\n",
            "|3      |27 |6.0       |0     |MI     |young    |\n",
            "+-------+---+----------+------+-------+---------+\n",
            "only showing top 10 rows\n",
            "\n"
          ],
          "name": "stdout"
        }
      ]
    },
    {
      "cell_type": "markdown",
      "metadata": {
        "id": "tVQpB4YPEGkp"
      },
      "source": [
        "pandas UDF (사용자 정의 함수)는 Apache 화살표 를 사용 하 여 데이터와 함께 작동 하는 데이터 및 pandas를 전송 하는 사용자 정의 함수입니다. pandas Udf는 일회성 Python udf에 비해 최대 100 배까지 성능을 향상 시킬 수 있는 벡터화 작업을 허용"
      ]
    },
    {
      "cell_type": "code",
      "metadata": {
        "id": "h18h564vCw6p"
      },
      "source": [
        "from pyspark.sql.functions import pandas_udf, PandasUDFType"
      ],
      "execution_count": 31,
      "outputs": []
    },
    {
      "cell_type": "code",
      "metadata": {
        "id": "RXahdaa2DXMh"
      },
      "source": [
        "def remaining_yrs(age):\r\n",
        "    yrs_left = 100 - age\r\n",
        "\r\n",
        "    return yrs_left"
      ],
      "execution_count": 32,
      "outputs": []
    },
    {
      "cell_type": "code",
      "metadata": {
        "colab": {
          "base_uri": "https://localhost:8080/"
        },
        "id": "uwolf4lFEYma",
        "outputId": "c64b4db6-97aa-4a56-bef9-0cd22447fc21"
      },
      "source": [
        "pip install pyarrow"
      ],
      "execution_count": 36,
      "outputs": [
        {
          "output_type": "stream",
          "text": [
            "Requirement already satisfied: pyarrow in /usr/local/lib/python3.6/dist-packages (0.15.1)\n",
            "Requirement already satisfied: numpy>=1.14 in /usr/local/lib/python3.6/dist-packages (from pyarrow) (1.19.5)\n",
            "Requirement already satisfied: six>=1.0.0 in /usr/local/lib/python3.6/dist-packages (from pyarrow) (1.15.0)\n"
          ],
          "name": "stdout"
        }
      ]
    },
    {
      "cell_type": "code",
      "metadata": {
        "id": "Tt-zYCdND6E8"
      },
      "source": [
        "#length_udf = pandas_udf(remaining_yrs, IntegerType())\r\n",
        "\r\n",
        "#df.withColumn('yrs_left', length_udf(df['age'])).show(10,False)"
      ],
      "execution_count": 38,
      "outputs": []
    },
    {
      "cell_type": "code",
      "metadata": {
        "id": "21te3AchEQ2z"
      },
      "source": [
        "def prod(rating,exp):\r\n",
        "    x=rating*exp\r\n",
        "    return x"
      ],
      "execution_count": 39,
      "outputs": []
    },
    {
      "cell_type": "code",
      "metadata": {
        "id": "KulEfkZ6F7Rm"
      },
      "source": [
        "#prod_udf = pandas_udf(prod, DoubleType())\r\n",
        "\r\n",
        "#df.withColumn(\"product\", prod_udf(df['ratings'],df['experience'])).show(10,False)"
      ],
      "execution_count": 40,
      "outputs": []
    },
    {
      "cell_type": "code",
      "metadata": {
        "colab": {
          "base_uri": "https://localhost:8080/"
        },
        "id": "CeYEqS2RF9M8",
        "outputId": "4b87d284-9a16-4519-fab4-c600478bbfef"
      },
      "source": [
        "df.count()"
      ],
      "execution_count": 41,
      "outputs": [
        {
          "output_type": "execute_result",
          "data": {
            "text/plain": [
              "33"
            ]
          },
          "metadata": {
            "tags": []
          },
          "execution_count": 41
        }
      ]
    },
    {
      "cell_type": "code",
      "metadata": {
        "id": "XQTo_rhPGIHF"
      },
      "source": [
        "df=df.dropDuplicates()"
      ],
      "execution_count": 42,
      "outputs": []
    },
    {
      "cell_type": "code",
      "metadata": {
        "colab": {
          "base_uri": "https://localhost:8080/"
        },
        "id": "gJvWx4rDGI0-",
        "outputId": "c8473119-ea3c-4d13-d5a0-9a5789afee50"
      },
      "source": [
        "df.count()"
      ],
      "execution_count": 43,
      "outputs": [
        {
          "output_type": "execute_result",
          "data": {
            "text/plain": [
              "26"
            ]
          },
          "metadata": {
            "tags": []
          },
          "execution_count": 43
        }
      ]
    },
    {
      "cell_type": "code",
      "metadata": {
        "id": "f9aqkZufGJqU"
      },
      "source": [
        "df_new=df.drop('mobile')"
      ],
      "execution_count": 44,
      "outputs": []
    },
    {
      "cell_type": "code",
      "metadata": {
        "colab": {
          "base_uri": "https://localhost:8080/"
        },
        "id": "kMG9Abm6GKf9",
        "outputId": "285faca1-3425-4630-86e4-7840f4f7ec25"
      },
      "source": [
        "df_new.show(10)"
      ],
      "execution_count": 45,
      "outputs": [
        {
          "output_type": "stream",
          "text": [
            "+-------+---+----------+------+\n",
            "|ratings|age|experience|family|\n",
            "+-------+---+----------+------+\n",
            "|      3| 32|       9.0|     3|\n",
            "|      4| 22|       2.5|     0|\n",
            "|      5| 27|       6.0|     0|\n",
            "|      4| 22|       6.0|     1|\n",
            "|      3| 27|       6.0|     0|\n",
            "|      2| 32|      16.5|     2|\n",
            "|      4| 27|       9.0|     0|\n",
            "|      2| 27|       9.0|     2|\n",
            "|      3| 37|      16.5|     5|\n",
            "|      4| 27|       6.0|     1|\n",
            "+-------+---+----------+------+\n",
            "only showing top 10 rows\n",
            "\n"
          ],
          "name": "stdout"
        }
      ]
    },
    {
      "cell_type": "code",
      "metadata": {
        "colab": {
          "base_uri": "https://localhost:8080/",
          "height": 34
        },
        "id": "eOLeroKwGLPl",
        "outputId": "800a59e1-eb3a-4208-8f9b-40fcb6b8d2f9"
      },
      "source": [
        "pwd"
      ],
      "execution_count": 46,
      "outputs": [
        {
          "output_type": "execute_result",
          "data": {
            "application/vnd.google.colaboratory.intrinsic+json": {
              "type": "string"
            },
            "text/plain": [
              "'/content'"
            ]
          },
          "metadata": {
            "tags": []
          },
          "execution_count": 46
        }
      ]
    },
    {
      "cell_type": "code",
      "metadata": {
        "id": "CQGBRd2GGMOR"
      },
      "source": [
        "write_uri='/content/df_csv'\r\n",
        "\r\n",
        "#save the dataframe as single csv \r\n",
        "df.coalesce(1).write.format(\"csv\").option(\"header\",\"true\").save(write_uri)\r\n",
        "\r\n",
        "parquet_uri = '/content/df_parquet'\r\n",
        "df.write.format('parquet').save(parquet_uri)"
      ],
      "execution_count": 47,
      "outputs": []
    },
    {
      "cell_type": "code",
      "metadata": {
        "id": "0zjpoHi5Gfde"
      },
      "source": [
        ""
      ],
      "execution_count": null,
      "outputs": []
    }
  ]
}