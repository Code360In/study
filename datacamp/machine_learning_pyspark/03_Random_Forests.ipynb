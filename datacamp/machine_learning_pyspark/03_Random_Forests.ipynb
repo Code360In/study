{
  "nbformat": 4,
  "nbformat_minor": 0,
  "metadata": {
    "colab": {
      "name": "03_Random_Forests.ipynb",
      "provenance": []
    },
    "kernelspec": {
      "name": "python3",
      "display_name": "Python 3"
    }
  },
  "cells": [
    {
      "cell_type": "markdown",
      "metadata": {
        "id": "hSIXL0hCE0JC"
      },
      "source": [
        "# Random_Forests"
      ]
    },
    {
      "cell_type": "code",
      "metadata": {
        "colab": {
          "base_uri": "https://localhost:8080/"
        },
        "id": "OCJV_54iFA33",
        "outputId": "fa03a3a9-0efd-4249-8621-b8921ac9141a"
      },
      "source": [
        "!pip install pyspark"
      ],
      "execution_count": 2,
      "outputs": [
        {
          "output_type": "stream",
          "text": [
            "Collecting pyspark\n",
            "\u001b[?25l  Downloading https://files.pythonhosted.org/packages/27/67/5158f846202d7f012d1c9ca21c3549a58fd3c6707ae8ee823adcaca6473c/pyspark-3.0.2.tar.gz (204.8MB)\n",
            "\u001b[K     |████████████████████████████████| 204.8MB 68kB/s \n",
            "\u001b[?25hCollecting py4j==0.10.9\n",
            "\u001b[?25l  Downloading https://files.pythonhosted.org/packages/9e/b6/6a4fb90cd235dc8e265a6a2067f2a2c99f0d91787f06aca4bcf7c23f3f80/py4j-0.10.9-py2.py3-none-any.whl (198kB)\n",
            "\u001b[K     |████████████████████████████████| 204kB 51.0MB/s \n",
            "\u001b[?25hBuilding wheels for collected packages: pyspark\n",
            "  Building wheel for pyspark (setup.py) ... \u001b[?25l\u001b[?25hdone\n",
            "  Created wheel for pyspark: filename=pyspark-3.0.2-py2.py3-none-any.whl size=205186687 sha256=a36fcbebd504686f17c10086bf5f7abc449182eb2711beade98e7bff6715483a\n",
            "  Stored in directory: /root/.cache/pip/wheels/8b/09/da/c1f2859bcc86375dc972c5b6af4881b3603269bcc4c9be5d16\n",
            "Successfully built pyspark\n",
            "Installing collected packages: py4j, pyspark\n",
            "Successfully installed py4j-0.10.9 pyspark-3.0.2\n"
          ],
          "name": "stdout"
        }
      ]
    },
    {
      "cell_type": "code",
      "metadata": {
        "id": "FsCHVZAa07Kb"
      },
      "source": [
        "from pyspark.sql import SparkSession\r\n",
        "spark=SparkSession.builder.appName('random_forest').getOrCreate()"
      ],
      "execution_count": 3,
      "outputs": []
    },
    {
      "cell_type": "code",
      "metadata": {
        "id": "-2lq06GZE2dY"
      },
      "source": [
        "df=spark.read.csv('/content/drive/MyDrive/datacamp/affairs.csv',inferSchema=True,header=True)"
      ],
      "execution_count": 4,
      "outputs": []
    },
    {
      "cell_type": "code",
      "metadata": {
        "colab": {
          "base_uri": "https://localhost:8080/"
        },
        "id": "6UP-lzm0E_zm",
        "outputId": "5739d07f-c690-4e4d-abcd-9d1f57e9b851"
      },
      "source": [
        "df.printSchema()"
      ],
      "execution_count": 5,
      "outputs": [
        {
          "output_type": "stream",
          "text": [
            "root\n",
            " |-- rate_marriage: integer (nullable = true)\n",
            " |-- age: double (nullable = true)\n",
            " |-- yrs_married: double (nullable = true)\n",
            " |-- children: double (nullable = true)\n",
            " |-- religious: integer (nullable = true)\n",
            " |-- affairs: integer (nullable = true)\n",
            "\n"
          ],
          "name": "stdout"
        }
      ]
    },
    {
      "cell_type": "code",
      "metadata": {
        "colab": {
          "base_uri": "https://localhost:8080/"
        },
        "id": "z1ZtneMAFEOg",
        "outputId": "f4fe2339-c30c-4052-c9a2-4a1b1c7e10d9"
      },
      "source": [
        "df.show(5)"
      ],
      "execution_count": 6,
      "outputs": [
        {
          "output_type": "stream",
          "text": [
            "+-------------+----+-----------+--------+---------+-------+\n",
            "|rate_marriage| age|yrs_married|children|religious|affairs|\n",
            "+-------------+----+-----------+--------+---------+-------+\n",
            "|            5|32.0|        6.0|     1.0|        3|      0|\n",
            "|            4|22.0|        2.5|     0.0|        2|      0|\n",
            "|            3|32.0|        9.0|     3.0|        3|      1|\n",
            "|            3|27.0|       13.0|     3.0|        1|      1|\n",
            "|            4|22.0|        2.5|     0.0|        1|      1|\n",
            "+-------------+----+-----------+--------+---------+-------+\n",
            "only showing top 5 rows\n",
            "\n"
          ],
          "name": "stdout"
        }
      ]
    },
    {
      "cell_type": "code",
      "metadata": {
        "colab": {
          "base_uri": "https://localhost:8080/"
        },
        "id": "NH-mcuSfFF83",
        "outputId": "78331c6b-0814-4258-aef2-5b5df6a4468c"
      },
      "source": [
        "df.describe().select('summary','rate_marriage','age','yrs_married','children','religious').show()"
      ],
      "execution_count": 7,
      "outputs": [
        {
          "output_type": "stream",
          "text": [
            "+-------+------------------+------------------+-----------------+------------------+------------------+\n",
            "|summary|     rate_marriage|               age|      yrs_married|          children|         religious|\n",
            "+-------+------------------+------------------+-----------------+------------------+------------------+\n",
            "|  count|              6366|              6366|             6366|              6366|              6366|\n",
            "|   mean| 4.109644989004084|29.082862079798932| 9.00942507068803|1.3968740182218033|2.4261702796104303|\n",
            "| stddev|0.9614295945655025| 6.847881883668817|7.280119972766412| 1.433470828560344|0.8783688402641785|\n",
            "|    min|                 1|              17.5|              0.5|               0.0|                 1|\n",
            "|    max|                 5|              42.0|             23.0|               5.5|                 4|\n",
            "+-------+------------------+------------------+-----------------+------------------+------------------+\n",
            "\n"
          ],
          "name": "stdout"
        }
      ]
    },
    {
      "cell_type": "code",
      "metadata": {
        "colab": {
          "base_uri": "https://localhost:8080/"
        },
        "id": "O4Dgc9RiFL2M",
        "outputId": "b7061f8b-73e1-45db-85ad-1d093711a5d2"
      },
      "source": [
        "df.groupBy('affairs').count().show()"
      ],
      "execution_count": 9,
      "outputs": [
        {
          "output_type": "stream",
          "text": [
            "+-------+-----+\n",
            "|affairs|count|\n",
            "+-------+-----+\n",
            "|      1| 2053|\n",
            "|      0| 4313|\n",
            "+-------+-----+\n",
            "\n"
          ],
          "name": "stdout"
        }
      ]
    },
    {
      "cell_type": "code",
      "metadata": {
        "colab": {
          "base_uri": "https://localhost:8080/"
        },
        "id": "x0qlJjCHFNE0",
        "outputId": "6f5c9815-9b8b-4984-d458-14bd1d27c591"
      },
      "source": [
        "df.groupBy('rate_marriage').count().show()"
      ],
      "execution_count": 10,
      "outputs": [
        {
          "output_type": "stream",
          "text": [
            "+-------------+-----+\n",
            "|rate_marriage|count|\n",
            "+-------------+-----+\n",
            "|            1|   99|\n",
            "|            3|  993|\n",
            "|            5| 2684|\n",
            "|            4| 2242|\n",
            "|            2|  348|\n",
            "+-------------+-----+\n",
            "\n"
          ],
          "name": "stdout"
        }
      ]
    },
    {
      "cell_type": "code",
      "metadata": {
        "colab": {
          "base_uri": "https://localhost:8080/"
        },
        "id": "piyzavGCFOua",
        "outputId": "c669a30a-afc6-4c58-e4ff-81e686aae9f1"
      },
      "source": [
        "df.groupBy('rate_marriage','affairs').count().orderBy('rate_marriage','affairs','count',ascending=True).show()"
      ],
      "execution_count": 11,
      "outputs": [
        {
          "output_type": "stream",
          "text": [
            "+-------------+-------+-----+\n",
            "|rate_marriage|affairs|count|\n",
            "+-------------+-------+-----+\n",
            "|            1|      0|   25|\n",
            "|            1|      1|   74|\n",
            "|            2|      0|  127|\n",
            "|            2|      1|  221|\n",
            "|            3|      0|  446|\n",
            "|            3|      1|  547|\n",
            "|            4|      0| 1518|\n",
            "|            4|      1|  724|\n",
            "|            5|      0| 2197|\n",
            "|            5|      1|  487|\n",
            "+-------------+-------+-----+\n",
            "\n"
          ],
          "name": "stdout"
        }
      ]
    },
    {
      "cell_type": "code",
      "metadata": {
        "colab": {
          "base_uri": "https://localhost:8080/"
        },
        "id": "KhbULz86FQiU",
        "outputId": "6433f7a3-2db2-407a-c8f3-fed3f1cdb717"
      },
      "source": [
        "df.groupBy('religious','affairs').count().orderBy('religious','affairs','count',ascending=True).show()"
      ],
      "execution_count": 12,
      "outputs": [
        {
          "output_type": "stream",
          "text": [
            "+---------+-------+-----+\n",
            "|religious|affairs|count|\n",
            "+---------+-------+-----+\n",
            "|        1|      0|  613|\n",
            "|        1|      1|  408|\n",
            "|        2|      0| 1448|\n",
            "|        2|      1|  819|\n",
            "|        3|      0| 1715|\n",
            "|        3|      1|  707|\n",
            "|        4|      0|  537|\n",
            "|        4|      1|  119|\n",
            "+---------+-------+-----+\n",
            "\n"
          ],
          "name": "stdout"
        }
      ]
    },
    {
      "cell_type": "code",
      "metadata": {
        "colab": {
          "base_uri": "https://localhost:8080/"
        },
        "id": "y98C2x8fFTrS",
        "outputId": "6453ca10-7b37-437d-fb51-d633d33594cd"
      },
      "source": [
        "df.groupBy('children','affairs').count().orderBy('children','affairs','count',ascending=True).show()"
      ],
      "execution_count": 13,
      "outputs": [
        {
          "output_type": "stream",
          "text": [
            "+--------+-------+-----+\n",
            "|children|affairs|count|\n",
            "+--------+-------+-----+\n",
            "|     0.0|      0| 1912|\n",
            "|     0.0|      1|  502|\n",
            "|     1.0|      0|  747|\n",
            "|     1.0|      1|  412|\n",
            "|     2.0|      0|  873|\n",
            "|     2.0|      1|  608|\n",
            "|     3.0|      0|  460|\n",
            "|     3.0|      1|  321|\n",
            "|     4.0|      0|  197|\n",
            "|     4.0|      1|  131|\n",
            "|     5.5|      0|  124|\n",
            "|     5.5|      1|   79|\n",
            "+--------+-------+-----+\n",
            "\n"
          ],
          "name": "stdout"
        }
      ]
    },
    {
      "cell_type": "code",
      "metadata": {
        "colab": {
          "base_uri": "https://localhost:8080/"
        },
        "id": "tbSkXjlPFU5H",
        "outputId": "9f0535c1-44d6-430f-d188-42c9877c3bdc"
      },
      "source": [
        "df.groupBy('affairs').mean().show()"
      ],
      "execution_count": 14,
      "outputs": [
        {
          "output_type": "stream",
          "text": [
            "+-------+------------------+------------------+------------------+------------------+------------------+------------+\n",
            "|affairs|avg(rate_marriage)|          avg(age)|  avg(yrs_married)|     avg(children)|    avg(religious)|avg(affairs)|\n",
            "+-------+------------------+------------------+------------------+------------------+------------------+------------+\n",
            "|      1|3.6473453482708234|30.537018996590355|11.152459814905017|1.7289332683877252| 2.261568436434486|         1.0|\n",
            "|      0| 4.329700904242986| 28.39067934152562| 7.989334569904939|1.2388128912589844|2.5045212149316023|         0.0|\n",
            "+-------+------------------+------------------+------------------+------------------+------------------+------------+\n",
            "\n"
          ],
          "name": "stdout"
        }
      ]
    },
    {
      "cell_type": "code",
      "metadata": {
        "id": "bAPclE8VFWck"
      },
      "source": [
        "from pyspark.ml.feature import VectorAssembler"
      ],
      "execution_count": 15,
      "outputs": []
    },
    {
      "cell_type": "code",
      "metadata": {
        "id": "3YDkz-9kFXfU"
      },
      "source": [
        "df_assembler = VectorAssembler(inputCols=['rate_marriage', 'age', 'yrs_married', 'children', 'religious'], outputCol=\"features\")\r\n",
        "df = df_assembler.transform(df)"
      ],
      "execution_count": 16,
      "outputs": []
    },
    {
      "cell_type": "code",
      "metadata": {
        "colab": {
          "base_uri": "https://localhost:8080/"
        },
        "id": "smz9Cx74FYyL",
        "outputId": "f093ac73-576c-47e7-ed40-e36208e242a2"
      },
      "source": [
        "df.printSchema()"
      ],
      "execution_count": 17,
      "outputs": [
        {
          "output_type": "stream",
          "text": [
            "root\n",
            " |-- rate_marriage: integer (nullable = true)\n",
            " |-- age: double (nullable = true)\n",
            " |-- yrs_married: double (nullable = true)\n",
            " |-- children: double (nullable = true)\n",
            " |-- religious: integer (nullable = true)\n",
            " |-- affairs: integer (nullable = true)\n",
            " |-- features: vector (nullable = true)\n",
            "\n"
          ],
          "name": "stdout"
        }
      ]
    },
    {
      "cell_type": "code",
      "metadata": {
        "colab": {
          "base_uri": "https://localhost:8080/"
        },
        "id": "YCCf-QJpFZ0M",
        "outputId": "b8a423c2-cb67-42b6-f5d2-c4397b1544ce"
      },
      "source": [
        "df.select(['features','affairs']).show(10,False)"
      ],
      "execution_count": 18,
      "outputs": [
        {
          "output_type": "stream",
          "text": [
            "+-----------------------+-------+\n",
            "|features               |affairs|\n",
            "+-----------------------+-------+\n",
            "|[5.0,32.0,6.0,1.0,3.0] |0      |\n",
            "|[4.0,22.0,2.5,0.0,2.0] |0      |\n",
            "|[3.0,32.0,9.0,3.0,3.0] |1      |\n",
            "|[3.0,27.0,13.0,3.0,1.0]|1      |\n",
            "|[4.0,22.0,2.5,0.0,1.0] |1      |\n",
            "|[4.0,37.0,16.5,4.0,3.0]|1      |\n",
            "|[5.0,27.0,9.0,1.0,1.0] |1      |\n",
            "|[4.0,27.0,9.0,0.0,2.0] |1      |\n",
            "|[5.0,37.0,23.0,5.5,2.0]|1      |\n",
            "|[5.0,37.0,23.0,5.5,2.0]|1      |\n",
            "+-----------------------+-------+\n",
            "only showing top 10 rows\n",
            "\n"
          ],
          "name": "stdout"
        }
      ]
    },
    {
      "cell_type": "code",
      "metadata": {
        "id": "bW79O530Fa3x"
      },
      "source": [
        "model_df=df.select(['features','affairs'])"
      ],
      "execution_count": 19,
      "outputs": []
    },
    {
      "cell_type": "code",
      "metadata": {
        "id": "n-JJBKT7FhVc"
      },
      "source": [
        "train_df,test_df=model_df.randomSplit([0.75,0.25])"
      ],
      "execution_count": 20,
      "outputs": []
    },
    {
      "cell_type": "code",
      "metadata": {
        "colab": {
          "base_uri": "https://localhost:8080/"
        },
        "id": "sd90jAYpFiIH",
        "outputId": "094f04e6-0233-45d0-835f-bc0aa3f37378"
      },
      "source": [
        "train_df.count()"
      ],
      "execution_count": 21,
      "outputs": [
        {
          "output_type": "execute_result",
          "data": {
            "text/plain": [
              "4774"
            ]
          },
          "metadata": {
            "tags": []
          },
          "execution_count": 21
        }
      ]
    },
    {
      "cell_type": "code",
      "metadata": {
        "colab": {
          "base_uri": "https://localhost:8080/"
        },
        "id": "jzQT1AjWFjB-",
        "outputId": "22ca908f-8cb8-47b0-ac8d-3e62e94e660a"
      },
      "source": [
        "train_df.groupBy('affairs').count().show()"
      ],
      "execution_count": 22,
      "outputs": [
        {
          "output_type": "stream",
          "text": [
            "+-------+-----+\n",
            "|affairs|count|\n",
            "+-------+-----+\n",
            "|      1| 1527|\n",
            "|      0| 3247|\n",
            "+-------+-----+\n",
            "\n"
          ],
          "name": "stdout"
        }
      ]
    },
    {
      "cell_type": "code",
      "metadata": {
        "colab": {
          "base_uri": "https://localhost:8080/"
        },
        "id": "Co7hMHNaFjxx",
        "outputId": "e4195cda-40bb-4d9a-94d1-105a8d46d9d0"
      },
      "source": [
        "test_df.groupBy('affairs').count().show()"
      ],
      "execution_count": 23,
      "outputs": [
        {
          "output_type": "stream",
          "text": [
            "+-------+-----+\n",
            "|affairs|count|\n",
            "+-------+-----+\n",
            "|      1|  526|\n",
            "|      0| 1066|\n",
            "+-------+-----+\n",
            "\n"
          ],
          "name": "stdout"
        }
      ]
    },
    {
      "cell_type": "code",
      "metadata": {
        "id": "itlXuJiPFkeP"
      },
      "source": [
        "from pyspark.ml.classification import RandomForestClassifier"
      ],
      "execution_count": 24,
      "outputs": []
    },
    {
      "cell_type": "code",
      "metadata": {
        "id": "mAjf474SFljg"
      },
      "source": [
        "rf_classifier=RandomForestClassifier(labelCol='affairs',numTrees=50).fit(train_df)"
      ],
      "execution_count": 25,
      "outputs": []
    },
    {
      "cell_type": "code",
      "metadata": {
        "id": "ekIxXuu3FnXl"
      },
      "source": [
        "rf_predictions=rf_classifier.transform(test_df)"
      ],
      "execution_count": 26,
      "outputs": []
    },
    {
      "cell_type": "code",
      "metadata": {
        "colab": {
          "base_uri": "https://localhost:8080/"
        },
        "id": "75DooevNFogO",
        "outputId": "3853d775-fe00-476b-b30c-9c332628217a"
      },
      "source": [
        "rf_predictions.show()"
      ],
      "execution_count": 27,
      "outputs": [
        {
          "output_type": "stream",
          "text": [
            "+--------------------+-------+--------------------+--------------------+----------+\n",
            "|            features|affairs|       rawPrediction|         probability|prediction|\n",
            "+--------------------+-------+--------------------+--------------------+----------+\n",
            "|[1.0,17.5,0.5,0.0...|      0|[33.9359343958634...|[0.67871868791726...|       0.0|\n",
            "|[1.0,22.0,2.5,1.0...|      1|[17.8787459702051...|[0.35757491940410...|       1.0|\n",
            "|[1.0,22.0,2.5,1.0...|      0|[20.0482731866041...|[0.40096546373208...|       1.0|\n",
            "|[1.0,22.0,2.5,1.0...|      1|[20.0482731866041...|[0.40096546373208...|       1.0|\n",
            "|[1.0,27.0,2.5,0.0...|      0|[16.1452566777076...|[0.32290513355415...|       1.0|\n",
            "|[1.0,27.0,2.5,0.0...|      1|[17.4474161254095...|[0.34894832250819...|       1.0|\n",
            "|[1.0,27.0,6.0,1.0...|      0|[16.2659123956467...|[0.32531824791293...|       1.0|\n",
            "|[1.0,27.0,6.0,1.0...|      0|[17.1166239645535...|[0.34233247929107...|       1.0|\n",
            "|[1.0,27.0,6.0,2.0...|      1|[15.8871175691767...|[0.31774235138353...|       1.0|\n",
            "|[1.0,27.0,6.0,2.0...|      1|[16.6234659944521...|[0.33246931988904...|       1.0|\n",
            "|[1.0,27.0,9.0,1.0...|      1|[13.8885006547349...|[0.27777001309469...|       1.0|\n",
            "|[1.0,32.0,2.5,1.0...|      0|[21.3024950072476...|[0.42604990014495...|       1.0|\n",
            "|[1.0,32.0,13.0,1....|      1|[13.7379327819027...|[0.27475865563805...|       1.0|\n",
            "|[1.0,32.0,13.0,2....|      1|[12.4984468181722...|[0.24996893636344...|       1.0|\n",
            "|[1.0,37.0,13.0,5....|      0|[17.2476809211682...|[0.34495361842336...|       1.0|\n",
            "|[1.0,37.0,16.5,3....|      1|[12.9536339365908...|[0.25907267873181...|       1.0|\n",
            "|[1.0,37.0,16.5,4....|      1|[13.7768290711790...|[0.27553658142358...|       1.0|\n",
            "|[1.0,37.0,23.0,5....|      1|[14.9210401151790...|[0.29842080230358...|       1.0|\n",
            "|[1.0,42.0,16.5,2....|      1|[16.1580297769968...|[0.32316059553993...|       1.0|\n",
            "|[1.0,42.0,16.5,5....|      1|[15.5733779733992...|[0.31146755946798...|       1.0|\n",
            "+--------------------+-------+--------------------+--------------------+----------+\n",
            "only showing top 20 rows\n",
            "\n"
          ],
          "name": "stdout"
        }
      ]
    },
    {
      "cell_type": "code",
      "metadata": {
        "colab": {
          "base_uri": "https://localhost:8080/"
        },
        "id": "feZfTrW9FpeB",
        "outputId": "9a6ac3e9-6925-47b3-cf69-8536a37c8aca"
      },
      "source": [
        "rf_predictions.groupBy('prediction').count().show()"
      ],
      "execution_count": 28,
      "outputs": [
        {
          "output_type": "stream",
          "text": [
            "+----------+-----+\n",
            "|prediction|count|\n",
            "+----------+-----+\n",
            "|       0.0| 1322|\n",
            "|       1.0|  270|\n",
            "+----------+-----+\n",
            "\n"
          ],
          "name": "stdout"
        }
      ]
    },
    {
      "cell_type": "code",
      "metadata": {
        "colab": {
          "base_uri": "https://localhost:8080/"
        },
        "id": "h6jZ3qmTFrgC",
        "outputId": "f7ee7ba1-19c5-4260-a709-4da079b17774"
      },
      "source": [
        "rf_predictions.select(['probability','affairs','prediction']).show(10,False)"
      ],
      "execution_count": 29,
      "outputs": [
        {
          "output_type": "stream",
          "text": [
            "+----------------------------------------+-------+----------+\n",
            "|probability                             |affairs|prediction|\n",
            "+----------------------------------------+-------+----------+\n",
            "|[0.6787186879172686,0.32128131208273125]|0      |0.0       |\n",
            "|[0.35757491940410324,0.6424250805958969]|1      |1.0       |\n",
            "|[0.40096546373208236,0.5990345362679177]|0      |1.0       |\n",
            "|[0.40096546373208236,0.5990345362679177]|1      |1.0       |\n",
            "|[0.32290513355415223,0.6770948664458477]|0      |1.0       |\n",
            "|[0.3489483225081903,0.6510516774918096] |1      |1.0       |\n",
            "|[0.3253182479129345,0.6746817520870654] |0      |1.0       |\n",
            "|[0.3423324792910714,0.6576675207089286] |0      |1.0       |\n",
            "|[0.3177423513835357,0.6822576486164643] |1      |1.0       |\n",
            "|[0.33246931988904377,0.6675306801109562]|1      |1.0       |\n",
            "+----------------------------------------+-------+----------+\n",
            "only showing top 10 rows\n",
            "\n"
          ],
          "name": "stdout"
        }
      ]
    },
    {
      "cell_type": "code",
      "metadata": {
        "id": "0Ge0CzhNFsiX"
      },
      "source": [
        "from pyspark.ml.evaluation import BinaryClassificationEvaluator\r\n",
        "from pyspark.ml.evaluation import MulticlassClassificationEvaluator"
      ],
      "execution_count": 30,
      "outputs": []
    },
    {
      "cell_type": "code",
      "metadata": {
        "id": "UJWkQKshFuVE"
      },
      "source": [
        "rf_accuracy=MulticlassClassificationEvaluator(labelCol='affairs',metricName='accuracy').evaluate(rf_predictions)"
      ],
      "execution_count": 31,
      "outputs": []
    },
    {
      "cell_type": "code",
      "metadata": {
        "colab": {
          "base_uri": "https://localhost:8080/"
        },
        "id": "Wt5mzWwBFxSG",
        "outputId": "85093c9a-6955-40d8-c283-603f88a4a997"
      },
      "source": [
        "print('The accuracy of RF on test data is {0:.0%}'.format(rf_accuracy))"
      ],
      "execution_count": 32,
      "outputs": [
        {
          "output_type": "stream",
          "text": [
            "The accuracy of RF on test data is 70%\n"
          ],
          "name": "stdout"
        }
      ]
    },
    {
      "cell_type": "code",
      "metadata": {
        "colab": {
          "base_uri": "https://localhost:8080/"
        },
        "id": "51rWy0TGFypN",
        "outputId": "62e2c806-f1a9-489d-e1cd-81a3ade17107"
      },
      "source": [
        "print(rf_accuracy)"
      ],
      "execution_count": 33,
      "outputs": [
        {
          "output_type": "stream",
          "text": [
            "0.7022613065326633\n"
          ],
          "name": "stdout"
        }
      ]
    },
    {
      "cell_type": "code",
      "metadata": {
        "id": "nnz-r7SOFzrJ"
      },
      "source": [
        "rf_precision=MulticlassClassificationEvaluator(labelCol='affairs',metricName='weightedPrecision').evaluate(rf_predictions)"
      ],
      "execution_count": 34,
      "outputs": []
    },
    {
      "cell_type": "code",
      "metadata": {
        "colab": {
          "base_uri": "https://localhost:8080/"
        },
        "id": "lgRY3aKFF0st",
        "outputId": "71ee0449-5e78-4122-dd9d-ca83073ca26c"
      },
      "source": [
        "print('The precision rate on test data is {0:.0%}'.format(rf_precision))"
      ],
      "execution_count": 35,
      "outputs": [
        {
          "output_type": "stream",
          "text": [
            "The precision rate on test data is 68%\n"
          ],
          "name": "stdout"
        }
      ]
    },
    {
      "cell_type": "code",
      "metadata": {
        "colab": {
          "base_uri": "https://localhost:8080/"
        },
        "id": "Y_KSb5KPF2Hh",
        "outputId": "f6aa10b7-b3ee-49c6-b680-8acd6be99d3b"
      },
      "source": [
        "rf_precision"
      ],
      "execution_count": 36,
      "outputs": [
        {
          "output_type": "execute_result",
          "data": {
            "text/plain": [
              "0.6817416071222927"
            ]
          },
          "metadata": {
            "tags": []
          },
          "execution_count": 36
        }
      ]
    },
    {
      "cell_type": "code",
      "metadata": {
        "colab": {
          "base_uri": "https://localhost:8080/"
        },
        "id": "lIFNgKp7F3Cw",
        "outputId": "7ccfb1a4-9436-4acb-d2e9-d96687266cde"
      },
      "source": [
        "rf_auc=BinaryClassificationEvaluator(labelCol='affairs').evaluate(rf_predictions)\r\n",
        "print(rf_auc)"
      ],
      "execution_count": 37,
      "outputs": [
        {
          "output_type": "stream",
          "text": [
            "0.7247599497784976\n"
          ],
          "name": "stdout"
        }
      ]
    },
    {
      "cell_type": "code",
      "metadata": {
        "colab": {
          "base_uri": "https://localhost:8080/"
        },
        "id": "7jv3QsEbF4bn",
        "outputId": "5a893874-e6fb-43b2-c759-8be643db6d7a"
      },
      "source": [
        "rf_classifier.featureImportances"
      ],
      "execution_count": 38,
      "outputs": [
        {
          "output_type": "execute_result",
          "data": {
            "text/plain": [
              "SparseVector(5, {0: 0.6559, 1: 0.0222, 2: 0.2091, 3: 0.0594, 4: 0.0534})"
            ]
          },
          "metadata": {
            "tags": []
          },
          "execution_count": 38
        }
      ]
    },
    {
      "cell_type": "code",
      "metadata": {
        "colab": {
          "base_uri": "https://localhost:8080/"
        },
        "id": "FI6ycJ9fF5iO",
        "outputId": "16e9fbe8-6d91-4686-c1c5-451470cc0d04"
      },
      "source": [
        "df.schema[\"features\"].metadata[\"ml_attr\"][\"attrs\"]"
      ],
      "execution_count": 39,
      "outputs": [
        {
          "output_type": "execute_result",
          "data": {
            "text/plain": [
              "{'numeric': [{'idx': 0, 'name': 'rate_marriage'},\n",
              "  {'idx': 1, 'name': 'age'},\n",
              "  {'idx': 2, 'name': 'yrs_married'},\n",
              "  {'idx': 3, 'name': 'children'},\n",
              "  {'idx': 4, 'name': 'religious'}]}"
            ]
          },
          "metadata": {
            "tags": []
          },
          "execution_count": 39
        }
      ]
    },
    {
      "cell_type": "code",
      "metadata": {
        "colab": {
          "base_uri": "https://localhost:8080/",
          "height": 34
        },
        "id": "hjmj4O6cF6VB",
        "outputId": "6bca40e9-0f28-41c0-c8c8-e870f95ce5b0"
      },
      "source": [
        "pwd"
      ],
      "execution_count": 40,
      "outputs": [
        {
          "output_type": "execute_result",
          "data": {
            "application/vnd.google.colaboratory.intrinsic+json": {
              "type": "string"
            },
            "text/plain": [
              "'/content'"
            ]
          },
          "metadata": {
            "tags": []
          },
          "execution_count": 40
        }
      ]
    },
    {
      "cell_type": "code",
      "metadata": {
        "id": "sRhPv2zjF9tK"
      },
      "source": [
        "rf_classifier.save(\"/content/drive/MyDrive/datacamp/RF_model\")"
      ],
      "execution_count": 41,
      "outputs": []
    },
    {
      "cell_type": "code",
      "metadata": {
        "id": "zl-F-UbTGDDw"
      },
      "source": [
        "from pyspark.ml.classification import RandomForestClassificationModel"
      ],
      "execution_count": 42,
      "outputs": []
    },
    {
      "cell_type": "code",
      "metadata": {
        "id": "jOscqRiuGDbU"
      },
      "source": [
        "rf=RandomForestClassificationModel.load(\"/content/drive/MyDrive/datacamp/RF_model\")"
      ],
      "execution_count": 43,
      "outputs": []
    },
    {
      "cell_type": "code",
      "metadata": {
        "id": "n8BjNjQbGLEd"
      },
      "source": [
        "model_preditions=rf.transform(test_df)"
      ],
      "execution_count": 44,
      "outputs": []
    },
    {
      "cell_type": "code",
      "metadata": {
        "colab": {
          "base_uri": "https://localhost:8080/"
        },
        "id": "SAAJOSYGGMOb",
        "outputId": "fec1db05-b29b-4737-9022-9eff53aa06e0"
      },
      "source": [
        "model_preditions.show()"
      ],
      "execution_count": 45,
      "outputs": [
        {
          "output_type": "stream",
          "text": [
            "+--------------------+-------+--------------------+--------------------+----------+\n",
            "|            features|affairs|       rawPrediction|         probability|prediction|\n",
            "+--------------------+-------+--------------------+--------------------+----------+\n",
            "|[1.0,17.5,0.5,0.0...|      0|[33.9359343958634...|[0.67871868791726...|       0.0|\n",
            "|[1.0,22.0,2.5,1.0...|      1|[17.8787459702051...|[0.35757491940410...|       1.0|\n",
            "|[1.0,22.0,2.5,1.0...|      0|[20.0482731866041...|[0.40096546373208...|       1.0|\n",
            "|[1.0,22.0,2.5,1.0...|      1|[20.0482731866041...|[0.40096546373208...|       1.0|\n",
            "|[1.0,27.0,2.5,0.0...|      0|[16.1452566777076...|[0.32290513355415...|       1.0|\n",
            "|[1.0,27.0,2.5,0.0...|      1|[17.4474161254095...|[0.34894832250819...|       1.0|\n",
            "|[1.0,27.0,6.0,1.0...|      0|[16.2659123956467...|[0.32531824791293...|       1.0|\n",
            "|[1.0,27.0,6.0,1.0...|      0|[17.1166239645535...|[0.34233247929107...|       1.0|\n",
            "|[1.0,27.0,6.0,2.0...|      1|[15.8871175691767...|[0.31774235138353...|       1.0|\n",
            "|[1.0,27.0,6.0,2.0...|      1|[16.6234659944521...|[0.33246931988904...|       1.0|\n",
            "|[1.0,27.0,9.0,1.0...|      1|[13.8885006547349...|[0.27777001309469...|       1.0|\n",
            "|[1.0,32.0,2.5,1.0...|      0|[21.3024950072476...|[0.42604990014495...|       1.0|\n",
            "|[1.0,32.0,13.0,1....|      1|[13.7379327819027...|[0.27475865563805...|       1.0|\n",
            "|[1.0,32.0,13.0,2....|      1|[12.4984468181722...|[0.24996893636344...|       1.0|\n",
            "|[1.0,37.0,13.0,5....|      0|[17.2476809211682...|[0.34495361842336...|       1.0|\n",
            "|[1.0,37.0,16.5,3....|      1|[12.9536339365908...|[0.25907267873181...|       1.0|\n",
            "|[1.0,37.0,16.5,4....|      1|[13.7768290711790...|[0.27553658142358...|       1.0|\n",
            "|[1.0,37.0,23.0,5....|      1|[14.9210401151790...|[0.29842080230358...|       1.0|\n",
            "|[1.0,42.0,16.5,2....|      1|[16.1580297769968...|[0.32316059553993...|       1.0|\n",
            "|[1.0,42.0,16.5,5....|      1|[15.5733779733992...|[0.31146755946798...|       1.0|\n",
            "+--------------------+-------+--------------------+--------------------+----------+\n",
            "only showing top 20 rows\n",
            "\n"
          ],
          "name": "stdout"
        }
      ]
    },
    {
      "cell_type": "code",
      "metadata": {
        "id": "z47PaayhGNGE"
      },
      "source": [
        ""
      ],
      "execution_count": null,
      "outputs": []
    }
  ]
}