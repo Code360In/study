{
  "nbformat": 4,
  "nbformat_minor": 0,
  "metadata": {
    "colab": {
      "name": "Linear Regression_Logistic_Regression using Pyspark.ipynb",
      "provenance": []
    },
    "kernelspec": {
      "name": "python3",
      "display_name": "Python 3"
    }
  },
  "cells": [
    {
      "cell_type": "markdown",
      "metadata": {
        "id": "nIeO0430qh57"
      },
      "source": [
        "# Linear Regression using Pyspark"
      ]
    },
    {
      "cell_type": "code",
      "metadata": {
        "colab": {
          "base_uri": "https://localhost:8080/"
        },
        "id": "_Ax7gaUDoz5j",
        "outputId": "039f2430-7226-4480-b9b4-159906503fea"
      },
      "source": [
        "pip install pyspark"
      ],
      "execution_count": 4,
      "outputs": [
        {
          "output_type": "stream",
          "text": [
            "Collecting pyspark\n",
            "\u001b[?25l  Downloading https://files.pythonhosted.org/packages/27/67/5158f846202d7f012d1c9ca21c3549a58fd3c6707ae8ee823adcaca6473c/pyspark-3.0.2.tar.gz (204.8MB)\n",
            "\u001b[K     |████████████████████████████████| 204.8MB 68kB/s \n",
            "\u001b[?25hCollecting py4j==0.10.9\n",
            "\u001b[?25l  Downloading https://files.pythonhosted.org/packages/9e/b6/6a4fb90cd235dc8e265a6a2067f2a2c99f0d91787f06aca4bcf7c23f3f80/py4j-0.10.9-py2.py3-none-any.whl (198kB)\n",
            "\u001b[K     |████████████████████████████████| 204kB 40.9MB/s \n",
            "\u001b[?25hBuilding wheels for collected packages: pyspark\n",
            "  Building wheel for pyspark (setup.py) ... \u001b[?25l\u001b[?25hdone\n",
            "  Created wheel for pyspark: filename=pyspark-3.0.2-py2.py3-none-any.whl size=205186687 sha256=da809bb941812c7792e4525b63ea95a2371d3a85c89a0c3cccb8c9e661f84713\n",
            "  Stored in directory: /root/.cache/pip/wheels/8b/09/da/c1f2859bcc86375dc972c5b6af4881b3603269bcc4c9be5d16\n",
            "Successfully built pyspark\n",
            "Installing collected packages: py4j, pyspark\n",
            "Successfully installed py4j-0.10.9 pyspark-3.0.2\n"
          ],
          "name": "stdout"
        }
      ]
    },
    {
      "cell_type": "code",
      "metadata": {
        "id": "qo4QH8O7Ec1Z"
      },
      "source": [
        "from pyspark.sql import SparkSession\r\n",
        "spark=SparkSession.builder.appName('lin_reg').getOrCreate()"
      ],
      "execution_count": 5,
      "outputs": []
    },
    {
      "cell_type": "code",
      "metadata": {
        "id": "aMQNf4HIoyeG"
      },
      "source": [
        "from pyspark.ml.regression import LinearRegression"
      ],
      "execution_count": 6,
      "outputs": []
    },
    {
      "cell_type": "code",
      "metadata": {
        "id": "wMbCDeNzo8jw"
      },
      "source": [
        "df = spark.read.csv('/content/drive/MyDrive/datacamp/Linear_regression_dataset.csv', inferSchema=True, header = True)"
      ],
      "execution_count": 7,
      "outputs": []
    },
    {
      "cell_type": "code",
      "metadata": {
        "colab": {
          "base_uri": "https://localhost:8080/"
        },
        "id": "1-79Vy5TpDhb",
        "outputId": "7f3255eb-013b-4b11-cd8e-eda13560285d"
      },
      "source": [
        "print(df.count(), len(df.columns))"
      ],
      "execution_count": 8,
      "outputs": [
        {
          "output_type": "stream",
          "text": [
            "1232 6\n"
          ],
          "name": "stdout"
        }
      ]
    },
    {
      "cell_type": "code",
      "metadata": {
        "colab": {
          "base_uri": "https://localhost:8080/"
        },
        "id": "2NLO1N8CpF1i",
        "outputId": "dcf91031-ee64-4399-f072-13efb3fc3df2"
      },
      "source": [
        "df.printSchema()"
      ],
      "execution_count": 10,
      "outputs": [
        {
          "output_type": "stream",
          "text": [
            "root\n",
            " |-- var_1: integer (nullable = true)\n",
            " |-- var_2: integer (nullable = true)\n",
            " |-- var_3: integer (nullable = true)\n",
            " |-- var_4: double (nullable = true)\n",
            " |-- var_5: double (nullable = true)\n",
            " |-- output: double (nullable = true)\n",
            "\n"
          ],
          "name": "stdout"
        }
      ]
    },
    {
      "cell_type": "code",
      "metadata": {
        "colab": {
          "base_uri": "https://localhost:8080/"
        },
        "id": "41IbGgPspHht",
        "outputId": "3aa658a5-f13d-4724-fdd3-f62b608e9ef4"
      },
      "source": [
        "df.describe().show(5,False)"
      ],
      "execution_count": 11,
      "outputs": [
        {
          "output_type": "stream",
          "text": [
            "+-------+-----------------+-----------------+------------------+--------------------+--------------------+-------------------+\n",
            "|summary|var_1            |var_2            |var_3             |var_4               |var_5               |output             |\n",
            "+-------+-----------------+-----------------+------------------+--------------------+--------------------+-------------------+\n",
            "|count  |1232             |1232             |1232              |1232                |1232                |1232               |\n",
            "|mean   |715.0819805194806|715.0819805194806|80.90422077922078 |0.3263311688311693  |0.25927272727272715 |0.39734172077922014|\n",
            "|stddev |91.5342940441652 |93.07993263118064|11.458139049993724|0.015012772334166148|0.012907228928000298|0.03326689862173776|\n",
            "|min    |463              |472              |40                |0.277               |0.214               |0.301              |\n",
            "|max    |1009             |1103             |116               |0.373               |0.294               |0.491              |\n",
            "+-------+-----------------+-----------------+------------------+--------------------+--------------------+-------------------+\n",
            "\n"
          ],
          "name": "stdout"
        }
      ]
    },
    {
      "cell_type": "code",
      "metadata": {
        "colab": {
          "base_uri": "https://localhost:8080/"
        },
        "id": "bMkL_DG4pLxh",
        "outputId": "9fb963bb-d7f9-4dc5-a449-77ba251a4714"
      },
      "source": [
        "df.head(3)"
      ],
      "execution_count": 12,
      "outputs": [
        {
          "output_type": "execute_result",
          "data": {
            "text/plain": [
              "[Row(var_1=734, var_2=688, var_3=81, var_4=0.328, var_5=0.259, output=0.418),\n",
              " Row(var_1=700, var_2=600, var_3=94, var_4=0.32, var_5=0.247, output=0.389),\n",
              " Row(var_1=712, var_2=705, var_3=93, var_4=0.311, var_5=0.247, output=0.417)]"
            ]
          },
          "metadata": {
            "tags": []
          },
          "execution_count": 12
        }
      ]
    },
    {
      "cell_type": "code",
      "metadata": {
        "colab": {
          "base_uri": "https://localhost:8080/"
        },
        "id": "iuMVstiFpMoY",
        "outputId": "783e420f-65f3-4f7c-9fb6-c40c5b8dc898"
      },
      "source": [
        "df.show(5)"
      ],
      "execution_count": 13,
      "outputs": [
        {
          "output_type": "stream",
          "text": [
            "+-----+-----+-----+-----+-----+------+\n",
            "|var_1|var_2|var_3|var_4|var_5|output|\n",
            "+-----+-----+-----+-----+-----+------+\n",
            "|  734|  688|   81|0.328|0.259| 0.418|\n",
            "|  700|  600|   94| 0.32|0.247| 0.389|\n",
            "|  712|  705|   93|0.311|0.247| 0.417|\n",
            "|  734|  806|   69|0.315| 0.26| 0.415|\n",
            "|  613|  759|   61|0.302| 0.24| 0.378|\n",
            "+-----+-----+-----+-----+-----+------+\n",
            "only showing top 5 rows\n",
            "\n"
          ],
          "name": "stdout"
        }
      ]
    },
    {
      "cell_type": "code",
      "metadata": {
        "id": "sHu98-W9pPVs"
      },
      "source": [
        "from pyspark.sql.functions import corr"
      ],
      "execution_count": 14,
      "outputs": []
    },
    {
      "cell_type": "code",
      "metadata": {
        "colab": {
          "base_uri": "https://localhost:8080/"
        },
        "id": "c7zvY7nnpUSl",
        "outputId": "021512b1-422c-4a93-cb58-22d785cdc1aa"
      },
      "source": [
        "df.select(corr('var_1', 'output')).show()"
      ],
      "execution_count": 15,
      "outputs": [
        {
          "output_type": "stream",
          "text": [
            "+-------------------+\n",
            "|corr(var_1, output)|\n",
            "+-------------------+\n",
            "| 0.9187399607627283|\n",
            "+-------------------+\n",
            "\n"
          ],
          "name": "stdout"
        }
      ]
    },
    {
      "cell_type": "code",
      "metadata": {
        "id": "95TWmrBxpXV6"
      },
      "source": [
        "from pyspark.ml.linalg import Vector\r\n",
        "from pyspark.ml.feature import VectorAssembler"
      ],
      "execution_count": 16,
      "outputs": []
    },
    {
      "cell_type": "code",
      "metadata": {
        "colab": {
          "base_uri": "https://localhost:8080/"
        },
        "id": "3poekxgkpgBe",
        "outputId": "bef7b41a-d91d-4089-e612-a2c83d44ec4a"
      },
      "source": [
        "df.columns"
      ],
      "execution_count": 17,
      "outputs": [
        {
          "output_type": "execute_result",
          "data": {
            "text/plain": [
              "['var_1', 'var_2', 'var_3', 'var_4', 'var_5', 'output']"
            ]
          },
          "metadata": {
            "tags": []
          },
          "execution_count": 17
        }
      ]
    },
    {
      "cell_type": "code",
      "metadata": {
        "id": "x-Wl8jQmpg0U"
      },
      "source": [
        "vec_assembler = VectorAssembler(inputCols=['var_1', 'var_2', 'var_3', 'var_4', 'var_5'],outputCol='features')"
      ],
      "execution_count": 18,
      "outputs": []
    },
    {
      "cell_type": "code",
      "metadata": {
        "id": "uUHwFAK6psoW"
      },
      "source": [
        "features_df = vec_assembler.transform(df)"
      ],
      "execution_count": 20,
      "outputs": []
    },
    {
      "cell_type": "code",
      "metadata": {
        "colab": {
          "base_uri": "https://localhost:8080/"
        },
        "id": "9lV_enPUqE_W",
        "outputId": "b60c29d1-9ac7-4511-8006-9b0580576ff5"
      },
      "source": [
        "features_df.printSchema()"
      ],
      "execution_count": 21,
      "outputs": [
        {
          "output_type": "stream",
          "text": [
            "root\n",
            " |-- var_1: integer (nullable = true)\n",
            " |-- var_2: integer (nullable = true)\n",
            " |-- var_3: integer (nullable = true)\n",
            " |-- var_4: double (nullable = true)\n",
            " |-- var_5: double (nullable = true)\n",
            " |-- output: double (nullable = true)\n",
            " |-- features: vector (nullable = true)\n",
            "\n"
          ],
          "name": "stdout"
        }
      ]
    },
    {
      "cell_type": "code",
      "metadata": {
        "colab": {
          "base_uri": "https://localhost:8080/"
        },
        "id": "J0LNFkr4qBIG",
        "outputId": "2edd60df-ffdf-4e68-93d5-91026aae4dc1"
      },
      "source": [
        "features_df.select('features').show(5,False)"
      ],
      "execution_count": 22,
      "outputs": [
        {
          "output_type": "stream",
          "text": [
            "+------------------------------+\n",
            "|features                      |\n",
            "+------------------------------+\n",
            "|[734.0,688.0,81.0,0.328,0.259]|\n",
            "|[700.0,600.0,94.0,0.32,0.247] |\n",
            "|[712.0,705.0,93.0,0.311,0.247]|\n",
            "|[734.0,806.0,69.0,0.315,0.26] |\n",
            "|[613.0,759.0,61.0,0.302,0.24] |\n",
            "+------------------------------+\n",
            "only showing top 5 rows\n",
            "\n"
          ],
          "name": "stdout"
        }
      ]
    },
    {
      "cell_type": "code",
      "metadata": {
        "id": "jy4W4JEkqHtp"
      },
      "source": [
        "model_df=features_df.select('features','output')"
      ],
      "execution_count": 23,
      "outputs": []
    },
    {
      "cell_type": "code",
      "metadata": {
        "colab": {
          "base_uri": "https://localhost:8080/"
        },
        "id": "sB8p7PCfqKxn",
        "outputId": "e424026b-016f-45e0-89e2-b6f3da40b4ce"
      },
      "source": [
        "model_df.show(5,False)"
      ],
      "execution_count": 24,
      "outputs": [
        {
          "output_type": "stream",
          "text": [
            "+------------------------------+------+\n",
            "|features                      |output|\n",
            "+------------------------------+------+\n",
            "|[734.0,688.0,81.0,0.328,0.259]|0.418 |\n",
            "|[700.0,600.0,94.0,0.32,0.247] |0.389 |\n",
            "|[712.0,705.0,93.0,0.311,0.247]|0.417 |\n",
            "|[734.0,806.0,69.0,0.315,0.26] |0.415 |\n",
            "|[613.0,759.0,61.0,0.302,0.24] |0.378 |\n",
            "+------------------------------+------+\n",
            "only showing top 5 rows\n",
            "\n"
          ],
          "name": "stdout"
        }
      ]
    },
    {
      "cell_type": "code",
      "metadata": {
        "colab": {
          "base_uri": "https://localhost:8080/"
        },
        "id": "wJW8xf1uqKKN",
        "outputId": "55b2faaf-c0fb-4abc-fd5f-282c396966c8"
      },
      "source": [
        "print((model_df.count(), len(model_df.columns)))"
      ],
      "execution_count": 25,
      "outputs": [
        {
          "output_type": "stream",
          "text": [
            "(1232, 2)\n"
          ],
          "name": "stdout"
        }
      ]
    },
    {
      "cell_type": "code",
      "metadata": {
        "id": "hosM0ZPDqN8m"
      },
      "source": [
        "train_df,test_df=model_df.randomSplit([0.7,0.3])"
      ],
      "execution_count": 26,
      "outputs": []
    },
    {
      "cell_type": "code",
      "metadata": {
        "colab": {
          "base_uri": "https://localhost:8080/"
        },
        "id": "u28h2GLzqP2_",
        "outputId": "742fa672-52eb-4f8f-f008-311db4c33979"
      },
      "source": [
        "print((train_df.count(), len(train_df.columns)))\r\n",
        "print((test_df.count(), len(test_df.columns)))"
      ],
      "execution_count": 27,
      "outputs": [
        {
          "output_type": "stream",
          "text": [
            "(859, 2)\n",
            "(373, 2)\n"
          ],
          "name": "stdout"
        }
      ]
    },
    {
      "cell_type": "code",
      "metadata": {
        "colab": {
          "base_uri": "https://localhost:8080/"
        },
        "id": "XxGTms5nqRQg",
        "outputId": "276d0140-70b7-4473-ac32-963982e89ba2"
      },
      "source": [
        "train_df.describe().show()"
      ],
      "execution_count": 28,
      "outputs": [
        {
          "output_type": "stream",
          "text": [
            "+-------+--------------------+\n",
            "|summary|              output|\n",
            "+-------+--------------------+\n",
            "|  count|                 859|\n",
            "|   mean| 0.39752153667054696|\n",
            "| stddev|0.032958976259143784|\n",
            "|    min|               0.301|\n",
            "|    max|               0.485|\n",
            "+-------+--------------------+\n",
            "\n"
          ],
          "name": "stdout"
        }
      ]
    },
    {
      "cell_type": "code",
      "metadata": {
        "colab": {
          "base_uri": "https://localhost:8080/"
        },
        "id": "hwwIvkv0qSFd",
        "outputId": "e75ba590-c98a-4160-d119-9280336833be"
      },
      "source": [
        "lin_Reg=LinearRegression(labelCol='output')\r\n",
        "lr_model=lin_Reg.fit(train_df)\r\n",
        "lr_model.intercept"
      ],
      "execution_count": 29,
      "outputs": [
        {
          "output_type": "execute_result",
          "data": {
            "text/plain": [
              "0.19717606882401417"
            ]
          },
          "metadata": {
            "tags": []
          },
          "execution_count": 29
        }
      ]
    },
    {
      "cell_type": "code",
      "metadata": {
        "colab": {
          "base_uri": "https://localhost:8080/"
        },
        "id": "b7BwSNhmqXEq",
        "outputId": "6631da50-933d-43de-baa6-b34bc86d64be"
      },
      "source": [
        "print(lr_model.coefficients)"
      ],
      "execution_count": 30,
      "outputs": [
        {
          "output_type": "stream",
          "text": [
            "[0.00033817232155032535,5.563974309090355e-05,0.00021882662412950267,-0.6530682119276883,0.44040435777381276]\n"
          ],
          "name": "stdout"
        }
      ]
    },
    {
      "cell_type": "code",
      "metadata": {
        "id": "MK3P7KytqX8Z"
      },
      "source": [
        "training_predictions=lr_model.evaluate(train_df)"
      ],
      "execution_count": 31,
      "outputs": []
    },
    {
      "cell_type": "code",
      "metadata": {
        "colab": {
          "base_uri": "https://localhost:8080/"
        },
        "id": "IRkMrkWfqZiv",
        "outputId": "cf350a86-c3e9-4ce6-8298-c7136d3adb11"
      },
      "source": [
        "training_predictions.meanSquaredError"
      ],
      "execution_count": 32,
      "outputs": [
        {
          "output_type": "execute_result",
          "data": {
            "text/plain": [
              "0.00014659879898667425"
            ]
          },
          "metadata": {
            "tags": []
          },
          "execution_count": 32
        }
      ]
    },
    {
      "cell_type": "code",
      "metadata": {
        "colab": {
          "base_uri": "https://localhost:8080/"
        },
        "id": "tzzIdxPuqaiq",
        "outputId": "67294812-58c1-4fcc-cbe4-411ae9e37310"
      },
      "source": [
        "training_predictions.r2"
      ],
      "execution_count": 33,
      "outputs": [
        {
          "output_type": "execute_result",
          "data": {
            "text/plain": [
              "0.8648895746657159"
            ]
          },
          "metadata": {
            "tags": []
          },
          "execution_count": 33
        }
      ]
    },
    {
      "cell_type": "code",
      "metadata": {
        "id": "-k6iLvRtqbQp"
      },
      "source": [
        "test_results=lr_model.evaluate(test_df)"
      ],
      "execution_count": 34,
      "outputs": []
    },
    {
      "cell_type": "code",
      "metadata": {
        "colab": {
          "base_uri": "https://localhost:8080/"
        },
        "id": "MhHcOmcOqb6r",
        "outputId": "f155c4a0-9850-4f8d-99db-e5c722f8e13f"
      },
      "source": [
        "test_results.residuals.show(10)"
      ],
      "execution_count": 35,
      "outputs": [
        {
          "output_type": "stream",
          "text": [
            "+--------------------+\n",
            "|           residuals|\n",
            "+--------------------+\n",
            "|-0.00277017830188...|\n",
            "|-0.00678325436630...|\n",
            "|-0.00823471818075...|\n",
            "|-0.01279260783857...|\n",
            "|-0.01391739612072...|\n",
            "|-0.01258838580054...|\n",
            "|-0.00701742197706573|\n",
            "|-0.01169436123971...|\n",
            "|-0.00926506591514...|\n",
            "|-0.00239189853437...|\n",
            "+--------------------+\n",
            "only showing top 10 rows\n",
            "\n"
          ],
          "name": "stdout"
        }
      ]
    },
    {
      "cell_type": "code",
      "metadata": {
        "colab": {
          "base_uri": "https://localhost:8080/"
        },
        "id": "28tkwCgIqcvi",
        "outputId": "450d769a-a2e6-44c3-a87f-61faddc046fb"
      },
      "source": [
        "test_results.r2"
      ],
      "execution_count": 36,
      "outputs": [
        {
          "output_type": "execute_result",
          "data": {
            "text/plain": [
              "0.8774023906395844"
            ]
          },
          "metadata": {
            "tags": []
          },
          "execution_count": 36
        }
      ]
    },
    {
      "cell_type": "code",
      "metadata": {
        "colab": {
          "base_uri": "https://localhost:8080/"
        },
        "id": "kvcddeU7qdoC",
        "outputId": "01442d44-98da-45c4-e143-bdadade17431"
      },
      "source": [
        "test_results.rootMeanSquaredError"
      ],
      "execution_count": 39,
      "outputs": [
        {
          "output_type": "execute_result",
          "data": {
            "text/plain": [
              "0.01189108014277637"
            ]
          },
          "metadata": {
            "tags": []
          },
          "execution_count": 39
        }
      ]
    },
    {
      "cell_type": "code",
      "metadata": {
        "colab": {
          "base_uri": "https://localhost:8080/"
        },
        "id": "I1o1Nwf4qfeL",
        "outputId": "ce68619e-02ae-47be-807a-7d38ed8a7a13"
      },
      "source": [
        "test_results.meanSquaredError"
      ],
      "execution_count": 38,
      "outputs": [
        {
          "output_type": "execute_result",
          "data": {
            "text/plain": [
              "0.00014139778696193052"
            ]
          },
          "metadata": {
            "tags": []
          },
          "execution_count": 38
        }
      ]
    },
    {
      "cell_type": "code",
      "metadata": {
        "id": "3_Gxg8EwqgKJ"
      },
      "source": [
        ""
      ],
      "execution_count": null,
      "outputs": []
    },
    {
      "cell_type": "markdown",
      "metadata": {
        "id": "_tLs-AS_qlbc"
      },
      "source": [
        "# Logistic_Regression_Pyspark"
      ]
    },
    {
      "cell_type": "code",
      "metadata": {
        "id": "xRUBNDoPqrat"
      },
      "source": [
        "from pyspark.sql import SparkSession\r\n",
        "spark=SparkSession.builder.appName('log_reg').getOrCreate()"
      ],
      "execution_count": 40,
      "outputs": []
    },
    {
      "cell_type": "code",
      "metadata": {
        "id": "LR16lUNlqryQ"
      },
      "source": [
        "df=spark.read.csv('/content/drive/MyDrive/datacamp/Log_Reg_dataset.csv',inferSchema=True,header=True)"
      ],
      "execution_count": 41,
      "outputs": []
    },
    {
      "cell_type": "code",
      "metadata": {
        "id": "zXfPhEZHqv1m"
      },
      "source": [
        "from pyspark.sql.functions import *"
      ],
      "execution_count": 42,
      "outputs": []
    },
    {
      "cell_type": "code",
      "metadata": {
        "colab": {
          "base_uri": "https://localhost:8080/"
        },
        "id": "xH6mkcmFqw50",
        "outputId": "22216286-01a1-4ebc-f5d4-8ca606ba9110"
      },
      "source": [
        "print((df.count(),len(df.columns)))"
      ],
      "execution_count": 43,
      "outputs": [
        {
          "output_type": "stream",
          "text": [
            "(20000, 6)\n"
          ],
          "name": "stdout"
        }
      ]
    },
    {
      "cell_type": "code",
      "metadata": {
        "colab": {
          "base_uri": "https://localhost:8080/"
        },
        "id": "gRwIu9FeqxlX",
        "outputId": "ead8855a-88ca-4687-916b-2b1ffff8c4e5"
      },
      "source": [
        "df.printSchema()"
      ],
      "execution_count": 44,
      "outputs": [
        {
          "output_type": "stream",
          "text": [
            "root\n",
            " |-- Country: string (nullable = true)\n",
            " |-- Age: integer (nullable = true)\n",
            " |-- Repeat_Visitor: integer (nullable = true)\n",
            " |-- Platform: string (nullable = true)\n",
            " |-- Web_pages_viewed: integer (nullable = true)\n",
            " |-- Status: integer (nullable = true)\n",
            "\n"
          ],
          "name": "stdout"
        }
      ]
    },
    {
      "cell_type": "code",
      "metadata": {
        "colab": {
          "base_uri": "https://localhost:8080/"
        },
        "id": "7z3kZh1eqyfa",
        "outputId": "a63ae4d2-52e4-4e57-9747-3e866b3807e4"
      },
      "source": [
        "df.columns"
      ],
      "execution_count": 45,
      "outputs": [
        {
          "output_type": "execute_result",
          "data": {
            "text/plain": [
              "['Country', 'Age', 'Repeat_Visitor', 'Platform', 'Web_pages_viewed', 'Status']"
            ]
          },
          "metadata": {
            "tags": []
          },
          "execution_count": 45
        }
      ]
    },
    {
      "cell_type": "code",
      "metadata": {
        "colab": {
          "base_uri": "https://localhost:8080/"
        },
        "id": "eQZCh_sRqzP0",
        "outputId": "fa0e71f2-a2a3-4cf6-bdb4-38da56d44e1e"
      },
      "source": [
        "df.show(5)"
      ],
      "execution_count": 46,
      "outputs": [
        {
          "output_type": "stream",
          "text": [
            "+---------+---+--------------+--------+----------------+------+\n",
            "|  Country|Age|Repeat_Visitor|Platform|Web_pages_viewed|Status|\n",
            "+---------+---+--------------+--------+----------------+------+\n",
            "|    India| 41|             1|   Yahoo|              21|     1|\n",
            "|   Brazil| 28|             1|   Yahoo|               5|     0|\n",
            "|   Brazil| 40|             0|  Google|               3|     0|\n",
            "|Indonesia| 31|             1|    Bing|              15|     1|\n",
            "| Malaysia| 32|             0|  Google|              15|     1|\n",
            "+---------+---+--------------+--------+----------------+------+\n",
            "only showing top 5 rows\n",
            "\n"
          ],
          "name": "stdout"
        }
      ]
    },
    {
      "cell_type": "code",
      "metadata": {
        "colab": {
          "base_uri": "https://localhost:8080/"
        },
        "id": "KpbpCYjHqz6T",
        "outputId": "f4a44541-9e94-48ec-f95d-526fce47e965"
      },
      "source": [
        "df.describe().show()"
      ],
      "execution_count": 47,
      "outputs": [
        {
          "output_type": "stream",
          "text": [
            "+-------+--------+-----------------+-----------------+--------+-----------------+------------------+\n",
            "|summary| Country|              Age|   Repeat_Visitor|Platform| Web_pages_viewed|            Status|\n",
            "+-------+--------+-----------------+-----------------+--------+-----------------+------------------+\n",
            "|  count|   20000|            20000|            20000|   20000|            20000|             20000|\n",
            "|   mean|    null|         28.53955|           0.5029|    null|           9.5533|               0.5|\n",
            "| stddev|    null|7.888912950773227|0.500004090187782|    null|6.073903499824976|0.5000125004687693|\n",
            "|    min|  Brazil|               17|                0|    Bing|                1|                 0|\n",
            "|    max|Malaysia|              111|                1|   Yahoo|               29|                 1|\n",
            "+-------+--------+-----------------+-----------------+--------+-----------------+------------------+\n",
            "\n"
          ],
          "name": "stdout"
        }
      ]
    },
    {
      "cell_type": "code",
      "metadata": {
        "colab": {
          "base_uri": "https://localhost:8080/"
        },
        "id": "6j4DpPnSq062",
        "outputId": "3f2328b6-cba8-47a9-b704-6ac97a8e2ba5"
      },
      "source": [
        "df.groupBy('Country').count().show()"
      ],
      "execution_count": 48,
      "outputs": [
        {
          "output_type": "stream",
          "text": [
            "+---------+-----+\n",
            "|  Country|count|\n",
            "+---------+-----+\n",
            "| Malaysia| 1218|\n",
            "|    India| 4018|\n",
            "|Indonesia|12178|\n",
            "|   Brazil| 2586|\n",
            "+---------+-----+\n",
            "\n"
          ],
          "name": "stdout"
        }
      ]
    },
    {
      "cell_type": "code",
      "metadata": {
        "colab": {
          "base_uri": "https://localhost:8080/"
        },
        "id": "ZKoomu7xq2DK",
        "outputId": "ffaf8f63-2d8b-46c1-83f3-99ff3f46ca0d"
      },
      "source": [
        "df.groupBy('Status').count().show()"
      ],
      "execution_count": 50,
      "outputs": [
        {
          "output_type": "stream",
          "text": [
            "+------+-----+\n",
            "|Status|count|\n",
            "+------+-----+\n",
            "|     1|10000|\n",
            "|     0|10000|\n",
            "+------+-----+\n",
            "\n"
          ],
          "name": "stdout"
        }
      ]
    },
    {
      "cell_type": "code",
      "metadata": {
        "colab": {
          "base_uri": "https://localhost:8080/"
        },
        "id": "sRSHnfDpq3Tb",
        "outputId": "ff0082fe-f689-418d-d357-daf641c877ce"
      },
      "source": [
        "df.groupBy('Country').mean().show()"
      ],
      "execution_count": 51,
      "outputs": [
        {
          "output_type": "stream",
          "text": [
            "+---------+------------------+-------------------+---------------------+--------------------+\n",
            "|  Country|          avg(Age)|avg(Repeat_Visitor)|avg(Web_pages_viewed)|         avg(Status)|\n",
            "+---------+------------------+-------------------+---------------------+--------------------+\n",
            "| Malaysia|27.792282430213465| 0.5730706075533661|   11.192118226600986|  0.6568144499178982|\n",
            "|    India|27.976854156296664| 0.5433051269288203|   10.727227476356397|  0.6212045793927327|\n",
            "|Indonesia| 28.43159796354081| 0.5207751683363442|    9.985711939563148|  0.5422893742814913|\n",
            "|   Brazil|30.274168600154677|  0.322892498066512|    4.921113689095128|0.038669760247486466|\n",
            "+---------+------------------+-------------------+---------------------+--------------------+\n",
            "\n"
          ],
          "name": "stdout"
        }
      ]
    },
    {
      "cell_type": "code",
      "metadata": {
        "colab": {
          "base_uri": "https://localhost:8080/"
        },
        "id": "jAh3rTD6q-O_",
        "outputId": "4c526026-4568-4844-e138-37f4f2be35a8"
      },
      "source": [
        "df.groupBy('Platform').mean().show()"
      ],
      "execution_count": 52,
      "outputs": [
        {
          "output_type": "stream",
          "text": [
            "+--------+------------------+-------------------+---------------------+------------------+\n",
            "|Platform|          avg(Age)|avg(Repeat_Visitor)|avg(Web_pages_viewed)|       avg(Status)|\n",
            "+--------+------------------+-------------------+---------------------+------------------+\n",
            "|   Yahoo|28.569226087838523| 0.5094837204584644|    9.599655137437875|0.5071508266558474|\n",
            "|    Bing| 28.68394495412844| 0.4720183486238532|    9.114908256880733|0.4559633027522936|\n",
            "|  Google|28.380038055699707| 0.5149628092025601|    9.804878048780488|0.5210171250648676|\n",
            "+--------+------------------+-------------------+---------------------+------------------+\n",
            "\n"
          ],
          "name": "stdout"
        }
      ]
    },
    {
      "cell_type": "code",
      "metadata": {
        "colab": {
          "base_uri": "https://localhost:8080/"
        },
        "id": "Nli-2vUorGpU",
        "outputId": "339927bd-ce14-4c9c-eeb8-77c4061ef7ee"
      },
      "source": [
        "df.groupBy('Status').mean().show()"
      ],
      "execution_count": 53,
      "outputs": [
        {
          "output_type": "stream",
          "text": [
            "+------+--------+-------------------+---------------------+-----------+\n",
            "|Status|avg(Age)|avg(Repeat_Visitor)|avg(Web_pages_viewed)|avg(Status)|\n",
            "+------+--------+-------------------+---------------------+-----------+\n",
            "|     1| 26.5435|             0.7019|              14.5617|        1.0|\n",
            "|     0| 30.5356|             0.3039|               4.5449|        0.0|\n",
            "+------+--------+-------------------+---------------------+-----------+\n",
            "\n"
          ],
          "name": "stdout"
        }
      ]
    },
    {
      "cell_type": "markdown",
      "metadata": {
        "id": "6uY4pfi0rYez"
      },
      "source": [
        "StringIndexer는 레이블의 문자열 컬럼을 레이블 인덱스의 컬럼으로 인코딩한다. \r\n"
      ]
    },
    {
      "cell_type": "code",
      "metadata": {
        "id": "QxarDRkvrIyy"
      },
      "source": [
        "# 범주화 데이터 수치형으로 변경\r\n",
        "from pyspark.ml.feature import StringIndexer\r\n",
        "search_engine_indexer = StringIndexer(inputCol=\"Platform\", outputCol=\"Search_Engine_Num\").fit(df)\r\n",
        "df = search_engine_indexer.transform(df)"
      ],
      "execution_count": 54,
      "outputs": []
    },
    {
      "cell_type": "code",
      "metadata": {
        "colab": {
          "base_uri": "https://localhost:8080/"
        },
        "id": "UcLP9MeSrSoS",
        "outputId": "f276dfd4-b2f1-4074-9606-6cded0816250"
      },
      "source": [
        "df.show(3,False)"
      ],
      "execution_count": 55,
      "outputs": [
        {
          "output_type": "stream",
          "text": [
            "+-------+---+--------------+--------+----------------+------+-----------------+\n",
            "|Country|Age|Repeat_Visitor|Platform|Web_pages_viewed|Status|Search_Engine_Num|\n",
            "+-------+---+--------------+--------+----------------+------+-----------------+\n",
            "|India  |41 |1             |Yahoo   |21              |1     |0.0              |\n",
            "|Brazil |28 |1             |Yahoo   |5               |0     |0.0              |\n",
            "|Brazil |40 |0             |Google  |3               |0     |1.0              |\n",
            "+-------+---+--------------+--------+----------------+------+-----------------+\n",
            "only showing top 3 rows\n",
            "\n"
          ],
          "name": "stdout"
        }
      ]
    },
    {
      "cell_type": "code",
      "metadata": {
        "id": "93_ADRWjrUIQ"
      },
      "source": [
        "from pyspark.ml.feature import OneHotEncoder"
      ],
      "execution_count": 56,
      "outputs": []
    },
    {
      "cell_type": "code",
      "metadata": {
        "id": "RfE1Lxszrd5L"
      },
      "source": [
        "search_engine_encoder = OneHotEncoder(inputCol=\"Search_Engine_Num\", outputCol=\"Search_Engine_Vector\")\r\n",
        "search_engine_encoder.setDropLast(False)\r\n",
        "search_engine_ohe =search_engine_encoder.fit(df)\r\n",
        "df = search_engine_ohe.transform(df)"
      ],
      "execution_count": 65,
      "outputs": []
    },
    {
      "cell_type": "code",
      "metadata": {
        "colab": {
          "base_uri": "https://localhost:8080/"
        },
        "id": "fdxKItuzskKf",
        "outputId": "3ce60278-ac59-413a-cc25-f6b4d8f2e513"
      },
      "source": [
        "df.show(5)"
      ],
      "execution_count": 66,
      "outputs": [
        {
          "output_type": "stream",
          "text": [
            "+---------+---+--------------+--------+----------------+------+-----------------+-----------+--------------------+\n",
            "|  Country|Age|Repeat_Visitor|Platform|Web_pages_viewed|Status|Search_Engine_Num|Country_Num|Search_Engine_Vector|\n",
            "+---------+---+--------------+--------+----------------+------+-----------------+-----------+--------------------+\n",
            "|    India| 41|             1|   Yahoo|              21|     1|              0.0|        1.0|       (3,[0],[1.0])|\n",
            "|   Brazil| 28|             1|   Yahoo|               5|     0|              0.0|        2.0|       (3,[0],[1.0])|\n",
            "|   Brazil| 40|             0|  Google|               3|     0|              1.0|        2.0|       (3,[1],[1.0])|\n",
            "|Indonesia| 31|             1|    Bing|              15|     1|              2.0|        0.0|       (3,[2],[1.0])|\n",
            "| Malaysia| 32|             0|  Google|              15|     1|              1.0|        3.0|       (3,[1],[1.0])|\n",
            "+---------+---+--------------+--------+----------------+------+-----------------+-----------+--------------------+\n",
            "only showing top 5 rows\n",
            "\n"
          ],
          "name": "stdout"
        }
      ]
    },
    {
      "cell_type": "code",
      "metadata": {
        "colab": {
          "base_uri": "https://localhost:8080/"
        },
        "id": "8PHikIi3rgi7",
        "outputId": "bb5e57fb-9ee9-4ec3-c026-f88df71e11a4"
      },
      "source": [
        "df.groupBy('Search_Engine_Num').count().orderBy('count',ascending=False).show(5,False)"
      ],
      "execution_count": 58,
      "outputs": [
        {
          "output_type": "stream",
          "text": [
            "+-----------------+-----+\n",
            "|Search_Engine_Num|count|\n",
            "+-----------------+-----+\n",
            "|0.0              |9859 |\n",
            "|1.0              |5781 |\n",
            "|2.0              |4360 |\n",
            "+-----------------+-----+\n",
            "\n"
          ],
          "name": "stdout"
        }
      ]
    },
    {
      "cell_type": "code",
      "metadata": {
        "id": "FAWLjzyermVB"
      },
      "source": [
        "country_indexer = StringIndexer(inputCol=\"Country\", outputCol=\"Country_Num\").fit(df)\r\n",
        "df = country_indexer.transform(df)"
      ],
      "execution_count": 60,
      "outputs": []
    },
    {
      "cell_type": "code",
      "metadata": {
        "colab": {
          "base_uri": "https://localhost:8080/"
        },
        "id": "-10-aIhorsjB",
        "outputId": "c5d32070-00e7-4407-b2dd-f574241a6627"
      },
      "source": [
        "df.select(['Country','Country_Num']).show(3,False)"
      ],
      "execution_count": 61,
      "outputs": [
        {
          "output_type": "stream",
          "text": [
            "+-------+-----------+\n",
            "|Country|Country_Num|\n",
            "+-------+-----------+\n",
            "|India  |1.0        |\n",
            "|Brazil |2.0        |\n",
            "|Brazil |2.0        |\n",
            "+-------+-----------+\n",
            "only showing top 3 rows\n",
            "\n"
          ],
          "name": "stdout"
        }
      ]
    },
    {
      "cell_type": "code",
      "metadata": {
        "id": "9taOR9UartaA"
      },
      "source": [
        "country_encoder = OneHotEncoder(inputCol=\"Country_Num\", outputCol=\"Country_Vector\")\r\n",
        "country_encoder.setDropLast(False)\r\n",
        "country_encoder_ohe =country_encoder.fit(df)\r\n",
        "df = country_encoder_ohe.transform(df)"
      ],
      "execution_count": 67,
      "outputs": []
    },
    {
      "cell_type": "code",
      "metadata": {
        "colab": {
          "base_uri": "https://localhost:8080/"
        },
        "id": "pfq8plmIrvdb",
        "outputId": "fe9ac135-109a-49c4-ad6d-f93e878412e7"
      },
      "source": [
        "df.select(['Country','country_Num','Country_Vector']).show(3,False)"
      ],
      "execution_count": 68,
      "outputs": [
        {
          "output_type": "stream",
          "text": [
            "+-------+-----------+--------------+\n",
            "|Country|country_Num|Country_Vector|\n",
            "+-------+-----------+--------------+\n",
            "|India  |1.0        |(4,[1],[1.0]) |\n",
            "|Brazil |2.0        |(4,[2],[1.0]) |\n",
            "|Brazil |2.0        |(4,[2],[1.0]) |\n",
            "+-------+-----------+--------------+\n",
            "only showing top 3 rows\n",
            "\n"
          ],
          "name": "stdout"
        }
      ]
    },
    {
      "cell_type": "code",
      "metadata": {
        "colab": {
          "base_uri": "https://localhost:8080/"
        },
        "id": "NbVwM0-psuk6",
        "outputId": "73e4ef9b-a5f1-4841-c3b1-b8ba0bf47f5e"
      },
      "source": [
        "df.groupBy('Country').count().orderBy('count',ascending=False).show(5,False)"
      ],
      "execution_count": 69,
      "outputs": [
        {
          "output_type": "stream",
          "text": [
            "+---------+-----+\n",
            "|Country  |count|\n",
            "+---------+-----+\n",
            "|Indonesia|12178|\n",
            "|India    |4018 |\n",
            "|Brazil   |2586 |\n",
            "|Malaysia |1218 |\n",
            "+---------+-----+\n",
            "\n"
          ],
          "name": "stdout"
        }
      ]
    },
    {
      "cell_type": "code",
      "metadata": {
        "colab": {
          "base_uri": "https://localhost:8080/"
        },
        "id": "baUaDoHlswJj",
        "outputId": "7f82cdf2-1662-404c-ae9b-5271446c2633"
      },
      "source": [
        "df.groupBy('Country_Num').count().orderBy('count',ascending=False).show(5,False)"
      ],
      "execution_count": 70,
      "outputs": [
        {
          "output_type": "stream",
          "text": [
            "+-----------+-----+\n",
            "|Country_Num|count|\n",
            "+-----------+-----+\n",
            "|0.0        |12178|\n",
            "|1.0        |4018 |\n",
            "|2.0        |2586 |\n",
            "|3.0        |1218 |\n",
            "+-----------+-----+\n",
            "\n"
          ],
          "name": "stdout"
        }
      ]
    },
    {
      "cell_type": "code",
      "metadata": {
        "colab": {
          "base_uri": "https://localhost:8080/"
        },
        "id": "wFyrZHoJsxnH",
        "outputId": "ed938f71-9e08-4f33-9e3f-f1e2d7c56050"
      },
      "source": [
        "df.groupBy('Country_Vector').count().orderBy('count',ascending=False).show(5,False)"
      ],
      "execution_count": 71,
      "outputs": [
        {
          "output_type": "stream",
          "text": [
            "+--------------+-----+\n",
            "|Country_Vector|count|\n",
            "+--------------+-----+\n",
            "|(4,[0],[1.0]) |12178|\n",
            "|(4,[1],[1.0]) |4018 |\n",
            "|(4,[2],[1.0]) |2586 |\n",
            "|(4,[3],[1.0]) |1218 |\n",
            "+--------------+-----+\n",
            "\n"
          ],
          "name": "stdout"
        }
      ]
    },
    {
      "cell_type": "code",
      "metadata": {
        "colab": {
          "base_uri": "https://localhost:8080/"
        },
        "id": "gXEH5eebs6mI",
        "outputId": "36e7f85e-512c-4b97-d743-ce7b80374b05"
      },
      "source": [
        "df.show(5)"
      ],
      "execution_count": 73,
      "outputs": [
        {
          "output_type": "stream",
          "text": [
            "+---------+---+--------------+--------+----------------+------+-----------------+-----------+--------------------+--------------+\n",
            "|  Country|Age|Repeat_Visitor|Platform|Web_pages_viewed|Status|Search_Engine_Num|Country_Num|Search_Engine_Vector|Country_Vector|\n",
            "+---------+---+--------------+--------+----------------+------+-----------------+-----------+--------------------+--------------+\n",
            "|    India| 41|             1|   Yahoo|              21|     1|              0.0|        1.0|       (3,[0],[1.0])| (4,[1],[1.0])|\n",
            "|   Brazil| 28|             1|   Yahoo|               5|     0|              0.0|        2.0|       (3,[0],[1.0])| (4,[2],[1.0])|\n",
            "|   Brazil| 40|             0|  Google|               3|     0|              1.0|        2.0|       (3,[1],[1.0])| (4,[2],[1.0])|\n",
            "|Indonesia| 31|             1|    Bing|              15|     1|              2.0|        0.0|       (3,[2],[1.0])| (4,[0],[1.0])|\n",
            "| Malaysia| 32|             0|  Google|              15|     1|              1.0|        3.0|       (3,[1],[1.0])| (4,[3],[1.0])|\n",
            "+---------+---+--------------+--------+----------------+------+-----------------+-----------+--------------------+--------------+\n",
            "only showing top 5 rows\n",
            "\n"
          ],
          "name": "stdout"
        }
      ]
    },
    {
      "cell_type": "code",
      "metadata": {
        "id": "cEkjfrRksymF"
      },
      "source": [
        "from pyspark.ml.feature import VectorAssembler"
      ],
      "execution_count": 72,
      "outputs": []
    },
    {
      "cell_type": "code",
      "metadata": {
        "id": "a8AD66_AszsS"
      },
      "source": [
        "df_assembler = VectorAssembler(inputCols=\r\n",
        "                               ['Country_Vector','Age', \r\n",
        "                                'Repeat_Visitor','Web_pages_viewed'], outputCol=\"features\")\r\n",
        "df = df_assembler.transform(df)"
      ],
      "execution_count": 76,
      "outputs": []
    },
    {
      "cell_type": "code",
      "metadata": {
        "colab": {
          "base_uri": "https://localhost:8080/"
        },
        "id": "taZ6P22wtAR3",
        "outputId": "3a67b671-30f5-474f-865b-bc5682008550"
      },
      "source": [
        "df.printSchema()"
      ],
      "execution_count": 77,
      "outputs": [
        {
          "output_type": "stream",
          "text": [
            "root\n",
            " |-- Country: string (nullable = true)\n",
            " |-- Age: integer (nullable = true)\n",
            " |-- Repeat_Visitor: integer (nullable = true)\n",
            " |-- Platform: string (nullable = true)\n",
            " |-- Web_pages_viewed: integer (nullable = true)\n",
            " |-- Status: integer (nullable = true)\n",
            " |-- Search_Engine_Num: double (nullable = false)\n",
            " |-- Country_Num: double (nullable = false)\n",
            " |-- Search_Engine_Vector: vector (nullable = true)\n",
            " |-- Country_Vector: vector (nullable = true)\n",
            " |-- features: vector (nullable = true)\n",
            "\n"
          ],
          "name": "stdout"
        }
      ]
    },
    {
      "cell_type": "code",
      "metadata": {
        "colab": {
          "base_uri": "https://localhost:8080/"
        },
        "id": "bP2UqMKrtbHA",
        "outputId": "e5aee26a-3498-4bce-d528-87c6a0d70004"
      },
      "source": [
        "df.select(['features','Status']).show(10,False)"
      ],
      "execution_count": 78,
      "outputs": [
        {
          "output_type": "stream",
          "text": [
            "+-------------------------------+------+\n",
            "|features                       |Status|\n",
            "+-------------------------------+------+\n",
            "|[0.0,1.0,0.0,0.0,41.0,1.0,21.0]|1     |\n",
            "|[0.0,0.0,1.0,0.0,28.0,1.0,5.0] |0     |\n",
            "|(7,[2,4,6],[1.0,40.0,3.0])     |0     |\n",
            "|[1.0,0.0,0.0,0.0,31.0,1.0,15.0]|1     |\n",
            "|(7,[3,4,6],[1.0,32.0,15.0])    |1     |\n",
            "|(7,[2,4,6],[1.0,32.0,3.0])     |0     |\n",
            "|(7,[2,4,6],[1.0,32.0,6.0])     |0     |\n",
            "|(7,[0,4,6],[1.0,27.0,9.0])     |0     |\n",
            "|(7,[0,4,6],[1.0,32.0,2.0])     |0     |\n",
            "|[1.0,0.0,0.0,0.0,31.0,1.0,16.0]|1     |\n",
            "+-------------------------------+------+\n",
            "only showing top 10 rows\n",
            "\n"
          ],
          "name": "stdout"
        }
      ]
    },
    {
      "cell_type": "code",
      "metadata": {
        "id": "Q7iqpCpmtclv"
      },
      "source": [
        "model_df=df.select(['features','Status'])"
      ],
      "execution_count": 79,
      "outputs": []
    },
    {
      "cell_type": "code",
      "metadata": {
        "id": "XYDSza2KteJ5"
      },
      "source": [
        "from pyspark.ml.classification import LogisticRegression"
      ],
      "execution_count": 80,
      "outputs": []
    },
    {
      "cell_type": "code",
      "metadata": {
        "id": "CuPvlY_8tfMo"
      },
      "source": [
        "training_df,test_df=model_df.randomSplit([0.75,0.25])"
      ],
      "execution_count": 81,
      "outputs": []
    },
    {
      "cell_type": "code",
      "metadata": {
        "colab": {
          "base_uri": "https://localhost:8080/"
        },
        "id": "xzo-VhMptgED",
        "outputId": "85bf4a2a-930c-4d7f-cee7-aed9ce08b07c"
      },
      "source": [
        "training_df.count()"
      ],
      "execution_count": 82,
      "outputs": [
        {
          "output_type": "execute_result",
          "data": {
            "text/plain": [
              "14891"
            ]
          },
          "metadata": {
            "tags": []
          },
          "execution_count": 82
        }
      ]
    },
    {
      "cell_type": "code",
      "metadata": {
        "colab": {
          "base_uri": "https://localhost:8080/"
        },
        "id": "49kNLus7tg17",
        "outputId": "5e9c631c-4bc0-4ca8-b763-37bad4dc9153"
      },
      "source": [
        "training_df.groupBy('Status').count().show()"
      ],
      "execution_count": 83,
      "outputs": [
        {
          "output_type": "stream",
          "text": [
            "+------+-----+\n",
            "|Status|count|\n",
            "+------+-----+\n",
            "|     1| 7457|\n",
            "|     0| 7434|\n",
            "+------+-----+\n",
            "\n"
          ],
          "name": "stdout"
        }
      ]
    },
    {
      "cell_type": "code",
      "metadata": {
        "colab": {
          "base_uri": "https://localhost:8080/"
        },
        "id": "qyPUydNnthzZ",
        "outputId": "0f88fd1a-8716-402e-c1c3-120d65e12c34"
      },
      "source": [
        "test_df.count()"
      ],
      "execution_count": 84,
      "outputs": [
        {
          "output_type": "execute_result",
          "data": {
            "text/plain": [
              "5109"
            ]
          },
          "metadata": {
            "tags": []
          },
          "execution_count": 84
        }
      ]
    },
    {
      "cell_type": "code",
      "metadata": {
        "colab": {
          "base_uri": "https://localhost:8080/"
        },
        "id": "YWMwrCy4ti_t",
        "outputId": "06ddb8f6-c0e1-4692-dde6-e754ef610768"
      },
      "source": [
        "test_df.groupBy('Status').count().show()"
      ],
      "execution_count": 85,
      "outputs": [
        {
          "output_type": "stream",
          "text": [
            "+------+-----+\n",
            "|Status|count|\n",
            "+------+-----+\n",
            "|     1| 2543|\n",
            "|     0| 2566|\n",
            "+------+-----+\n",
            "\n"
          ],
          "name": "stdout"
        }
      ]
    },
    {
      "cell_type": "code",
      "metadata": {
        "id": "j9i48Ekhtjq8"
      },
      "source": [
        "log_reg=LogisticRegression(labelCol='Status').fit(training_df)"
      ],
      "execution_count": 86,
      "outputs": []
    },
    {
      "cell_type": "code",
      "metadata": {
        "id": "vwiFAhr_tkke"
      },
      "source": [
        "train_results=log_reg.evaluate(training_df).predictions"
      ],
      "execution_count": 87,
      "outputs": []
    },
    {
      "cell_type": "code",
      "metadata": {
        "colab": {
          "base_uri": "https://localhost:8080/"
        },
        "id": "dK869aBPtnDE",
        "outputId": "9cd1d5b7-dfbb-42c9-846c-9642b112c147"
      },
      "source": [
        "train_results.filter(train_results['Status']==1).filter(train_results['prediction']==1).select(['Status','prediction','probability']).show(10,False)"
      ],
      "execution_count": 88,
      "outputs": [
        {
          "output_type": "stream",
          "text": [
            "+------+----------+---------------------------------------+\n",
            "|Status|prediction|probability                            |\n",
            "+------+----------+---------------------------------------+\n",
            "|1     |1.0       |[0.3089885897718463,0.6910114102281537]|\n",
            "|1     |1.0       |[0.3089885897718463,0.6910114102281537]|\n",
            "|1     |1.0       |[0.3089885897718463,0.6910114102281537]|\n",
            "|1     |1.0       |[0.3089885897718463,0.6910114102281537]|\n",
            "|1     |1.0       |[0.3089885897718463,0.6910114102281537]|\n",
            "|1     |1.0       |[0.3089885897718463,0.6910114102281537]|\n",
            "|1     |1.0       |[0.17554760322230198,0.824452396777698]|\n",
            "|1     |1.0       |[0.17554760322230198,0.824452396777698]|\n",
            "|1     |1.0       |[0.17554760322230198,0.824452396777698]|\n",
            "|1     |1.0       |[0.17554760322230198,0.824452396777698]|\n",
            "+------+----------+---------------------------------------+\n",
            "only showing top 10 rows\n",
            "\n"
          ],
          "name": "stdout"
        }
      ]
    },
    {
      "cell_type": "code",
      "metadata": {
        "id": "Zh39B35OtpwX"
      },
      "source": [
        "correct_preds=train_results.filter(train_results['Status']==1).filter(train_results['prediction']==1).count()"
      ],
      "execution_count": 89,
      "outputs": []
    },
    {
      "cell_type": "code",
      "metadata": {
        "colab": {
          "base_uri": "https://localhost:8080/"
        },
        "id": "-n2Dw3T3trvN",
        "outputId": "7d4ae3ce-5c79-46f9-de14-4f0b9d609655"
      },
      "source": [
        "training_df.filter(training_df['Status']==1).count()"
      ],
      "execution_count": 90,
      "outputs": [
        {
          "output_type": "execute_result",
          "data": {
            "text/plain": [
              "7457"
            ]
          },
          "metadata": {
            "tags": []
          },
          "execution_count": 90
        }
      ]
    },
    {
      "cell_type": "code",
      "metadata": {
        "colab": {
          "base_uri": "https://localhost:8080/"
        },
        "id": "Sx8NbEXCtuCc",
        "outputId": "b3c91fe3-86dc-4da7-ab0b-f92837078e77"
      },
      "source": [
        "float(correct_preds)/(training_df.filter(training_df['Status']==1).count())"
      ],
      "execution_count": 91,
      "outputs": [
        {
          "output_type": "execute_result",
          "data": {
            "text/plain": [
              "0.9371060748290198"
            ]
          },
          "metadata": {
            "tags": []
          },
          "execution_count": 91
        }
      ]
    },
    {
      "cell_type": "code",
      "metadata": {
        "id": "iq-MzyLOtvTf"
      },
      "source": [
        "results=log_reg.evaluate(test_df).predictions"
      ],
      "execution_count": 92,
      "outputs": []
    },
    {
      "cell_type": "code",
      "metadata": {
        "colab": {
          "base_uri": "https://localhost:8080/"
        },
        "id": "AJHMNwWGtwN6",
        "outputId": "f27fc20b-9b83-43bf-f9a0-46c515b29355"
      },
      "source": [
        "results.select(['Status','prediction']).show(10,False)"
      ],
      "execution_count": 93,
      "outputs": [
        {
          "output_type": "stream",
          "text": [
            "+------+----------+\n",
            "|Status|prediction|\n",
            "+------+----------+\n",
            "|0     |0.0       |\n",
            "|0     |0.0       |\n",
            "|0     |0.0       |\n",
            "|0     |0.0       |\n",
            "|0     |0.0       |\n",
            "|0     |0.0       |\n",
            "|0     |0.0       |\n",
            "|0     |0.0       |\n",
            "|0     |0.0       |\n",
            "|0     |0.0       |\n",
            "+------+----------+\n",
            "only showing top 10 rows\n",
            "\n"
          ],
          "name": "stdout"
        }
      ]
    },
    {
      "cell_type": "code",
      "metadata": {
        "id": "Dp-M5ykbtzPL"
      },
      "source": [
        "from pyspark.ml.evaluation import BinaryClassificationEvaluator"
      ],
      "execution_count": 94,
      "outputs": []
    },
    {
      "cell_type": "code",
      "metadata": {
        "id": "BcaiXbsQt1YJ"
      },
      "source": [
        "true_postives = results[(results.Status == 1) & (results.prediction == 1)].count()\r\n",
        "true_negatives = results[(results.Status == 0) & (results.prediction == 0)].count()\r\n",
        "false_positives = results[(results.Status == 0) & (results.prediction == 1)].count()\r\n",
        "false_negatives = results[(results.Status == 1) & (results.prediction == 0)].count()"
      ],
      "execution_count": 95,
      "outputs": []
    },
    {
      "cell_type": "code",
      "metadata": {
        "colab": {
          "base_uri": "https://localhost:8080/"
        },
        "id": "Nq4pRO52t22J",
        "outputId": "d44b2354-f5d4-4754-fb5e-a20fd5ee79e1"
      },
      "source": [
        "print (true_postives)\r\n",
        "print (true_negatives)\r\n",
        "print (false_positives)\r\n",
        "print (false_negatives)\r\n",
        "print(true_postives+true_negatives+false_positives+false_negatives)\r\n",
        "print (results.count())"
      ],
      "execution_count": 96,
      "outputs": [
        {
          "output_type": "stream",
          "text": [
            "2397\n",
            "2403\n",
            "163\n",
            "146\n",
            "5109\n",
            "5109\n"
          ],
          "name": "stdout"
        }
      ]
    },
    {
      "cell_type": "code",
      "metadata": {
        "colab": {
          "base_uri": "https://localhost:8080/"
        },
        "id": "fSSbFItKt4Sg",
        "outputId": "1c255386-854e-44d3-aff3-85976cf0b8bc"
      },
      "source": [
        "recall = float(true_postives)/(true_postives + false_negatives)\r\n",
        "print(recall)"
      ],
      "execution_count": 97,
      "outputs": [
        {
          "output_type": "stream",
          "text": [
            "0.9425874950845458\n"
          ],
          "name": "stdout"
        }
      ]
    },
    {
      "cell_type": "code",
      "metadata": {
        "colab": {
          "base_uri": "https://localhost:8080/"
        },
        "id": "O-0OlmrSt5Tm",
        "outputId": "cf2cd126-dc9e-40d4-d7aa-0a492bb73735"
      },
      "source": [
        "recall = float(true_postives)/(true_postives + false_negatives)\r\n",
        "print(recall)"
      ],
      "execution_count": 98,
      "outputs": [
        {
          "output_type": "stream",
          "text": [
            "0.9425874950845458\n"
          ],
          "name": "stdout"
        }
      ]
    },
    {
      "cell_type": "code",
      "metadata": {
        "colab": {
          "base_uri": "https://localhost:8080/"
        },
        "id": "Ym7mSCKxt6oX",
        "outputId": "0c5c4a37-c1e0-4b27-b3a6-4da961be19d0"
      },
      "source": [
        "accuracy=float((true_postives+true_negatives) /(results.count()))\r\n",
        "print(accuracy)"
      ],
      "execution_count": 99,
      "outputs": [
        {
          "output_type": "stream",
          "text": [
            "0.9395184967704052\n"
          ],
          "name": "stdout"
        }
      ]
    },
    {
      "cell_type": "code",
      "metadata": {
        "id": "KKVci0G5t7UQ"
      },
      "source": [
        ""
      ],
      "execution_count": null,
      "outputs": []
    }
  ]
}