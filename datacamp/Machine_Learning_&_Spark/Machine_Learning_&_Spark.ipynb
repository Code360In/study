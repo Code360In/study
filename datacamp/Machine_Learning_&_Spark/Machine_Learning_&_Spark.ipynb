{
  "nbformat": 4,
  "nbformat_minor": 0,
  "metadata": {
    "colab": {
      "name": "Machine Learning & Spark.ipynb",
      "provenance": []
    },
    "kernelspec": {
      "name": "python3",
      "display_name": "Python 3"
    },
    "language_info": {
      "name": "python"
    }
  },
  "cells": [
    {
      "cell_type": "markdown",
      "metadata": {
        "id": "l15JBm_fZHv8"
      },
      "source": [
        "#CH1 - Introduction"
      ]
    },
    {
      "cell_type": "code",
      "metadata": {
        "colab": {
          "base_uri": "https://localhost:8080/"
        },
        "id": "oQKc1MAqZWDc",
        "outputId": "3738e6bb-9e0b-45e1-cf40-ffe327af78c1"
      },
      "source": [
        "!pip install pyspark"
      ],
      "execution_count": 1,
      "outputs": [
        {
          "output_type": "stream",
          "text": [
            "Collecting pyspark\n",
            "\u001b[?25l  Downloading https://files.pythonhosted.org/packages/45/b0/9d6860891ab14a39d4bddf80ba26ce51c2f9dc4805e5c6978ac0472c120a/pyspark-3.1.1.tar.gz (212.3MB)\n",
            "\u001b[K     |████████████████████████████████| 212.3MB 69kB/s \n",
            "\u001b[?25hCollecting py4j==0.10.9\n",
            "\u001b[?25l  Downloading https://files.pythonhosted.org/packages/9e/b6/6a4fb90cd235dc8e265a6a2067f2a2c99f0d91787f06aca4bcf7c23f3f80/py4j-0.10.9-py2.py3-none-any.whl (198kB)\n",
            "\u001b[K     |████████████████████████████████| 204kB 19.7MB/s \n",
            "\u001b[?25hBuilding wheels for collected packages: pyspark\n",
            "  Building wheel for pyspark (setup.py) ... \u001b[?25l\u001b[?25hdone\n",
            "  Created wheel for pyspark: filename=pyspark-3.1.1-py2.py3-none-any.whl size=212767604 sha256=de7895294b269c13ecf289a80390b2eeeccb760d3d86887d12369761ab5a764b\n",
            "  Stored in directory: /root/.cache/pip/wheels/0b/90/c0/01de724414ef122bd05f056541fb6a0ecf47c7ca655f8b3c0f\n",
            "Successfully built pyspark\n",
            "Installing collected packages: py4j, pyspark\n",
            "Successfully installed py4j-0.10.9 pyspark-3.1.1\n"
          ],
          "name": "stdout"
        }
      ]
    },
    {
      "cell_type": "code",
      "metadata": {
        "colab": {
          "base_uri": "https://localhost:8080/"
        },
        "id": "hwqpYjTmYmgK",
        "outputId": "2e47c2bb-5363-4382-fd33-64422a1ddf48"
      },
      "source": [
        "from pyspark.sql import SparkSession\n",
        "\n",
        "spark = SparkSession.builder \\\n",
        "                    .master('local[*]') \\\n",
        "                    .appName('test') \\\n",
        "                    .getOrCreate()\n",
        "print(spark.version)\n",
        "spark.stop()"
      ],
      "execution_count": 2,
      "outputs": [
        {
          "output_type": "stream",
          "text": [
            "3.1.1\n"
          ],
          "name": "stdout"
        }
      ]
    },
    {
      "cell_type": "code",
      "metadata": {
        "id": "cxrYqrakaP_r"
      },
      "source": [
        "from pyspark.context import SparkContext\n",
        "from pyspark.sql.session import SparkSession\n",
        "sc = SparkContext.getOrCreate()\n",
        "spark = SparkSession(sc)"
      ],
      "execution_count": 3,
      "outputs": []
    },
    {
      "cell_type": "code",
      "metadata": {
        "colab": {
          "base_uri": "https://localhost:8080/"
        },
        "id": "cN1LGPdtaRvl",
        "outputId": "830c82ce-6aa8-4395-9c90-02f71390d838"
      },
      "source": [
        "my_spark = SparkSession.builder.getOrCreate()\n",
        "print(my_spark)"
      ],
      "execution_count": 4,
      "outputs": [
        {
          "output_type": "stream",
          "text": [
            "<pyspark.sql.session.SparkSession object at 0x7f77986148d0>\n"
          ],
          "name": "stdout"
        }
      ]
    },
    {
      "cell_type": "code",
      "metadata": {
        "id": "6A4p8OjOZUuQ"
      },
      "source": [
        "flights = spark.read.csv('/content/flights.csv',\n",
        "                         sep=',',\n",
        "                         header=True,\n",
        "                         inferSchema=True,\n",
        "                         nullValue='NA')"
      ],
      "execution_count": 5,
      "outputs": []
    },
    {
      "cell_type": "code",
      "metadata": {
        "colab": {
          "base_uri": "https://localhost:8080/"
        },
        "id": "Ja8OlcV3Zt_3",
        "outputId": "9e305f7e-7b35-43a9-8e80-bb83e149b42b"
      },
      "source": [
        "print(\"The data contain %d records.\" % flights.count())"
      ],
      "execution_count": 6,
      "outputs": [
        {
          "output_type": "stream",
          "text": [
            "The data contain 50000 records.\n"
          ],
          "name": "stdout"
        }
      ]
    },
    {
      "cell_type": "code",
      "metadata": {
        "colab": {
          "base_uri": "https://localhost:8080/"
        },
        "id": "f4Hu7Fh6aeQL",
        "outputId": "8e5981ef-2d78-41a3-99c8-02c2a20eec66"
      },
      "source": [
        "flights.show(5)"
      ],
      "execution_count": 7,
      "outputs": [
        {
          "output_type": "stream",
          "text": [
            "+---+---+---+-------+------+---+----+------+--------+-----+\n",
            "|mon|dom|dow|carrier|flight|org|mile|depart|duration|delay|\n",
            "+---+---+---+-------+------+---+----+------+--------+-----+\n",
            "| 11| 20|  6|     US|    19|JFK|2153|  9.48|     351| null|\n",
            "|  0| 22|  2|     UA|  1107|ORD| 316| 16.33|      82|   30|\n",
            "|  2| 20|  4|     UA|   226|SFO| 337|  6.17|      82|   -8|\n",
            "|  9| 13|  1|     AA|   419|ORD|1236| 10.33|     195|   -5|\n",
            "|  4|  2|  5|     AA|   325|ORD| 258|  8.92|      65| null|\n",
            "+---+---+---+-------+------+---+----+------+--------+-----+\n",
            "only showing top 5 rows\n",
            "\n"
          ],
          "name": "stdout"
        }
      ]
    },
    {
      "cell_type": "code",
      "metadata": {
        "colab": {
          "base_uri": "https://localhost:8080/"
        },
        "id": "PyJ17blxafxz",
        "outputId": "0caa375b-0be4-48af-9d34-ece6091e5ff5"
      },
      "source": [
        "flights.dtypes"
      ],
      "execution_count": 8,
      "outputs": [
        {
          "output_type": "execute_result",
          "data": {
            "text/plain": [
              "[('mon', 'int'),\n",
              " ('dom', 'int'),\n",
              " ('dow', 'int'),\n",
              " ('carrier', 'string'),\n",
              " ('flight', 'int'),\n",
              " ('org', 'string'),\n",
              " ('mile', 'int'),\n",
              " ('depart', 'double'),\n",
              " ('duration', 'int'),\n",
              " ('delay', 'int')]"
            ]
          },
          "metadata": {
            "tags": []
          },
          "execution_count": 8
        }
      ]
    },
    {
      "cell_type": "code",
      "metadata": {
        "colab": {
          "base_uri": "https://localhost:8080/"
        },
        "id": "mND9MkX3ah6C",
        "outputId": "80e77e4c-e82a-4f74-96e8-de8ce0dbcef7"
      },
      "source": [
        "from pyspark.sql.types import StructType, StructField, IntegerType, StringType\n",
        "schema = StructType([\n",
        "    StructField(\"id\", IntegerType()),\n",
        "    StructField(\"text\", StringType()),\n",
        "    StructField(\"label\", IntegerType())\n",
        "])\n",
        "sms = spark.read.csv(\"/content/sms.csv\", sep=';', header=False, schema=schema)\n",
        "sms.printSchema()"
      ],
      "execution_count": 9,
      "outputs": [
        {
          "output_type": "stream",
          "text": [
            "root\n",
            " |-- id: integer (nullable = true)\n",
            " |-- text: string (nullable = true)\n",
            " |-- label: integer (nullable = true)\n",
            "\n"
          ],
          "name": "stdout"
        }
      ]
    },
    {
      "cell_type": "markdown",
      "metadata": {
        "id": "0VUT8JRk47CB"
      },
      "source": [
        "#CH2 - Classification"
      ]
    },
    {
      "cell_type": "code",
      "metadata": {
        "colab": {
          "base_uri": "https://localhost:8080/"
        },
        "id": "--L6PBf84-6b",
        "outputId": "30cbf722-ec87-40c2-d7a1-51a397c69649"
      },
      "source": [
        "flights.show(5)"
      ],
      "execution_count": 10,
      "outputs": [
        {
          "output_type": "stream",
          "text": [
            "+---+---+---+-------+------+---+----+------+--------+-----+\n",
            "|mon|dom|dow|carrier|flight|org|mile|depart|duration|delay|\n",
            "+---+---+---+-------+------+---+----+------+--------+-----+\n",
            "| 11| 20|  6|     US|    19|JFK|2153|  9.48|     351| null|\n",
            "|  0| 22|  2|     UA|  1107|ORD| 316| 16.33|      82|   30|\n",
            "|  2| 20|  4|     UA|   226|SFO| 337|  6.17|      82|   -8|\n",
            "|  9| 13|  1|     AA|   419|ORD|1236| 10.33|     195|   -5|\n",
            "|  4|  2|  5|     AA|   325|ORD| 258|  8.92|      65| null|\n",
            "+---+---+---+-------+------+---+----+------+--------+-----+\n",
            "only showing top 5 rows\n",
            "\n"
          ],
          "name": "stdout"
        }
      ]
    },
    {
      "cell_type": "code",
      "metadata": {
        "id": "aV9R0_kMaroY"
      },
      "source": [
        "flights = flights.drop('flight')"
      ],
      "execution_count": 11,
      "outputs": []
    },
    {
      "cell_type": "code",
      "metadata": {
        "colab": {
          "base_uri": "https://localhost:8080/"
        },
        "id": "ROdkiy_S5BG4",
        "outputId": "34bbbec5-e6e0-441d-aec8-be3f9144725b"
      },
      "source": [
        "flights.filter('delay IS NULL').count()"
      ],
      "execution_count": 12,
      "outputs": [
        {
          "output_type": "execute_result",
          "data": {
            "text/plain": [
              "2978"
            ]
          },
          "metadata": {
            "tags": []
          },
          "execution_count": 12
        }
      ]
    },
    {
      "cell_type": "code",
      "metadata": {
        "id": "iadlE7Im5Ct0"
      },
      "source": [
        "flights = flights.filter('delay IS NOT NULL')"
      ],
      "execution_count": 13,
      "outputs": []
    },
    {
      "cell_type": "code",
      "metadata": {
        "colab": {
          "base_uri": "https://localhost:8080/"
        },
        "id": "vTyctgNV5EBx",
        "outputId": "ba29e055-a920-4463-8516-4d59936739ee"
      },
      "source": [
        "flights = flights.dropna()\n",
        "print(flights.count())"
      ],
      "execution_count": 14,
      "outputs": [
        {
          "output_type": "stream",
          "text": [
            "47022\n"
          ],
          "name": "stdout"
        }
      ]
    },
    {
      "cell_type": "code",
      "metadata": {
        "id": "u74sLu555FmV"
      },
      "source": [
        "from pyspark.sql.functions import round\n",
        "flights_km = flights.withColumn('km', round(flights.mile * 1.60934, 0)) \\\n",
        "                    .drop('mile')"
      ],
      "execution_count": 15,
      "outputs": []
    },
    {
      "cell_type": "code",
      "metadata": {
        "id": "auiq2Mck5LB4"
      },
      "source": [
        "flights_km = flights_km.withColumn('label', (flights_km.delay >= 15).cast('integer'))"
      ],
      "execution_count": 16,
      "outputs": []
    },
    {
      "cell_type": "code",
      "metadata": {
        "colab": {
          "base_uri": "https://localhost:8080/"
        },
        "id": "C-MdYOzg5MbH",
        "outputId": "8a54e00e-f1bd-471d-eedd-207711a5348b"
      },
      "source": [
        "flights_km.show(5)"
      ],
      "execution_count": 17,
      "outputs": [
        {
          "output_type": "stream",
          "text": [
            "+---+---+---+-------+---+------+--------+-----+------+-----+\n",
            "|mon|dom|dow|carrier|org|depart|duration|delay|    km|label|\n",
            "+---+---+---+-------+---+------+--------+-----+------+-----+\n",
            "|  0| 22|  2|     UA|ORD| 16.33|      82|   30| 509.0|    1|\n",
            "|  2| 20|  4|     UA|SFO|  6.17|      82|   -8| 542.0|    0|\n",
            "|  9| 13|  1|     AA|ORD| 10.33|     195|   -5|1989.0|    0|\n",
            "|  5|  2|  1|     UA|SFO|  7.98|     102|    2| 885.0|    0|\n",
            "|  7|  2|  6|     AA|ORD| 10.83|     135|   54|1180.0|    1|\n",
            "+---+---+---+-------+---+------+--------+-----+------+-----+\n",
            "only showing top 5 rows\n",
            "\n"
          ],
          "name": "stdout"
        }
      ]
    },
    {
      "cell_type": "code",
      "metadata": {
        "id": "-d1nH1635NjH"
      },
      "source": [
        "from pyspark.ml.feature import StringIndexer\n",
        "indexer = StringIndexer(inputCol='carrier', outputCol='carrier_idx')\n",
        "indexer_model = indexer.fit(flights_km)\n",
        "flights_indexed = indexer_model.transform(flights_km)\n",
        "flights_indexed = StringIndexer(inputCol='org', outputCol='org_idx').fit(flights_indexed).transform(flights_indexed)"
      ],
      "execution_count": 57,
      "outputs": []
    },
    {
      "cell_type": "code",
      "metadata": {
        "id": "--I22qh55anv"
      },
      "source": [
        "from pyspark.ml.feature import VectorAssembler\n",
        "assembler = VectorAssembler(inputCols=[\n",
        "    'mon', 'dom', 'dow', 'depart', 'duration'\n",
        "], outputCol='features')"
      ],
      "execution_count": 42,
      "outputs": []
    },
    {
      "cell_type": "code",
      "metadata": {
        "colab": {
          "base_uri": "https://localhost:8080/"
        },
        "id": "ySBg8iC59dh_",
        "outputId": "5b9c97ee-f916-4382-f8bd-a68d64990b68"
      },
      "source": [
        "assembler = VectorAssembler(inputCols=[\n",
        "    'mon', 'dom', 'dow', 'carrier_idx', 'org_idx', 'km', 'depart', 'duration'\n",
        "], outputCol='features')\n",
        "flights_assembled = assembler.transform(flights_indexed)\n",
        "flights_assembled.select('features', 'delay').show(5, truncate=False)"
      ],
      "execution_count": 58,
      "outputs": [
        {
          "output_type": "stream",
          "text": [
            "+-----------------------------------------+-----+\n",
            "|features                                 |delay|\n",
            "+-----------------------------------------+-----+\n",
            "|[0.0,22.0,2.0,0.0,0.0,509.0,16.33,82.0]  |30   |\n",
            "|[2.0,20.0,4.0,0.0,1.0,542.0,6.17,82.0]   |-8   |\n",
            "|[9.0,13.0,1.0,1.0,0.0,1989.0,10.33,195.0]|-5   |\n",
            "|[5.0,2.0,1.0,0.0,1.0,885.0,7.98,102.0]   |2    |\n",
            "|[7.0,2.0,6.0,1.0,0.0,1180.0,10.83,135.0] |54   |\n",
            "+-----------------------------------------+-----+\n",
            "only showing top 5 rows\n",
            "\n"
          ],
          "name": "stdout"
        }
      ]
    },
    {
      "cell_type": "code",
      "metadata": {
        "colab": {
          "base_uri": "https://localhost:8080/"
        },
        "id": "1RiQyc4H9-LP",
        "outputId": "4a9a8172-7836-4c15-fe99-69709820165b"
      },
      "source": [
        "flights_train, flights_test = flights_assembled.randomSplit([0.8, 0.2], seed=17)\n",
        "training_ratio = flights_train.count() / flights.count()\n",
        "print(training_ratio)"
      ],
      "execution_count": 59,
      "outputs": [
        {
          "output_type": "stream",
          "text": [
            "0.796967376972481\n"
          ],
          "name": "stdout"
        }
      ]
    },
    {
      "cell_type": "code",
      "metadata": {
        "id": "2mOOxzff-FKS"
      },
      "source": [
        "from pyspark.ml.classification import DecisionTreeClassifier\n",
        "\n",
        "# Create a classifier object and fit to the training data\n",
        "tree = DecisionTreeClassifier()\n",
        "tree_model = tree.fit(flights_train)"
      ],
      "execution_count": 60,
      "outputs": []
    },
    {
      "cell_type": "code",
      "metadata": {
        "colab": {
          "base_uri": "https://localhost:8080/"
        },
        "id": "7dqbSR61-HBD",
        "outputId": "c6301729-a36f-4757-af31-efc2065579ea"
      },
      "source": [
        "prediction = tree_model.transform(flights_test)\n",
        "prediction.select('label', 'prediction', 'probability').show(5, False)"
      ],
      "execution_count": 61,
      "outputs": [
        {
          "output_type": "stream",
          "text": [
            "+-----+----------+----------------------------------------+\n",
            "|label|prediction|probability                             |\n",
            "+-----+----------+----------------------------------------+\n",
            "|1    |0.0       |[0.5316561844863732,0.46834381551362686]|\n",
            "|0    |1.0       |[0.3535976324064369,0.6464023675935631] |\n",
            "|0    |1.0       |[0.4965986394557823,0.5034013605442177] |\n",
            "|1    |1.0       |[0.3535976324064369,0.6464023675935631] |\n",
            "|1    |1.0       |[0.3535976324064369,0.6464023675935631] |\n",
            "+-----+----------+----------------------------------------+\n",
            "only showing top 5 rows\n",
            "\n"
          ],
          "name": "stdout"
        }
      ]
    },
    {
      "cell_type": "code",
      "metadata": {
        "colab": {
          "base_uri": "https://localhost:8080/"
        },
        "id": "i_dejspF-r8O",
        "outputId": "ea6af1e8-02c1-4ff2-a2c6-480433be282b"
      },
      "source": [
        "prediction.groupBy('label', 'prediction').count().show()\n",
        "TN = prediction.filter('prediction = 0 AND label = prediction').count()\n",
        "TP = prediction.filter('prediction = 1 AND label = prediction').count()\n",
        "FN = prediction.filter('prediction = 0 AND label != prediction').count()\n",
        "FP = prediction.filter('prediction = 1 AND label != prediction').count()\n",
        "\n",
        "accuracy = (TN + TP) / (TN + TP + FN + FP)\n",
        "print(accuracy)"
      ],
      "execution_count": 62,
      "outputs": [
        {
          "output_type": "stream",
          "text": [
            "+-----+----------+-----+\n",
            "|label|prediction|count|\n",
            "+-----+----------+-----+\n",
            "|    1|       0.0| 1688|\n",
            "|    0|       0.0| 2769|\n",
            "|    1|       1.0| 3222|\n",
            "|    0|       1.0| 1868|\n",
            "+-----+----------+-----+\n",
            "\n",
            "0.6275269718236095\n"
          ],
          "name": "stdout"
        }
      ]
    },
    {
      "cell_type": "code",
      "metadata": {
        "colab": {
          "base_uri": "https://localhost:8080/"
        },
        "id": "2pVSNecn-1DS",
        "outputId": "14cc7946-3012-46a6-b9cc-502334f26781"
      },
      "source": [
        "from pyspark.ml.classification import LogisticRegression\n",
        "\n",
        "logistic = LogisticRegression().fit(flights_train)\n",
        "prediction = logistic.transform(flights_test)\n",
        "prediction.groupBy('label', 'prediction').count().show()"
      ],
      "execution_count": 63,
      "outputs": [
        {
          "output_type": "stream",
          "text": [
            "+-----+----------+-----+\n",
            "|label|prediction|count|\n",
            "+-----+----------+-----+\n",
            "|    1|       0.0| 1671|\n",
            "|    0|       0.0| 2522|\n",
            "|    1|       1.0| 3239|\n",
            "|    0|       1.0| 2115|\n",
            "+-----+----------+-----+\n",
            "\n"
          ],
          "name": "stdout"
        }
      ]
    },
    {
      "cell_type": "code",
      "metadata": {
        "colab": {
          "base_uri": "https://localhost:8080/"
        },
        "id": "SRdvbaLL-6JJ",
        "outputId": "7499212f-7cfa-40ad-c384-f60e616251d5"
      },
      "source": [
        "from pyspark.ml.evaluation import MulticlassClassificationEvaluator, BinaryClassificationEvaluator\n",
        "\n",
        "precision = TP / (TP + FP)\n",
        "recall = TP / (TP + FN)\n",
        "print('precision = {:.2f}\\nrecall    = {:.2f}'.format(precision, recall))\n",
        "\n",
        "multi_evaluator = MulticlassClassificationEvaluator()\n",
        "weighted_precision = multi_evaluator.evaluate(prediction, {multi_evaluator.metricName: \"weightedPrecision\"})\n",
        "\n",
        "binary_evaluator = BinaryClassificationEvaluator()\n",
        "auc = binary_evaluator.evaluate(prediction, {binary_evaluator.metricName: \"areaUnderROC\"})"
      ],
      "execution_count": 64,
      "outputs": [
        {
          "output_type": "stream",
          "text": [
            "precision = 0.63\n",
            "recall    = 0.66\n"
          ],
          "name": "stdout"
        }
      ]
    },
    {
      "cell_type": "markdown",
      "metadata": {
        "id": "ZboMu2r5_QT_"
      },
      "source": [
        "# CH3 - Regression"
      ]
    },
    {
      "cell_type": "code",
      "metadata": {
        "colab": {
          "base_uri": "https://localhost:8080/"
        },
        "id": "2UFkaGyc_5rF",
        "outputId": "3820ffde-2377-4c67-bc24-3a9d67c2e607"
      },
      "source": [
        "flights_assembled.show(5)"
      ],
      "execution_count": 74,
      "outputs": [
        {
          "output_type": "stream",
          "text": [
            "+---+---+---+-------+---+------+--------+-----+------+-----+-----------+-------+--------------------+\n",
            "|mon|dom|dow|carrier|org|depart|duration|delay|    km|label|carrier_idx|org_idx|            features|\n",
            "+---+---+---+-------+---+------+--------+-----+------+-----+-----------+-------+--------------------+\n",
            "|  0| 22|  2|     UA|ORD| 16.33|      82|   30| 509.0|    1|        0.0|    0.0|[0.0,22.0,2.0,0.0...|\n",
            "|  2| 20|  4|     UA|SFO|  6.17|      82|   -8| 542.0|    0|        0.0|    1.0|[2.0,20.0,4.0,0.0...|\n",
            "|  9| 13|  1|     AA|ORD| 10.33|     195|   -5|1989.0|    0|        1.0|    0.0|[9.0,13.0,1.0,1.0...|\n",
            "|  5|  2|  1|     UA|SFO|  7.98|     102|    2| 885.0|    0|        0.0|    1.0|[5.0,2.0,1.0,0.0,...|\n",
            "|  7|  2|  6|     AA|ORD| 10.83|     135|   54|1180.0|    1|        1.0|    0.0|[7.0,2.0,6.0,1.0,...|\n",
            "+---+---+---+-------+---+------+--------+-----+------+-----+-----------+-------+--------------------+\n",
            "only showing top 5 rows\n",
            "\n"
          ],
          "name": "stdout"
        }
      ]
    },
    {
      "cell_type": "code",
      "metadata": {
        "colab": {
          "base_uri": "https://localhost:8080/"
        },
        "id": "O0OmGTTO_Cis",
        "outputId": "75fc044b-336f-43e4-c622-923301b67336"
      },
      "source": [
        "from pyspark.ml.feature import OneHotEncoder\n",
        "\n",
        "onehot = OneHotEncoder(inputCols=['org_idx'], outputCols=['org_dummy'])\n",
        "onehot = onehot.fit(flights_assembled)\n",
        "flights_onehot = onehot.transform(flights_assembled)\n",
        "\n",
        "flights_onehot.select('org', 'org_idx', 'org_dummy').distinct().sort('org_idx').show()"
      ],
      "execution_count": 75,
      "outputs": [
        {
          "output_type": "stream",
          "text": [
            "+---+-------+-------------+\n",
            "|org|org_idx|    org_dummy|\n",
            "+---+-------+-------------+\n",
            "|ORD|    0.0|(7,[0],[1.0])|\n",
            "|SFO|    1.0|(7,[1],[1.0])|\n",
            "|JFK|    2.0|(7,[2],[1.0])|\n",
            "|LGA|    3.0|(7,[3],[1.0])|\n",
            "|SMF|    4.0|(7,[4],[1.0])|\n",
            "|SJC|    5.0|(7,[5],[1.0])|\n",
            "|TUS|    6.0|(7,[6],[1.0])|\n",
            "|OGG|    7.0|    (7,[],[])|\n",
            "+---+-------+-------------+\n",
            "\n"
          ],
          "name": "stdout"
        }
      ]
    },
    {
      "cell_type": "code",
      "metadata": {
        "id": "t4x6PLE1_ZC8"
      },
      "source": [
        "from pyspark.ml.regression import LinearRegression\n",
        "from pyspark.ml.evaluation import RegressionEvaluator\n",
        "\n",
        "regression = LinearRegression(labelCol='duration').fit(flights_train)"
      ],
      "execution_count": 76,
      "outputs": []
    },
    {
      "cell_type": "code",
      "metadata": {
        "colab": {
          "base_uri": "https://localhost:8080/"
        },
        "id": "9cRG1zLtAOKi",
        "outputId": "662b33ae-8976-4e1b-a786-f8d071a2dfb0"
      },
      "source": [
        "predictions = regression.transform(flights_test)\n",
        "predictions.select('duration', 'prediction').show(5, False)\n",
        "RegressionEvaluator(labelCol='duration').evaluate(predictions)"
      ],
      "execution_count": 77,
      "outputs": [
        {
          "output_type": "stream",
          "text": [
            "+--------+------------------+\n",
            "|duration|prediction        |\n",
            "+--------+------------------+\n",
            "|230     |229.99999999999997|\n",
            "|170     |170.00000000000057|\n",
            "|120     |119.99999999999984|\n",
            "|135     |135.00000000000003|\n",
            "|70      |69.99999999999994 |\n",
            "+--------+------------------+\n",
            "only showing top 5 rows\n",
            "\n"
          ],
          "name": "stdout"
        },
        {
          "output_type": "execute_result",
          "data": {
            "text/plain": [
              "2.0996173558454693e-13"
            ]
          },
          "metadata": {
            "tags": []
          },
          "execution_count": 77
        }
      ]
    },
    {
      "cell_type": "code",
      "metadata": {
        "colab": {
          "base_uri": "https://localhost:8080/"
        },
        "id": "U772_qExAWqH",
        "outputId": "f67dd285-39f3-4d3a-8027-e3c98a4e5e99"
      },
      "source": [
        "inter = regression.intercept\n",
        "print(inter)\n",
        "\n",
        "coefs = regression.coefficients\n",
        "print(coefs)\n",
        "\n",
        "minutes_per_km = regression.coefficients[0]\n",
        "print(minutes_per_km)\n",
        "\n",
        "avg_speed = 60 / minutes_per_km\n",
        "print(avg_speed)"
      ],
      "execution_count": 79,
      "outputs": [
        {
          "output_type": "stream",
          "text": [
            "-5.058088283278139e-13\n",
            "[-2.6033168963891943e-15,-4.558427378989009e-16,7.147343244424583e-16,-2.9101128620086723e-14,2.6398678832414195e-14,-9.921685438149023e-16,-2.3119359913401514e-15,1.000000000000013]\n",
            "-2.6033168963891943e-15\n",
            "-2.3047520677647856e+16\n"
          ],
          "name": "stdout"
        }
      ]
    },
    {
      "cell_type": "code",
      "metadata": {
        "colab": {
          "base_uri": "https://localhost:8080/"
        },
        "id": "YNZ2tPQaAaia",
        "outputId": "41d410bb-a7f8-465b-bed0-98a196da6049"
      },
      "source": [
        "avg_speed_hour = 60 / regression.coefficients[0]\n",
        "print(avg_speed_hour)\n",
        "\n",
        "inter = regression.intercept\n",
        "print(inter)\n",
        "\n",
        "avg_ground_jfk = inter + regression.coefficients[3]\n",
        "print(avg_ground_jfk)\n",
        "\n",
        "avg_ground_lga = inter + regression.coefficients[4]\n",
        "print(avg_ground_lga)"
      ],
      "execution_count": 80,
      "outputs": [
        {
          "output_type": "stream",
          "text": [
            "-2.3047520677647856e+16\n",
            "-5.058088283278139e-13\n",
            "-5.349099569479007e-13\n",
            "-4.794101494953997e-13\n"
          ],
          "name": "stdout"
        }
      ]
    },
    {
      "cell_type": "code",
      "metadata": {
        "colab": {
          "base_uri": "https://localhost:8080/"
        },
        "id": "L_GikzIOArnL",
        "outputId": "ecda73ef-901f-4595-fec4-2b9062591589"
      },
      "source": [
        "from pyspark.ml.feature import Bucketizer, OneHotEncoder\n",
        "\n",
        "buckets = Bucketizer(splits=[0, 3, 6, 9, 12, 15, 18, 21, 24], inputCol='depart', outputCol='depart_bucket')\n",
        "bucketed = buckets.transform(flights)\n",
        "bucketed.select('depart', 'depart_bucket').show(5)\n",
        "\n",
        "onehot = OneHotEncoder(inputCols=['depart_bucket'], outputCols=['depart_dummy'])\n",
        "flights_onehot = onehot.fit(bucketed).transform(bucketed)\n",
        "flights_onehot.select('depart', 'depart_bucket', 'depart_dummy').show(5)"
      ],
      "execution_count": 82,
      "outputs": [
        {
          "output_type": "stream",
          "text": [
            "+------+-------------+\n",
            "|depart|depart_bucket|\n",
            "+------+-------------+\n",
            "| 16.33|          5.0|\n",
            "|  6.17|          2.0|\n",
            "| 10.33|          3.0|\n",
            "|  7.98|          2.0|\n",
            "| 10.83|          3.0|\n",
            "+------+-------------+\n",
            "only showing top 5 rows\n",
            "\n",
            "+------+-------------+-------------+\n",
            "|depart|depart_bucket| depart_dummy|\n",
            "+------+-------------+-------------+\n",
            "| 16.33|          5.0|(7,[5],[1.0])|\n",
            "|  6.17|          2.0|(7,[2],[1.0])|\n",
            "| 10.33|          3.0|(7,[3],[1.0])|\n",
            "|  7.98|          2.0|(7,[2],[1.0])|\n",
            "| 10.83|          3.0|(7,[3],[1.0])|\n",
            "+------+-------------+-------------+\n",
            "only showing top 5 rows\n",
            "\n"
          ],
          "name": "stdout"
        }
      ]
    },
    {
      "cell_type": "code",
      "metadata": {
        "colab": {
          "base_uri": "https://localhost:8080/"
        },
        "id": "TeECgDhhAy0r",
        "outputId": "4a48a0f1-ed29-46e4-c6d5-70d4c719831d"
      },
      "source": [
        "from pyspark.ml.evaluation import RegressionEvaluator\n",
        "RegressionEvaluator(labelCol='duration').evaluate(predictions)\n",
        "\n",
        "avg_eve_ogg = regression.intercept\n",
        "print(avg_eve_ogg)\n",
        "\n",
        "avg_night_ogg = regression.intercept + regression.coefficients[7]\n",
        "print(avg_night_ogg)\n",
        "\n",
        "avg_night_jfk = regression.intercept + regression.coefficients[7] + regression.coefficients[3]\n",
        "print(avg_night_jfk)"
      ],
      "execution_count": 85,
      "outputs": [
        {
          "output_type": "stream",
          "text": [
            "-5.058088283278139e-13\n",
            "0.9999999999995073\n",
            "0.9999999999994782\n"
          ],
          "name": "stdout"
        }
      ]
    },
    {
      "cell_type": "code",
      "metadata": {
        "colab": {
          "base_uri": "https://localhost:8080/"
        },
        "id": "RtXWDBUFA93c",
        "outputId": "38a5f37a-45c1-4181-dd74-8e232af4c57c"
      },
      "source": [
        "from pyspark.ml.regression import LinearRegression\n",
        "from pyspark.ml.evaluation import RegressionEvaluator\n",
        "\n",
        "regression = LinearRegression(labelCol='duration').fit(flights_train)\n",
        "predictions = regression.transform(flights_test)\n",
        "\n",
        "rmse = RegressionEvaluator(labelCol='duration').evaluate(predictions)\n",
        "print(\"The test RMSE is\", rmse)\n",
        "\n",
        "coeffs = regression.coefficients\n",
        "print(coeffs)"
      ],
      "execution_count": 88,
      "outputs": [
        {
          "output_type": "stream",
          "text": [
            "The test RMSE is 2.0996173558454693e-13\n",
            "[-2.6033168963891943e-15,-4.558427378989009e-16,7.147343244424583e-16,-2.9101128620086723e-14,2.6398678832414195e-14,-9.921685438149023e-16,-2.3119359913401514e-15,1.000000000000013]\n"
          ],
          "name": "stdout"
        }
      ]
    },
    {
      "cell_type": "code",
      "metadata": {
        "colab": {
          "base_uri": "https://localhost:8080/"
        },
        "id": "biYtVHH4BLIM",
        "outputId": "aede977e-bdca-448a-d7d3-079a7e9ef1d8"
      },
      "source": [
        "zero_coeff = sum([beta == 0 for beta in regression.coefficients])\n",
        "print(\"Number of ceofficients equal to 0:\", zero_coeff)"
      ],
      "execution_count": 90,
      "outputs": [
        {
          "output_type": "stream",
          "text": [
            "Number of ceofficients equal to 0: 7\n"
          ],
          "name": "stdout"
        }
      ]
    },
    {
      "cell_type": "markdown",
      "metadata": {
        "id": "3a47hEkyLhaz"
      },
      "source": [
        "# CH4 - Ensembles & Pipelines"
      ]
    },
    {
      "cell_type": "code",
      "metadata": {
        "id": "Vybt-j0kBVRy"
      },
      "source": [
        "indexer = StringIndexer(inputCol='org', outputCol='org_idx')\n",
        "onehot = OneHotEncoder(\n",
        "    inputCols=['org_idx', 'dow'],\n",
        "    outputCols=['org_dummy', 'dow_dummy']\n",
        ")\n",
        "assembler = VectorAssembler(inputCols=['km', 'org_dummy', 'dow_dummy'], outputCol='features')\n",
        "regression = LinearRegression(labelCol='duration')"
      ],
      "execution_count": 95,
      "outputs": []
    },
    {
      "cell_type": "code",
      "metadata": {
        "colab": {
          "base_uri": "https://localhost:8080/"
        },
        "id": "zBe8kCclL5wX",
        "outputId": "dcb7a8b3-cdd9-4a12-885c-fc77fd58bb34"
      },
      "source": [
        "flights_train.show(5)"
      ],
      "execution_count": 96,
      "outputs": [
        {
          "output_type": "stream",
          "text": [
            "+---+---+---+-------+---+------+--------+-----+------+-----+-----------+-------+--------------------+\n",
            "|mon|dom|dow|carrier|org|depart|duration|delay|    km|label|carrier_idx|org_idx|            features|\n",
            "+---+---+---+-------+---+------+--------+-----+------+-----+-----------+-------+--------------------+\n",
            "|  0|  1|  2|     AA|JFK|   7.0|     385|  -16|4162.0|    0|        1.0|    2.0|[0.0,1.0,2.0,1.0,...|\n",
            "|  0|  1|  2|     AA|JFK|  12.0|     370|   11|3983.0|    0|        1.0|    2.0|[0.0,1.0,2.0,1.0,...|\n",
            "|  0|  1|  2|     AA|JFK|  17.0|     379|  -10|3983.0|    0|        1.0|    2.0|[0.0,1.0,2.0,1.0,...|\n",
            "|  0|  1|  2|     AA|LGA|   6.5|     240|   40|2235.0|    1|        1.0|    3.0|[0.0,1.0,2.0,1.0,...|\n",
            "|  0|  1|  2|     AA|LGA|  8.25|     250|   27|2235.0|    1|        1.0|    3.0|[0.0,1.0,2.0,1.0,...|\n",
            "+---+---+---+-------+---+------+--------+-----+------+-----+-----------+-------+--------------------+\n",
            "only showing top 5 rows\n",
            "\n"
          ],
          "name": "stdout"
        }
      ]
    },
    {
      "cell_type": "code",
      "metadata": {
        "id": "SHblpy6ZLqDL"
      },
      "source": [
        "from pyspark.ml import Pipeline\n",
        "pipeline = Pipeline(stages=[indexer, onehot, assembler, regression])\n",
        "#pipeline = pipeline.fit(flights_train)\n",
        "#predictions = pipeline.transform(flights_test)"
      ],
      "execution_count": 100,
      "outputs": []
    },
    {
      "cell_type": "code",
      "metadata": {
        "id": "5M8DcRluLvtr"
      },
      "source": [
        "from pyspark.ml.feature import Tokenizer, StopWordsRemover, HashingTF, IDF\n",
        "tokenizer = Tokenizer(inputCol='text', outputCol='words')\n",
        "remover = StopWordsRemover(inputCol=tokenizer.getOutputCol(), outputCol='terms')\n",
        "hasher = HashingTF(inputCol=remover.getOutputCol(), outputCol=\"hash\")\n",
        "idf = IDF(inputCol=hasher.getOutputCol(), outputCol=\"features\")\n",
        "\n",
        "# Create a logistic regression object and add everything to a pipeline\n",
        "logistic = LogisticRegression()\n",
        "pipeline = Pipeline(stages=[tokenizer, remover, hasher, idf, logistic])"
      ],
      "execution_count": 98,
      "outputs": []
    },
    {
      "cell_type": "code",
      "metadata": {
        "id": "HMiEq8wGMHZq"
      },
      "source": [
        "from pyspark.ml.tuning import CrossValidator, ParamGridBuilder\n",
        "\n",
        "params = ParamGridBuilder().build()\n",
        "\n",
        "regression = LinearRegression(labelCol='duration')\n",
        "evaluator = RegressionEvaluator(labelCol='duration')\n",
        "\n",
        "cv = CrossValidator(estimator=regression, estimatorParamMaps=params, evaluator=evaluator, numFolds=5)\n",
        "\n",
        "cv = cv.fit(flights_train)"
      ],
      "execution_count": 102,
      "outputs": []
    },
    {
      "cell_type": "code",
      "metadata": {
        "id": "JulVZXgcMM4x"
      },
      "source": [
        "indexer = StringIndexer(inputCol='org', outputCol='org_idx')\n",
        "\n",
        "onehot = OneHotEncoder(inputCols=['org_idx'], outputCols=['org_dummy'])\n",
        "\n",
        "assembler = VectorAssembler(inputCols=['km', 'org_dummy'], outputCol='features')\n",
        "\n",
        "\n",
        "pipeline = Pipeline(stages=[indexer, onehot, assembler, regression])\n",
        "cv = CrossValidator(estimator=pipeline,\n",
        "                    estimatorParamMaps=params,\n",
        "                    evaluator=evaluator)"
      ],
      "execution_count": 103,
      "outputs": []
    },
    {
      "cell_type": "code",
      "metadata": {
        "colab": {
          "base_uri": "https://localhost:8080/"
        },
        "id": "iEuJBWJPMYJ3",
        "outputId": "60cbb906-5f3e-4751-ea80-542ed9aa3f58"
      },
      "source": [
        "params = ParamGridBuilder()\n",
        "\n",
        "params = params.addGrid(regression.regParam, [0.01, 0.1, 1.0, 10.0]) \\\n",
        "               .addGrid(regression.elasticNetParam, [0.0, 0.5, 1.0])\n",
        "\n",
        "params = params.build()\n",
        "print('Number of models to be tested: ', len(params))\n",
        "\n",
        "cv = CrossValidator(estimator=pipeline, estimatorParamMaps=params, evaluator=evaluator, numFolds=5)"
      ],
      "execution_count": 104,
      "outputs": [
        {
          "output_type": "stream",
          "text": [
            "Number of models to be tested:  12\n"
          ],
          "name": "stdout"
        }
      ]
    },
    {
      "cell_type": "code",
      "metadata": {
        "colab": {
          "base_uri": "https://localhost:8080/"
        },
        "id": "RTM6YZl_Min3",
        "outputId": "e7623eb4-d62b-4110-9895-895909b065fb"
      },
      "source": [
        "cv"
      ],
      "execution_count": 106,
      "outputs": [
        {
          "output_type": "execute_result",
          "data": {
            "text/plain": [
              "CrossValidator_477f102a6712"
            ]
          },
          "metadata": {
            "tags": []
          },
          "execution_count": 106
        }
      ]
    },
    {
      "cell_type": "code",
      "metadata": {
        "id": "44IkUI7mMcr_"
      },
      "source": [
        "#best_model = cv.bestModel\n",
        "\n",
        "#print(best_model.stages)\n",
        "\n",
        "#best_model.stages[3].extractParamMap()\n",
        "\n",
        "#predictions = best_model.transform(flights_test)\n",
        "#evaluator.evaluate(predictions)"
      ],
      "execution_count": 108,
      "outputs": []
    },
    {
      "cell_type": "code",
      "metadata": {
        "id": "cN7OEuUnMhW-"
      },
      "source": [
        "params = ParamGridBuilder()\n",
        "params = params.addGrid(hasher.numFeatures, [1024, 4096, 16384]) \\\n",
        "               .addGrid(hasher.binary, [True, False])\n",
        "params = params.addGrid(logistic.regParam, [0.01, 0.1, 1.0, 10.0]) \\\n",
        "               .addGrid(logistic.elasticNetParam, [0.0, 0.5, 1.0])\n",
        "params = params.build()"
      ],
      "execution_count": 109,
      "outputs": []
    },
    {
      "cell_type": "code",
      "metadata": {
        "colab": {
          "base_uri": "https://localhost:8080/"
        },
        "id": "FfQhGx2rM1DT",
        "outputId": "44547b30-2af9-4120-cf39-d93fabee1712"
      },
      "source": [
        "from pyspark.ml.classification import DecisionTreeClassifier, GBTClassifier\n",
        "from pyspark.ml.evaluation import BinaryClassificationEvaluator\n",
        "tree = DecisionTreeClassifier().fit(flights_train)\n",
        "gbt = GBTClassifier().fit(flights_train)\n",
        "\n",
        "evaluator = BinaryClassificationEvaluator()\n",
        "evaluator.evaluate(tree.transform(flights_test))\n",
        "evaluator.evaluate(gbt.transform(flights_test))\n",
        "\n",
        "print(gbt.getNumTrees)\n",
        "print(gbt.featureImportances)"
      ],
      "execution_count": 110,
      "outputs": [
        {
          "output_type": "stream",
          "text": [
            "20\n",
            "(8,[0,1,2,3,4,5,6,7],[0.17699712323223848,0.167701382879042,0.14888364254247366,0.0965055546906009,0.16711741132041333,0.06241292961958451,0.14838056544846173,0.03200139026718548])\n"
          ],
          "name": "stdout"
        }
      ]
    },
    {
      "cell_type": "code",
      "metadata": {
        "id": "PHHwcGs3M4_3"
      },
      "source": [
        "from pyspark.ml.classification import RandomForestClassifier\n",
        "forest = RandomForestClassifier()\n",
        "\n",
        "params = ParamGridBuilder() \\\n",
        "            .addGrid(forest.featureSubsetStrategy, ['all', 'onethird', 'sqrt', 'log2']) \\\n",
        "            .addGrid(forest.maxDepth, [2, 5, 10]) \\\n",
        "            .build()\n",
        "\n",
        "evaluator = BinaryClassificationEvaluator()\n",
        "\n",
        "cv = CrossValidator(estimator=forest, estimatorParamMaps=params, evaluator=evaluator, numFolds=5)"
      ],
      "execution_count": 112,
      "outputs": []
    },
    {
      "cell_type": "code",
      "metadata": {
        "id": "y9zld4axNJcv"
      },
      "source": [
        "#cv.fit(flights_train)"
      ],
      "execution_count": 115,
      "outputs": []
    },
    {
      "cell_type": "code",
      "metadata": {
        "id": "l7Nn_iaGM9I3"
      },
      "source": [
        "#avg_auc = cv.avgMetrics\n",
        "\n",
        "#best_model_auc = max(cv.avgMetrics)\n",
        "\n",
        "#opt_max_depth = cv.bestModel.explainParam('maxDepth')\n",
        "#opt_feat_substrat = cv.bestModel.explainParam('featureSubsetStrategy')\n",
        "\n",
        "#best_auc = evaluator.evaluate(cv.transform(flights_test))"
      ],
      "execution_count": 116,
      "outputs": []
    }
  ]
}