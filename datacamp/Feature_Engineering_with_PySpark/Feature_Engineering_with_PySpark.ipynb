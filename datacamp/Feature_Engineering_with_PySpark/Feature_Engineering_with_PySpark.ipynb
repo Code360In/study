{
  "nbformat": 4,
  "nbformat_minor": 0,
  "metadata": {
    "colab": {
      "name": "Feature Engineering with PySpark.ipynb",
      "provenance": [],
      "toc_visible": true
    },
    "kernelspec": {
      "name": "python3",
      "display_name": "Python 3"
    },
    "language_info": {
      "name": "python"
    }
  },
  "cells": [
    {
      "cell_type": "markdown",
      "metadata": {
        "id": "eS90Pxt5Rw1o"
      },
      "source": [
        "# Exploratory Data Analysis"
      ]
    },
    {
      "cell_type": "code",
      "metadata": {
        "colab": {
          "base_uri": "https://localhost:8080/"
        },
        "id": "Rp8ZvDZUR2I0",
        "outputId": "b9605985-1920-4cdb-abb7-5e6983c4c5e5"
      },
      "source": [
        "!pip install pyspark"
      ],
      "execution_count": null,
      "outputs": [
        {
          "output_type": "stream",
          "text": [
            "Collecting pyspark\n",
            "\u001b[?25l  Downloading https://files.pythonhosted.org/packages/45/b0/9d6860891ab14a39d4bddf80ba26ce51c2f9dc4805e5c6978ac0472c120a/pyspark-3.1.1.tar.gz (212.3MB)\n",
            "\u001b[K     |████████████████████████████████| 212.3MB 74kB/s \n",
            "\u001b[?25hCollecting py4j==0.10.9\n",
            "\u001b[?25l  Downloading https://files.pythonhosted.org/packages/9e/b6/6a4fb90cd235dc8e265a6a2067f2a2c99f0d91787f06aca4bcf7c23f3f80/py4j-0.10.9-py2.py3-none-any.whl (198kB)\n",
            "\u001b[K     |████████████████████████████████| 204kB 20.5MB/s \n",
            "\u001b[?25hBuilding wheels for collected packages: pyspark\n",
            "  Building wheel for pyspark (setup.py) ... \u001b[?25l\u001b[?25hdone\n",
            "  Created wheel for pyspark: filename=pyspark-3.1.1-py2.py3-none-any.whl size=212767604 sha256=01195851088d975b8742514c9d50caec92534a6acc7cad1ed2cf05f9411a5ede\n",
            "  Stored in directory: /root/.cache/pip/wheels/0b/90/c0/01de724414ef122bd05f056541fb6a0ecf47c7ca655f8b3c0f\n",
            "Successfully built pyspark\n",
            "Installing collected packages: py4j, pyspark\n",
            "Successfully installed py4j-0.10.9 pyspark-3.1.1\n"
          ],
          "name": "stdout"
        }
      ]
    },
    {
      "cell_type": "code",
      "metadata": {
        "colab": {
          "base_uri": "https://localhost:8080/"
        },
        "id": "KEXZxkWNRtlO",
        "outputId": "2ad546e7-a1ee-4467-b2e1-d6ba5965f83d"
      },
      "source": [
        "import pyspark as sp\n",
        "sp.version"
      ],
      "execution_count": null,
      "outputs": [
        {
          "output_type": "execute_result",
          "data": {
            "text/plain": [
              "<module 'pyspark.version' from '/usr/local/lib/python3.7/dist-packages/pyspark/version.py'>"
            ]
          },
          "metadata": {
            "tags": []
          },
          "execution_count": 8
        }
      ]
    },
    {
      "cell_type": "code",
      "metadata": {
        "colab": {
          "base_uri": "https://localhost:8080/"
        },
        "id": "iymvy0_mR4Xj",
        "outputId": "bc57c7c6-3f8a-4608-8a54-0ad3eaf06ba3"
      },
      "source": [
        "import sys\n",
        "print(sys.version_info)"
      ],
      "execution_count": null,
      "outputs": [
        {
          "output_type": "stream",
          "text": [
            "sys.version_info(major=3, minor=7, micro=10, releaselevel='final', serial=0)\n"
          ],
          "name": "stdout"
        }
      ]
    },
    {
      "cell_type": "code",
      "metadata": {
        "id": "gteDeViXR7Je"
      },
      "source": [
        "sc = sp.SparkContext.getOrCreate()\n",
        "sc.version"
      ],
      "execution_count": null,
      "outputs": []
    },
    {
      "cell_type": "code",
      "metadata": {
        "id": "eNi_Gfd1SyO-"
      },
      "source": [
        "from pyspark.context import SparkContext\n",
        "from pyspark.sql.session import SparkSession\n",
        "sc = SparkContext.getOrCreate()\n",
        "spark = SparkSession(sc)"
      ],
      "execution_count": 12,
      "outputs": []
    },
    {
      "cell_type": "code",
      "metadata": {
        "colab": {
          "base_uri": "https://localhost:8080/"
        },
        "id": "6hvyFeTxR8-M",
        "outputId": "8e5f72ab-a07a-4bfc-81a4-53c374ada6c9"
      },
      "source": [
        "from pyspark.sql import SparkSession \n",
        "df = spark.read.csv('/content/2017_StPaul_MN_Real_Estate.csv', header=True)\n",
        "df.columns"
      ],
      "execution_count": 14,
      "outputs": [
        {
          "output_type": "execute_result",
          "data": {
            "text/plain": [
              "['No.',\n",
              " 'MLSID',\n",
              " 'StreetNumberNumeric',\n",
              " 'streetaddress',\n",
              " 'STREETNAME',\n",
              " 'PostalCode',\n",
              " 'StateOrProvince',\n",
              " 'City',\n",
              " 'SalesClosePrice',\n",
              " 'LISTDATE',\n",
              " 'LISTPRICE',\n",
              " 'LISTTYPE',\n",
              " 'OriginalListPrice',\n",
              " 'PricePerTSFT',\n",
              " 'FOUNDATIONSIZE',\n",
              " 'FENCE',\n",
              " 'MapLetter',\n",
              " 'LotSizeDimensions',\n",
              " 'SchoolDistrictNumber',\n",
              " 'DAYSONMARKET',\n",
              " 'offmarketdate',\n",
              " 'Fireplaces',\n",
              " 'RoomArea4',\n",
              " 'roomtype',\n",
              " 'ROOF',\n",
              " 'RoomFloor4',\n",
              " 'PotentialShortSale',\n",
              " 'PoolDescription',\n",
              " 'PDOM',\n",
              " 'GarageDescription',\n",
              " 'SQFTABOVEGROUND',\n",
              " 'Taxes',\n",
              " 'RoomFloor1',\n",
              " 'RoomArea1',\n",
              " 'TAXWITHASSESSMENTS',\n",
              " 'TAXYEAR',\n",
              " 'LivingArea',\n",
              " 'UNITNUMBER',\n",
              " 'YEARBUILT',\n",
              " 'ZONING',\n",
              " 'STYLE',\n",
              " 'ACRES',\n",
              " 'CoolingDescription',\n",
              " 'APPLIANCES',\n",
              " 'backonmarketdate',\n",
              " 'ROOMFAMILYCHAR',\n",
              " 'RoomArea3',\n",
              " 'EXTERIOR',\n",
              " 'RoomFloor3',\n",
              " 'RoomFloor2',\n",
              " 'RoomArea2',\n",
              " 'DiningRoomDescription',\n",
              " 'BASEMENT',\n",
              " 'BathsFull',\n",
              " 'BathsHalf',\n",
              " 'BATHQUARTER',\n",
              " 'BATHSTHREEQUARTER',\n",
              " 'Class',\n",
              " 'BATHSTOTAL',\n",
              " 'BATHDESC',\n",
              " 'RoomArea5',\n",
              " 'RoomFloor5',\n",
              " 'RoomArea6',\n",
              " 'RoomFloor6',\n",
              " 'RoomArea7',\n",
              " 'RoomFloor7',\n",
              " 'RoomArea8',\n",
              " 'RoomFloor8',\n",
              " 'Bedrooms',\n",
              " 'SQFTBELOWGROUND',\n",
              " 'AssumableMortgage',\n",
              " 'AssociationFee',\n",
              " 'ASSESSMENTPENDING',\n",
              " 'AssessedValuation']"
            ]
          },
          "metadata": {
            "tags": []
          },
          "execution_count": 14
        }
      ]
    },
    {
      "cell_type": "code",
      "metadata": {
        "id": "vdRLd416SOxU",
        "colab": {
          "base_uri": "https://localhost:8080/"
        },
        "outputId": "2ccc7f66-a882-420a-9895-0817a216cf4a"
      },
      "source": [
        "df.count()"
      ],
      "execution_count": 15,
      "outputs": [
        {
          "output_type": "execute_result",
          "data": {
            "text/plain": [
              "5000"
            ]
          },
          "metadata": {
            "tags": []
          },
          "execution_count": 15
        }
      ]
    },
    {
      "cell_type": "code",
      "metadata": {
        "colab": {
          "base_uri": "https://localhost:8080/"
        },
        "id": "RGrVgI2UTni5",
        "outputId": "2b87da0c-42c2-4fc0-9fee-fb38833d473d"
      },
      "source": [
        "df.dtypes"
      ],
      "execution_count": 16,
      "outputs": [
        {
          "output_type": "execute_result",
          "data": {
            "text/plain": [
              "[('No.', 'string'),\n",
              " ('MLSID', 'string'),\n",
              " ('StreetNumberNumeric', 'string'),\n",
              " ('streetaddress', 'string'),\n",
              " ('STREETNAME', 'string'),\n",
              " ('PostalCode', 'string'),\n",
              " ('StateOrProvince', 'string'),\n",
              " ('City', 'string'),\n",
              " ('SalesClosePrice', 'string'),\n",
              " ('LISTDATE', 'string'),\n",
              " ('LISTPRICE', 'string'),\n",
              " ('LISTTYPE', 'string'),\n",
              " ('OriginalListPrice', 'string'),\n",
              " ('PricePerTSFT', 'string'),\n",
              " ('FOUNDATIONSIZE', 'string'),\n",
              " ('FENCE', 'string'),\n",
              " ('MapLetter', 'string'),\n",
              " ('LotSizeDimensions', 'string'),\n",
              " ('SchoolDistrictNumber', 'string'),\n",
              " ('DAYSONMARKET', 'string'),\n",
              " ('offmarketdate', 'string'),\n",
              " ('Fireplaces', 'string'),\n",
              " ('RoomArea4', 'string'),\n",
              " ('roomtype', 'string'),\n",
              " ('ROOF', 'string'),\n",
              " ('RoomFloor4', 'string'),\n",
              " ('PotentialShortSale', 'string'),\n",
              " ('PoolDescription', 'string'),\n",
              " ('PDOM', 'string'),\n",
              " ('GarageDescription', 'string'),\n",
              " ('SQFTABOVEGROUND', 'string'),\n",
              " ('Taxes', 'string'),\n",
              " ('RoomFloor1', 'string'),\n",
              " ('RoomArea1', 'string'),\n",
              " ('TAXWITHASSESSMENTS', 'string'),\n",
              " ('TAXYEAR', 'string'),\n",
              " ('LivingArea', 'string'),\n",
              " ('UNITNUMBER', 'string'),\n",
              " ('YEARBUILT', 'string'),\n",
              " ('ZONING', 'string'),\n",
              " ('STYLE', 'string'),\n",
              " ('ACRES', 'string'),\n",
              " ('CoolingDescription', 'string'),\n",
              " ('APPLIANCES', 'string'),\n",
              " ('backonmarketdate', 'string'),\n",
              " ('ROOMFAMILYCHAR', 'string'),\n",
              " ('RoomArea3', 'string'),\n",
              " ('EXTERIOR', 'string'),\n",
              " ('RoomFloor3', 'string'),\n",
              " ('RoomFloor2', 'string'),\n",
              " ('RoomArea2', 'string'),\n",
              " ('DiningRoomDescription', 'string'),\n",
              " ('BASEMENT', 'string'),\n",
              " ('BathsFull', 'string'),\n",
              " ('BathsHalf', 'string'),\n",
              " ('BATHQUARTER', 'string'),\n",
              " ('BATHSTHREEQUARTER', 'string'),\n",
              " ('Class', 'string'),\n",
              " ('BATHSTOTAL', 'string'),\n",
              " ('BATHDESC', 'string'),\n",
              " ('RoomArea5', 'string'),\n",
              " ('RoomFloor5', 'string'),\n",
              " ('RoomArea6', 'string'),\n",
              " ('RoomFloor6', 'string'),\n",
              " ('RoomArea7', 'string'),\n",
              " ('RoomFloor7', 'string'),\n",
              " ('RoomArea8', 'string'),\n",
              " ('RoomFloor8', 'string'),\n",
              " ('Bedrooms', 'string'),\n",
              " ('SQFTBELOWGROUND', 'string'),\n",
              " ('AssumableMortgage', 'string'),\n",
              " ('AssociationFee', 'string'),\n",
              " ('ASSESSMENTPENDING', 'string'),\n",
              " ('AssessedValuation', 'string')]"
            ]
          },
          "metadata": {
            "tags": []
          },
          "execution_count": 16
        }
      ]
    },
    {
      "cell_type": "code",
      "metadata": {
        "colab": {
          "base_uri": "https://localhost:8080/"
        },
        "id": "NCTVholETopx",
        "outputId": "0a0528ef-ebfa-4127-a530-c0747efa5be4"
      },
      "source": [
        "Y_df = df.select(['SalesClosePrice'])\n",
        "Y_df.describe().show()"
      ],
      "execution_count": 17,
      "outputs": [
        {
          "output_type": "stream",
          "text": [
            "+-------+------------------+\n",
            "|summary|   SalesClosePrice|\n",
            "+-------+------------------+\n",
            "|  count|              5000|\n",
            "|   mean|       262804.4668|\n",
            "| stddev|140559.82591998563|\n",
            "|    min|            100000|\n",
            "|    max|             99900|\n",
            "+-------+------------------+\n",
            "\n"
          ],
          "name": "stdout"
        }
      ]
    },
    {
      "cell_type": "code",
      "metadata": {
        "colab": {
          "base_uri": "https://localhost:8080/"
        },
        "id": "ut5BmzLYTqqs",
        "outputId": "2cbc158a-2838-44a2-b187-d4ef7d2c3514"
      },
      "source": [
        "df = df.withColumn(\"SalesClosePrice\", df.SalesClosePrice.cast(\"integer\"))\n",
        "df.select('SalesClosePrice').describe().show()"
      ],
      "execution_count": 18,
      "outputs": [
        {
          "output_type": "stream",
          "text": [
            "+-------+------------------+\n",
            "|summary|   SalesClosePrice|\n",
            "+-------+------------------+\n",
            "|  count|              5000|\n",
            "|   mean|       262804.4668|\n",
            "| stddev|140559.82591998563|\n",
            "|    min|             48000|\n",
            "|    max|           1700000|\n",
            "+-------+------------------+\n",
            "\n"
          ],
          "name": "stdout"
        }
      ]
    },
    {
      "cell_type": "code",
      "metadata": {
        "id": "yC7aZKjUTttn"
      },
      "source": [
        "df = df.withColumn(\"AssessedValuation\", df.AssessedValuation.cast(\"double\"))\n",
        "df = df.withColumn(\"AssociationFee\", df.AssociationFee.cast(\"bigint\"))\n",
        "df = df.withColumn(\"SQFTBELOWGROUND\", df.SQFTBELOWGROUND.cast(\"bigint\"))"
      ],
      "execution_count": 19,
      "outputs": []
    },
    {
      "cell_type": "code",
      "metadata": {
        "id": "VGCfAND_Twcq"
      },
      "source": [
        "required_dtypes = [('NO', 'bigint'),\n",
        " ('MLSID', 'string'),\n",
        " ('STREETNUMBERNUMERIC', 'bigint'),\n",
        " ('STREETADDRESS', 'string'),\n",
        " ('STREETNAME', 'string'),\n",
        " ('POSTALCODE', 'bigint'),\n",
        " ('STATEORPROVINCE', 'string'),\n",
        " ('CITY', 'string'),\n",
        " ('SALESCLOSEPRICE', 'bigint'),\n",
        " ('LISTDATE', 'string'),\n",
        " ('LISTPRICE', 'bigint'),\n",
        " ('LISTTYPE', 'string'),\n",
        " ('ORIGINALLISTPRICE', 'bigint'),\n",
        " ('PRICEPERTSFT', 'double'),\n",
        " ('FOUNDATIONSIZE', 'bigint'),\n",
        " ('FENCE', 'string'),\n",
        " ('MAPLETTER', 'string'),\n",
        " ('LOTSIZEDIMENSIONS', 'string'),\n",
        " ('SCHOOLDISTRICTNUMBER', 'string'),\n",
        " ('DAYSONMARKET', 'bigint'),\n",
        " ('OFFMARKETDATE', 'string'),\n",
        " ('FIREPLACES', 'bigint'),\n",
        " ('ROOMAREA4', 'string'),\n",
        " ('ROOMTYPE', 'string'),\n",
        " ('ROOF', 'string'),\n",
        " ('ROOMFLOOR4', 'string'),\n",
        " ('POTENTIALSHORTSALE', 'string'),\n",
        " ('POOLDESCRIPTION', 'string'),\n",
        " ('PDOM', 'bigint'),\n",
        " ('GARAGEDESCRIPTION', 'string'),\n",
        " ('SQFTABOVEGROUND', 'bigint'),\n",
        " ('TAXES', 'bigint'),\n",
        " ('ROOMFLOOR1', 'string'),\n",
        " ('ROOMAREA1', 'string'),\n",
        " ('TAXWITHASSESSMENTS', 'double'),\n",
        " ('TAXYEAR', 'bigint'),\n",
        " ('LIVINGAREA', 'bigint'),\n",
        " ('UNITNUMBER', 'string'),\n",
        " ('YEARBUILT', 'bigint'),\n",
        " ('ZONING', 'string'),\n",
        " ('STYLE', 'string'),\n",
        " ('ACRES', 'double'),\n",
        " ('COOLINGDESCRIPTION', 'string'),\n",
        " ('APPLIANCES', 'string'),\n",
        " ('BACKONMARKETDATE', 'double'),\n",
        " ('ROOMFAMILYCHAR', 'string'),\n",
        " ('ROOMAREA3', 'string'),\n",
        " ('EXTERIOR', 'string'),\n",
        " ('ROOMFLOOR3', 'string'),\n",
        " ('ROOMFLOOR2', 'string'),\n",
        " ('ROOMAREA2', 'string'),\n",
        " ('DININGROOMDESCRIPTION', 'string'),\n",
        " ('BASEMENT', 'string'),\n",
        " ('BATHSFULL', 'bigint'),\n",
        " ('BATHSHALF', 'bigint'),\n",
        " ('BATHQUARTER', 'bigint'),\n",
        " ('BATHSTHREEQUARTER', 'double'),\n",
        " ('CLASS', 'string'),\n",
        " ('BATHSTOTAL', 'bigint'),\n",
        " ('BATHDESC', 'string'),\n",
        " ('ROOMAREA5', 'string'),\n",
        " ('ROOMFLOOR5', 'string'),\n",
        " ('ROOMAREA6', 'string'),\n",
        " ('ROOMFLOOR6', 'string'),\n",
        " ('ROOMAREA7', 'string'),\n",
        " ('ROOMFLOOR7', 'string'),\n",
        " ('ROOMAREA8', 'string'),\n",
        " ('ROOMFLOOR8', 'string'),\n",
        " ('BEDROOMS', 'bigint'),\n",
        " ('SQFTBELOWGROUND', 'bigint'),\n",
        " ('ASSUMABLEMORTGAGE', 'string'),\n",
        " ('ASSOCIATIONFEE', 'bigint'),\n",
        " ('ASSESSMENTPENDING', 'string'),\n",
        " ('ASSESSEDVALUATION', 'double')]"
      ],
      "execution_count": 20,
      "outputs": []
    },
    {
      "cell_type": "code",
      "metadata": {
        "id": "H8p-02YSTySe"
      },
      "source": [
        "old_columns = df.columns"
      ],
      "execution_count": 21,
      "outputs": []
    },
    {
      "cell_type": "code",
      "metadata": {
        "id": "BvFc_oK9TzHT"
      },
      "source": [
        "new_columns = [c for c, d in required_dtypes]\n",
        "for n, o in zip(new_columns, old_columns): \n",
        "    df = df.withColumnRenamed(o, n)"
      ],
      "execution_count": 22,
      "outputs": []
    },
    {
      "cell_type": "code",
      "metadata": {
        "colab": {
          "base_uri": "https://localhost:8080/"
        },
        "id": "AqGPeBOwT0xX",
        "outputId": "7843a804-4718-46e9-85fc-706b7a46d92b"
      },
      "source": [
        "df.show(5)"
      ],
      "execution_count": 23,
      "outputs": [
        {
          "output_type": "stream",
          "text": [
            "+---+-----+-------------------+--------------------+----------+----------+---------------+----------------+---------------+--------------+---------+---------------+-----------------+------------+--------------+----------+---------+-----------------+--------------------+------------+---------------+----------+---------+--------------------+--------------------+----------+------------------+---------------+----+--------------------+---------------+-----+----------+---------+------------------+-------+----------+----------+---------+------------------+--------------------+-----+------------------+--------------------+----------------+--------------+---------+------------+----------+----------+---------+---------------------+--------------------+---------+---------+-----------+-----------------+-----+----------+--------------------+---------+----------+---------+----------+---------+----------+---------+----------+--------+---------------+-----------------+--------------+-----------------+-----------------+\n",
            "| NO|MLSID|STREETNUMBERNUMERIC|       STREETADDRESS|STREETNAME|POSTALCODE|STATEORPROVINCE|            CITY|SALESCLOSEPRICE|      LISTDATE|LISTPRICE|       LISTTYPE|ORIGINALLISTPRICE|PRICEPERTSFT|FOUNDATIONSIZE|     FENCE|MAPLETTER|LOTSIZEDIMENSIONS|SCHOOLDISTRICTNUMBER|DAYSONMARKET|  OFFMARKETDATE|FIREPLACES|ROOMAREA4|            ROOMTYPE|                ROOF|ROOMFLOOR4|POTENTIALSHORTSALE|POOLDESCRIPTION|PDOM|   GARAGEDESCRIPTION|SQFTABOVEGROUND|TAXES|ROOMFLOOR1|ROOMAREA1|TAXWITHASSESSMENTS|TAXYEAR|LIVINGAREA|UNITNUMBER|YEARBUILT|            ZONING|               STYLE|ACRES|COOLINGDESCRIPTION|          APPLIANCES|BACKONMARKETDATE|ROOMFAMILYCHAR|ROOMAREA3|    EXTERIOR|ROOMFLOOR3|ROOMFLOOR2|ROOMAREA2|DININGROOMDESCRIPTION|            BASEMENT|BATHSFULL|BATHSHALF|BATHQUARTER|BATHSTHREEQUARTER|CLASS|BATHSTOTAL|            BATHDESC|ROOMAREA5|ROOMFLOOR5|ROOMAREA6|ROOMFLOOR6|ROOMAREA7|ROOMFLOOR7|ROOMAREA8|ROOMFLOOR8|BEDROOMS|SQFTBELOWGROUND|ASSUMABLEMORTGAGE|ASSOCIATIONFEE|ASSESSMENTPENDING|ASSESSEDVALUATION|\n",
            "+---+-----+-------------------+--------------------+----------+----------+---------------+----------------+---------------+--------------+---------+---------------+-----------------+------------+--------------+----------+---------+-----------------+--------------------+------------+---------------+----------+---------+--------------------+--------------------+----------+------------------+---------------+----+--------------------+---------------+-----+----------+---------+------------------+-------+----------+----------+---------+------------------+--------------------+-----+------------------+--------------------+----------------+--------------+---------+------------+----------+----------+---------+---------------------+--------------------+---------+---------+-----------+-----------------+-----+----------+--------------------+---------+----------+---------+----------+---------+----------+---------+----------+--------+---------------+-----------------+--------------+-----------------+-----------------+\n",
            "|  1| RMLS|              11511|11511 Stillwater ...|Stillwater|     55042|             MN|LELM - Lake Elmo|         143000|7/15/2017 0:00|   139900|Exclusive Right|           139900|    145.9184|           980|     Other|       C4|          279X200|    834 - Stillwater|          10| 7/30/2017 0:00|         0|  12 x  9|Living Room, Dini...|                null|      Main|                No|           null|  10|     Attached Garage|            980| 1858|      Main|  16 x 13|              1858|   2017|       980|      null|     1950|Residential-Single|      (SF) One Story| 1.28|           Central|Range, Dishwasher...|            null|          null|     null|       Vinyl|      null|      Main|   9 x  7|       Eat In Kitchen|                Full|        1|        1|          0|                0|   SF|         2|Main Floor 3/4 Ba...|  13 x 11|      Main|  10 x 10|      Main|     null|      null|     null|      null|       3|              0|             null|             0|          Unknown|              0.0|\n",
            "|  2| RMLS|              11200|     11200 31st St N|      31st|     55042|             MN|LELM - Lake Elmo|         190000|10/9/2017 0:00|   210000|Exclusive Right|           210000|     85.2783|          1144|      null|       C1|          100x140|    834 - Stillwater|           4|10/13/2017 0:00|         0|    11x11|Living Room, Dini...|Asphalt Shingles,...|      Main|                No|           null|   4|Attached Garage, ...|           1268| 1640|      Main|    22x14|              1640|   2017|      2228|      null|     1971|Residential-Single|(SF) Split Entry ...| 0.32|           Central|Range, Microwave,...|            null|   Lower Level|    22x14|       Vinyl|     Lower|      Main|    11x12| Informal Dining R...|Full, Partial Fin...|        1|        0|          0|                2|   SF|         3|Main Floor Full B...|    15x11|      Main|    14x11|      Main|    10x11|      Main|    11x11|     Lower|       4|            960|             null|             0|          Unknown|              0.0|\n",
            "|  3| RMLS|               8583|8583 Stillwater B...|Stillwater|     55042|             MN|LELM - Lake Elmo|         225000|6/26/2017 0:00|   225000|Exclusive Right|           225000|    204.1742|          1102|      None|       E1|          120x296|622 - North St Pa...|          28| 7/24/2017 0:00|         0|    14x12|Living Room, Dini...|                null|      Main|                No|           None|  28|     Attached Garage|           1102| 2390|      Main|    20x13|              2390|   2016|      1102|      null|     1949|Residential-Single|      (SF) One Story|0.822|            Window|Range, Microwave,...|            null|          null|     null|Cement Board|      null|      Main|    18x11| Informal Dining Room|Full, Crawl Space...|        1|        0|          0|                0|   SF|         1|Main Floor Full Bath|    12x12|      Main|    12x12|      Main|     null|      null|     null|      null|       2|              0|    Not Assumable|             0|               No|              0.0|\n",
            "|  4| RMLS|               9350|      9350 31st St N|      31st|     55042|             MN|LELM - Lake Elmo|         265000|8/25/2017 0:00|   230000|Exclusive Right|           230000|    162.3775|           959|      None|       A1|          208X208|    834 - Stillwater|          19| 9/13/2017 0:00|         1|    12X16|Living Room, Dini...|Asphalt Shingles,...|      Main|                No|           None|  19|Attached Garage, ...|           1284| 2146|      null|     null|              2146|   2017|      1632|      null|     1960|Residential-Single|      (SF) One Story| 0.94|           Central|Range, Washer, Dryer|            null|    Main Level|    25X13|      Stucco|      Main|      Main|    20X11|                 null|Full, Partial Fin...|        1|        1|          0|                0|   SF|         2|Main Floor Full B...|    13X11|      Main|    13X10|      Main|     null|      null|     null|      null|       2|            348|             null|             0|          Unknown|              0.0|\n",
            "|  5| RMLS|               2915|   2915 Inwood Ave N|    Inwood|     55042|             MN|LELM - Lake Elmo|         249900|9/12/2017 0:00|   239900|Exclusive Right|           239900|    121.7836|          1026|Chain Link|       E1|          116x200|622 - North St Pa...|          21| 10/3/2017 0:00|         1|    12x10|Living Room, Dini...|Asphalt Shingles,...|      Main|                No|           null|  21|Attached Garage, ...|           1026| 2010|      Main|    22x14|              2010|   2017|      2052|      null|     1978|Residential-Single|(SF) Split Entry ...|    0|           Central|Range, Exhaust Fa...|            null|   Lower Level|    22x18|       Vinyl|     Lower|      Main|    12x10| Breakfast Area, K...|Walkout, Full, Fi...|        1|        0|          0|                1|   SF|         2|Main Floor Full B...|    13x11|      Main|    13x12|      Main|    14x13|     Lower|     null|      null|       3|           1026|             null|             0|               No|              0.0|\n",
            "+---+-----+-------------------+--------------------+----------+----------+---------------+----------------+---------------+--------------+---------+---------------+-----------------+------------+--------------+----------+---------+-----------------+--------------------+------------+---------------+----------+---------+--------------------+--------------------+----------+------------------+---------------+----+--------------------+---------------+-----+----------+---------+------------------+-------+----------+----------+---------+------------------+--------------------+-----+------------------+--------------------+----------------+--------------+---------+------------+----------+----------+---------+---------------------+--------------------+---------+---------+-----------+-----------------+-----+----------+--------------------+---------+----------+---------+----------+---------+----------+---------+----------+--------+---------------+-----------------+--------------+-----------------+-----------------+\n",
            "only showing top 5 rows\n",
            "\n"
          ],
          "name": "stdout"
        }
      ]
    },
    {
      "cell_type": "markdown",
      "metadata": {
        "id": "DB-rYLY_T3tY"
      },
      "source": [
        "# Verifying Data Load"
      ]
    },
    {
      "cell_type": "code",
      "metadata": {
        "colab": {
          "base_uri": "https://localhost:8080/"
        },
        "id": "xXW9q7WgT2gr",
        "outputId": "b5792ba7-1e8d-41b6-e661-802434cb2a59"
      },
      "source": [
        "def check_load(df, num_records, num_columns):\n",
        "    message = 'Validation Failed'\n",
        "    if num_records == df.count():\n",
        "        if num_columns == len(df.columns):\n",
        "          message = 'Validation Passed'\n",
        "    return message\n",
        "\n",
        "print(check_load(df, 5000, 74))"
      ],
      "execution_count": 24,
      "outputs": [
        {
          "output_type": "stream",
          "text": [
            "Validation Passed\n"
          ],
          "name": "stdout"
        }
      ]
    },
    {
      "cell_type": "markdown",
      "metadata": {
        "id": "ghMAUI_vT_GE"
      },
      "source": [
        "# Verifying DataTypes"
      ]
    },
    {
      "cell_type": "code",
      "metadata": {
        "id": "6wccA4jvT9DL"
      },
      "source": [
        "validation_dict = {'ASSESSMENTPENDING': 'string',\n",
        " 'ASSESSEDVALUATION': 'double',\n",
        " 'ASSOCIATIONFEE': 'bigint',\n",
        " 'ASSUMABLEMORTGAGE': 'string',\n",
        " 'SQFTBELOWGROUND': 'bigint'}"
      ],
      "execution_count": 25,
      "outputs": []
    },
    {
      "cell_type": "code",
      "metadata": {
        "colab": {
          "base_uri": "https://localhost:8080/"
        },
        "id": "stx6DabpUBXY",
        "outputId": "042b0837-ef50-4a78-bc60-aded8db679af"
      },
      "source": [
        "actual_dtypes_list = df.dtypes\n",
        "\n",
        "for attribute_tuple in actual_dtypes_list:\n",
        "  \n",
        "    col_name = attribute_tuple[0]\n",
        "    if col_name in validation_dict:\n",
        "\n",
        "        col_type = attribute_tuple[1]\n",
        "        if col_type == validation_dict[col_name]:\n",
        "            print(col_name + ' has expected dtype.')"
      ],
      "execution_count": 26,
      "outputs": [
        {
          "output_type": "stream",
          "text": [
            "SQFTBELOWGROUND has expected dtype.\n",
            "ASSUMABLEMORTGAGE has expected dtype.\n",
            "ASSOCIATIONFEE has expected dtype.\n",
            "ASSESSMENTPENDING has expected dtype.\n",
            "ASSESSEDVALUATION has expected dtype.\n"
          ],
          "name": "stdout"
        }
      ]
    },
    {
      "cell_type": "markdown",
      "metadata": {
        "id": "-ehqa-NkUG4M"
      },
      "source": [
        "# Using Corr()\n"
      ]
    },
    {
      "cell_type": "code",
      "metadata": {
        "id": "UT5sHmeaUE6e"
      },
      "source": [
        "for required_type, current_column in zip(required_dtypes, df.columns):\n",
        "    if required_type[1] != 'string':\n",
        "#       df = df.withColumn(\"{:}\".format(current_column), df[\"`{:}`\".format(current_column)].cast(req[1]))\n",
        "        df = df.withColumn(current_column, df[\"{:}\".format(current_column)].cast(required_type[1]))\n"
      ],
      "execution_count": 28,
      "outputs": []
    },
    {
      "cell_type": "code",
      "metadata": {
        "id": "miGWZ0shUGZu"
      },
      "source": [
        "check_columns = ['FOUNDATIONSIZE',\n",
        " 'DAYSONMARKET',\n",
        " 'FIREPLACES',\n",
        " 'PDOM',\n",
        " 'SQFTABOVEGROUND',\n",
        " 'TAXES',\n",
        " 'TAXWITHASSESSMENTS',\n",
        " 'TAXYEAR',\n",
        " 'LIVINGAREA',\n",
        " 'YEARBUILT',\n",
        " 'ACRES',\n",
        " 'BACKONMARKETDATE',\n",
        " 'BATHSFULL',\n",
        " 'BATHSHALF',\n",
        " 'BATHQUARTER',\n",
        " 'BATHSTHREEQUARTER',\n",
        " 'BATHSTOTAL',\n",
        " 'BEDROOMS',\n",
        " 'SQFTBELOWGROUND',\n",
        " 'ASSOCIATIONFEE',\n",
        " 'ASSESSEDVALUATION']"
      ],
      "execution_count": 29,
      "outputs": []
    },
    {
      "cell_type": "code",
      "metadata": {
        "colab": {
          "base_uri": "https://localhost:8080/"
        },
        "id": "pdfS20-NUPYs",
        "outputId": "a6780839-5c1e-420b-abda-ce6a31366d8a"
      },
      "source": [
        "corr_max = 0\n",
        "corr_max_col = check_columns[0]\n",
        "\n",
        "for col in check_columns:\n",
        "    corr_val = df.corr(col, 'SALESCLOSEPRICE')\n",
        "    if corr_val > corr_max:\n",
        "        corr_max = corr_val\n",
        "        corr_max_col = col\n",
        "\n",
        "print(corr_max_col)"
      ],
      "execution_count": 30,
      "outputs": [
        {
          "output_type": "stream",
          "text": [
            "LIVINGAREA\n"
          ],
          "name": "stdout"
        }
      ]
    },
    {
      "cell_type": "markdown",
      "metadata": {
        "id": "1DMRMQ8eUVCZ"
      },
      "source": [
        "# Using Visualizations: distplot\n"
      ]
    },
    {
      "cell_type": "code",
      "metadata": {
        "id": "hMM2BYq1UUNA"
      },
      "source": [
        "%matplotlib inline\n",
        "\n",
        "import matplotlib.pyplot as plt\n",
        "import seaborn as sns"
      ],
      "execution_count": 31,
      "outputs": []
    },
    {
      "cell_type": "code",
      "metadata": {
        "colab": {
          "base_uri": "https://localhost:8080/",
          "height": 362
        },
        "id": "gJz0NkcIUXsx",
        "outputId": "73d60231-468b-4c57-8a3b-5cc95f8ac8f2"
      },
      "source": [
        "sample_df = df.select(['LISTPRICE']).sample(False, .5, 42)\n",
        "pandas_df = sample_df.toPandas()\n",
        "\n",
        "sns.distplot(pandas_df)\n",
        "plt.show()\n",
        "\n",
        "from pyspark.sql.functions import skewness\n",
        "print(df.agg({'LISTPRICE': 'skewness'}).collect())"
      ],
      "execution_count": 32,
      "outputs": [
        {
          "output_type": "stream",
          "text": [
            "/usr/local/lib/python3.7/dist-packages/seaborn/distributions.py:2557: FutureWarning: `distplot` is a deprecated function and will be removed in a future version. Please adapt your code to use either `displot` (a figure-level function with similar flexibility) or `histplot` (an axes-level function for histograms).\n",
            "  warnings.warn(msg, FutureWarning)\n"
          ],
          "name": "stderr"
        },
        {
          "output_type": "display_data",
          "data": {
            "image/png": "[encoded data removed]",
            "text/plain": [
              "<Figure size 432x288 with 1 Axes>"
            ]
          },
          "metadata": {
            "tags": [],
            "needs_background": "light"
          }
        },
        {
          "output_type": "stream",
          "text": [
            "[Row(skewness(LISTPRICE)=2.790448093916559)]\n"
          ],
          "name": "stdout"
        }
      ]
    },
    {
      "cell_type": "markdown",
      "metadata": {
        "id": "Jvr06UUdUeJN"
      },
      "source": [
        "# Using Visualizations: lmplot"
      ]
    },
    {
      "cell_type": "code",
      "metadata": {
        "colab": {
          "base_uri": "https://localhost:8080/",
          "height": 401
        },
        "id": "OibqscxlUcVI",
        "outputId": "20d34b6f-3c84-4e00-a015-aeada7c7446a"
      },
      "source": [
        "sample_df = df.select(['SALESCLOSEPRICE','LIVINGAREA']).sample(False, .5, 42)\n",
        "pandas_df = sample_df.toPandas()\n",
        "sns.lmplot(x='LIVINGAREA', y='SALESCLOSEPRICE', data=pandas_df)"
      ],
      "execution_count": 33,
      "outputs": [
        {
          "output_type": "execute_result",
          "data": {
            "text/plain": [
              "<seaborn.axisgrid.FacetGrid at 0x7fcac7e20b50>"
            ]
          },
          "metadata": {
            "tags": []
          },
          "execution_count": 33
        },
        {
          "output_type": "display_data",
          "data": {
            "image/png": "[encoded data removed]",
            "text/plain": [
              "<Figure size 360x360 with 1 Axes>"
            ]
          },
          "metadata": {
            "tags": [],
            "needs_background": "light"
          }
        }
      ]
    },
    {
      "cell_type": "markdown",
      "metadata": {
        "id": "bFg-CEtlUp5F"
      },
      "source": [
        "# Wrangling with Spark Functions"
      ]
    },
    {
      "cell_type": "markdown",
      "metadata": {
        "id": "hoThxuuvUrVH"
      },
      "source": [
        "## Dropping a list of columns\n"
      ]
    },
    {
      "cell_type": "code",
      "metadata": {
        "id": "92DMcav_UnFM"
      },
      "source": [
        "cols_to_drop = ['STREETNUMBERNUMERIC', 'LOTSIZEDIMENSIONS']\n",
        "df = df.drop(*cols_to_drop)"
      ],
      "execution_count": 34,
      "outputs": []
    },
    {
      "cell_type": "markdown",
      "metadata": {
        "id": "Nr1--e11Uwv4"
      },
      "source": [
        "## Using text filters to remove records"
      ]
    },
    {
      "cell_type": "code",
      "metadata": {
        "colab": {
          "base_uri": "https://localhost:8080/"
        },
        "id": "r5OpTuNGUuGX",
        "outputId": "34edcbb6-895f-4062-85b2-4c1517498b52"
      },
      "source": [
        "df.select(['ASSUMABLEMORTGAGE']).distinct().show()\n",
        "\n",
        "yes_values = ['Yes w/ Qualifying', 'Yes w/No Qualifying']\n",
        "\n",
        "text_filter = ~df['ASSUMABLEMORTGAGE'].isin(yes_values) | df['ASSUMABLEMORTGAGE'].isNull()\n",
        "df = df.where(text_filter)\n",
        "\n",
        "print(df.count())"
      ],
      "execution_count": 35,
      "outputs": [
        {
          "output_type": "stream",
          "text": [
            "+-------------------+\n",
            "|  ASSUMABLEMORTGAGE|\n",
            "+-------------------+\n",
            "|  Yes w/ Qualifying|\n",
            "| Information Coming|\n",
            "|               null|\n",
            "|Yes w/No Qualifying|\n",
            "|      Not Assumable|\n",
            "+-------------------+\n",
            "\n",
            "4976\n"
          ],
          "name": "stdout"
        }
      ]
    },
    {
      "cell_type": "markdown",
      "metadata": {
        "id": "NtLeRiNpU2vV"
      },
      "source": [
        "# Filtering numeric fields conditionally\n"
      ]
    },
    {
      "cell_type": "code",
      "metadata": {
        "id": "e_lq8hYCUz3l"
      },
      "source": [
        "from pyspark.sql.functions import log\n",
        "\n",
        "df = df.withColumn('log_SalesClosePrice', log('SalesClosePrice'))"
      ],
      "execution_count": 36,
      "outputs": []
    },
    {
      "cell_type": "code",
      "metadata": {
        "id": "82qpYp-3U6jQ"
      },
      "source": [
        "from pyspark.sql.functions import mean, stddev\n",
        "\n",
        "mean_val = df.agg({'log_SalesClosePrice': 'mean'}).collect()[0][0]\n",
        "stddev_val = df.agg({'log_SalesClosePrice': 'stddev'}).collect()[0][0]\n",
        "\n",
        "\n",
        "low_bound = mean_val - (3 * stddev_val)\n",
        "hi_bound = mean_val + (3 * stddev_val)\n",
        "\n",
        "\n",
        "df = df.where((df['log_SalesClosePrice'] < hi_bound) & (df['log_SalesClosePrice'] > low_bound))"
      ],
      "execution_count": 37,
      "outputs": []
    },
    {
      "cell_type": "markdown",
      "metadata": {
        "id": "JwmmUzpwU-tz"
      },
      "source": [
        "## Custom Percentage Scaling"
      ]
    },
    {
      "cell_type": "code",
      "metadata": {
        "colab": {
          "base_uri": "https://localhost:8080/"
        },
        "id": "_tw2hQP7U9rJ",
        "outputId": "e45da92c-709e-436d-8f51-3483b124f10d"
      },
      "source": [
        "from pyspark.sql.functions import round\n",
        "\n",
        "max_days = df.agg({'DAYSONMARKET': 'max'}).collect()[0][0]\n",
        "min_days = df.agg({'DAYSONMARKET': 'min'}).collect()[0][0]\n",
        "\n",
        "df = df.withColumn('percentage_scaled_days', \n",
        "                  round((df['DAYSONMARKET'] - min_days) / (max_days - min_days)) * 100)\n",
        "\n",
        "print(df.agg({'percentage_scaled_days': 'max'}).collect())\n",
        "print(df.agg({'percentage_scaled_days': 'min'}).collect())"
      ],
      "execution_count": 38,
      "outputs": [
        {
          "output_type": "stream",
          "text": [
            "[Row(max(percentage_scaled_days)=100.0)]\n",
            "[Row(min(percentage_scaled_days)=0.0)]\n"
          ],
          "name": "stdout"
        }
      ]
    },
    {
      "cell_type": "markdown",
      "metadata": {
        "id": "bvb-VIkrVE1r"
      },
      "source": [
        "## Scaling your scalers"
      ]
    },
    {
      "cell_type": "code",
      "metadata": {
        "colab": {
          "base_uri": "https://localhost:8080/"
        },
        "id": "RbBM2ISFVCyf",
        "outputId": "05c2cfa1-f15a-49ba-b181-1dda008d5813"
      },
      "source": [
        "def min_max_scaler(df, cols_to_scale):\n",
        "    for col in cols_to_scale:\n",
        "        max_days = df.agg({col: 'max'}).collect()[0][0]\n",
        "        min_days = df.agg({col: 'min'}).collect()[0][0]\n",
        "        new_column_name = 'scaled_' + col\n",
        "        df = df.withColumn(new_column_name, \n",
        "                          (df[col] - min_days) / (max_days - min_days))\n",
        "    return df\n",
        "  \n",
        "df = min_max_scaler(df, ['FOUNDATIONSIZE', 'DAYSONMARKET', 'FIREPLACES'])\n",
        "df[['DAYSONMARKET', 'scaled_DAYSONMARKET']].show()"
      ],
      "execution_count": 39,
      "outputs": [
        {
          "output_type": "stream",
          "text": [
            "+------------+--------------------+\n",
            "|DAYSONMARKET| scaled_DAYSONMARKET|\n",
            "+------------+--------------------+\n",
            "|          10|0.044444444444444446|\n",
            "|           4|0.017777777777777778|\n",
            "|          28| 0.12444444444444444|\n",
            "|          19| 0.08444444444444445|\n",
            "|          21| 0.09333333333333334|\n",
            "|          17| 0.07555555555555556|\n",
            "|          32| 0.14222222222222222|\n",
            "|           5|0.022222222222222223|\n",
            "|          23| 0.10222222222222223|\n",
            "|          73|  0.3244444444444444|\n",
            "|          80| 0.35555555555555557|\n",
            "|          79|  0.3511111111111111|\n",
            "|          12| 0.05333333333333334|\n",
            "|           1|0.004444444444444...|\n",
            "|          18|                0.08|\n",
            "|           2|0.008888888888888889|\n",
            "|          12| 0.05333333333333334|\n",
            "|          45|                 0.2|\n",
            "|          31| 0.13777777777777778|\n",
            "|          16| 0.07111111111111111|\n",
            "+------------+--------------------+\n",
            "only showing top 20 rows\n",
            "\n"
          ],
          "name": "stdout"
        }
      ]
    },
    {
      "cell_type": "markdown",
      "metadata": {
        "id": "OUTN47zQVN9q"
      },
      "source": [
        "## Correcting Right Skew Data"
      ]
    },
    {
      "cell_type": "code",
      "metadata": {
        "colab": {
          "base_uri": "https://localhost:8080/"
        },
        "id": "QEp3wfRqVMdC",
        "outputId": "cbc60a2c-0825-41b7-a77f-8c252c11d8d6"
      },
      "source": [
        "print(df.agg({'YEARBUILT': 'skewness'}).collect())\n",
        "\n",
        "max_year = df.agg({'YEARBUILT': 'max'}).collect()[0][0]\n",
        "\n",
        "df = df.withColumn('Reflect_YearBuilt', (max_year + 1) - df['YEARBUILT'])\n",
        "\n",
        "df = df.withColumn('adj_yearbuilt', 1 / log(df['Reflect_YearBuilt']))"
      ],
      "execution_count": 40,
      "outputs": [
        {
          "output_type": "stream",
          "text": [
            "[Row(skewness(YEARBUILT)=-0.25317374723020336)]\n"
          ],
          "name": "stdout"
        }
      ]
    },
    {
      "cell_type": "markdown",
      "metadata": {
        "id": "BArcAsU2VTd3"
      },
      "source": [
        "## Visualizing Missing Data\n"
      ]
    },
    {
      "cell_type": "code",
      "metadata": {
        "colab": {
          "base_uri": "https://localhost:8080/"
        },
        "id": "yOkFmhwzVSAt",
        "outputId": "71f52cd4-8101-4abc-94fa-c46152e907a6"
      },
      "source": [
        "columns = ['APPLIANCES',\n",
        " 'BACKONMARKETDATE',\n",
        " 'ROOMFAMILYCHAR',\n",
        " 'BASEMENT',\n",
        " 'DININGROOMDESCRIPTION']\n",
        "\n",
        "df.select(columns).show()"
      ],
      "execution_count": 41,
      "outputs": [
        {
          "output_type": "stream",
          "text": [
            "+--------------------+----------------+--------------------+--------------------+---------------------+\n",
            "|          APPLIANCES|BACKONMARKETDATE|      ROOMFAMILYCHAR|            BASEMENT|DININGROOMDESCRIPTION|\n",
            "+--------------------+----------------+--------------------+--------------------+---------------------+\n",
            "|Range, Dishwasher...|            null|                null|                Full|       Eat In Kitchen|\n",
            "|Range, Microwave,...|            null|         Lower Level|Full, Partial Fin...| Informal Dining R...|\n",
            "|Range, Microwave,...|            null|                null|Full, Crawl Space...| Informal Dining Room|\n",
            "|Range, Washer, Dryer|            null|          Main Level|Full, Partial Fin...|                 null|\n",
            "|Range, Exhaust Fa...|            null|         Lower Level|Walkout, Full, Fi...| Breakfast Area, K...|\n",
            "|Range, Microwave,...|            null|                null|Full, Sump Pump, ...| Separate/Formal D...|\n",
            "|Range, Microwave,...|            null|                Loft|                Slab| Informal Dining R...|\n",
            "|Range, Microwave,...|            null|Main Level, Famil...|                None| Informal Dining R...|\n",
            "|Range, Microwave,...|            null|                null|                None| Informal Dining R...|\n",
            "|Range, Microwave,...|            null|Main Level, Famil...|                None| Informal Dining R...|\n",
            "|Range, Microwave,...|            null|Main Level, Famil...|                None| Informal Dining R...|\n",
            "|Range, Microwave,...|            null|                null|                None| Informal Dining R...|\n",
            "|Range, Microwave,...|            null|Main Level, Famil...|                None| Informal Dining R...|\n",
            "|Range, Microwave,...|            null|Main Level, Great...|                None| Informal Dining R...|\n",
            "|Cooktop, Wall Ove...|            null|                null|Full, Concrete Bl...| Informal Dining R...|\n",
            "|Range, Microwave,...|            null|                Loft|                None| Informal Dining R...|\n",
            "|Range, Microwave,...|            null|                Loft|                None| Informal Dining R...|\n",
            "|Range, Microwave,...|            null|Main Level, Great...|                None| Informal Dining R...|\n",
            "|Range, Microwave,...|            null|                Loft|                None| Informal Dining R...|\n",
            "|Range, Microwave,...|            null|                Loft|                None| Informal Dining R...|\n",
            "+--------------------+----------------+--------------------+--------------------+---------------------+\n",
            "only showing top 20 rows\n",
            "\n"
          ],
          "name": "stdout"
        }
      ]
    },
    {
      "cell_type": "code",
      "metadata": {
        "colab": {
          "base_uri": "https://localhost:8080/",
          "height": 352
        },
        "id": "0AnBxMMOVVm2",
        "outputId": "2254b651-fc2f-4324-d47a-698d90449682"
      },
      "source": [
        "sample_df = df.select(columns).sample(False, 0.5, 42)\n",
        "pandas_df = sample_df.toPandas()\n",
        "\n",
        "tf_df = pandas_df.isnull()\n",
        "\n",
        "\n",
        "sns.heatmap(data=tf_df)\n",
        "plt.xticks(rotation=30, fontsize=10)\n",
        "plt.yticks(rotation=0, fontsize=10)\n",
        "plt.show()\n",
        "\n",
        "answer = 'BACKONMARKETDATE'\n",
        "answer"
      ],
      "execution_count": 42,
      "outputs": [
        {
          "output_type": "display_data",
          "data": {
            "image/png": "[encoded data removed]",
            "text/plain": [
              "<Figure size 432x288 with 2 Axes>"
            ]
          },
          "metadata": {
            "tags": [],
            "needs_background": "light"
          }
        },
        {
          "output_type": "execute_result",
          "data": {
            "application/vnd.google.colaboratory.intrinsic+json": {
              "type": "string"
            },
            "text/plain": [
              "'BACKONMARKETDATE'"
            ]
          },
          "metadata": {
            "tags": []
          },
          "execution_count": 42
        }
      ]
    },
    {
      "cell_type": "markdown",
      "metadata": {
        "id": "7pg0cXBxVaem"
      },
      "source": [
        "## Imputing Missing Data"
      ]
    },
    {
      "cell_type": "code",
      "metadata": {
        "colab": {
          "base_uri": "https://localhost:8080/"
        },
        "id": "tHjTGEy-VY54",
        "outputId": "64ef3d8c-75c1-4dc2-843f-6a77edfb45a5"
      },
      "source": [
        "missing = df.where(df['PDOM'].isNull()).count()\n",
        "\n",
        "col_mean = df.agg({'PDOM': 'mean'}).collect()[0][0]\n",
        "\n",
        "df.fillna(col_mean, subset=['PDOM'])"
      ],
      "execution_count": 43,
      "outputs": [
        {
          "output_type": "execute_result",
          "data": {
            "text/plain": [
              "DataFrame[NO: bigint, MLSID: string, STREETADDRESS: string, STREETNAME: string, POSTALCODE: bigint, STATEORPROVINCE: string, CITY: string, SALESCLOSEPRICE: bigint, LISTDATE: string, LISTPRICE: bigint, LISTTYPE: string, ORIGINALLISTPRICE: bigint, PRICEPERTSFT: double, FOUNDATIONSIZE: bigint, FENCE: string, MAPLETTER: string, SCHOOLDISTRICTNUMBER: string, DAYSONMARKET: bigint, OFFMARKETDATE: string, FIREPLACES: bigint, ROOMAREA4: string, ROOMTYPE: string, ROOF: string, ROOMFLOOR4: string, POTENTIALSHORTSALE: string, POOLDESCRIPTION: string, PDOM: bigint, GARAGEDESCRIPTION: string, SQFTABOVEGROUND: bigint, TAXES: bigint, ROOMFLOOR1: string, ROOMAREA1: string, TAXWITHASSESSMENTS: double, TAXYEAR: bigint, LIVINGAREA: bigint, UNITNUMBER: string, YEARBUILT: bigint, ZONING: string, STYLE: string, ACRES: double, COOLINGDESCRIPTION: string, APPLIANCES: string, BACKONMARKETDATE: double, ROOMFAMILYCHAR: string, ROOMAREA3: string, EXTERIOR: string, ROOMFLOOR3: string, ROOMFLOOR2: string, ROOMAREA2: string, DININGROOMDESCRIPTION: string, BASEMENT: string, BATHSFULL: bigint, BATHSHALF: bigint, BATHQUARTER: bigint, BATHSTHREEQUARTER: double, CLASS: string, BATHSTOTAL: bigint, BATHDESC: string, ROOMAREA5: string, ROOMFLOOR5: string, ROOMAREA6: string, ROOMFLOOR6: string, ROOMAREA7: string, ROOMFLOOR7: string, ROOMAREA8: string, ROOMFLOOR8: string, BEDROOMS: bigint, SQFTBELOWGROUND: bigint, ASSUMABLEMORTGAGE: string, ASSOCIATIONFEE: bigint, ASSESSMENTPENDING: string, ASSESSEDVALUATION: double, log_SalesClosePrice: double, percentage_scaled_days: double, scaled_FOUNDATIONSIZE: double, scaled_DAYSONMARKET: double, scaled_FIREPLACES: double, Reflect_YearBuilt: bigint, adj_yearbuilt: double]"
            ]
          },
          "metadata": {
            "tags": []
          },
          "execution_count": 43
        }
      ]
    },
    {
      "cell_type": "markdown",
      "metadata": {
        "id": "ANWRoTWiVg0j"
      },
      "source": [
        "## Calculate Missing Percents"
      ]
    },
    {
      "cell_type": "code",
      "metadata": {
        "id": "4KIL8BDIVegX"
      },
      "source": [
        "def column_dropper(df, threshold):\n",
        "    total_records = df.count()\n",
        "    for col in df.columns:\n",
        "        missing = df.where(df[col].isNull()).count()\n",
        "        missing_percent = missing / total_records\n",
        "\n",
        "        if missing_percent > threshold:\n",
        "            df = df.drop(col)\n",
        "    return df\n",
        "\n",
        "df = column_dropper(df, .6)"
      ],
      "execution_count": 44,
      "outputs": []
    },
    {
      "cell_type": "markdown",
      "metadata": {
        "id": "DeKe66OgV6z4"
      },
      "source": [
        "# Feature Engineering"
      ]
    },
    {
      "cell_type": "markdown",
      "metadata": {
        "id": "8q2I_ceLV81V"
      },
      "source": [
        "## Differences"
      ]
    },
    {
      "cell_type": "code",
      "metadata": {
        "colab": {
          "base_uri": "https://localhost:8080/"
        },
        "id": "rPaQ4chSVr5Q",
        "outputId": "78d3a16b-e739-491e-b100-d5d8ce3472c1"
      },
      "source": [
        "acres_to_sqfeet = 43560\n",
        "df = df.withColumn('LOT_SIZE_SQFT', df['ACRES'] * acres_to_sqfeet)\n",
        "\n",
        "df = df.withColumn('YARD_SIZE', df['LOT_SIZE_SQFT'] - df['FOUNDATIONSIZE'])\n",
        "\n",
        "print(\"Corr of ACRES vs SALESCLOSEPRICE: \" + str(df.corr('ACRES', 'SALESCLOSEPRICE')))\n",
        "print(\"Corr of FOUNDATIONSIZE vs SALESCLOSEPRICE: \" + str(df.corr('FOUNDATIONSIZE', 'SALESCLOSEPRICE')))\n",
        "print(\"Corr of YARD_SIZE vs SALESCLOSEPRICE: \" + str(df.corr('YARD_SIZE', 'SALESCLOSEPRICE')))"
      ],
      "execution_count": 46,
      "outputs": [
        {
          "output_type": "stream",
          "text": [
            "Corr of ACRES vs SALESCLOSEPRICE: 0.2130819260750225\n",
            "Corr of FOUNDATIONSIZE vs SALESCLOSEPRICE: 0.5976957088401492\n",
            "Corr of YARD_SIZE vs SALESCLOSEPRICE: 0.20032633979612804\n"
          ],
          "name": "stdout"
        }
      ]
    },
    {
      "cell_type": "markdown",
      "metadata": {
        "id": "tVQQacDiWDUN"
      },
      "source": [
        "## Ratios"
      ]
    },
    {
      "cell_type": "code",
      "metadata": {
        "colab": {
          "base_uri": "https://localhost:8080/"
        },
        "id": "UIV7tB5vWBxy",
        "outputId": "0d5e267b-1162-462a-d38e-442d12ccd69a"
      },
      "source": [
        "df = df.withColumn('ASSESSED_TO_LIST', df['ASSESSEDVALUATION'] / df['LISTPRICE'])\n",
        "df[['ASSESSEDVALUATION', 'LISTPRICE', 'ASSESSED_TO_LIST']].show(5)\n",
        "\n",
        "df = df.withColumn('TAX_TO_LIST', df['TAXES'] / df['LISTPRICE'])\n",
        "df[['TAX_TO_LIST', 'TAXES', 'LISTPRICE']].show(5)\n",
        "\n",
        "df = df.withColumn('BED_TO_BATHS', df['BEDROOMS'] / df['BATHSTOTAL'])\n",
        "df[['BED_TO_BATHS', 'BEDROOMS', 'BATHSTOTAL']].show(5)"
      ],
      "execution_count": 47,
      "outputs": [
        {
          "output_type": "stream",
          "text": [
            "+-----------------+---------+----------------+\n",
            "|ASSESSEDVALUATION|LISTPRICE|ASSESSED_TO_LIST|\n",
            "+-----------------+---------+----------------+\n",
            "|              0.0|   139900|             0.0|\n",
            "|              0.0|   210000|             0.0|\n",
            "|              0.0|   225000|             0.0|\n",
            "|              0.0|   230000|             0.0|\n",
            "|              0.0|   239900|             0.0|\n",
            "+-----------------+---------+----------------+\n",
            "only showing top 5 rows\n",
            "\n",
            "+--------------------+-----+---------+\n",
            "|         TAX_TO_LIST|TAXES|LISTPRICE|\n",
            "+--------------------+-----+---------+\n",
            "|0.013280914939242315| 1858|   139900|\n",
            "| 0.00780952380952381| 1640|   210000|\n",
            "|0.010622222222222222| 2390|   225000|\n",
            "|0.009330434782608695| 2146|   230000|\n",
            "|0.008378491037932471| 2010|   239900|\n",
            "+--------------------+-----+---------+\n",
            "only showing top 5 rows\n",
            "\n",
            "+------------------+--------+----------+\n",
            "|      BED_TO_BATHS|BEDROOMS|BATHSTOTAL|\n",
            "+------------------+--------+----------+\n",
            "|               1.5|       3|         2|\n",
            "|1.3333333333333333|       4|         3|\n",
            "|               2.0|       2|         1|\n",
            "|               1.0|       2|         2|\n",
            "|               1.5|       3|         2|\n",
            "+------------------+--------+----------+\n",
            "only showing top 5 rows\n",
            "\n"
          ],
          "name": "stdout"
        }
      ]
    },
    {
      "cell_type": "markdown",
      "metadata": {
        "id": "RR8p9uGnWI-y"
      },
      "source": [
        "# Deeper Features"
      ]
    },
    {
      "cell_type": "code",
      "metadata": {
        "id": "qjzFPtBoWHYW"
      },
      "source": [
        "from scipy import stats\n",
        "\n",
        "def r2(x, y):\n",
        "    return stats.pearsonr(x, y)[0] ** 2"
      ],
      "execution_count": 48,
      "outputs": []
    },
    {
      "cell_type": "code",
      "metadata": {
        "colab": {
          "base_uri": "https://localhost:8080/",
          "height": 1000
        },
        "id": "5eRO2gzQWKXA",
        "outputId": "313308ea-b137-40a7-beff-969b411b48c1"
      },
      "source": [
        "df = df.withColumn('Total_SQFT', df['SQFTBELOWGROUND'] + df['SQFTABOVEGROUND'])\n",
        "\n",
        "df = df.withColumn('BATHS_PER_1000SQFT', df['BATHSTOTAL'] / (df['Total_SQFT'] / 1000))\n",
        "df[['BATHS_PER_1000SQFT']].describe().show()\n",
        "\n",
        "pandas_df = df.sample(False, 0.5, 0).toPandas()\n",
        "\n",
        "sns.jointplot(x='Total_SQFT', y='SALESCLOSEPRICE', data=pandas_df, kind=\"reg\")\n",
        "sns.jointplot(x='BATHS_PER_1000SQFT', y='SALESCLOSEPRICE', data=pandas_df, kind=\"reg\")"
      ],
      "execution_count": 51,
      "outputs": [
        {
          "output_type": "stream",
          "text": [
            "+-------+-------------------+\n",
            "|summary| BATHS_PER_1000SQFT|\n",
            "+-------+-------------------+\n",
            "|  count|               4946|\n",
            "|   mean| 1.4339460530042523|\n",
            "| stddev| 14.205761576339642|\n",
            "|    min|0.39123630672926446|\n",
            "|    max|             1000.0|\n",
            "+-------+-------------------+\n",
            "\n"
          ],
          "name": "stdout"
        },
        {
          "output_type": "execute_result",
          "data": {
            "text/plain": [
              "<seaborn.axisgrid.JointGrid at 0x7fcab448cf10>"
            ]
          },
          "metadata": {
            "tags": []
          },
          "execution_count": 51
        },
        {
          "output_type": "display_data",
          "data": {
            "image/png": "[encoded data removed]",
            "text/plain": [
              "<Figure size 432x432 with 3 Axes>"
            ]
          },
          "metadata": {
            "tags": [],
            "needs_background": "light"
          }
        },
        {
          "output_type": "display_data",
          "data": {
            "image/png": "[encoded data removed]",
            "text/plain": [
              "<Figure size 432x432 with 3 Axes>"
            ]
          },
          "metadata": {
            "tags": [],
            "needs_background": "light"
          }
        }
      ]
    },
    {
      "cell_type": "markdown",
      "metadata": {
        "id": "lFMYZIk7WmDb"
      },
      "source": [
        "## Joining On Time Components\n"
      ]
    },
    {
      "cell_type": "code",
      "metadata": {
        "id": "UufM3m13Wq2Z"
      },
      "source": [
        "import pandas as pd\n",
        "\n",
        "data = dict(City=['LELM - Lake Elmo', 'MAPW - Maplewood','STP - Saint Paul','WB - Woodbury', \\\n",
        "                  'OAKD - Oakdale', 'LELM - Lake Elmo', 'MAPW - Maplewood', \\\n",
        "                  'STP - Saint Paul', 'WB - Woodbury', 'OAKD - Oakdale'],\n",
        "     MedianHomeValue=[401000, 193000, 172000, 291000, 210000, 385000, 187000, 162000, 277000, 192000],\n",
        "     Year= [2016,2016,2016,2016,2016,2015,2015,2015,2015, 2015])\n",
        "\n",
        "df_price = pd.DataFrame(data)\n",
        "price_df = spark.createDataFrame(df_price)"
      ],
      "execution_count": 56,
      "outputs": []
    }
  ]
}